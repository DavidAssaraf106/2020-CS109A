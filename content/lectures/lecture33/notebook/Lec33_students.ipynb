{
 "cells": [
  {
   "cell_type": "markdown",
   "metadata": {},
   "source": [
    "# <img style=\"float: left; padding-right: 10px; width: 45px\" src=\"https://raw.githubusercontent.com/Harvard-IACS/2018-CS109A/master/content/styles/iacs.png\"> CS-109A Introduction to Data Science\n",
    "\n",
    "\n",
    "## Lecture 33 Notebook: Training a FFN \n",
    "\n",
    "**Harvard University**<br>\n",
    "**Fall 2020**<br>\n",
    "**Instructors:** Pavlos Protopapas, Kevin Rader, Chris Tanner<br>\n",
    "**Authors:** Eleni Kaxiras, David Sondak, and Pavlos Protopapas. "
   ]
  },
  {
   "cell_type": "markdown",
   "metadata": {},
   "source": [
    "#### (student edition)"
   ]
  },
  {
   "cell_type": "code",
   "execution_count": 3,
   "metadata": {},
   "outputs": [
    {
     "data": {
      "text/html": [
       "<style>\n",
       "blockquote { background: #AEDE94; }\n",
       "h1 { \n",
       "    padding-top: 25px;\n",
       "    padding-bottom: 25px;\n",
       "    text-align: left; \n",
       "    padding-left: 10px;\n",
       "    background-color: #DDDDDD; \n",
       "    color: black;\n",
       "}\n",
       "h2 { \n",
       "    padding-top: 10px;\n",
       "    padding-bottom: 10px;\n",
       "    text-align: left; \n",
       "    padding-left: 5px;\n",
       "    background-color: #EEEEEE; \n",
       "    color: black;\n",
       "}\n",
       "\n",
       "div.exercise {\n",
       "\tbackground-color: #ffcccc;\n",
       "\tborder-color: #E9967A; \t\n",
       "\tborder-left: 5px solid #800080; \n",
       "\tpadding: 0.5em;\n",
       "}\n",
       "\n",
       "div.exercise-r {\n",
       "\tbackground-color: #fce8e8;\n",
       "\tborder-color: #E9967A; \t\n",
       "\tborder-left: 5px solid #800080; \n",
       "\tpadding: 0.5em;\n",
       "}\n",
       "\n",
       "\n",
       "span.sub-q {\n",
       "\tfont-weight: bold;\n",
       "}\n",
       "div.theme {\n",
       "\tbackground-color: #DDDDDD;\n",
       "\tborder-color: #E9967A; \t\n",
       "\tborder-left: 5px solid #800080; \n",
       "\tpadding: 0.5em;\n",
       "\tfont-size: 18pt;\n",
       "}\n",
       "div.gc { \n",
       "\tbackground-color: #AEDE94;\n",
       "\tborder-color: #E9967A; \t \n",
       "\tborder-left: 5px solid #800080; \n",
       "\tpadding: 0.5em;\n",
       "\tfont-size: 12pt;\n",
       "}\n",
       "p.q1 { \n",
       "    padding-top: 5px;\n",
       "    padding-bottom: 5px;\n",
       "    text-align: left; \n",
       "    padding-left: 5px;\n",
       "    background-color: #EEEEEE; \n",
       "    color: black;\n",
       "}\n",
       "header {\n",
       "   padding-top: 35px;\n",
       "    padding-bottom: 35px;\n",
       "    text-align: left; \n",
       "    padding-left: 10px;\n",
       "    background-color: #DDDDDD; \n",
       "    color: black;\n",
       "}\n",
       "</style>\n",
       "\n"
      ],
      "text/plain": [
       "<IPython.core.display.HTML object>"
      ]
     },
     "execution_count": 3,
     "metadata": {},
     "output_type": "execute_result"
    }
   ],
   "source": [
    "## RUN THIS CELL TO PROPERLY HIGHLIGHT CELLS\n",
    "import requests\n",
    "from IPython.core.display import HTML\n",
    "styles = requests.get(\"https://raw.githubusercontent.com/Harvard-IACS/2018-CS109A/master/content/styles/cs109.css\").text\n",
    "HTML(styles)"
   ]
  },
  {
   "cell_type": "code",
   "execution_count": 1,
   "metadata": {},
   "outputs": [],
   "source": [
    "import numpy as np\n",
    "import matplotlib.pyplot as plt\n",
    "import matplotlib.image as mpimg\n",
    "import numpy as np\n",
    "import pandas as pd\n",
    "from keras.preprocessing.image import ImageDataGenerator, array_to_img, img_to_array, load_img\n",
    "from sklearn.preprocessing import StandardScaler\n",
    "%matplotlib inline\n",
    "\n",
    "from PIL import Image, ImageOps"
   ]
  },
  {
   "cell_type": "code",
   "execution_count": 2,
   "metadata": {},
   "outputs": [
    {
     "name": "stdout",
     "output_type": "stream",
     "text": [
      "2.3.1\n"
     ]
    }
   ],
   "source": [
    "from __future__ import absolute_import, division, print_function, unicode_literals\n",
    "\n",
    "# TensorFlow and tf.keras\n",
    "import tensorflow as tf\n",
    "\n",
    "tf.keras.backend.clear_session()  # For easy reset of notebook state.\n",
    "\n",
    "print(tf.__version__)  # You should see a 2.0.0 here!"
   ]
  },
  {
   "cell_type": "code",
   "execution_count": 4,
   "metadata": {},
   "outputs": [],
   "source": [
    "# set the seed for reproducability\n",
    "seed = 7\n",
    "np.random.seed(seed)"
   ]
  },
  {
   "cell_type": "markdown",
   "metadata": {},
   "source": [
    "### Tensorflow 2.0:  \n",
    "\n",
    "All references to Keras should be written as `tf.keras`.  For example: \n",
    "\n",
    "```\n",
    "model = tf.keras.models.Sequential([\n",
    "  tf.keras.layers.Flatten(input_shape=(28, 28)),\n",
    "  tf.keras.layers.Dense(128, activation='relu'),\n",
    "  tf.keras.layers.Dropout(0.2),\n",
    "  tf.keras.layers.Dense(10, activation='softmax')\n",
    "])\n",
    "\n",
    "model.compile(optimizer='adam',\n",
    "              loss='sparse_categorical_crossentropy',\n",
    "              metrics=['accuracy'])\n",
    "              \n",
    "tf.keras.models.Sequential\n",
    "tf.keras.layers.Dense, tf.keras.layers.Activation, \n",
    "tf.keras.layers.Dropout, tf.keras.layers.Flatten, tf.keras.layers.Reshape\n",
    "tf.keras.optimizers.SGD\n",
    "tf.keras.preprocessing.image.ImageDataGenerator\n",
    "tf.keras.regularizers\n",
    "tf.keras.datasets.mnist   \n",
    "```\n",
    "\n",
    "You could avoid the long names by using\n",
    "```\n",
    "from tensorflow import keras\n",
    "from tensorflow.keras import layers\n",
    "```\n",
    "These imports do not work on some systems, however, because they pick up previous versions of `keras` and `tensorflow`. "
   ]
  },
  {
   "cell_type": "markdown",
   "metadata": {},
   "source": [
    "### Tensors\n",
    "\n",
    "We can think of tensors as multidimensional arrays of real numerical values; their job is to generalize matrices to multiple dimensions. \n",
    "\n",
    "- **scalar** = just a number = rank 0 tensor  ($a$ ∈ $F$,)\n",
    "<BR><BR>\n",
    "    \n",
    "- **vector** = 1D array = rank 1 tensor ( $x = (\\;x_1,...,x_i\\;)⊤$ ∈ $F^n$ )\n",
    "<BR><BR>\n",
    "    \n",
    "- **matrix** = 2D array = rank 2 tensor ( $\\textbf{X} = [a_{ij}] ∈ F^{m×n}$ )\n",
    "<BR><BR>\n",
    "    \n",
    "- **3D array** = rank 3 tensor ( $\\mathscr{X} =[t_{i,j,k}]∈F^{m×n×l}$ )\n",
    "<BR><BR>\n",
    "    "
   ]
  },
  {
   "cell_type": "markdown",
   "metadata": {},
   "source": [
    "### First you build the network\n",
    "\n",
    "- **The input layer**: our dataset.\n",
    "- **The internal architecture or hidden layers** the number of layers, the activation functions, the learnable parameters and other hyperparameters)\n",
    "- **The output layer**: what we want from the network, a probability for belonging in a class (classification) or a number (regression).\n",
    "\n",
    "1. Load and pre-process the data\n",
    "2. Define the layers of the model.\n",
    "3. Compile the model.\n",
    "\n",
    "### ... and then you train it!\n",
    "\n",
    "4. Fit the model to the train set (also using a validation set). Save the model.\n",
    "5. Evaluate the model on the test set.\n",
    "6. We learn a lot by studying history: metric traceplots. \n",
    "7. Regularize the model.\n",
    "8. Now let's use the Network to predict on the test set.\n",
    "9. Try our model on a sandal from the Kanye West collection!"
   ]
  },
  {
   "cell_type": "markdown",
   "metadata": {},
   "source": [
    "### 1. Load the data"
   ]
  },
  {
   "cell_type": "markdown",
   "metadata": {},
   "source": [
    "### Fashion MNIST \n",
    "\n",
    "**Fashion-MNIST** is a dataset of clothing article images (created by [Zalando](https://github.com/zalandoresearch/fashion-mnist)), consisting of a training set of 60,000 examples and a test set of 10,000 examples. Each example is a **28 x 28** grayscale image, associated with a label from **10 classes**. The creators intend Fashion-MNIST to serve as a direct drop-in replacement for the original MNIST dataset for benchmarking machine learning algorithms. It shares the same image size and structure of training and testing splits. Each pixel is 8 bits so its value ranges from 0 to 255. These images do not have a `channel` dimension because they are B&W.\n",
    "\n",
    "Let's load and look at it!"
   ]
  },
  {
   "cell_type": "code",
   "execution_count": 5,
   "metadata": {
    "scrolled": true
   },
   "outputs": [
    {
     "name": "stdout",
     "output_type": "stream",
     "text": [
      "Downloading data from https://storage.googleapis.com/tensorflow/tf-keras-datasets/train-labels-idx1-ubyte.gz\n",
      "32768/29515 [=================================] - 0s 1us/step\n",
      "Downloading data from https://storage.googleapis.com/tensorflow/tf-keras-datasets/train-images-idx3-ubyte.gz\n",
      "26427392/26421880 [==============================] - 2s 0us/step\n",
      "Downloading data from https://storage.googleapis.com/tensorflow/tf-keras-datasets/t10k-labels-idx1-ubyte.gz\n",
      "8192/5148 [===============================================] - 0s 0us/step\n",
      "Downloading data from https://storage.googleapis.com/tensorflow/tf-keras-datasets/t10k-images-idx3-ubyte.gz\n",
      "4423680/4422102 [==============================] - 1s 0us/step\n",
      "(60000, 28, 28) (60000,) \n",
      "\n",
      " [[  0   0   0   0   1   0   0   0   0   0   0 152 192 135 134 165 209  25\n",
      "    0   0   0   0   0   0   0   0   0   0]\n",
      " [  0   0   0   0   0   0   0   0  68 178 253 230 234 243 244 231 223 254\n",
      "  207  92   0   0   0   0   0   0   0   0]] \n",
      "\n",
      " {0, 1, 2, 3, 4, 5, 6, 7, 8, 9}\n"
     ]
    }
   ],
   "source": [
    "# get the data from keras\n",
    "fashion_mnist = tf.keras.datasets.fashion_mnist\n",
    "\n",
    "# load the data splitted in train and test! \n",
    "(x_train, y_train),(x_test, y_test) = fashion_mnist.load_data()\n",
    "\n",
    "print(x_train.shape, y_train.shape, '\\n\\n', x_train[56][:2], '\\n\\n', set(y_train))"
   ]
  },
  {
   "cell_type": "code",
   "execution_count": 6,
   "metadata": {
    "scrolled": true
   },
   "outputs": [
    {
     "name": "stdout",
     "output_type": "stream",
     "text": [
      "0 255 0 255\n"
     ]
    }
   ],
   "source": [
    "# checking the min and max of x_train and x_test\n",
    "print(x_train.min(), x_train.max(), x_test.min(), x_test.max())"
   ]
  },
  {
   "cell_type": "code",
   "execution_count": 7,
   "metadata": {},
   "outputs": [
    {
     "name": "stdout",
     "output_type": "stream",
     "text": [
      "0.0 1.0 0.0 1.0\n"
     ]
    }
   ],
   "source": [
    "# normalize the data by dividing with pixel intensity\n",
    "# (each pixel is 8 bits so its value ranges from 0 to 255)\n",
    "x_train, x_test = x_train / 255.0, x_test / 255.0\n",
    "\n",
    "print(x_train.min(), x_train.max(), x_test.min(), x_test.max())"
   ]
  },
  {
   "cell_type": "code",
   "execution_count": 8,
   "metadata": {},
   "outputs": [
    {
     "name": "stdout",
     "output_type": "stream",
     "text": [
      "(28, 28)\n",
      "[[0.         0.         0.         0.00392157 0.         0.\n",
      "  0.         0.         0.         0.13333333 0.58039216 0.79215686\n",
      "  0.41960784 0.32941176 0.63529412 0.77647059 0.35294118 0.10196078\n",
      "  0.         0.         0.         0.         0.         0.\n",
      "  0.         0.         0.         0.        ]\n",
      " [0.         0.         0.         0.         0.         0.\n",
      "  0.08235294 0.41960784 0.65098039 0.65882353 0.59607843 0.8\n",
      "  0.93333333 0.97254902 0.92941176 0.74509804 0.55686275 0.69803922\n",
      "  0.61960784 0.38431373 0.06666667 0.         0.         0.\n",
      "  0.         0.         0.         0.        ]]\n"
     ]
    }
   ],
   "source": [
    "# inspect a single image array\n",
    "print(x_train[45].shape)\n",
    "print(x_train[45][:2][:2])"
   ]
  },
  {
   "cell_type": "code",
   "execution_count": 9,
   "metadata": {},
   "outputs": [
    {
     "data": {
      "image/png": "[encoded data removed]",
      "text/plain": [
       "<Figure size 720x720 with 25 Axes>"
      ]
     },
     "metadata": {},
     "output_type": "display_data"
    }
   ],
   "source": [
    "# Give names to classes for clarity\n",
    "class_names = ['T-shirt/top', 'Trouser', 'Pullover', 'Dress', 'Coat',\n",
    "               'Sandal', 'Shirt', 'Sneaker', 'Bag', 'Ankle boot']\n",
    "\n",
    "# plot\n",
    "plt.figure(figsize=(10,10))\n",
    "for i in range(25):\n",
    "    plt.subplot(5,5,i+1)\n",
    "    plt.xticks([])\n",
    "    plt.yticks([])\n",
    "    plt.grid(False)\n",
    "    plt.imshow(x_train[i], cmap=plt.cm.binary)\n",
    "    plt.xlabel(class_names[y_train[i]])\n",
    "plt.show()"
   ]
  },
  {
   "cell_type": "markdown",
   "metadata": {},
   "source": [
    "### 2. Define the layers of the model."
   ]
  },
  {
   "cell_type": "code",
   "execution_count": 11,
   "metadata": {},
   "outputs": [],
   "source": [
    "model = tf.keras.Sequential()\n",
    "model.add(tf.keras.layers.Flatten(input_shape=(28, 28)))\n",
    "model.add(tf.keras.layers.Dense(154, activation='relu'))\n",
    "model.add(tf.keras.layers.Dense(154, activation='relu'))\n",
    "model.add(tf.keras.layers.Dense(154, activation='relu'))\n",
    "model.add(tf.keras.layers.Dense(64, activation='relu'))\n",
    "model.add(tf.keras.layers.Dense(10, activation='softmax'))"
   ]
  },
  {
   "cell_type": "markdown",
   "metadata": {},
   "source": [
    "### 3. Compile the model"
   ]
  },
  {
   "cell_type": "code",
   "execution_count": 12,
   "metadata": {},
   "outputs": [],
   "source": [
    "loss_fn = tf.keras.losses.SparseCategoricalCrossentropy()\n",
    "optimizer = tf.keras.optimizers.Adam()\n",
    "\n",
    "model.compile(optimizer=optimizer,\n",
    "              loss=loss_fn,\n",
    "              metrics=['accuracy'])"
   ]
  },
  {
   "cell_type": "code",
   "execution_count": 13,
   "metadata": {},
   "outputs": [
    {
     "name": "stdout",
     "output_type": "stream",
     "text": [
      "Model: \"sequential_1\"\n",
      "_________________________________________________________________\n",
      "Layer (type)                 Output Shape              Param #   \n",
      "=================================================================\n",
      "flatten_1 (Flatten)          (None, 784)               0         \n",
      "_________________________________________________________________\n",
      "dense_5 (Dense)              (None, 154)               120890    \n",
      "_________________________________________________________________\n",
      "dense_6 (Dense)              (None, 154)               23870     \n",
      "_________________________________________________________________\n",
      "dense_7 (Dense)              (None, 154)               23870     \n",
      "_________________________________________________________________\n",
      "dense_8 (Dense)              (None, 64)                9920      \n",
      "_________________________________________________________________\n",
      "dense_9 (Dense)              (None, 10)                650       \n",
      "=================================================================\n",
      "Total params: 179,200\n",
      "Trainable params: 179,200\n",
      "Non-trainable params: 0\n",
      "_________________________________________________________________\n"
     ]
    }
   ],
   "source": [
    "model.summary()"
   ]
  },
  {
   "cell_type": "code",
   "execution_count": 21,
   "metadata": {},
   "outputs": [
    {
     "name": "stdout",
     "output_type": "stream",
     "text": [
      "Requirement already satisfied: pydot in c:\\users\\david\\anaconda3\\envs\\cs109a\\lib\\site-packages (1.4.1)\n",
      "Requirement already satisfied: pyparsing>=2.1.4 in c:\\users\\david\\anaconda3\\envs\\cs109a\\lib\\site-packages (from pydot) (2.4.7)\n",
      "Requirement already satisfied: graphviz in c:\\users\\david\\anaconda3\\envs\\cs109a\\lib\\site-packages (0.14.2)\n"
     ]
    }
   ],
   "source": [
    "! pip3 install pydot\n",
    "! pip3 install graphviz"
   ]
  },
  {
   "cell_type": "code",
   "execution_count": 18,
   "metadata": {},
   "outputs": [
    {
     "name": "stdout",
     "output_type": "stream",
     "text": [
      "absl-py @ file:///D:/bld/absl-py_1598382479526/work\n",
      "argon2-cffi @ file:///D:/bld/argon2-cffi_1596630110014/work\n",
      "arviz @ file:///home/conda/feedstock_root/build_artifacts/arviz_1592923948739/work\n",
      "astor @ file:///home/conda/feedstock_root/build_artifacts/astor_1593610464257/work\n",
      "astunparse==1.6.3\n",
      "atomicwrites @ file:///home/conda/feedstock_root/build_artifacts/atomicwrites_1588182545583/work\n",
      "attrs @ file:///home/conda/feedstock_root/build_artifacts/attrs_1599308529326/work\n",
      "autograd==1.3\n",
      "backcall @ file:///home/conda/feedstock_root/build_artifacts/backcall_1592338393461/work\n",
      "backports.functools-lru-cache==1.6.1\n",
      "beautifulsoup4 @ file:///home/conda/feedstock_root/build_artifacts/beautifulsoup4_1597679909012/work\n",
      "bleach @ file:///home/conda/feedstock_root/build_artifacts/bleach_1588608214987/work\n",
      "blinker==1.4\n",
      "blis==0.4.1\n",
      "bokeh @ file:///D:/bld/bokeh_1599001193669/work\n",
      "boto==2.49.0\n",
      "boto3 @ file:///home/conda/feedstock_root/build_artifacts/boto3_1599255782083/work\n",
      "botocore @ file:///home/conda/feedstock_root/build_artifacts/botocore_1599252014234/work\n",
      "brotlipy==0.7.0\n",
      "bz2file==0.98\n",
      "cachetools @ file:///home/conda/feedstock_root/build_artifacts/cachetools_1593420445823/work\n",
      "catalogue==1.0.0\n",
      "certifi==2020.6.20\n",
      "cffi @ file:///D:/bld/cffi_1595805721274/work\n",
      "cftime @ file:///D:/bld/cftime_1595215844964/work\n",
      "chardet==3.0.4\n",
      "click==7.1.2\n",
      "cloudpickle @ file:///home/conda/feedstock_root/build_artifacts/cloudpickle_1598400192773/work\n",
      "colorama==0.4.3\n",
      "cryptography @ file:///D:/bld/cryptography_1598621309630/work\n",
      "cycler==0.10.0\n",
      "cymem @ file:///D:/bld/cymem_1591801268646/work\n",
      "cytoolz==0.10.1\n",
      "dash @ file:///home/conda/feedstock_root/build_artifacts/dash_1596870105808/work\n",
      "dash-core-components @ file:///home/conda/feedstock_root/build_artifacts/dash-core-components_1596203643601/work\n",
      "dash-html-components==1.0.3\n",
      "dash-renderer @ file:///home/conda/feedstock_root/build_artifacts/dash-renderer_1596203647496/work\n",
      "dash-table @ file:///home/conda/feedstock_root/build_artifacts/dash-table_1596867885662/work\n",
      "dask @ file:///home/conda/feedstock_root/build_artifacts/dask-core_1598661378447/work\n",
      "decorator==4.4.2\n",
      "defusedxml==0.6.0\n",
      "docutils==0.15.2\n",
      "entrypoints==0.3\n",
      "fastprogress==1.0.0\n",
      "Flask==1.1.2\n",
      "Flask-Compress==1.5.0\n",
      "future==0.18.2\n",
      "gap-stat==2.0.1\n",
      "gast==0.3.3\n",
      "gensim @ file:///D:/bld/gensim_1589441301799/work\n",
      "google-api-core @ file:///D:/bld/google-api-core-split_1599169078462/work\n",
      "google-auth @ file:///home/conda/feedstock_root/build_artifacts/google-auth_1599161935305/work\n",
      "google-auth-oauthlib==0.4.1\n",
      "google-cloud-core @ file:///home/conda/feedstock_root/build_artifacts/google-cloud-core_1596721852962/work\n",
      "google-cloud-storage @ file:///home/conda/feedstock_root/build_artifacts/google-cloud-storage_1598557481535/work\n",
      "google-crc32c @ file:///D:/bld/google-crc32c_1597070112100/work\n",
      "google-pasta==0.2.0\n",
      "google-resumable-media @ file:///home/conda/feedstock_root/build_artifacts/google-resumable-media_1598452053521/work\n",
      "googleapis-common-protos==1.51.0\n",
      "graphviz @ file:///home/conda/feedstock_root/build_artifacts/python-graphviz_1602067273230/work\n",
      "grpcio @ file:///D:/bld/grpcio_1596715850903/work\n",
      "h5py @ file:///D:/bld/h5py_1595110299148/work\n",
      "holoviews @ file:///home/conda/feedstock_root/build_artifacts/holoviews_1592928184246/work\n",
      "idna @ file:///home/conda/feedstock_root/build_artifacts/idna_1593328102638/work\n",
      "imagecodecs @ file:///D:/bld/imagecodecs_1593295625443/work\n",
      "imageio @ file:///home/conda/feedstock_root/build_artifacts/imageio_1594044661732/work\n",
      "importlib-metadata @ file:///D:/bld/importlib-metadata_1593211612489/work\n",
      "iniconfig @ file:///home/conda/feedstock_root/build_artifacts/iniconfig_1596221474428/work\n",
      "ipykernel @ file:///D:/bld/ipykernel_1595447157738/work/dist/ipykernel-5.3.4-py3-none-any.whl\n",
      "ipytest @ file:///home/conda/feedstock_root/build_artifacts/ipytest_1594663989576/work\n",
      "ipython @ file:///D:/bld/ipython_1598750239682/work\n",
      "ipython-genutils==0.2.0\n",
      "ipywidgets==7.5.1\n",
      "itsdangerous==1.1.0\n",
      "jedi @ file:///D:/bld/jedi_1595018503144/work\n",
      "Jinja2==2.11.2\n",
      "jmespath @ file:///home/conda/feedstock_root/build_artifacts/jmespath_1589369830981/work\n",
      "joblib @ file:///home/conda/feedstock_root/build_artifacts/joblib_1593624380152/work\n",
      "json5 @ file:///home/conda/feedstock_root/build_artifacts/json5_1591810480056/work\n",
      "jsonschema==3.2.0\n",
      "jupyter-client @ file:///home/conda/feedstock_root/build_artifacts/jupyter_client_1598486169312/work\n",
      "jupyter-console @ file:///home/conda/feedstock_root/build_artifacts/jupyter_console_1598728807792/work\n",
      "jupyter-contrib-core==0.3.3\n",
      "jupyter-core==4.6.3\n",
      "jupyter-nbextensions-configurator @ file:///D:/bld/jupyter_nbextensions_configurator_1594127290135/work\n",
      "jupyterlab==2.2.6\n",
      "jupyterlab-server @ file:///home/conda/feedstock_root/build_artifacts/jupyterlab_server_1593951277307/work\n",
      "jupyterthemes==0.20.0\n",
      "Keras==2.4.3\n",
      "Keras-Applications==1.0.8\n",
      "Keras-Preprocessing==1.1.2\n",
      "kiwisolver==1.2.0\n",
      "lesscpy==0.13.0\n",
      "Markdown @ file:///home/conda/feedstock_root/build_artifacts/markdown_1589366472132/work\n",
      "MarkupSafe==1.1.1\n",
      "matplotlib @ file:///D:/bld/matplotlib-base_1597952542171/work\n",
      "mistune==0.8.4\n",
      "mkl-service==2.3.0\n",
      "more-itertools @ file:///home/conda/feedstock_root/build_artifacts/more-itertools_1598643641143/work\n",
      "murmurhash==1.0.0\n",
      "nbconvert==5.6.1\n",
      "nbformat @ file:///home/conda/feedstock_root/build_artifacts/nbformat_1594060262917/work\n",
      "netCDF4 @ file:///D:/bld/netcdf4_1598211768602/work\n",
      "networkx @ file:///home/conda/feedstock_root/build_artifacts/networkx_1598210780226/work\n",
      "nltk==3.4.4\n",
      "notebook @ file:///D:/bld/notebook_1597285459320/work\n",
      "numpy==1.18.5\n",
      "oauthlib==3.0.1\n",
      "olefile==0.46\n",
      "opt-einsum==3.3.0\n",
      "packaging @ file:///home/conda/feedstock_root/build_artifacts/packaging_1589925210001/work\n",
      "pandas @ file:///D:/bld/pandas_1598294826108/work\n",
      "pandocfilters==1.4.2\n",
      "panel @ file:///home/conda/feedstock_root/build_artifacts/panel_1592920888719/work\n",
      "param==1.9.3\n",
      "parso @ file:///home/conda/feedstock_root/build_artifacts/parso_1595548966091/work\n",
      "patsy==0.5.1\n",
      "pickleshare==0.7.5\n",
      "Pillow @ file:///D:/bld/pillow_1594213048891/work\n",
      "plac==0.9.6\n",
      "plotly @ file:///home/conda/feedstock_root/build_artifacts/plotly_1594904902831/work\n",
      "pluggy @ file:///D:/bld/pluggy_1592827687923/work\n",
      "ply==3.11\n",
      "preshed @ file:///D:/bld/preshed_1591802333328/work\n",
      "progressbar2==3.52.1\n",
      "prometheus-client @ file:///home/conda/feedstock_root/build_artifacts/prometheus_client_1590412252446/work\n",
      "prompt-toolkit @ file:///home/conda/feedstock_root/build_artifacts/prompt-toolkit_1598885455507/work\n",
      "protobuf==3.13.0\n",
      "py @ file:///home/conda/feedstock_root/build_artifacts/py_1593088446458/work\n",
      "pyasn1==0.4.8\n",
      "pyasn1-modules==0.2.7\n",
      "pycparser @ file:///home/conda/feedstock_root/build_artifacts/pycparser_1593275161868/work\n",
      "pyct==0.4.6\n",
      "pydot==1.4.1\n",
      "Pygments==2.6.1\n",
      "PyJWT==1.7.1\n",
      "pymc3==3.9.3\n",
      "pyOpenSSL==19.1.0\n",
      "pyparsing==2.4.7\n",
      "PyQt5==5.12.3\n",
      "PyQt5-sip==4.19.18\n",
      "PyQtWebEngine==5.12.1\n",
      "pyreadline==2.1\n",
      "pyrsistent==0.16.0\n",
      "PySocks==1.7.1\n",
      "pytest==6.0.1\n",
      "python-dateutil==2.8.1\n",
      "python-utils==2.4.0\n",
      "pytz==2020.1\n",
      "pyviz-comms @ file:///home/conda/feedstock_root/build_artifacts/pyviz_comms_1594121601757/work\n",
      "PyWavelets==1.1.1\n",
      "pywin32==227\n",
      "pywinpty==0.5.7\n",
      "PyYAML==5.3.1\n",
      "pyzmq==19.0.2\n",
      "qtconsole @ file:///home/conda/feedstock_root/build_artifacts/qtconsole_1599147533948/work\n",
      "QtPy==1.9.0\n",
      "requests @ file:///home/conda/feedstock_root/build_artifacts/requests_1592425495151/work\n",
      "requests-oauthlib @ file:///home/conda/feedstock_root/build_artifacts/requests-oauthlib_1595492159598/work\n",
      "retrying==1.3.3\n",
      "rsa @ file:///home/conda/feedstock_root/build_artifacts/rsa_1591996208734/work\n",
      "s3transfer==0.3.3\n",
      "scikit-image==0.17.2\n",
      "scikit-learn @ file:///D:/bld/scikit-learn_1596546337481/work\n",
      "scipy==1.4.1\n",
      "seaborn @ file:///home/conda/feedstock_root/build_artifacts/seaborn-base_1591878760859/work\n",
      "Send2Trash==1.5.0\n",
      "six @ file:///home/conda/feedstock_root/build_artifacts/six_1590081179328/work\n",
      "smart-open @ file:///home/conda/feedstock_root/build_artifacts/smart_open_1598572939086/work\n",
      "soupsieve @ file:///home/conda/feedstock_root/build_artifacts/soupsieve_1597680516047/work\n",
      "spacy @ file:///D:/bld/spacy_1594659295035/work\n",
      "srsly @ file:///D:/bld/srsly_1589222538360/work\n",
      "statsmodels @ file:///D:/bld/statsmodels_1598551192913/work\n",
      "tensorboard==2.1.1\n",
      "tensorboard-plugin-wit @ file:///home/conda/feedstock_root/build_artifacts/tensorboard-plugin-wit_1592816951245/work/tensorboard_plugin_wit-1.6.0.post3-py3-none-any.whl\n",
      "tensorflow==2.3.1\n",
      "tensorflow-estimator==2.3.0\n",
      "termcolor==1.1.0\n",
      "terminado==0.8.3\n",
      "testpath==0.4.4\n",
      "Theano==1.0.5\n",
      "thinc @ file:///D:/bld/thinc_1590400575886/work\n",
      "threadpoolctl @ file:///tmp/tmp79xdzxkt/threadpoolctl-2.1.0-py3-none-any.whl\n",
      "tifffile @ file:///home/conda/feedstock_root/build_artifacts/tifffile_1599208671228/work\n",
      "toml @ file:///home/conda/feedstock_root/build_artifacts/toml_1589469402899/work\n",
      "toolz==0.10.0\n",
      "tornado==6.0.4\n",
      "tqdm @ file:///home/conda/feedstock_root/build_artifacts/tqdm_1596476591553/work\n",
      "traitlets==4.3.3\n",
      "typing-extensions @ file:///home/conda/feedstock_root/build_artifacts/typing_extensions_1588470653596/work\n",
      "urllib3 @ file:///home/conda/feedstock_root/build_artifacts/urllib3_1595434816409/work\n",
      "wasabi @ file:///home/conda/feedstock_root/build_artifacts/wasabi_1594929739383/work\n",
      "wcwidth @ file:///home/conda/feedstock_root/build_artifacts/wcwidth_1595859607677/work\n",
      "webencodings==0.5.1\n",
      "Werkzeug==0.16.1\n",
      "widgetsnbextension @ file:///D:/bld/widgetsnbextension_1594164533747/work\n",
      "win-inet-pton==1.1.0\n",
      "wincertstore==0.2\n",
      "wrapt==1.12.1\n",
      "xarray @ file:///home/conda/feedstock_root/build_artifacts/xarray_1594532077462/work\n",
      "xgboost==1.2.1\n",
      "xlrd==1.2.0\n",
      "zipp==3.1.0\n"
     ]
    }
   ],
   "source": [
    "! pip freeze"
   ]
  },
  {
   "cell_type": "code",
   "execution_count": 22,
   "metadata": {},
   "outputs": [
    {
     "name": "stdout",
     "output_type": "stream",
     "text": [
      "('Failed to import pydot. You must `pip install pydot` and install graphviz (https://graphviz.gitlab.io/download/), ', 'for `pydotprint` to work.')\n"
     ]
    }
   ],
   "source": [
    "tf.keras.utils.plot_model(\n",
    "    model,\n",
    "    #to_file='model.png', # if you want to save the image\n",
    "    show_shapes=True, # True to see more details \n",
    "    show_layer_names=True,\n",
    "    rankdir='TB',\n",
    "    expand_nested=True,\n",
    "    dpi=150\n",
    ")"
   ]
  },
  {
   "cell_type": "markdown",
   "metadata": {},
   "source": [
    "[Everything you wanted to know about a Keras Model and were afraid to ask](https://www.tensorflow.org/api_docs/python/tf/keras/Model)"
   ]
  },
  {
   "cell_type": "markdown",
   "metadata": {},
   "source": [
    "### 4. Fit the model to the train set (also using a validation set)\n",
    "\n",
    "This is the part that takes the longest.\n",
    "\n",
    "-----------------------------------------------------------\n",
    "**ep·och** <BR>\n",
    "noun: epoch; plural noun: epochs. A period of time in history or a person's life, typically one marked by notable events or particular characteristics. Examples: \"the Victorian epoch\", \"my Neural Netwok's epochs\". <BR>\n",
    "    \n",
    "-----------------------------------------------------------"
   ]
  },
  {
   "cell_type": "code",
   "execution_count": null,
   "metadata": {},
   "outputs": [],
   "source": [
    "%%time\n",
    "# Fit the model <--- always a good idea to time it! \n",
    "\n",
    "history = model.fit(x_train, y_train, validation_split=0.33, epochs=50, \n",
    "                    verbose=2)"
   ]
  },
  {
   "cell_type": "markdown",
   "metadata": {},
   "source": [
    "#### Save the model\n",
    "\n",
    "You can save the model so you do not have `.fit` everytime you reset the kernel in the notebook. Network training is expensive!\n",
    "\n",
    "For more details on this see [https://www.tensorflow.org/guide/keras/save_and_serialize](https://www.tensorflow.org/guide/keras/save_and_serialize)"
   ]
  },
  {
   "cell_type": "code",
   "execution_count": null,
   "metadata": {},
   "outputs": [],
   "source": [
    "# save the model so you do not have to run the code everytime\n",
    "model.save('fashion_model.h5')\n",
    "\n",
    "# Recreate the exact same model purely from the file\n",
    "#model = tf.keras.models.load_model('fashion_model.h5')"
   ]
  },
  {
   "cell_type": "markdown",
   "metadata": {},
   "source": [
    "### 5. Evaluate the model on the test set."
   ]
  },
  {
   "cell_type": "code",
   "execution_count": null,
   "metadata": {},
   "outputs": [],
   "source": [
    "test_loss, test_accuracy = model.evaluate(x_test, y_test, verbose=0)\n",
    "print(f'Test accuracy={test_accuracy}')"
   ]
  },
  {
   "cell_type": "markdown",
   "metadata": {},
   "source": [
    "### 6. We learn a lot by studying history: metric traceplots. \n",
    "\n",
    "You can learn a lot about neural networks by observing how they perform while training. The networks's performance is stored in a variable named `history` which can be plotted. "
   ]
  },
  {
   "cell_type": "code",
   "execution_count": null,
   "metadata": {},
   "outputs": [],
   "source": [
    "print(history.history.keys())"
   ]
  },
  {
   "cell_type": "code",
   "execution_count": null,
   "metadata": {
    "scrolled": false
   },
   "outputs": [],
   "source": [
    "# plot accuracy and loss for the test set\n",
    "fig, ax = plt.subplots(1,2, figsize=(20,6))\n",
    "\n",
    "ax[0].plot(history.history['accuracy'])\n",
    "ax[0].plot(history.history['val_accuracy'])\n",
    "ax[0].set_title('Model accuracy')\n",
    "ax[0].set_ylabel('accuracy')\n",
    "ax[0].set_xlabel('epoch')\n",
    "ax[0].legend(['train', 'val'], loc='best')\n",
    "\n",
    "ax[1].plot(history.history['loss'])\n",
    "ax[1].plot(history.history['val_loss'])\n",
    "ax[1].set_title('Model loss')\n",
    "ax[1].set_ylabel('loss')\n",
    "ax[1].set_xlabel('epoch')\n",
    "ax[1].legend(['train', 'val'], loc='best')"
   ]
  },
  {
   "cell_type": "markdown",
   "metadata": {},
   "source": [
    "<div class=\"exercise\"><b>What do you observe in these traceplots?</b></div>"
   ]
  },
  {
   "cell_type": "markdown",
   "metadata": {},
   "source": [
    "## Breakout Room Activity"
   ]
  },
  {
   "cell_type": "markdown",
   "metadata": {},
   "source": [
    "### 7. Regularization\n",
    "Let's try adding a regularizer in our model. Name your new model `model_regular`. For more see `tf.keras` [regularizers](https://www.tensorflow.org/api_docs/python/tf/keras/regularizers).<BR>\n",
    "\n",
    "1. Norm penalties: \n",
    "    ```\n",
    "    model_regular.add(tf.keras.layers.Dense(154, activation='relu', \n",
    "                                         kernel_regularizer= tf.keras.regularizers.l2(l=0.001)))\n",
    "    ```\n",
    "2. Early stopping via `tf.keras.callbacks`. Callbacks provide a way to interact with the model while it's training and inforce some decisions automatically. Callbacks need to be instantiated and are added to the `.fit()` function via the `callbacks` argument.\n",
    "    ```\n",
    "    # callbacks: watch validation loss and be \"patient\" for 10 epochs of no improvement\n",
    "    es = tf.keras.callbacks.EarlyStopping(monitor='val_loss', verbose=1, patience=20) \n",
    "    model_regular.fit(x_train, y_train, validation_split=0.2, epochs=50, \n",
    "                                    verbose=1, callbacks=[es])\n",
    "    ```\n",
    "3. Dropout\n",
    "    ```\n",
    "    model_regular.add(tf.keras.layers.Dropout(0.2))\n",
    "    ```\n",
    "4. Remove layers"
   ]
  },
  {
   "cell_type": "markdown",
   "metadata": {},
   "source": [
    "#### Note: Name your new model `model_regular` for the rest of the code to work."
   ]
  },
  {
   "cell_type": "code",
   "execution_count": 37,
   "metadata": {},
   "outputs": [],
   "source": [
    "# your code here\n",
    "# define the model\n",
    "model_regular = tf.keras.Sequential()\n",
    "model_regular.add(tf.keras.layers.Flatten(input_shape=(28, 28)))\n",
    "model_regular.add(tf.keras.layers.Dense(154, activation='relu', kernel_regularizer= tf.keras.regularizers.l2(l=0.001)))\n",
    "model_regular.add(tf.keras.layers.Dropout(0.2))\n",
    "model_regular.add(tf.keras.layers.Dense(154, activation='relu'))\n",
    "# model_regular.add(tf.keras.layers.Dropout(0.2))\n",
    "model_regular.add(tf.keras.layers.Dense(154, activation='relu', kernel_regularizer= tf.keras.regularizers.l2(l=0.001)))\n",
    "# model_regular.add(tf.keras.layers.Dropout(0.2))\n",
    "model_regular.add(tf.keras.layers.Dense(64, activation='relu'))\n",
    "model_regular.add(tf.keras.layers.Dropout(0.2))\n",
    "model_regular.add(tf.keras.layers.Dense(10, activation='softmax'))"
   ]
  },
  {
   "cell_type": "code",
   "execution_count": 38,
   "metadata": {},
   "outputs": [],
   "source": [
    "# compile the model\n",
    "loss_fn = tf.keras.losses.SparseCategoricalCrossentropy()\n",
    "optimizer = tf.keras.optimizers.Adam()\n",
    "\n",
    "model_regular.compile(optimizer=optimizer,\n",
    "              loss=loss_fn,\n",
    "              metrics=['accuracy'])"
   ]
  },
  {
   "cell_type": "code",
   "execution_count": 39,
   "metadata": {},
   "outputs": [
    {
     "name": "stdout",
     "output_type": "stream",
     "text": [
      "Epoch 1/20\n",
      "1500/1500 - 6s - loss: 0.8170 - accuracy: 0.7831 - val_loss: 0.5775 - val_accuracy: 0.8454\n",
      "Epoch 2/20\n",
      "1500/1500 - 5s - loss: 0.6079 - accuracy: 0.8286 - val_loss: 0.5577 - val_accuracy: 0.8444\n",
      "Epoch 3/20\n",
      "1500/1500 - 5s - loss: 0.5659 - accuracy: 0.8357 - val_loss: 0.5356 - val_accuracy: 0.8347\n",
      "Epoch 4/20\n",
      "1500/1500 - 5s - loss: 0.5495 - accuracy: 0.8390 - val_loss: 0.5321 - val_accuracy: 0.8399\n",
      "Epoch 5/20\n",
      "1500/1500 - 5s - loss: 0.5346 - accuracy: 0.8429 - val_loss: 0.4999 - val_accuracy: 0.8572\n",
      "Epoch 6/20\n",
      "1500/1500 - 5s - loss: 0.5271 - accuracy: 0.8441 - val_loss: 0.5402 - val_accuracy: 0.8328\n",
      "Epoch 7/20\n",
      "1500/1500 - 5s - loss: 0.5232 - accuracy: 0.8451 - val_loss: 0.5062 - val_accuracy: 0.8446\n",
      "Epoch 8/20\n",
      "1500/1500 - 5s - loss: 0.5172 - accuracy: 0.8462 - val_loss: 0.4735 - val_accuracy: 0.8587\n",
      "Epoch 9/20\n",
      "1500/1500 - 5s - loss: 0.5071 - accuracy: 0.8497 - val_loss: 0.4847 - val_accuracy: 0.8555\n",
      "Epoch 10/20\n",
      "1500/1500 - 5s - loss: 0.5038 - accuracy: 0.8497 - val_loss: 0.4721 - val_accuracy: 0.8602\n",
      "Epoch 11/20\n",
      "1500/1500 - 6s - loss: 0.5059 - accuracy: 0.8489 - val_loss: 0.4929 - val_accuracy: 0.8501\n",
      "Epoch 12/20\n",
      "1500/1500 - 5s - loss: 0.5003 - accuracy: 0.8526 - val_loss: 0.4718 - val_accuracy: 0.8652\n",
      "Epoch 13/20\n",
      "1500/1500 - 5s - loss: 0.4940 - accuracy: 0.8520 - val_loss: 0.4615 - val_accuracy: 0.8654\n",
      "Epoch 14/20\n",
      "1500/1500 - 7s - loss: 0.4983 - accuracy: 0.8518 - val_loss: 0.4619 - val_accuracy: 0.8674\n",
      "Epoch 15/20\n",
      "1500/1500 - 6s - loss: 0.4940 - accuracy: 0.8533 - val_loss: 0.4425 - val_accuracy: 0.8702\n",
      "Epoch 16/20\n",
      "1500/1500 - 5s - loss: 0.4951 - accuracy: 0.8522 - val_loss: 0.4890 - val_accuracy: 0.8519\n",
      "Epoch 17/20\n",
      "1500/1500 - 5s - loss: 0.4883 - accuracy: 0.8558 - val_loss: 0.4759 - val_accuracy: 0.8588\n",
      "Epoch 18/20\n",
      "1500/1500 - 5s - loss: 0.4913 - accuracy: 0.8528 - val_loss: 0.4974 - val_accuracy: 0.8484\n",
      "Epoch 19/20\n",
      "1500/1500 - 5s - loss: 0.4869 - accuracy: 0.8551 - val_loss: 0.4752 - val_accuracy: 0.8553\n",
      "Epoch 20/20\n",
      "1500/1500 - 5s - loss: 0.4830 - accuracy: 0.8579 - val_loss: 0.4728 - val_accuracy: 0.8553\n"
     ]
    }
   ],
   "source": [
    "# fit the model\n",
    "es = tf.keras.callbacks.EarlyStopping(monitor='val_loss', verbose=1, patience=20) \n",
    "history = model_regular.fit(x_train, y_train, validation_split=0.2, epochs=20, \n",
    "                    verbose=2, callbacks=[es])"
   ]
  },
  {
   "cell_type": "code",
   "execution_count": 40,
   "metadata": {},
   "outputs": [
    {
     "name": "stdout",
     "output_type": "stream",
     "text": [
      "0.8452000021934509\n"
     ]
    }
   ],
   "source": [
    "# evaluate on test set\n",
    "test_loss_regular, test_accuracy_regular = model_regular.evaluate(x_test, y_test, verbose=0)\n",
    "print(test_accuracy_regular)"
   ]
  },
  {
   "cell_type": "code",
   "execution_count": 41,
   "metadata": {
    "scrolled": false
   },
   "outputs": [
    {
     "data": {
      "text/plain": [
       "<matplotlib.legend.Legend at 0x19c90f71fc8>"
      ]
     },
     "execution_count": 41,
     "metadata": {},
     "output_type": "execute_result"
    },
    {
     "data": {
      "image/png": "[encoded data removed]",
      "text/plain": [
       "<Figure size 1440x432 with 2 Axes>"
      ]
     },
     "metadata": {
      "needs_background": "light"
     },
     "output_type": "display_data"
    }
   ],
   "source": [
    "# plot accuracy and loss for the test set\n",
    "fig, ax = plt.subplots(1,2, figsize=(20,6))\n",
    "\n",
    "ax[0].plot(history.history['accuracy'])\n",
    "ax[0].plot(history.history['val_accuracy'])\n",
    "ax[0].set_title('Model accuracy')\n",
    "ax[0].set_ylabel('accuracy')\n",
    "ax[0].set_xlabel('epoch')\n",
    "ax[0].legend(['train', 'val'], loc='best')\n",
    "\n",
    "ax[1].plot(history.history['loss'])\n",
    "ax[1].plot(history.history['val_loss'])\n",
    "ax[1].set_title('Model loss')\n",
    "ax[1].set_ylabel('loss')\n",
    "ax[1].set_xlabel('epoch')\n",
    "ax[1].legend(['train', 'val'], loc='best')"
   ]
  },
  {
   "cell_type": "markdown",
   "metadata": {},
   "source": [
    "<div class=\"exercise\"><b>In class discussion : How far did you get with regularization?</b></div>"
   ]
  },
  {
   "cell_type": "markdown",
   "metadata": {},
   "source": [
    "### 7. Now let's predict in the test set"
   ]
  },
  {
   "cell_type": "code",
   "execution_count": null,
   "metadata": {},
   "outputs": [],
   "source": [
    "predictions = model_regular.predict(x_test)"
   ]
  },
  {
   "cell_type": "code",
   "execution_count": null,
   "metadata": {},
   "outputs": [],
   "source": [
    "# choose a specific item to predict (one out of the 60000 samples)\n",
    "item = 6"
   ]
  },
  {
   "cell_type": "code",
   "execution_count": null,
   "metadata": {},
   "outputs": [],
   "source": [
    "predictions[item]"
   ]
  },
  {
   "cell_type": "code",
   "execution_count": null,
   "metadata": {},
   "outputs": [],
   "source": [
    "np.argmax(predictions[item]), class_names[np.argmax(predictions[item])]"
   ]
  },
  {
   "cell_type": "markdown",
   "metadata": {},
   "source": [
    "Let's see if our network predicted right! Is the first item what was predicted?"
   ]
  },
  {
   "cell_type": "code",
   "execution_count": null,
   "metadata": {},
   "outputs": [],
   "source": [
    "plt.figure()\n",
    "plt.imshow(x_test[item], cmap=plt.cm.binary)\n",
    "plt.xlabel(class_names[y_test[item]])\n",
    "plt.colorbar()"
   ]
  },
  {
   "cell_type": "code",
   "execution_count": null,
   "metadata": {},
   "outputs": [],
   "source": [
    "# code source: https://www.tensorflow.org/tutorials/keras/classification\n",
    "def plot_image(i, predictions_array, true_label, img):\n",
    "    predictions_array, true_label, img = predictions_array, true_label[i], img[i]\n",
    "    plt.grid(False)\n",
    "    plt.xticks([])\n",
    "    plt.yticks([])\n",
    "\n",
    "    plt.imshow(img, cmap=plt.cm.binary)\n",
    "\n",
    "    predicted_label = np.argmax(predictions_array)\n",
    "    if predicted_label == true_label:\n",
    "        color = 'blue'\n",
    "    else:\n",
    "        color = 'red'\n",
    "\n",
    "    plt.xlabel(\"{} {:2.0f}% ({})\".format(class_names[predicted_label],\n",
    "                                100*np.max(predictions_array),\n",
    "                                class_names[true_label]),\n",
    "                                color=color)\n",
    "\n",
    "def plot_value_array(i, predictions_array, true_label):\n",
    "    predictions_array, true_label = predictions_array, true_label[i]\n",
    "    plt.grid(False)\n",
    "    plt.xticks(range(10))\n",
    "    plt.yticks([])\n",
    "    thisplot = plt.bar(range(10), predictions_array, color=\"#777777\")\n",
    "    plt.ylim([0, 1])\n",
    "    predicted_label = np.argmax(predictions_array)\n",
    "\n",
    "    thisplot[predicted_label].set_color('red')\n",
    "    thisplot[true_label].set_color('blue')"
   ]
  },
  {
   "cell_type": "code",
   "execution_count": null,
   "metadata": {
    "scrolled": true
   },
   "outputs": [],
   "source": [
    "i = item\n",
    "plt.figure(figsize=(6,3))\n",
    "plt.subplot(1,2,1)\n",
    "plot_image(i, predictions[i], y_test, x_test)\n",
    "plt.subplot(1,2,2)\n",
    "plot_value_array(i, predictions[i],  y_test)\n",
    "plt.show()"
   ]
  },
  {
   "cell_type": "markdown",
   "metadata": {},
   "source": [
    "### 8. Try our model on a sandal from the Kanye West collection!\n",
    "The true usefullness of a NN is to be able to classigy unseen data and not only on the test set. Let's see if our network can generalize beyond the MNIST fashion dataset. Let's give it a trendy shoe and see what it predicts. This image is not part of the test set, it was downloaded from the internet. \n",
    "\n",
    "<img src=\"kanye_shoe.jpg\" alt=\"shoe\" width=\"150\" height=\"150\"><BR>\n",
    "<div class=\"exercise\"><b>In class discussion : What kinds of images can our model predict?</b></div>\n",
    "\n",
    "Bias measures how much the network's output, averaged over all possible data sets differs from the true function. Variance measures how much the network output varies between datasets. Is generalization the pillar of Intelligence?"
   ]
  },
  {
   "cell_type": "code",
   "execution_count": 5,
   "metadata": {},
   "outputs": [
    {
     "data": {
      "image/png": "[encoded data removed]",
      "text/plain": [
       "<Figure size 432x288 with 1 Axes>"
      ]
     },
     "metadata": {
      "needs_background": "light"
     },
     "output_type": "display_data"
    }
   ],
   "source": [
    "# Let'see the tensor shape\n",
    "shoe = Image.open('kanye_shoe.jpg')\n",
    "imgplot = plt.imshow(shoe)"
   ]
  },
  {
   "cell_type": "code",
   "execution_count": null,
   "metadata": {},
   "outputs": [],
   "source": [
    "# Resize image to 28x28\n",
    "shoe = shoe.resize((28, 28))\n",
    "imgplot = plt.imshow(shoe)"
   ]
  },
  {
   "cell_type": "code",
   "execution_count": null,
   "metadata": {},
   "outputs": [],
   "source": [
    "shoe = ImageOps.mirror(shoe)\n",
    "imgplot = plt.imshow(shoe)"
   ]
  },
  {
   "cell_type": "code",
   "execution_count": null,
   "metadata": {
    "scrolled": true
   },
   "outputs": [],
   "source": [
    "# Delete the other 2 channels to make image B&W. \n",
    "shoe_data = np.array(shoe) # cast into munpy array\n",
    "shoe_data = shoe_data[:,:,0]\n",
    "print(shoe_data.shape)\n",
    "imgplot = plt.imshow(shoe_data, cmap=plt.cm.binary)"
   ]
  },
  {
   "cell_type": "markdown",
   "metadata": {},
   "source": [
    "`tf.keras` models are optimized to make predictions on a batch, or collection, of examples at once. Accordingly, even though you're using a single image, you need to add it to a list:"
   ]
  },
  {
   "cell_type": "code",
   "execution_count": null,
   "metadata": {},
   "outputs": [],
   "source": [
    "# Add the image to a batch where it's the only member.\n",
    "shoe_batch = (np.expand_dims(shoe_data,0))\n",
    "print(shoe_batch.shape)"
   ]
  },
  {
   "cell_type": "code",
   "execution_count": null,
   "metadata": {},
   "outputs": [],
   "source": [
    "predictions_single = model_regular.predict(shoe_batch)\n",
    "print(predictions_single[0])\n",
    "print(np.argmax(predictions_single[0]), class_names[np.argmax(predictions_single[0])])"
   ]
  },
  {
   "cell_type": "code",
   "execution_count": null,
   "metadata": {},
   "outputs": [],
   "source": [
    "shoe_data = np.ones(shoe_data.shape) * 255 - shoe_data\n",
    "plt.figure()\n",
    "plt.imshow(shoe_data, cmap=plt.cm.binary)\n",
    "plt.xlabel('a cool shoe')\n",
    "plt.colorbar()"
   ]
  },
  {
   "cell_type": "code",
   "execution_count": null,
   "metadata": {},
   "outputs": [],
   "source": [
    "# Add the image to a batch where it's the only member.\n",
    "shoe_batch = (np.expand_dims(shoe_data,0))\n",
    "print(shoe_batch.shape)"
   ]
  },
  {
   "cell_type": "code",
   "execution_count": null,
   "metadata": {},
   "outputs": [],
   "source": [
    "predictions_single = model_regular.predict(shoe_batch)\n",
    "print(predictions_single[0])\n",
    "print(np.argmax(predictions_single[0]), class_names[np.argmax(predictions_single[0])])"
   ]
  },
  {
   "cell_type": "markdown",
   "metadata": {},
   "source": [
    "### Data augementation\n",
    "\n",
    "Data augmentation generates more training data by applying a series of random transformations that yield belivable images. Be careful of transformations that result in unlikely images."
   ]
  },
  {
   "cell_type": "code",
   "execution_count": null,
   "metadata": {},
   "outputs": [],
   "source": [
    "datagen = ImageDataGenerator(\n",
    "        rotation_range=40,\n",
    "        width_shift_range=0.2,\n",
    "        height_shift_range=0.2,\n",
    "        rescale=1./255,\n",
    "        shear_range=0.2,\n",
    "        zoom_range=0.2,\n",
    "        horizontal_flip=True,\n",
    "        fill_mode='nearest')"
   ]
  },
  {
   "cell_type": "code",
   "execution_count": null,
   "metadata": {},
   "outputs": [],
   "source": [
    "shoe_augm = (np.expand_dims(shoe_data,0))\n",
    "shoe_augm = (np.expand_dims(shoe_augm, 3))\n",
    "print(shoe_augm.shape)"
   ]
  },
  {
   "cell_type": "code",
   "execution_count": null,
   "metadata": {},
   "outputs": [],
   "source": [
    "img = shoe_augm\n",
    "img.shape"
   ]
  },
  {
   "cell_type": "code",
   "execution_count": null,
   "metadata": {},
   "outputs": [],
   "source": [
    "from keras.preprocessing import image\n",
    "\n",
    "# the .flow() command below generates batches of randomly transformed images\n",
    "# and saves the results to the `preview/` directory (this directory must exist)\n",
    "i = 0\n",
    "        \n",
    "for batch in datagen.flow(shoe_augm, batch_size=1,\n",
    "                          save_to_dir='preview', save_prefix='shoe', save_format='jpeg'):\n",
    "    plt.figure(i)\n",
    "    imgplot = plt.imshow(image.array_to_img(batch[0]), cmap=plt.cm.binary)\n",
    "    i += 1\n",
    "    if i % 6 == 0:\n",
    "        break # otherwise the generator would loop indefinitely\n",
    "\n",
    "plt.show()"
   ]
  }
 ],
 "metadata": {
  "kernelspec": {
   "display_name": "Python 3",
   "language": "python",
   "name": "python3"
  },
  "language_info": {
   "codemirror_mode": {
    "name": "ipython",
    "version": 3
   },
   "file_extension": ".py",
   "mimetype": "text/x-python",
   "name": "python",
   "nbconvert_exporter": "python",
   "pygments_lexer": "ipython3",
   "version": "3.7.8"
  }
 },
 "nbformat": 4,
 "nbformat_minor": 2
}
