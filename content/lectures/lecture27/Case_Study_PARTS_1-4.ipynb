{
 "cells": [
  {
   "cell_type": "markdown",
   "metadata": {},
   "source": [
    "<h1 style=\"padding-top: 25px;padding-bottom: 25px;text-align: left; padding-left: 10px; background-color: #DDDDDD; \n",
    "    color: black;\"> <img style=\"float: left; padding-right: 10px; width: 45px\" src=\"https://raw.githubusercontent.com/Harvard-IACS/2018-CS109A/master/content/styles/iacs.png\"> CS109A Introduction to Data Science </h1>\n",
    "\n",
    "## Case Study 2: Hunting for Flavors\n",
    "\n",
    "**Harvard University**<br/>\n",
    "**Fall 2020**<br/>\n",
    "**Instructors**: Pavlos Protopapas, Kevin Rader, and Chris Tanner<br/>\n",
    "<hr style='height:2px'>"
   ]
  },
  {
   "cell_type": "code",
   "execution_count": 1,
   "metadata": {},
   "outputs": [
    {
     "data": {
      "text/html": [
       "<style>\n",
       "blockquote { background: #AEDE94; }\n",
       "h1 { \n",
       "    padding-top: 25px;\n",
       "    padding-bottom: 25px;\n",
       "    text-align: left; \n",
       "    padding-left: 10px;\n",
       "    background-color: #DDDDDD; \n",
       "    color: black;\n",
       "}\n",
       "h2 { \n",
       "    padding-top: 10px;\n",
       "    padding-bottom: 10px;\n",
       "    text-align: left; \n",
       "    padding-left: 5px;\n",
       "    background-color: #EEEEEE; \n",
       "    color: black;\n",
       "}\n",
       "\n",
       "div.exercise {\n",
       "\tbackground-color: #ffcccc;\n",
       "\tborder-color: #E9967A; \t\n",
       "\tborder-left: 5px solid #800080; \n",
       "\tpadding: 0.5em;\n",
       "}\n",
       "\n",
       "div.exercise-r {\n",
       "\tbackground-color: #ffd0d0;\n",
       "\tborder-color: #E9967A; \t\n",
       "\tborder-left: 5px solid #800080; \n",
       "\tpadding: 0.5em;\n",
       "}\n",
       "\n",
       "\n",
       "span.sub-q {\n",
       "\tfont-weight: bold;\n",
       "}\n",
       "div.theme {\n",
       "\tbackground-color: #DDDDDD;\n",
       "\tborder-color: #E9967A; \t\n",
       "\tborder-left: 5px solid #800080; \n",
       "\tpadding: 0.5em;\n",
       "\tfont-size: 18pt;\n",
       "}\n",
       "div.gc { \n",
       "\tbackground-color: #AEDE94;\n",
       "\tborder-color: #E9967A; \t \n",
       "\tborder-left: 5px solid #800080; \n",
       "\tpadding: 0.5em;\n",
       "\tfont-size: 12pt;\n",
       "}\n",
       "p.q1 { \n",
       "    padding-top: 5px;\n",
       "    padding-bottom: 5px;\n",
       "    text-align: left; \n",
       "    padding-left: 5px;\n",
       "    background-color: #EEEEEE; \n",
       "    color: black;\n",
       "}\n",
       "header {\n",
       "   padding-top: 35px;\n",
       "    padding-bottom: 35px;\n",
       "    text-align: left; \n",
       "    padding-left: 10px;\n",
       "    background-color: #DDDDDD; \n",
       "    color: black;\n",
       "}\n",
       "</style>\n",
       "\n"
      ],
      "text/plain": [
       "<IPython.core.display.HTML object>"
      ]
     },
     "execution_count": 1,
     "metadata": {},
     "output_type": "execute_result"
    }
   ],
   "source": [
    "## RUN THIS CELL TO GET THE RIGHT FORMATTING \n",
    "import requests\n",
    "from IPython.core.display import HTML\n",
    "styles = requests.get(\"https://raw.githubusercontent.com/Harvard-IACS/2020-CS109A/master/themes/static/css/cs109.css\").text\n",
    "HTML(styles)"
   ]
  },
  {
   "cell_type": "code",
   "execution_count": 2,
   "metadata": {},
   "outputs": [],
   "source": [
    "# import the necessary libraries\n",
    "import re\n",
    "import requests\n",
    "import random\n",
    "import pandas as pd\n",
    "import matplotlib\n",
    "import matplotlib.pyplot as plt\n",
    "from matplotlib.ticker import PercentFormatter\n",
    "import numpy as np\n",
    "from time import sleep\n",
    "from bs4 import BeautifulSoup\n",
    "\n",
    "# global properties\n",
    "data_dir = \"data/\" # where to save data\n",
    "num_search_pages = 50 # how many search pages to cull through\n",
    "\n",
    "# NOTE:\n",
    "# if you haven't yet downloaded the data, this should be set to True\n",
    "download_data = False"
   ]
  },
  {
   "cell_type": "markdown",
   "metadata": {},
   "source": [
    "## Disclaimer\n",
    "\n",
    "Alcohol is drug. There are state and federal laws that govern the sale, distribution, and consumption of such. In the United States, those who consume alcohol must be at least 21 years of age. In no way am I, or anyone else at IACS or Harvard at large, promoting or encouraging the usage of alcohol. My intention is not to celebrate it. Anyone who consumes alcohol should do so responsibly. Abusing alcohol often has serious, grave effects, ones that I've often  witnessed within my environment while growing up as a kid. I can honestly say that I was 21 years old before ever consuming alcohol; likewise, everyone who chooses to drink should be of legal drinking age. \n",
    "\n",
    "The point of this exercise is purely pedagogical, and it illustrates the wide range of tasks that one can apply data science and machine learning to. That is, I am focusing on a particular interest and demonstrating how it can be used to answer questions that one may be interested in for one's own personal life. You could easily imagine this being used in professional settings, too.\n",
    "\n",
    "### Learning Objectives\n",
    "Help see the big picture process of conducting a project, and to illustrate some of the nuanced details and common pitfalls."
   ]
  },
  {
   "cell_type": "markdown",
   "metadata": {},
   "source": [
    "## 1. Problem Overview \n",
    "\n",
    "Whiskey is a type of alcohol, and there are many different types of whiskey, including **bourbon,** which will be the focus of this project. \n",
    "\n",
    "I am interested in determining:\n",
    "\n",
    "1. Are there certain attributes of bourbons that are predictive of good (i.e., highly rated by users) bourbons?\n",
    "    - Find hidden gems (i.e., should be good but current reviews are absent or unsupportive of such)\n",
    "\t- Find over-hyped whiskeys (i.e., the reviews seem high but the attributes aren't indicative)\n",
    "\t- Are there significant results if we target experts' ratings instead of average customer ratings?\n",
    "\n",
    "2. Are there certain attributes of bourbons that are predictive of expensive bourbons?\n",
    "    - Find under-priced whiskeys\n",
    "    - Find over-priced whiskeys\n",
    "\n",
    "3. Which bourbons are more similar to each other?\n",
    "    - Which attributes are important for determining similarness? (e.g., does price play a role?)"
   ]
  },
  {
   "cell_type": "markdown",
   "metadata": {},
   "source": [
    "## 2. Obtaining Data\n",
    "\n",
    "We need a website that has a bunch of whiskey data. `Distiller.com` seems to be the most authoritative and comprehensive site.\n",
    "\n",
    "Using `distiller.com` as our source, I don't see a way to display a list of all of their bourbons. But, if you search for the keyword `bourbon`, over 2,000 search results appear, each with a link to the particular whiskey. After manual inspection, these in fact are bourbons, but a few are not and merely have some association with bourbon (e.g., non-bourbon whiskeys that were casked in old bourbon barrels).\n",
    "\n",
    "Let's crawl the search results pages to create a set of all candidate bourbons (i.e., `whiskey_urls`)! Then, using this set, let's download each page. Note, we use a `set()` instead of a list, in case there are duplicates."
   ]
  },
  {
   "cell_type": "markdown",
   "metadata": {},
   "source": [
    "<div class='exercise'><b>Fetching list of webpages via Requests</b></div>"
   ]
  },
  {
   "cell_type": "code",
   "execution_count": 3,
   "metadata": {},
   "outputs": [],
   "source": [
    "whiskey_urls = set()\n",
    "\n",
    "if download_data:\n",
    "\n",
    "    # we define this for convenience, as every state's url begins with this prefix\n",
    "    base_url = 'https://distiller.com/search?term=bourbon'\n",
    "    \n",
    "    # visits each search result page\n",
    "    for page_num in range(1, num_search_pages):\n",
    "        cur_page = requests.get('https://distiller.com/search?page=' + str(page_num) + '&term=bourbon')\n",
    "\n",
    "        # uses BeautifulSoup to extract all links to whiskeys\n",
    "        bs_page = BeautifulSoup(cur_page.content, \"html.parser\")\n",
    "        for link in bs_page.findAll('a', attrs={'href': re.compile(\"^/spirits/\")}):\n",
    "            whiskey_urls.add(link.get('href'))\n",
    "\n",
    "        sleep(1)\n",
    "    \n",
    "    # saves each URL to disk, so that we don't have to crawl the search results again\n",
    "    f = open(\"whiskey_urls.txt\", \"w\")\n",
    "    for url in whiskey_urls:\n",
    "        f.write(url + \"\\n\")\n",
    "    f.close()\n",
    "    \n",
    "    # fetches each page and saves it to the hard drive\n",
    "    for url in whiskey_urls:\n",
    "        cur_page = requests.get('https://distiller.com' + url).content\n",
    "\n",
    "        # writes file\n",
    "        f = open(data_dir + url[9:], 'wb')\n",
    "        f.write(cur_page)\n",
    "        f.close()\n",
    "\n",
    "        # sleeps between 1-3 seconds, in case the site tries to detect crawling\n",
    "        sleep(random.randint(1,3))\n",
    "else: \n",
    "    \n",
    "    # if the files have already been saved to disk\n",
    "    # then you can just load them here, instead of crawling again\n",
    "    with open('whiskey_urls.txt') as f:\n",
    "        whiskey_urls = set(line.strip() for line in f)"
   ]
  },
  {
   "cell_type": "markdown",
   "metadata": {},
   "source": [
    "We now have a list of all whiskey urls, in `whiskey_urls`, along with the actual page downloaded to our hard drive. We downloaded them to the hard drive for convenience, so that in the future, we don't have to spend the 2 hours crawling all pages again.\n",
    "\n",
    "Let's now load each of these pages!"
   ]
  },
  {
   "cell_type": "code",
   "execution_count": 4,
   "metadata": {},
   "outputs": [],
   "source": [
    "whiskeys = {}\n",
    "\n",
    "# loads whiskey webpage\n",
    "for i, url in enumerate(whiskey_urls):\n",
    "\n",
    "    filename = data_dir + url[9:]\n",
    "    file_contents = open(filename, 'r').read()\n",
    "    \n",
    "    # instantiates a new BeautifulSoup object\n",
    "    soup = BeautifulSoup(file_contents, \"html.parser\")\n",
    "    \n",
    "    # extracts details about the whiskey\n",
    "    name = soup.find('h1', attrs={'class': re.compile(\"secondary-headline name\")}).text.strip()\n",
    "    location = soup.find('h2', attrs={'class': \"ultra-mini-headline location middleweight\"}).text.strip()\n",
    "\n",
    "    soup.find('div', attrs={'class': \"spirit-badge\"})\n",
    "\n",
    "    badge = \"\"\n",
    "    if soup.find('div', attrs={'class': \"spirit-badge\"}) != None:\n",
    "        badge = soup.find('div', attrs={'class': \"spirit-badge\"}).text.strip()\n",
    "        \n",
    "    num_ratings = 0\n",
    "    rating = \"N/A\"\n",
    "    if soup.find('span', attrs={'itemprop': \"ratingCount\"}) != None:\n",
    "        num_ratings = int(soup.find('span', attrs={'itemprop': \"ratingCount\"}).text.strip())\n",
    "        rating = float(soup.find('span', attrs={'itemprop': \"ratingValue\"}).text.strip())\n",
    "    \n",
    "    age = soup.find('li', attrs={'class': \"detail age\"}).find('div', attrs='value').text.strip()\n",
    "    price = int(re.findall(\"cost-(\\d)\", str(soup.find('div', attrs={'class': re.compile(\"spirit-cost\")})))[0])\n",
    "    abv = \"\"\n",
    "    \n",
    "    if soup.find('li', attrs={'class': \"detail abv\"}).find('div', attrs='value').text != \"\":\n",
    "        abv = float(soup.find('li', attrs={'class': \"detail abv\"}).find('div', attrs='value').text)\n",
    "    \n",
    "    whiskey_type = soup.find('li', attrs={'class': \"detail whiskey-style\"}).div.text\n",
    "    cask_type = \"\"\n",
    "    if soup.find('li', attrs={'class': \"detail cask-type\"}) != None:\n",
    "        cask_type = soup.find('li', attrs={'class': \"detail cask-type\"}).find('div', attrs='value').text.strip()\n",
    "    \n",
    "    review = \"\"\n",
    "    expert = \"\"\n",
    "    score = \"\"\n",
    "    flavor_summary = \"\"\n",
    "    flavor_profile = []\n",
    "    \n",
    "    # check if an expert reviewed it\n",
    "    if soup.find('p', attrs={'itemprop': \"reviewBody\"}) != None:\n",
    "        review = soup.find('p', attrs={'itemprop': \"reviewBody\"}).text.replace(\"\\\"\",\"\").strip()\n",
    "    \n",
    "        expert = soup.find('div', attrs={'class': 'meet-experts'}).a.text.strip()\n",
    "        score = int(soup.find('div', attrs={'class': \"distiller-score\"}).span.text.strip())\n",
    "        flavor_summary = soup.find('h3', attrs={'class': \"secondary-headline flavors middleweight\"}).text.strip()\n",
    "    \n",
    "        # extracts flavor profile\n",
    "        flavor_profile = eval(soup.find('canvas').attrs['data-flavors'])\n",
    "    \n",
    "    cur_whiskey = [name, whiskey_type, cask_type, location, age, abv, price, badge, num_ratings, \\\n",
    "        rating, flavor_summary, expert, score]\n",
    "\n",
    "    if flavor_profile:\n",
    "        cur_whiskey.extend(list(flavor_profile.values()))\n",
    "    else:\n",
    "        cur_whiskey.extend(np.zeros(14))\n",
    "        \n",
    "    cur_whiskey.append(review)\n",
    "    whiskeys[i] = cur_whiskey\n",
    "\n",
    "    df = pd.DataFrame.from_dict(whiskeys, orient='index', \\\n",
    "        columns=['Name', 'Type', 'Cask', 'Location', 'Age', 'ABV %', 'Price', 'Badge',\\\n",
    "                 '# Ratings', \"Customers' Rating\", 'Flavor Summary', 'Expert', 'Expert Score',\\\n",
    "                 'Smoky', 'Peaty', 'Spicy', 'Herbal', 'Oily', 'Full-bodied', 'Rich',\\\n",
    "                 'Sweet', 'Briny', 'Salty', 'Vanilla', 'Tart', 'Fruity', 'Floral', 'Review'])"
   ]
  },
  {
   "cell_type": "markdown",
   "metadata": {},
   "source": [
    "## 3. Data Sanity Check / Cleaning\n",
    "\n",
    "What do our features look like? Are any features wonky, inconsistent, useless, or missing values?"
   ]
  },
  {
   "cell_type": "markdown",
   "metadata": {},
   "source": [
    "<div class='exercise'><b>Let's use only the whiskeys that have been reviewed by experts</b>\n",
    "</div>"
   ]
  },
  {
   "cell_type": "code",
   "execution_count": 5,
   "metadata": {},
   "outputs": [
    {
     "name": "stdout",
     "output_type": "stream",
     "text": [
      "710\n"
     ]
    }
   ],
   "source": [
    "pd.set_option('display.max_columns', None)\n",
    "df2 = df.loc[(df['Expert'] != \"\")]\n",
    "print(len(df2))"
   ]
  },
  {
   "cell_type": "code",
   "execution_count": 6,
   "metadata": {},
   "outputs": [
    {
     "data": {
      "text/plain": [
       "Bourbon                          586\n",
       "Single Malt                       27\n",
       "Blended American Whiskey          14\n",
       "Aged Rum                          12\n",
       "Peated Single Malt                11\n",
       "Other Whiskey                     11\n",
       "Flavored Whiskey                   5\n",
       "Gold Rum                           4\n",
       "Tequila Reposado                   4\n",
       "Rhum Agricole Vieux                4\n",
       "American Single Malt               3\n",
       "Spiced Rum                         3\n",
       "Blended                            3\n",
       "Tequila Añejo                      3\n",
       "Rye                                2\n",
       "Cachaça                            2\n",
       "Canadian                           2\n",
       "Barrel-Aged Gin                    2\n",
       "Dark Rum                           2\n",
       "Flavored Rum                       2\n",
       "Other Liqueurs                     1\n",
       "White                              1\n",
       "Rhum Agricole Blanc                1\n",
       "Other Brandy                       1\n",
       "Rhum Agricole Éléve Sous Bois      1\n",
       "Old Tom Gin                        1\n",
       "Dairy/Egg Liqueurs                 1\n",
       "Silver Rum                         1\n",
       "Name: Type, dtype: int64"
      ]
     },
     "execution_count": 6,
     "metadata": {},
     "output_type": "execute_result"
    }
   ],
   "source": [
    "df2['Type'].value_counts()"
   ]
  },
  {
   "cell_type": "markdown",
   "metadata": {},
   "source": [
    "<div class='exercise'><b>Let's only use the bourbons.</b> We have 586 bourbons, which is my primary focus. This isn't tons, but the non-bourbons will likely add noise, as they are different alcohols.\n",
    "</div>"
   ]
  },
  {
   "cell_type": "code",
   "execution_count": 7,
   "metadata": {},
   "outputs": [],
   "source": [
    "pd.set_option('display.max_rows', None)\n",
    "df2 = df2.loc[(df['Type'] == \"Bourbon\")]"
   ]
  },
  {
   "cell_type": "markdown",
   "metadata": {},
   "source": [
    "<div class='exercise'><b>Let's inspect the data types</b>\n",
    "</div>"
   ]
  },
  {
   "cell_type": "code",
   "execution_count": 8,
   "metadata": {},
   "outputs": [
    {
     "data": {
      "text/plain": [
       "Name                  object\n",
       "Type                  object\n",
       "Cask                  object\n",
       "Location              object\n",
       "Age                   object\n",
       "ABV %                 object\n",
       "Price                  int64\n",
       "Badge                 object\n",
       "# Ratings              int64\n",
       "Customers' Rating     object\n",
       "Flavor Summary        object\n",
       "Expert                object\n",
       "Expert Score          object\n",
       "Smoky                float64\n",
       "Peaty                float64\n",
       "Spicy                float64\n",
       "Herbal               float64\n",
       "Oily                 float64\n",
       "Full-bodied          float64\n",
       "Rich                 float64\n",
       "Sweet                float64\n",
       "Briny                float64\n",
       "Salty                float64\n",
       "Vanilla              float64\n",
       "Tart                 float64\n",
       "Fruity               float64\n",
       "Floral               float64\n",
       "Review                object\n",
       "dtype: object"
      ]
     },
     "execution_count": 8,
     "metadata": {},
     "output_type": "execute_result"
    }
   ],
   "source": [
    "df2.dtypes"
   ]
  },
  {
   "cell_type": "markdown",
   "metadata": {},
   "source": [
    "<div class='exercise'><b>\"Customers' Rating\"</b> feature should be a Float. Let's fix it.\n",
    "</div>"
   ]
  },
  {
   "cell_type": "code",
   "execution_count": 9,
   "metadata": {},
   "outputs": [
    {
     "data": {
      "text/html": [
       "<div>\n",
       "<style scoped>\n",
       "    .dataframe tbody tr th:only-of-type {\n",
       "        vertical-align: middle;\n",
       "    }\n",
       "\n",
       "    .dataframe tbody tr th {\n",
       "        vertical-align: top;\n",
       "    }\n",
       "\n",
       "    .dataframe thead th {\n",
       "        text-align: right;\n",
       "    }\n",
       "</style>\n",
       "<table border=\"1\" class=\"dataframe\">\n",
       "  <thead>\n",
       "    <tr style=\"text-align: right;\">\n",
       "      <th></th>\n",
       "      <th>Name</th>\n",
       "      <th>Type</th>\n",
       "      <th>Cask</th>\n",
       "      <th>Location</th>\n",
       "      <th>Age</th>\n",
       "      <th>ABV %</th>\n",
       "      <th>Price</th>\n",
       "      <th>Badge</th>\n",
       "      <th># Ratings</th>\n",
       "      <th>Customers' Rating</th>\n",
       "      <th>Flavor Summary</th>\n",
       "      <th>Expert</th>\n",
       "      <th>Expert Score</th>\n",
       "      <th>Smoky</th>\n",
       "      <th>Peaty</th>\n",
       "      <th>Spicy</th>\n",
       "      <th>Herbal</th>\n",
       "      <th>Oily</th>\n",
       "      <th>Full-bodied</th>\n",
       "      <th>Rich</th>\n",
       "      <th>Sweet</th>\n",
       "      <th>Briny</th>\n",
       "      <th>Salty</th>\n",
       "      <th>Vanilla</th>\n",
       "      <th>Tart</th>\n",
       "      <th>Fruity</th>\n",
       "      <th>Floral</th>\n",
       "      <th>Review</th>\n",
       "    </tr>\n",
       "  </thead>\n",
       "  <tbody>\n",
       "    <tr>\n",
       "      <th>480</th>\n",
       "      <td>Tacoma New West Bourbon</td>\n",
       "      <td>Bourbon</td>\n",
       "      <td>new, charred American oak</td>\n",
       "      <td>Heritage Distilling Co. // Washington, USA</td>\n",
       "      <td>NAS</td>\n",
       "      <td>46</td>\n",
       "      <td>2</td>\n",
       "      <td></td>\n",
       "      <td>0</td>\n",
       "      <td>N/A</td>\n",
       "      <td>Vanilla &amp; Sweet</td>\n",
       "      <td>Brock Schulte</td>\n",
       "      <td>78</td>\n",
       "      <td>0.0</td>\n",
       "      <td>0.0</td>\n",
       "      <td>30.0</td>\n",
       "      <td>40.0</td>\n",
       "      <td>0.0</td>\n",
       "      <td>40.0</td>\n",
       "      <td>30.0</td>\n",
       "      <td>80.0</td>\n",
       "      <td>20.0</td>\n",
       "      <td>20.0</td>\n",
       "      <td>100.0</td>\n",
       "      <td>30.0</td>\n",
       "      <td>60.0</td>\n",
       "      <td>50.0</td>\n",
       "      <td>Nose is full of sweet corn, fresh caramel, and...</td>\n",
       "    </tr>\n",
       "  </tbody>\n",
       "</table>\n",
       "</div>"
      ],
      "text/plain": [
       "                        Name     Type                       Cask  \\\n",
       "480  Tacoma New West Bourbon  Bourbon  new, charred American oak   \n",
       "\n",
       "                                       Location  Age ABV %  Price Badge  \\\n",
       "480  Heritage Distilling Co. // Washington, USA  NAS    46      2         \n",
       "\n",
       "     # Ratings Customers' Rating   Flavor Summary         Expert Expert Score  \\\n",
       "480          0               N/A  Vanilla & Sweet  Brock Schulte           78   \n",
       "\n",
       "     Smoky  Peaty  Spicy  Herbal  Oily  Full-bodied  Rich  Sweet  Briny  \\\n",
       "480    0.0    0.0   30.0    40.0   0.0         40.0  30.0   80.0   20.0   \n",
       "\n",
       "     Salty  Vanilla  Tart  Fruity  Floral  \\\n",
       "480   20.0    100.0  30.0    60.0    50.0   \n",
       "\n",
       "                                                Review  \n",
       "480  Nose is full of sweet corn, fresh caramel, and...  "
      ]
     },
     "execution_count": 9,
     "metadata": {},
     "output_type": "execute_result"
    }
   ],
   "source": [
    "df2.loc[df2['Customers\\' Rating'] == \"N/A\"]"
   ]
  },
  {
   "cell_type": "code",
   "execution_count": 10,
   "metadata": {},
   "outputs": [],
   "source": [
    "# there still exists 1 whiskey that has no Customer Rating, so let's remove it\n",
    "df2 = df2.loc[df2['Customers\\' Rating'] != \"N/A\"]\n",
    "df2 = df2.astype({'Customers\\' Rating' : 'float64'})"
   ]
  },
  {
   "cell_type": "markdown",
   "metadata": {},
   "source": [
    "<div class='exercise'><b>\"Age\"</b> feature should represent years. Let's fix it.\n",
    "</div>"
   ]
  },
  {
   "cell_type": "code",
   "execution_count": 11,
   "metadata": {},
   "outputs": [
    {
     "data": {
      "text/plain": [
       "378"
      ]
     },
     "execution_count": 11,
     "metadata": {},
     "output_type": "execute_result"
    }
   ],
   "source": [
    "# we can keep the 'Age' feature for now but be mindful\n",
    "# that it's missing for nearly half of the whiskeys\n",
    "len(df2.loc[(df2['Age'] == 'NAS') | (df2['Age'] == 'nas') | (df2['Age'] == '')])"
   ]
  },
  {
   "cell_type": "code",
   "execution_count": 12,
   "metadata": {},
   "outputs": [],
   "source": [
    "# let's replace all missing values with a reasonable value.\n",
    "# for now, let's use 0 as a placeholder so that we can later swap it out.\n",
    "df2['Age'] = df2['Age'].replace(['NAS', 'nas', 'N/A',''],'0')"
   ]
  },
  {
   "cell_type": "code",
   "execution_count": 13,
   "metadata": {},
   "outputs": [
    {
     "data": {
      "text/plain": [
       "1                     0\n",
       "3                    15\n",
       "9                     0\n",
       "17                    0\n",
       "23                    0\n",
       "24                    0\n",
       "28                    0\n",
       "29                    0\n",
       "31                    9\n",
       "55            6 YR 4 MO\n",
       "56                    0\n",
       "64                    0\n",
       "65                    0\n",
       "67                    0\n",
       "70                    0\n",
       "73                    0\n",
       "76                   12\n",
       "77                    0\n",
       "81                    0\n",
       "86                    0\n",
       "88                    0\n",
       "90                   27\n",
       "98                    4\n",
       "101                   7\n",
       "106      6 YR 3 MO 6 DY\n",
       "110                   0\n",
       "112                   0\n",
       "113                   0\n",
       "117                   0\n",
       "122                   0\n",
       "127                  13\n",
       "128                  18\n",
       "138                  12\n",
       "154                   0\n",
       "168                  12\n",
       "172     6 YR, 2 MO, 1 D\n",
       "173                   0\n",
       "176                  10\n",
       "183                  10\n",
       "184                  11\n",
       "186                  12\n",
       "188                   0\n",
       "200                   0\n",
       "202                   0\n",
       "212                  12\n",
       "213                   0\n",
       "214                   0\n",
       "215                   0\n",
       "219                   0\n",
       "221                  28\n",
       "222                   0\n",
       "229                   0\n",
       "233                   0\n",
       "235                  14\n",
       "237                   0\n",
       "239                   0\n",
       "240            6, 11 mo\n",
       "247                   0\n",
       "250                   0\n",
       "252                   0\n",
       "254                  12\n",
       "261            4 months\n",
       "262                  12\n",
       "266                   0\n",
       "268                   0\n",
       "269                   7\n",
       "272                   0\n",
       "276                   0\n",
       "285                   0\n",
       "286                   5\n",
       "289                   9\n",
       "290                   0\n",
       "292                   0\n",
       "293                   0\n",
       "296                   0\n",
       "299                  12\n",
       "306                   0\n",
       "309                   0\n",
       "312                  17\n",
       "317                  23\n",
       "324                  24\n",
       "326                   0\n",
       "327                   0\n",
       "330                   0\n",
       "332                  17\n",
       "334                   0\n",
       "337                   0\n",
       "343                  12\n",
       "344                   0\n",
       "346           32 Months\n",
       "349                   0\n",
       "351                   0\n",
       "354                   0\n",
       "359                   0\n",
       "360                   0\n",
       "363                   0\n",
       "365                   0\n",
       "367                   0\n",
       "368                   0\n",
       "374                   0\n",
       "378                  22\n",
       "382                   0\n",
       "384                   3\n",
       "386                   0\n",
       "389                   0\n",
       "394                  12\n",
       "400                   0\n",
       "401                   0\n",
       "403                   0\n",
       "409                  11\n",
       "414                   0\n",
       "416                   0\n",
       "417                   0\n",
       "420                   0\n",
       "427                   0\n",
       "430                   4\n",
       "431                   7\n",
       "432                   0\n",
       "434                   0\n",
       "441                   0\n",
       "443                   0\n",
       "444                  10\n",
       "445                  20\n",
       "448                   0\n",
       "449                   0\n",
       "450                  11\n",
       "453                   0\n",
       "459                   0\n",
       "461                   0\n",
       "463                   0\n",
       "466                   0\n",
       "468                   0\n",
       "471                   0\n",
       "474                   0\n",
       "482                  12\n",
       "486                   0\n",
       "487                  12\n",
       "493      6 YR 5 MO 1 DY\n",
       "498                   0\n",
       "508                   0\n",
       "517                  21\n",
       "519                  14\n",
       "522                   0\n",
       "523                   0\n",
       "528                   0\n",
       "529                   0\n",
       "533           5 YR 6 MO\n",
       "548                   0\n",
       "556                  12\n",
       "561                   0\n",
       "562                   0\n",
       "567                   0\n",
       "568                   0\n",
       "572                  17\n",
       "589                   8\n",
       "593                   0\n",
       "599                   0\n",
       "600                   0\n",
       "601                   0\n",
       "607                   0\n",
       "609                   0\n",
       "612                   0\n",
       "614                  12\n",
       "615                   0\n",
       "622                   0\n",
       "626           19 months\n",
       "630                   0\n",
       "636                  20\n",
       "637                   0\n",
       "640                   0\n",
       "642                   0\n",
       "652                   0\n",
       "653                   0\n",
       "659                  15\n",
       "662                  17\n",
       "668                  13\n",
       "669                  10\n",
       "677                  22\n",
       "683                   0\n",
       "686                   0\n",
       "688                   7\n",
       "689                  15\n",
       "690                   0\n",
       "695                   0\n",
       "699                   0\n",
       "701                   0\n",
       "702                   0\n",
       "703                   0\n",
       "704                   0\n",
       "720                   0\n",
       "721                   0\n",
       "724                   0\n",
       "726                   4\n",
       "727                   0\n",
       "730                   0\n",
       "731                   0\n",
       "733          12 YR 5 MO\n",
       "740                   8\n",
       "741                   0\n",
       "742                   9\n",
       "744                  17\n",
       "745                   0\n",
       "748                   0\n",
       "751                   4\n",
       "753                   0\n",
       "758                   0\n",
       "761                  14\n",
       "762          12 YR 5 MO\n",
       "763                   0\n",
       "767      6 YR 3 MO 1 DY\n",
       "768                   0\n",
       "769                   0\n",
       "771                  15\n",
       "773                   0\n",
       "776                   0\n",
       "777                   0\n",
       "779                   0\n",
       "781                   5\n",
       "790                   0\n",
       "791                   0\n",
       "798                  10\n",
       "800                   0\n",
       "801                   0\n",
       "803     6 YR 3 MO 10 DY\n",
       "806        7 yrs, 9 mos\n",
       "807                   0\n",
       "809                   0\n",
       "810                  10\n",
       "812      7 Y, 2 M, 28 D\n",
       "822                   0\n",
       "824                   4\n",
       "829                   0\n",
       "842                   0\n",
       "854                   0\n",
       "857                 7.2\n",
       "862                   0\n",
       "867                  10\n",
       "870                   0\n",
       "871                   9\n",
       "874                   8\n",
       "879                   0\n",
       "881                   0\n",
       "883                   0\n",
       "884                   0\n",
       "900                   0\n",
       "903                   9\n",
       "904                   0\n",
       "906                   0\n",
       "910                  17\n",
       "916                  17\n",
       "919                   0\n",
       "920                  10\n",
       "923                   0\n",
       "928                  12\n",
       "929                   0\n",
       "932                  10\n",
       "936                   0\n",
       "937                   0\n",
       "940                  22\n",
       "941                  10\n",
       "947                  12\n",
       "952                   0\n",
       "954                  11\n",
       "961                   3\n",
       "962                   0\n",
       "963                   7\n",
       "966                   9\n",
       "969                   0\n",
       "972                   0\n",
       "973                   0\n",
       "974                   9\n",
       "978                   0\n",
       "985                   0\n",
       "986                   8\n",
       "987                   0\n",
       "992            9 Months\n",
       "996     6 YR 8 MO 14 DY\n",
       "1000                  0\n",
       "1001                  0\n",
       "1003                  0\n",
       "1005                  0\n",
       "1009                  9\n",
       "1015                  0\n",
       "1017                  6\n",
       "1028                  0\n",
       "1034                  0\n",
       "1035                  0\n",
       "1037         9 8 Months\n",
       "1039                 11\n",
       "1043                 12\n",
       "1044                 26\n",
       "1052                  0\n",
       "1053                  0\n",
       "1061                  0\n",
       "1062                  0\n",
       "1066                  0\n",
       "1067                  0\n",
       "1068                  0\n",
       "1078                 23\n",
       "1081                  0\n",
       "1082                  0\n",
       "1083                  0\n",
       "1085                  0\n",
       "1105                  8\n",
       "1106                  0\n",
       "1110                  0\n",
       "1115                  0\n",
       "1116                  0\n",
       "1118                  0\n",
       "1121                 11\n",
       "1123                  0\n",
       "1124                 11\n",
       "1125                  0\n",
       "1126                  0\n",
       "1128                  0\n",
       "1129                  0\n",
       "1133                  0\n",
       "1142                  0\n",
       "1152                  9\n",
       "1153                 16\n",
       "1158                  0\n",
       "1161                  0\n",
       "1162                  3\n",
       "1163        6, 5 months\n",
       "1174                  0\n",
       "1179                  9\n",
       "1187                  0\n",
       "1188                  9\n",
       "1193                  0\n",
       "1199     18 - 20 months\n",
       "1205                  0\n",
       "1207                  0\n",
       "1220                  0\n",
       "1227                  0\n",
       "1235                  0\n",
       "1238                  0\n",
       "1240                  3\n",
       "1244                  0\n",
       "1248                 11\n",
       "1250                  0\n",
       "1251    6 YR 2 MO 10 DY\n",
       "1257                  0\n",
       "1263                  0\n",
       "1265                  0\n",
       "1266                  0\n",
       "1268                  0\n",
       "1270                  0\n",
       "1273                  0\n",
       "1275                 17\n",
       "1276                  0\n",
       "1277                  0\n",
       "1280                  0\n",
       "1281                  0\n",
       "1284                  0\n",
       "1285                  0\n",
       "1290                  6\n",
       "1294    6 YR 4 MO 21 DY\n",
       "1296                 23\n",
       "1299                  0\n",
       "1300                 12\n",
       "1304                  0\n",
       "1306                  0\n",
       "1308                  0\n",
       "1313                 17\n",
       "1316                  0\n",
       "1325                  0\n",
       "1339                  6\n",
       "1340                  0\n",
       "1342                 12\n",
       "1343                  0\n",
       "1351                  0\n",
       "1353                 14\n",
       "1357                  0\n",
       "1358                  0\n",
       "1368                 10\n",
       "1380                  0\n",
       "1386                  0\n",
       "1389                  9\n",
       "1391                  0\n",
       "1396                  0\n",
       "1402                  5\n",
       "1405                 12\n",
       "1413                  0\n",
       "1415                  0\n",
       "1417                  6\n",
       "1419                  3\n",
       "1420      7 y, 2 m,16 d\n",
       "1423                  0\n",
       "1424                 10\n",
       "1427                  0\n",
       "1428                  0\n",
       "1429                6-8\n",
       "1432                  0\n",
       "1437                  0\n",
       "1438                  0\n",
       "1442                  0\n",
       "1447                  6\n",
       "1449                 12\n",
       "1454                  0\n",
       "1455                 15\n",
       "1457                  0\n",
       "1462                  0\n",
       "1467                  0\n",
       "1468                  0\n",
       "1470                  0\n",
       "1472                 12\n",
       "1477                  0\n",
       "1478                  0\n",
       "1479                 15\n",
       "1481                  0\n",
       "1483                  0\n",
       "1487                  1\n",
       "1491                  0\n",
       "1494                 12\n",
       "1499                  5\n",
       "1503                  0\n",
       "1513                  0\n",
       "1514                 10\n",
       "1518                  0\n",
       "1529                  0\n",
       "1530                  0\n",
       "1534                  0\n",
       "1536                  0\n",
       "1541                  0\n",
       "1544                 12\n",
       "1546                 11\n",
       "1547                  0\n",
       "1551                  0\n",
       "1554                 10\n",
       "1560                  0\n",
       "1573                  0\n",
       "1578                 15\n",
       "1581                  0\n",
       "1583                  0\n",
       "1586                  0\n",
       "1587                  0\n",
       "1588                  0\n",
       "1590                  6\n",
       "1591                  0\n",
       "1594                  9\n",
       "1595                  8\n",
       "1598                  0\n",
       "1599                 15\n",
       "1600                  6\n",
       "1601                  0\n",
       "1602                  0\n",
       "1604                 12\n",
       "1607                  0\n",
       "1613                 10\n",
       "1620            9 to 11\n",
       "1623                  0\n",
       "1632                  0\n",
       "1637                 11\n",
       "1648                  0\n",
       "1649                  0\n",
       "1650                  9\n",
       "1659                  0\n",
       "1660     6 Y, 7 M, 23 D\n",
       "1662                  0\n",
       "1665                 20\n",
       "1667                  0\n",
       "1668                  0\n",
       "1673                  7\n",
       "1674                  0\n",
       "1676                  0\n",
       "1678    6 YR 4 MO 12 DY\n",
       "1679                 17\n",
       "1682                  0\n",
       "1685                  0\n",
       "1686                  8\n",
       "1689                  0\n",
       "1691                  0\n",
       "1692                  0\n",
       "1695                  0\n",
       "1698                  0\n",
       "1700                  3\n",
       "1701                  0\n",
       "1702                  0\n",
       "1703                 13\n",
       "1704                  0\n",
       "1708                  0\n",
       "1709                  0\n",
       "1712                 21\n",
       "1720                  0\n",
       "1739                  0\n",
       "1741                  9\n",
       "1747                  0\n",
       "1748                  3\n",
       "1750                  9\n",
       "1756                  0\n",
       "1759                  0\n",
       "1761                  5\n",
       "1763                  0\n",
       "1766                 13\n",
       "1773                  0\n",
       "1788                  0\n",
       "1790                  0\n",
       "1802     6 YR 4 MO 6 DY\n",
       "1807                  0\n",
       "1810                  0\n",
       "1818                  0\n",
       "1822        6, 5 months\n",
       "1829                 17\n",
       "1833                  0\n",
       "1834                  0\n",
       "1837                 12\n",
       "1842                  0\n",
       "1845                  0\n",
       "1852                 10\n",
       "1853                 12\n",
       "1855                  8\n",
       "1872                  0\n",
       "1874                 15\n",
       "1877                 25\n",
       "1879                  0\n",
       "1885                  0\n",
       "1886                  0\n",
       "1894                  0\n",
       "1897                  5\n",
       "1907          8 YR 3 MO\n",
       "1910                  9\n",
       "1919                 10\n",
       "1921                 10\n",
       "1922                  0\n",
       "1923                  0\n",
       "1929                  0\n",
       "1934                  0\n",
       "1937                  0\n",
       "1939                  0\n",
       "1940                  0\n",
       "1947                  0\n",
       "1954                  0\n",
       "1955                  0\n",
       "1957                  0\n",
       "1959                  0\n",
       "1963                  0\n",
       "1986                  0\n",
       "1992                  0\n",
       "1994                  0\n",
       "1995                  0\n",
       "2005                  0\n",
       "2006                  0\n",
       "2008                  0\n",
       "2010                  0\n",
       "2020                  0\n",
       "2029                  0\n",
       "2032    6 YR 10 MO 1 DY\n",
       "2033                 12\n",
       "2036                  0\n",
       "2042                  0\n",
       "2045                 14\n",
       "2050                 10\n",
       "2051                  6\n",
       "2056                  0\n",
       "2058                  0\n",
       "2062                  0\n",
       "2069                 10\n",
       "2078                 10\n",
       "2087                  0\n",
       "2090                 20\n",
       "2091    6 YR 3 MO 14 DY\n",
       "2092                  0\n",
       "2102                  0\n",
       "2104                  8\n",
       "2107                  0\n",
       "2113    6 YR 6 MO 19 DY\n",
       "2117                 12\n",
       "2118                 10\n",
       "2131                  0\n",
       "2134                  0\n",
       "2135                  0\n",
       "2137                  0\n",
       "2138                  0\n",
       "2144                  0\n",
       "2148                  0\n",
       "2152                  0\n",
       "2155                 23\n",
       "2156                  0\n",
       "2160                  0\n",
       "2170                 12\n",
       "2179                  0\n",
       "2181                  0\n",
       "2188                  0\n",
       "2190                  7\n",
       "2203                 12\n",
       "Name: Age, dtype: object"
      ]
     },
     "execution_count": 13,
     "metadata": {},
     "output_type": "execute_result"
    }
   ],
   "source": [
    "# remove the 'Years' part of the text\n",
    "df2['Age'].replace(to_replace =' [yY]ear[sS]*', value = '', regex = True) "
   ]
  },
  {
   "cell_type": "code",
   "execution_count": 14,
   "metadata": {},
   "outputs": [],
   "source": [
    "# manually cleaning up values that otherwise would be a bit impossible to automatically clean-up\n",
    "df2['Age'] = df2['Age'].replace(to_replace ='6.*', value = '6', regex = True)\n",
    "df2['Age'] = df2['Age'].replace(to_replace ='(\\d+) [Yy].*', value = '\\\\1', regex = True)\n",
    "df2['Age'] = df2['Age'].replace(to_replace ='4 [Mm]onths', value = '4', regex = True)\n",
    "df2['Age'] = df2['Age'].replace(to_replace ='9 [Mm]onths', value = '9', regex = True)\n",
    "df2['Age'] = df2['Age'].replace(to_replace ='18 - 20 [Mm]onths', value = '1.5', regex = True)\n",
    "df2['Age'] = df2['Age'].replace(to_replace ='32 [Mm]onths', value = '2.67', regex = True)\n",
    "df2['Age'] = df2['Age'].replace(to_replace ='9 [Mm]onths', value = '9', regex = True)\n",
    "df2['Age'] = df2['Age'].replace(to_replace ='9 to 11', value = '0.75', regex = True)"
   ]
  },
  {
   "cell_type": "code",
   "execution_count": 15,
   "metadata": {},
   "outputs": [
    {
     "data": {
      "text/plain": [
       "3         15\n",
       "31         9\n",
       "55         6\n",
       "76        12\n",
       "90        27\n",
       "98         4\n",
       "101        7\n",
       "106        6\n",
       "127       13\n",
       "128       18\n",
       "138       12\n",
       "168       12\n",
       "172        6\n",
       "176       10\n",
       "183       10\n",
       "184       11\n",
       "186       12\n",
       "212       12\n",
       "221       28\n",
       "235       14\n",
       "240        6\n",
       "254       12\n",
       "261        4\n",
       "262       12\n",
       "269        7\n",
       "286        5\n",
       "289        9\n",
       "299       12\n",
       "312       17\n",
       "317       23\n",
       "324       24\n",
       "332       17\n",
       "343       12\n",
       "346     2.67\n",
       "378       22\n",
       "384        3\n",
       "394       12\n",
       "409       11\n",
       "430        4\n",
       "431        7\n",
       "444       10\n",
       "445       20\n",
       "450       11\n",
       "482       12\n",
       "487       12\n",
       "493        6\n",
       "517       21\n",
       "519       14\n",
       "533        5\n",
       "556       12\n",
       "572       17\n",
       "589        8\n",
       "614       12\n",
       "626       19\n",
       "636       20\n",
       "659       15\n",
       "662       17\n",
       "668       13\n",
       "669       10\n",
       "677       22\n",
       "688        7\n",
       "689       15\n",
       "726        4\n",
       "733       12\n",
       "740        8\n",
       "742        9\n",
       "744       17\n",
       "751        4\n",
       "761       14\n",
       "762       12\n",
       "767        6\n",
       "771       15\n",
       "781        5\n",
       "798       10\n",
       "803        6\n",
       "806        7\n",
       "810       10\n",
       "812        7\n",
       "824        4\n",
       "857      7.2\n",
       "867       10\n",
       "871        9\n",
       "874        8\n",
       "903        9\n",
       "910       17\n",
       "916       17\n",
       "920       10\n",
       "928       12\n",
       "932       10\n",
       "940       22\n",
       "941       10\n",
       "947       12\n",
       "954       11\n",
       "961        3\n",
       "963        7\n",
       "966        9\n",
       "974        9\n",
       "986        8\n",
       "992        9\n",
       "996        6\n",
       "1009       9\n",
       "1017       6\n",
       "1037       9\n",
       "1039      11\n",
       "1043      12\n",
       "1044      26\n",
       "1078      23\n",
       "1105       8\n",
       "1121      11\n",
       "1124      11\n",
       "1152       9\n",
       "1153      16\n",
       "1162       3\n",
       "1163       6\n",
       "1179       9\n",
       "1188       9\n",
       "1199     1.5\n",
       "1240       3\n",
       "1248      11\n",
       "1251       6\n",
       "1275      17\n",
       "1290       6\n",
       "1294       6\n",
       "1296      23\n",
       "1300      12\n",
       "1313      17\n",
       "1339       6\n",
       "1342      12\n",
       "1353      14\n",
       "1368      10\n",
       "1389       9\n",
       "1402       5\n",
       "1405      12\n",
       "1417       6\n",
       "1419       3\n",
       "1420       7\n",
       "1424      10\n",
       "1429       6\n",
       "1447       6\n",
       "1449      12\n",
       "1455      15\n",
       "1472      12\n",
       "1479      15\n",
       "1487       1\n",
       "1494      12\n",
       "1499       5\n",
       "1514      10\n",
       "1544      12\n",
       "1546      11\n",
       "1554      10\n",
       "1578      15\n",
       "1590       6\n",
       "1594       9\n",
       "1595       8\n",
       "1599      15\n",
       "1600       6\n",
       "1604      12\n",
       "1613      10\n",
       "1620    0.75\n",
       "1637      11\n",
       "1650       9\n",
       "1660       6\n",
       "1665      20\n",
       "1673       7\n",
       "1678       6\n",
       "1679      17\n",
       "1686       8\n",
       "1700       3\n",
       "1703      13\n",
       "1712      21\n",
       "1741       9\n",
       "1748       3\n",
       "1750       9\n",
       "1761       5\n",
       "1766      13\n",
       "1802       6\n",
       "1822       6\n",
       "1829      17\n",
       "1837      12\n",
       "1852      10\n",
       "1853      12\n",
       "1855       8\n",
       "1874      15\n",
       "1877      25\n",
       "1897       5\n",
       "1907       8\n",
       "1910       9\n",
       "1919      10\n",
       "1921      10\n",
       "2032       6\n",
       "2033      12\n",
       "2045      14\n",
       "2050      10\n",
       "2051       6\n",
       "2069      10\n",
       "2078      10\n",
       "2090      20\n",
       "2091       6\n",
       "2104       8\n",
       "2113       6\n",
       "2117      12\n",
       "2118      10\n",
       "2155      23\n",
       "2170      12\n",
       "2190       7\n",
       "2203      12\n",
       "Name: Age, dtype: object"
      ]
     },
     "execution_count": 15,
     "metadata": {},
     "output_type": "execute_result"
    }
   ],
   "source": [
    "# let's look at all of the items that had an Age statement listed\n",
    "# (now that all values have been cleaned-up)\n",
    "df2.loc[df2['Age'] > '0']['Age']"
   ]
  },
  {
   "cell_type": "code",
   "execution_count": 16,
   "metadata": {},
   "outputs": [],
   "source": [
    "df2 = df2.astype({'Age': 'float64'})"
   ]
  },
  {
   "cell_type": "code",
   "execution_count": 17,
   "metadata": {},
   "outputs": [
    {
     "data": {
      "text/plain": [
       "206"
      ]
     },
     "execution_count": 17,
     "metadata": {},
     "output_type": "execute_result"
    }
   ],
   "source": [
    "# how many had values?\n",
    "len(df2.loc[df2['Age'] > 0])"
   ]
  },
  {
   "cell_type": "code",
   "execution_count": 18,
   "metadata": {},
   "outputs": [
    {
     "data": {
      "text/plain": [
       "count    585.000000\n",
       "mean       3.776274\n",
       "std        6.010627\n",
       "min        0.000000\n",
       "25%        0.000000\n",
       "50%        0.000000\n",
       "75%        7.000000\n",
       "max       28.000000\n",
       "Name: Age, dtype: float64"
      ]
     },
     "execution_count": 18,
     "metadata": {},
     "output_type": "execute_result"
    }
   ],
   "source": [
    "df2['Age'].describe()"
   ]
  },
  {
   "cell_type": "code",
   "execution_count": 19,
   "metadata": {},
   "outputs": [
    {
     "data": {
      "text/plain": [
       "array([[<matplotlib.axes._subplots.AxesSubplot object at 0x123397d50>]],\n",
       "      dtype=object)"
      ]
     },
     "execution_count": 19,
     "metadata": {},
     "output_type": "execute_result"
    },
    {
     "data": {
      "image/png": "[encoded data removed]",
      "text/plain": [
       "<Figure size 432x288 with 1 Axes>"
      ]
     },
     "metadata": {
      "needs_background": "light"
     },
     "output_type": "display_data"
    }
   ],
   "source": [
    "df2.loc[df2['Age'] > 0].hist(column='Age', bins='auto')"
   ]
  },
  {
   "cell_type": "markdown",
   "metadata": {},
   "source": [
    "I think it's fair to impute all missing values (i.e., 0) with 7. This is based on research, too (Googling and personal knowledge)"
   ]
  },
  {
   "cell_type": "code",
   "execution_count": 20,
   "metadata": {},
   "outputs": [],
   "source": [
    "df2['Age'] = df2['Age'].replace(0,7)"
   ]
  },
  {
   "cell_type": "code",
   "execution_count": 21,
   "metadata": {},
   "outputs": [
    {
     "data": {
      "text/plain": [
       "count    585.000000\n",
       "mean       8.311316\n",
       "std        3.607727\n",
       "min        0.750000\n",
       "25%        7.000000\n",
       "50%        7.000000\n",
       "75%        7.000000\n",
       "max       28.000000\n",
       "Name: Age, dtype: float64"
      ]
     },
     "execution_count": 21,
     "metadata": {},
     "output_type": "execute_result"
    }
   ],
   "source": [
    "df2['Age'].describe()"
   ]
  },
  {
   "cell_type": "code",
   "execution_count": 22,
   "metadata": {},
   "outputs": [
    {
     "data": {
      "text/plain": [
       "array([[<matplotlib.axes._subplots.AxesSubplot object at 0x124318dd0>]],\n",
       "      dtype=object)"
      ]
     },
     "execution_count": 22,
     "metadata": {},
     "output_type": "execute_result"
    },
    {
     "data": {
      "image/png": "[encoded data removed]",
      "text/plain": [
       "<Figure size 432x288 with 1 Axes>"
      ]
     },
     "metadata": {
      "needs_background": "light"
     },
     "output_type": "display_data"
    }
   ],
   "source": [
    "df2.hist(column='Age', bins='auto')"
   ]
  },
  {
   "cell_type": "markdown",
   "metadata": {},
   "source": [
    "<div class='exercise'>What's the distribution of the <b>\"Flavor Summary\"</b> feature? Is it consistent enough to use?\n",
    "</div>"
   ]
  },
  {
   "cell_type": "code",
   "execution_count": 23,
   "metadata": {},
   "outputs": [
    {
     "data": {
      "text/plain": [
       "Rich & Full Bodied       54\n",
       "Sweet & Rich             40\n",
       "Sweet                    36\n",
       "Vanilla & Sweet          34\n",
       "Spicy                    33\n",
       "Vanilla & Rich           24\n",
       "Full Bodied & Rich       20\n",
       "Sweet & Vanilla          20\n",
       "Spicy & Rich             18\n",
       "Vanilla                  18\n",
       "Vanilla & Full Bodied    17\n",
       "Fruity & Sweet           17\n",
       "Full Bodied & Spicy      17\n",
       "Spicy & Vanilla          16\n",
       "Rich & Spicy             13\n",
       "Sweet & Spicy            13\n",
       "Rich & Vanilla           13\n",
       "Vanilla & Spicy          11\n",
       "Full Bodied              11\n",
       "Spicy & Sweet            10\n",
       "Full Bodied & Vanilla    10\n",
       "Spicy & Full Bodied      10\n",
       "Rich & Sweet              9\n",
       "Rich                      9\n",
       "Sweet & Full Bodied       9\n",
       "Fruity                    9\n",
       "Sweet & Fruity            8\n",
       "Spicy & Fruity            7\n",
       "Fruity & Rich             7\n",
       "Fruity & Spicy            5\n",
       "Spicy & Smoky             5\n",
       "Fruity & Vanilla          4\n",
       "Sweet & Herbal            3\n",
       "Sweet & Oily              3\n",
       "Spicy & Herbal            3\n",
       "Floral & Fruity           3\n",
       "Floral                    3\n",
       "Fruity & Floral           2\n",
       "Oily & Rich               2\n",
       "Full Bodied & Sweet       2\n",
       "Tart                      2\n",
       "Floral & Vanilla          2\n",
       "Rich & Oily               2\n",
       "Sweet & Smoky             2\n",
       "Full Bodied & Fruity      2\n",
       "Fruity & Herbal           2\n",
       "Full Bodied & Oily        1\n",
       "Smoky & Spicy             1\n",
       "Smoky & Rich              1\n",
       "Smoky & Vanilla           1\n",
       "Sweet & Briny             1\n",
       "Herbal & Floral           1\n",
       "Tart & Vanilla            1\n",
       "Fruity & Full Bodied      1\n",
       "Spicy & Oily              1\n",
       "Vanilla & Fruity          1\n",
       "Rich & Smoky              1\n",
       "Floral & Herbal           1\n",
       "Sweet & Salty             1\n",
       "Oily & Full Bodied        1\n",
       "Vanilla & Floral          1\n",
       "Herbal & Tart             1\n",
       "Herbal & Fruity           1\n",
       "Oily & Sweet              1\n",
       "Floral & Sweet            1\n",
       "Smoky & Sweet             1\n",
       "Spicy & Tart              1\n",
       "Rich & Fruity             1\n",
       "Herbal                    1\n",
       "Oily                      1\n",
       "Spicy & Floral            1\n",
       "Name: Flavor Summary, dtype: int64"
      ]
     },
     "execution_count": 23,
     "metadata": {},
     "output_type": "execute_result"
    }
   ],
   "source": [
    "df2['Flavor Summary'].value_counts()"
   ]
  },
  {
   "cell_type": "markdown",
   "metadata": {},
   "source": [
    "Ok, there's a long tail of values, and it seems the Flavors are just the two most prominent flavors listed for each whiskey, although some only list one flavor. Perhaps this offers no additional information/signal than using the raw values of the flavors. Although, it might be worth experimenting with this by turning this feature into 2 new features: primary flavor, secondary flavor. These would need to be one-hot encoded though, and since there are 14 distinct flavors, that would create 28 new features (or 26). Again, these 26 features might be redundant and not help our models."
   ]
  },
  {
   "cell_type": "markdown",
   "metadata": {},
   "source": [
    "<div class='exercise'>What is the <b>\"Badge\"</b> feature like?"
   ]
  },
  {
   "cell_type": "code",
   "execution_count": 24,
   "metadata": {},
   "outputs": [
    {
     "data": {
      "text/plain": [
       "                                            428\n",
       "RARE                                        119\n",
       "Requested By\\nElw00t                          2\n",
       "Requested By\\njimcorwin3                      1\n",
       "Requested By\\nsamueljcarlson                  1\n",
       "Requested By\\ncubfancccc                      1\n",
       "Requested By\\nJFForbes                        1\n",
       "Requested By\\nEzikiel                         1\n",
       "Requested By\\nZonaPT                          1\n",
       "Requested By\\nandrewls24                      1\n",
       "Requested By\\nTmoore8601                      1\n",
       "Requested By\\ndanmeister33                    1\n",
       "Requested By\\nbodkins                         1\n",
       "Requested By\\nSharksfan321                    1\n",
       "Requested By\\ntjbriley                        1\n",
       "Requested By\\nspectorjuan                     1\n",
       "Requested By\\nstonetone96                     1\n",
       "Requested By\\nCblake34                        1\n",
       "Requested By\\nSoba45                          1\n",
       "Requested By\\ntkezo645                        1\n",
       "Requested By\\nalshepherd1                     1\n",
       "Requested By\\n1901                            1\n",
       "Requested By\\nBourbon_Obsessed_Lexington      1\n",
       "Requested By\\nstevenblackburn7                1\n",
       "Requested By\\nmcoop8                          1\n",
       "Requested By\\nAWhite                          1\n",
       "Requested By\\njd139                           1\n",
       "Requested By\\nGlengoolieBlue                  1\n",
       "Requested By\\nEast17                          1\n",
       "Requested By\\nAJLovesWhiskey                  1\n",
       "Requested By\\nGilly                           1\n",
       "Requested By\\nCymru-and-the-Ferg              1\n",
       "Requested By\\ndjriebesell                     1\n",
       "Requested By\\nhomerhomerson                   1\n",
       "Requested By\\nrsbolen                         1\n",
       "Requested By\\nJamesSpears                     1\n",
       "Requested By\\ncpreynolds87                    1\n",
       "Requested By\\nBourbonPizon                    1\n",
       "Requested By\\nJacob-Haralson                  1\n",
       "Name: Badge, dtype: int64"
      ]
     },
     "execution_count": 24,
     "metadata": {},
     "output_type": "execute_result"
    }
   ],
   "source": [
    "df2['Badge'].value_counts()"
   ]
  },
  {
   "cell_type": "markdown",
   "metadata": {},
   "source": [
    "We see that all Badge values are either 'RARE' or just requests from users for an expert to review it. So, let's change the badge column to being a 'Rare' column."
   ]
  },
  {
   "cell_type": "code",
   "execution_count": 25,
   "metadata": {},
   "outputs": [
    {
     "data": {
      "text/plain": [
       "False    466\n",
       "True     119\n",
       "Name: Rare, dtype: int64"
      ]
     },
     "execution_count": 25,
     "metadata": {},
     "output_type": "execute_result"
    }
   ],
   "source": [
    "df2['Rare'] = [True if x == 'RARE' else False for x in df2['Badge']] #df['Badge'] #.map({\"RARE\": True})\n",
    "del df2['Badge']\n",
    "df2['Rare'].value_counts()"
   ]
  },
  {
   "cell_type": "markdown",
   "metadata": {},
   "source": [
    "<div class='exercise'>What is the <b>\"Expert\"</b> feature like?"
   ]
  },
  {
   "cell_type": "code",
   "execution_count": 26,
   "metadata": {},
   "outputs": [
    {
     "ename": "NameError",
     "evalue": "name 'Expertdf2' is not defined",
     "output_type": "error",
     "traceback": [
      "\u001b[0;31m---------------------------------------------------------------------------\u001b[0m",
      "\u001b[0;31mNameError\u001b[0m                                 Traceback (most recent call last)",
      "\u001b[0;32m<ipython-input-26-30b370567b32>\u001b[0m in \u001b[0;36m<module>\u001b[0;34m\u001b[0m\n\u001b[0;32m----> 1\u001b[0;31m \u001b[0mExpertdf2\u001b[0m\u001b[0;34m[\u001b[0m\u001b[0;34m'Expert'\u001b[0m\u001b[0;34m]\u001b[0m\u001b[0;34m.\u001b[0m\u001b[0mvalue_counts\u001b[0m\u001b[0;34m(\u001b[0m\u001b[0;34m)\u001b[0m\u001b[0;34m\u001b[0m\u001b[0;34m\u001b[0m\u001b[0m\n\u001b[0m",
      "\u001b[0;31mNameError\u001b[0m: name 'Expertdf2' is not defined"
     ]
    }
   ],
   "source": [
    "Expertdf2['Expert'].value_counts()"
   ]
  },
  {
   "cell_type": "markdown",
   "metadata": {},
   "source": [
    "Let's cast our features to the correct data types and view summary statistics"
   ]
  },
  {
   "cell_type": "code",
   "execution_count": null,
   "metadata": {},
   "outputs": [],
   "source": [
    "df2 = df2.astype({'Expert Score': 'int32', 'Customers\\' Rating' : 'float64', 'ABV %': 'float64'})"
   ]
  },
  {
   "cell_type": "code",
   "execution_count": null,
   "metadata": {},
   "outputs": [],
   "source": [
    "df2.describe()"
   ]
  },
  {
   "cell_type": "markdown",
   "metadata": {},
   "source": [
    "## 4. EDA\n",
    "Now that our data is cleaned, let's explore it and try to understand any patterns. This understanding will impact our modelling choices. Based on the `.describe()` statistics above, let's first look at the most extreme values of features that seem a bit lopsided in their distribution of values."
   ]
  },
  {
   "cell_type": "markdown",
   "metadata": {},
   "source": [
    "<div class='exercise'>Which are the most <b>\"Smoky\"</b>? Intent is to see if there are any errors or something worth noting."
   ]
  },
  {
   "cell_type": "code",
   "execution_count": null,
   "metadata": {},
   "outputs": [],
   "source": [
    "df2.sort_values(by=['Smoky'], ascending=False)[0:15][['Name', 'Smoky', 'ABV %', 'Price', 'Customers\\' Rating', 'Expert Score']]"
   ]
  },
  {
   "cell_type": "markdown",
   "metadata": {},
   "source": [
    "<div class='exercise'>Which are the most <b>\"Peaty\"</b>? Intent is to see if there are any errors or something worth noting."
   ]
  },
  {
   "cell_type": "code",
   "execution_count": null,
   "metadata": {},
   "outputs": [],
   "source": [
    "df2.sort_values(by=['Peaty'], ascending=False)[0:10][['Name', 'Peaty', 'ABV %', 'Price', 'Customers\\' Rating', 'Expert Score']]"
   ]
  },
  {
   "cell_type": "markdown",
   "metadata": {},
   "source": [
    "<div class='exercise'>Which are the least <b>\"Spicy\"</b>? Intent is to see if there are any errors or something worth noting."
   ]
  },
  {
   "cell_type": "code",
   "execution_count": null,
   "metadata": {},
   "outputs": [],
   "source": [
    "df2.sort_values(by=['Spicy'], ascending=True)[0:14][['Name', 'Spicy', 'ABV %', 'Price', 'Customers\\' Rating', 'Expert Score']]"
   ]
  },
  {
   "cell_type": "markdown",
   "metadata": {},
   "source": [
    "<div class='exercise'>Which are the most <b>\"Herbal\"</b>? Intent is to see if there are any errors or something worth noting."
   ]
  },
  {
   "cell_type": "code",
   "execution_count": null,
   "metadata": {},
   "outputs": [],
   "source": [
    "df2.sort_values(by=['Herbal'], ascending=False)[0:20][['Name', 'Herbal', 'ABV %', 'Price', 'Customers\\' Rating', 'Expert Score']]"
   ]
  },
  {
   "cell_type": "markdown",
   "metadata": {},
   "source": [
    "<div class='exercise'>Which are the most <b>\"Oily\"</b>? Intent is to see if there are any errors or something worth noting."
   ]
  },
  {
   "cell_type": "code",
   "execution_count": null,
   "metadata": {},
   "outputs": [],
   "source": [
    "df2.sort_values(by=['Oily'], ascending=False)[0:15][['Name', 'Oily', 'ABV %', 'Price', 'Customers\\' Rating', 'Expert Score']]"
   ]
  },
  {
   "cell_type": "markdown",
   "metadata": {},
   "source": [
    "<div class='exercise'>Which are the least <b>\"Full-bodied\"</b>? Intent is to see if there are any errors or something worth noting."
   ]
  },
  {
   "cell_type": "code",
   "execution_count": null,
   "metadata": {},
   "outputs": [],
   "source": [
    "df2.sort_values(by=['Full-bodied'], ascending=True)[0:20][['Name', 'Full-bodied', 'ABV %', 'Price', 'Customers\\' Rating', 'Expert Score']]"
   ]
  },
  {
   "cell_type": "markdown",
   "metadata": {},
   "source": [
    "<div class='exercise'>Which are the most <b>\"Briny\"</b>? Intent is to see if there are any errors or something worth noting."
   ]
  },
  {
   "cell_type": "code",
   "execution_count": null,
   "metadata": {},
   "outputs": [],
   "source": [
    "df2.sort_values(by=['Briny'], ascending=False)[0:20][['Name', 'Briny', 'ABV %', 'Price', 'Customers\\' Rating', 'Expert Score']]"
   ]
  },
  {
   "cell_type": "markdown",
   "metadata": {},
   "source": [
    "<div class='exercise'>Which are the most <b>\"Salty\"</b>? Intent is to see if there are any errors or something worth noting."
   ]
  },
  {
   "cell_type": "code",
   "execution_count": null,
   "metadata": {},
   "outputs": [],
   "source": [
    "df2.sort_values(by=['Salty'], ascending=False)[0:20][['Name', 'Salty', 'ABV %', 'Price', 'Customers\\' Rating', 'Expert Score']]"
   ]
  },
  {
   "cell_type": "markdown",
   "metadata": {},
   "source": [
    "<div class='exercise'>Which are the most <b>\"Tart\"</b>? Intent is to see if there are any errors or something worth noting."
   ]
  },
  {
   "cell_type": "code",
   "execution_count": null,
   "metadata": {},
   "outputs": [],
   "source": [
    "df2.sort_values(by=['Tart'], ascending=False)[0:20][['Name', 'Tart', 'ABV %', 'Price', 'Customers\\' Rating', 'Expert Score']]"
   ]
  },
  {
   "cell_type": "markdown",
   "metadata": {},
   "source": [
    "<div class='exercise'>Which are the most <b>\"Fruity\"</b>? Intent is to see if there are any errors or something worth noting."
   ]
  },
  {
   "cell_type": "code",
   "execution_count": null,
   "metadata": {},
   "outputs": [],
   "source": [
    "df2.sort_values(by=['Fruity'], ascending=False)[0:20][['Name', 'Fruity', 'ABV %', 'Price', 'Customers\\' Rating', 'Expert Score']]"
   ]
  },
  {
   "cell_type": "markdown",
   "metadata": {},
   "source": [
    "<div class='exercise'>Which are the <b>oldest?</b> Intent is to see if there are any errors or something worth noting."
   ]
  },
  {
   "cell_type": "code",
   "execution_count": null,
   "metadata": {},
   "outputs": [],
   "source": [
    "df2.sort_values(by=['Age'], ascending=False)[0:20][['Name', 'Age', 'ABV %', 'Price', 'Customers\\' Rating', 'Expert Score']]"
   ]
  },
  {
   "cell_type": "markdown",
   "metadata": {},
   "source": [
    "<div class='exercise'>Which are the most <b>popular</b>? Intent is to see if there are any errors or something worth noting."
   ]
  },
  {
   "cell_type": "code",
   "execution_count": null,
   "metadata": {},
   "outputs": [],
   "source": [
    "df2.sort_values(by=['# Ratings'], ascending=False)[0:20][['Name', '# Ratings', 'Rare', 'ABV %', 'Price', 'Customers\\' Rating', 'Expert Score']]"
   ]
  },
  {
   "cell_type": "markdown",
   "metadata": {},
   "source": [
    "Ah, interestingly, the single-most popular, `Blanton's` is actually **very** hard to find these days. The field wrongly states it's not rare, but it is essentially impossible to find in most US States, and bottles are commonly marked up from $40 MSRP to $200. I'm very surprised that this has the most reviews, but I suspect it's because it has the highest allure amongst the rare ones that are somewhat possible to find. Years ago, it was very easy to find, so maybe some reviews were from this time.\n",
    "\n",
    "Additionally, `Weller Special Reserve` is also impossible to get within most places in the US, for most times of the year, but it has TONS of allure and attention. People obsess over it. `Weller Antique 107` is even rarer. The rest are very common within stores and bars, so the data makes sense for these."
   ]
  },
  {
   "cell_type": "markdown",
   "metadata": {},
   "source": [
    "<div class='exercise'>Which are the best according to <b>customers</b>? Intent is to see if there are any errors or something worth noting."
   ]
  },
  {
   "cell_type": "code",
   "execution_count": null,
   "metadata": {},
   "outputs": [],
   "source": [
    "df2.sort_values(by=[\"Customers\\' Rating\"], ascending=False)[0:20][['Name', '# Ratings', 'ABV %', 'Price', 'Customers\\' Rating', 'Expert Score']]"
   ]
  },
  {
   "cell_type": "markdown",
   "metadata": {},
   "source": [
    "This seems correct to me, not because I've tasted any of these, but because these are famous and are highly coveted. I've never heard of the best rated, `Parker's`, though. I'd be suspicious that it's an outlier and wrong, especially considering it only has 2 reviews from users; however, the expert also gave it a high score, so it seems like a valid entry."
   ]
  },
  {
   "cell_type": "code",
   "execution_count": null,
   "metadata": {},
   "outputs": [],
   "source": [
    "df2.sort_values(by=[\"Customers\\' Rating\"], ascending=True)[0:20][['Name', '# Ratings', 'ABV %', 'Price', 'Customers\\' Rating', 'Expert Score']]"
   ]
  },
  {
   "cell_type": "markdown",
   "metadata": {},
   "source": [
    "I've never heard of any of these, so this list seems reasonable. Plus, the experts gave them all horrible reviews, so I don't suspect anything suspicious is going on (e.g., customers ironically rating a controversial, highly-appraised whiskey as being horribly low, as if to troll the ratings)."
   ]
  },
  {
   "cell_type": "markdown",
   "metadata": {},
   "source": [
    "<div class='exercise'>Which are the best according to <b>experts</b>? Intent is to see if there are any errors or something worth noting."
   ]
  },
  {
   "cell_type": "code",
   "execution_count": null,
   "metadata": {},
   "outputs": [],
   "source": [
    "df2.sort_values(by=['Expert Score'], ascending=False)[0:20][['Name', '# Ratings', 'ABV %', 'Price', 'Customers\\' Rating', 'Expert Score']]"
   ]
  },
  {
   "cell_type": "markdown",
   "metadata": {},
   "source": [
    "This seems right. Never heard of `Hirsch` or `Parker's` but the others are speciality versions of famous/popular whiskeys, so this makes sense."
   ]
  },
  {
   "cell_type": "markdown",
   "metadata": {},
   "source": [
    "<div class='exercise'>Which are the most <b>expensive</b>? Intent is to see if there are any errors or something worth noting."
   ]
  },
  {
   "cell_type": "code",
   "execution_count": null,
   "metadata": {},
   "outputs": [],
   "source": [
    "df2.sort_values(by=['Price'], ascending=False)[0:15][['Name', '# Ratings', 'ABV %', 'Price', 'Customers\\' Rating', 'Expert Score']]"
   ]
  },
  {
   "cell_type": "markdown",
   "metadata": {},
   "source": [
    "We don't have high granularity (prices are just 1-5), which is perhaps a blessing in disguise -- most bourbons are \\\\$30 - \\\\$50, but some rare ones, especially due to price gouging, can be \\\\$100 - \\\\$3,000. That's a wild range and is largely due to rarity, allure, and sensationalism within human behavior, as opposed to actual qualities of the bourbon. So, maybe it's good that we don't have to deal with outlier whiskeys have extraordinary prices."
   ]
  },
  {
   "cell_type": "markdown",
   "metadata": {},
   "source": [
    "<div class='exercise'>Where do they come from? Intent is to see if there are any errors or something worth noting."
   ]
  },
  {
   "cell_type": "code",
   "execution_count": null,
   "metadata": {},
   "outputs": [],
   "source": [
    "df2['Location'].value_counts()"
   ]
  },
  {
   "cell_type": "markdown",
   "metadata": {},
   "source": [
    "Some distilleries produce different brands of whiskey. Most come from Kentucky. You can see that some distilleries produce tons of different types, but this can be a bit misleading because some of those different types are just slight variations (e.g., Eagle Rare 10, Eagle Rare 17), whereas others are completely different brands (e.g., Buffalo Trace, Blanton's). For now, it's probably best to just ignore the `location` feature, but we'll keep it in mind for modelling, if we get desperate. One idea would be to create 2 fields from this: 1 for the geographic state (e.g., Kentucky), and another for the distillery (e.g., Booker's)."
   ]
  },
  {
   "cell_type": "markdown",
   "metadata": {},
   "source": [
    "<div class='exercise'>Let's look at the distribution of <b>flavor</b> values? Intent is to see if there are any errors or something worth noting."
   ]
  },
  {
   "cell_type": "code",
   "execution_count": null,
   "metadata": {},
   "outputs": [],
   "source": [
    "fig, axs = plt.subplots(nrows=5, ncols=3, figsize=(20, 20), facecolor='w', edgecolor='k')\n",
    "fig.subplots_adjust(hspace = .5, wspace=.2)\n",
    "axs = axs.ravel()\n",
    "fontsize = 10\n",
    "\n",
    "flavors = ['Smoky', 'Peaty', 'Spicy', 'Herbal', 'Oily', 'Full-bodied', 'Rich',\\\n",
    "        'Sweet', 'Briny', 'Salty', 'Vanilla', 'Tart', 'Fruity', 'Floral']\n",
    "\n",
    "# plot histograms\n",
    "for i, flavor in enumerate(flavors):\n",
    "    axs[i].hist(df2[flavor], alpha=0.7, color='lightblue', bins='auto', density=False, histtype = 'bar', edgecolor='k')\n",
    "    axs[i].set_title(\"Distribution of \" + flavor + \" Flavor\", fontsize=fontsize)\n",
    "    axs[i].set_xlabel(flavor + \" Flavor\", fontsize=fontsize)\n",
    "    axs[i].set_ylabel('Count', fontsize=fontsize)\n",
    "    \n",
    "# removes the empty one, since we only have 14 flavors, not 15\n",
    "axs[14].set_axis_off()"
   ]
  },
  {
   "cell_type": "markdown",
   "metadata": {},
   "source": [
    "These all seem pretty reasonable, and I'm glad that the values have a good spread. A few flavors are a bit skewed, and these are the ones that we inspected above."
   ]
  },
  {
   "cell_type": "markdown",
   "metadata": {},
   "source": [
    "<div class='exercise'>Let's look for any patterns/correlations that may exists between our features. Since some of the above flavors are skewed (e.g., `Salty` is usually 0), we would not be able to discern any meaningful trend, so we can throw this out from our visualization. Otherwise, our graph woud just be a bunch of points overlapping one another at the 0 value."
   ]
  },
  {
   "cell_type": "code",
   "execution_count": null,
   "metadata": {},
   "outputs": [],
   "source": [
    "grid_features = ['Smoky', 'Spicy', 'Herbal', 'Oily', 'Full-bodied', 'Rich',\\\n",
    "        'Sweet', 'Vanilla', 'Fruity', 'Floral', \\\n",
    "        'Age', 'Price', 'Customers\\' Rating', 'Expert Score']\n",
    "\n",
    "scatter = pd.plotting.scatter_matrix(df2[grid_features], alpha=0.4, figsize=(20,20));\n",
    "for ax in scatter.ravel():\n",
    "    ax.set_xlabel(ax.get_xlabel(), rotation = 90)\n",
    "    ax.set_ylabel(ax.get_ylabel(), rotation = 90)"
   ]
  },
  {
   "cell_type": "markdown",
   "metadata": {},
   "source": [
    "We see that:\n",
    "- `Customer's Rating` is highly correlated with the expert's rating\n",
    "- The higher the `Price`, the more likely it is to have a high score from both customers and experts\n",
    "- The higher the `Richness`, the more `Full-bodied` and `Sweet` it tends to be (strong correlations)\n",
    "- The higher the `Oiliness`, the more likely it is to be `Full-bodied`\n",
    "- No individual flavor seems correlated with the scores from customers or experts. The closest trend is from `Full-bodied` and `Rich`, as they seem slightly directly correlated with the scores.\n",
    "\n",
    "This is an indication that predicting the score is not trivially easy; the `Full-bodied` and `Richness` can play some role, but if flavors give any indication, it'll be due to a combination of flavors instead of any one particular flavor."
   ]
  }
 ],
 "metadata": {
  "anaconda-cloud": {},
  "kernelspec": {
   "display_name": "Python 3",
   "language": "python",
   "name": "python3"
  },
  "language_info": {
   "codemirror_mode": {
    "name": "ipython",
    "version": 3
   },
   "file_extension": ".py",
   "mimetype": "text/x-python",
   "name": "python",
   "nbconvert_exporter": "python",
   "pygments_lexer": "ipython3",
   "version": "3.7.4"
  }
 },
 "nbformat": 4,
 "nbformat_minor": 2
}
