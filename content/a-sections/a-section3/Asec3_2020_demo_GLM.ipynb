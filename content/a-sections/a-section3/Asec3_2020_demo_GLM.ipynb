{
 "cells": [
  {
   "cell_type": "markdown",
   "metadata": {},
   "source": [
    "<hr style=\"height:3pt\">"
   ]
  },
  {
   "cell_type": "markdown",
   "metadata": {},
   "source": [
    "# Fisher Scoring Demo for Advanced Section 3: GLM's\n",
    "\n",
    "### Kevin Rader (special thanks to Nick Stern) | AC209a | October 14, 2020"
   ]
  },
  {
   "cell_type": "markdown",
   "metadata": {},
   "source": [
    "<hr style=\"height:3pt\">"
   ]
  },
  {
   "cell_type": "markdown",
   "metadata": {},
   "source": [
    "The following code implements the Fisher Scoring algorithm to solve for the optimal parameters in a simple logistic regression. The data we are using are the O-ring measurements that were taken leading up to the Challenger disaster in 1986. The space shuttle burned up on the launch pad because one of the O-rings failed due to the cold temperatures. We're going to regress temperature on O-ring failure to see if we can find a correlation.\n",
    "\n",
    "The data were obtained [here](https://gist.github.com/jtrive84/835514a76f7afd552c999e4d9134baa8).\n",
    "\n",
    "This example is originally found [here](http://www.jtrive.com/estimating-logistic-regression-coefficents-from-scratch-python-version.html)."
   ]
  },
  {
   "cell_type": "code",
   "execution_count": 1,
   "metadata": {},
   "outputs": [],
   "source": [
    "## Imports\n",
    "import numpy as np\n",
    "import pandas as pd\n",
    "import matplotlib.pyplot as plt\n",
    "import time\n",
    "from IPython import display\n",
    "import seaborn as sns\n",
    "sns.set(style='white')"
   ]
  },
  {
   "cell_type": "code",
   "execution_count": 2,
   "metadata": {},
   "outputs": [
    {
     "name": "stdout",
     "output_type": "stream",
     "text": [
      "(23, 5)\n"
     ]
    },
    {
     "data": {
      "text/html": [
       "<div>\n",
       "<style scoped>\n",
       "    .dataframe tbody tr th:only-of-type {\n",
       "        vertical-align: middle;\n",
       "    }\n",
       "\n",
       "    .dataframe tbody tr th {\n",
       "        vertical-align: top;\n",
       "    }\n",
       "\n",
       "    .dataframe thead th {\n",
       "        text-align: right;\n",
       "    }\n",
       "</style>\n",
       "<table border=\"1\" class=\"dataframe\">\n",
       "  <thead>\n",
       "    <tr style=\"text-align: right;\">\n",
       "      <th></th>\n",
       "      <th>FLIGHT</th>\n",
       "      <th>TEMPERATURE</th>\n",
       "      <th>PRESSURE</th>\n",
       "      <th>O_RING_FAILURE</th>\n",
       "      <th>INTERCEPT</th>\n",
       "    </tr>\n",
       "  </thead>\n",
       "  <tbody>\n",
       "    <tr>\n",
       "      <th>0</th>\n",
       "      <td>1</td>\n",
       "      <td>66</td>\n",
       "      <td>50</td>\n",
       "      <td>0</td>\n",
       "      <td>1</td>\n",
       "    </tr>\n",
       "    <tr>\n",
       "      <th>1</th>\n",
       "      <td>2</td>\n",
       "      <td>70</td>\n",
       "      <td>50</td>\n",
       "      <td>1</td>\n",
       "      <td>1</td>\n",
       "    </tr>\n",
       "    <tr>\n",
       "      <th>2</th>\n",
       "      <td>3</td>\n",
       "      <td>69</td>\n",
       "      <td>50</td>\n",
       "      <td>0</td>\n",
       "      <td>1</td>\n",
       "    </tr>\n",
       "    <tr>\n",
       "      <th>3</th>\n",
       "      <td>4</td>\n",
       "      <td>68</td>\n",
       "      <td>50</td>\n",
       "      <td>0</td>\n",
       "      <td>1</td>\n",
       "    </tr>\n",
       "    <tr>\n",
       "      <th>4</th>\n",
       "      <td>5</td>\n",
       "      <td>67</td>\n",
       "      <td>50</td>\n",
       "      <td>0</td>\n",
       "      <td>1</td>\n",
       "    </tr>\n",
       "  </tbody>\n",
       "</table>\n",
       "</div>"
      ],
      "text/plain": [
       "   FLIGHT  TEMPERATURE  PRESSURE  O_RING_FAILURE  INTERCEPT\n",
       "0       1           66        50               0          1\n",
       "1       2           70        50               1          1\n",
       "2       3           69        50               0          1\n",
       "3       4           68        50               0          1\n",
       "4       5           67        50               0          1"
      ]
     },
     "execution_count": 2,
     "metadata": {},
     "output_type": "execute_result"
    }
   ],
   "source": [
    "## Implementation of Fisher Scoring algorithm for simple logistic regression\n",
    "df = pd.read_csv('data/Challenger.csv')\n",
    "df['INTERCEPT'] = 1\n",
    "print(df.shape)\n",
    "df.head()"
   ]
  },
  {
   "cell_type": "code",
   "execution_count": 3,
   "metadata": {},
   "outputs": [],
   "source": [
    "## Setup X and y\n",
    "X = df[['INTERCEPT', 'TEMPERATURE']].values\n",
    "y = df['O_RING_FAILURE'].values"
   ]
  },
  {
   "cell_type": "code",
   "execution_count": 4,
   "metadata": {},
   "outputs": [],
   "source": [
    "def fisher_scoring(design_matrix, response_vector, epsilon=.001):\n",
    "    \"\"\"\n",
    "    Determine Logistic Regression coefficents using Fisher Scoring algorithm.\n",
    "    Iteration ceases once changes between elements in coefficent matrix across\n",
    "    consecutive iterations is less than epsilon.\n",
    "    # =========================================================================\n",
    "    # design_matrix      `X`     => n-by-(p+1)                                |\n",
    "    # response_vector    `y`     => n-by-1                                    |\n",
    "    # probability_vector `p`     => n-by-1                                    |\n",
    "    # weights_matrix     `W`     => n-by-n                                    |\n",
    "    # epsilon                    => threshold above which iteration continues |\n",
    "    # =========================================================================\n",
    "    # n                          => # of observations                         |\n",
    "    # (p + 1)                    => # of parameterss, +1 for intercept term   |\n",
    "    # =========================================================================\n",
    "    # U => First derivative of Log-Likelihood with respect to                 |\n",
    "    #      each beta_i, i.e. `Score Function`: X_transpose * (y - p)          |\n",
    "    #                                                                         |\n",
    "    # I => Second derivative of Log-Likelihood with respect to                |\n",
    "    #      each beta_i. The `Information Matrix`: (X_transpose * W * X)       |\n",
    "    #                                                                         |\n",
    "    # X^T*W*X results in a (p+1)-by-(p+1) matrix                              |\n",
    "    # X^T(y - p) results in a (p+1)-by-1 matrix                               |\n",
    "    # (X^T*W*X)^-1 * X^T(y - p) results in a (p+1)-by-1 matrix                |\n",
    "    # ========================================================================|\n",
    "    \"\"\"\n",
    "    X = np.matrix(design_matrix)\n",
    "    y = np.matrix(response_vector).T\n",
    "\n",
    "    # initialize logistic function used for Scoring calculations =>\n",
    "    def pi_i(v): return (np.exp(v) / (1 + np.exp(v)))\n",
    "\n",
    "    # initialize beta_0, p_0, W_0, I_0 & U_0 =>\n",
    "    beta_0 = np.matrix(np.zeros(X.shape[1])).T\n",
    "    p_0 = pi_i(X @ beta_0)\n",
    "    W_pre = (np.array(p_0) * np.array(1 - p_0))\n",
    "    W_0 = np.matrix(np.diag(W_pre[:, 0]))\n",
    "    I_0 = X.T @ W_0 @ X\n",
    "    U_0 = X.T @ (y - p_0)\n",
    "\n",
    "    # initialize variables for iteration =>\n",
    "    beta_old = beta_0\n",
    "    iter_I = I_0\n",
    "    iter_U = U_0\n",
    "    iter_p = p_0\n",
    "    iter_W = W_0\n",
    "    fisher_scoring_iterations = 0\n",
    "    \n",
    "    # iterate until abs(beta_new - beta_old) < epsilon =>\n",
    "    coeffs = [np.array(beta_old).flatten()]\n",
    "    while True:\n",
    "        # Fisher Scoring Update Step =>\n",
    "        fisher_scoring_iterations += 1\n",
    "        beta_new = beta_old + iter_I.I * iter_U\n",
    "        coeffs.append(np.array(beta_new).flatten())\n",
    "        \n",
    "        if np.all(np.abs(np.array(beta_new)-np.array(beta_old)) < epsilon):\n",
    "            break\n",
    "\n",
    "        else:\n",
    "            iter_p     = pi_i(X * beta_new)\n",
    "            iter_W_pre = (np.array(iter_p) * np.array(1 - iter_p))\n",
    "            iter_W     = np.matrix(np.diag(iter_W_pre[:, 0]))\n",
    "            iter_I     = X.T * iter_W * X\n",
    "            iter_U     = X.T * (y - iter_p)\n",
    "            beta_old   = beta_new\n",
    "\n",
    "    return coeffs"
   ]
  },
  {
   "cell_type": "code",
   "execution_count": 5,
   "metadata": {},
   "outputs": [],
   "source": [
    "betas = fisher_scoring(X, y)"
   ]
  },
  {
   "cell_type": "code",
   "execution_count": 6,
   "metadata": {},
   "outputs": [],
   "source": [
    "def log_likelihood(X, y, betas):\n",
    "    '''\n",
    "    Calculates log-likelihood for logistic regression\n",
    "    Input shapes:\n",
    "        X - n x (p + 1)\n",
    "        y - n x 1\n",
    "        betas - (p + 1) x 1\n",
    "    '''\n",
    "    return np.sum(y*np.log(np.exp(X @ betas)/(1+np.exp(X @ betas))) + (1 - y)*np.log(1/(1+np.exp(X @ betas))))"
   ]
  },
  {
   "cell_type": "code",
   "execution_count": 7,
   "metadata": {},
   "outputs": [],
   "source": [
    "def animate():\n",
    "    '''\n",
    "    Animates parameter estimate convergence\n",
    "    '''\n",
    "    b1s = [x[1] for x in betas]\n",
    "    xs = np.linspace(np.min(b1s)-.2, np.max(b1s), 100)\n",
    "    ys = [log_likelihood(X, y, [betas[-1][0], b]) for b in xs]\n",
    "    fig, ax = plt.subplots(figsize=(10, 6))\n",
    "    ax.plot(xs, ys)\n",
    "    for i, b in enumerate(b1s):\n",
    "        ax.scatter(b, log_likelihood(X, y, [betas[-1][0], b]), c='r')\n",
    "        ax.plot([b]*100, np.linspace(np.min(ys), log_likelihood(X, y, [betas[-1][0], b]), 100), 'r--')\n",
    "        ax.set_ylabel('Log-Likelihood', fontsize=15)\n",
    "        ax.set_xlabel('beta1', fontsize=15)\n",
    "        ax.set_title(f'Fisher Scoring Algorithm: Iteration {i+1}', fontsize=20)\n",
    "        display.clear_output(wait=True)\n",
    "        display.display(fig)\n",
    "        time.sleep(.4)\n",
    "    display.clear_output(wait=True)"
   ]
  },
  {
   "cell_type": "code",
   "execution_count": 8,
   "metadata": {},
   "outputs": [
    {
     "data": {
      "image/png": "[encoded data removed]",
      "text/plain": [
       "<Figure size 720x432 with 1 Axes>"
      ]
     },
     "metadata": {},
     "output_type": "display_data"
    }
   ],
   "source": [
    "animate()"
   ]
  },
  {
   "cell_type": "code",
   "execution_count": null,
   "metadata": {},
   "outputs": [],
   "source": []
  }
 ],
 "metadata": {
  "kernelspec": {
   "display_name": "Python 3",
   "language": "python",
   "name": "python3"
  },
  "language_info": {
   "codemirror_mode": {
    "name": "ipython",
    "version": 3
   },
   "file_extension": ".py",
   "mimetype": "text/x-python",
   "name": "python",
   "nbconvert_exporter": "python",
   "pygments_lexer": "ipython3",
   "version": "3.7.6"
  }
 },
 "nbformat": 4,
 "nbformat_minor": 2
}
