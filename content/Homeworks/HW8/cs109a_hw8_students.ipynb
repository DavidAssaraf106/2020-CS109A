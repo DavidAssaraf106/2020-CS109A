{
 "cells": [
  {
   "cell_type": "markdown",
   "metadata": {},
   "source": [
    "# <img style=\"float: left; padding-right: 10px; width: 45px\" src=\"https://raw.githubusercontent.com/Harvard-IACS/2018-CS109A/master/content/styles/iacs.png\"> CS109A Introduction to Data Science\n",
    "\n",
    "## Homework 8: Fairness and Bias\n",
    "\n",
    "\n",
    "**Harvard University**<br/>\n",
    "**Fall 2020**<br/>\n",
    "**Instructors**: Pavlos Protopapas, Kevin Rader and Chris Tanner\n",
    "\n",
    "<hr style=\"height:2pt\">"
   ]
  },
  {
   "cell_type": "code",
   "execution_count": 1,
   "metadata": {
    "scrolled": true
   },
   "outputs": [
    {
     "data": {
      "text/html": [
       "<style>\n",
       "blockquote { background: #AEDE94; }\n",
       "h1 { \n",
       "    padding-top: 25px;\n",
       "    padding-bottom: 25px;\n",
       "    text-align: left; \n",
       "    padding-left: 10px;\n",
       "    background-color: #DDDDDD; \n",
       "    color: black;\n",
       "}\n",
       "h2 { \n",
       "    padding-top: 10px;\n",
       "    padding-bottom: 10px;\n",
       "    text-align: left; \n",
       "    padding-left: 5px;\n",
       "    background-color: #EEEEEE; \n",
       "    color: black;\n",
       "}\n",
       "\n",
       "div.exercise {\n",
       "\tbackground-color: #ffcccc;\n",
       "\tborder-color: #E9967A; \t\n",
       "\tborder-left: 5px solid #800080; \n",
       "\tpadding: 0.5em;\n",
       "}\n",
       "\n",
       "div.exercise-r {\n",
       "\tbackground-color: #fce8e8;\n",
       "\tborder-color: #E9967A; \t\n",
       "\tborder-left: 5px solid #800080; \n",
       "\tpadding: 0.5em;\n",
       "}\n",
       "\n",
       "\n",
       "span.sub-q {\n",
       "\tfont-weight: bold;\n",
       "}\n",
       "div.theme {\n",
       "\tbackground-color: #DDDDDD;\n",
       "\tborder-color: #E9967A; \t\n",
       "\tborder-left: 5px solid #800080; \n",
       "\tpadding: 0.5em;\n",
       "\tfont-size: 18pt;\n",
       "}\n",
       "div.gc { \n",
       "\tbackground-color: #AEDE94;\n",
       "\tborder-color: #E9967A; \t \n",
       "\tborder-left: 5px solid #800080; \n",
       "\tpadding: 0.5em;\n",
       "\tfont-size: 12pt;\n",
       "}\n",
       "p.q1 { \n",
       "    padding-top: 5px;\n",
       "    padding-bottom: 5px;\n",
       "    text-align: left; \n",
       "    padding-left: 5px;\n",
       "    background-color: #EEEEEE; \n",
       "    color: black;\n",
       "}\n",
       "header {\n",
       "   padding-top: 35px;\n",
       "    padding-bottom: 35px;\n",
       "    text-align: left; \n",
       "    padding-left: 10px;\n",
       "    background-color: #DDDDDD; \n",
       "    color: black;\n",
       "}\n",
       "</style>\n",
       "\n"
      ],
      "text/plain": [
       "<IPython.core.display.HTML object>"
      ]
     },
     "execution_count": 1,
     "metadata": {},
     "output_type": "execute_result"
    }
   ],
   "source": [
    "#RUN THIS CELL \n",
    "import requests\n",
    "from IPython.core.display import HTML\n",
    "styles = requests.get(\n",
    "    \"https://raw.githubusercontent.com/Harvard-IACS/2018-CS109A/master/content/styles/cs109.css\"\n",
    ").text\n",
    "HTML(styles)"
   ]
  },
  {
   "cell_type": "code",
   "execution_count": 2,
   "metadata": {},
   "outputs": [],
   "source": [
    "import random\n",
    "random.seed(112358)\n",
    "\n",
    "import os\n",
    "import sys\n",
    "\n",
    "import matplotlib.pyplot as plt\n",
    "import numpy as np\n",
    "import pandas as pd\n",
    "import seaborn as sns\n",
    "\n",
    "from sklearn.model_selection import train_test_split\n",
    "from sklearn.linear_model import LogisticRegression\n",
    "from sklearn.metrics import roc_curve, roc_auc_score, accuracy_score\n",
    "\n",
    "%matplotlib inline"
   ]
  },
  {
   "cell_type": "markdown",
   "metadata": {},
   "source": [
    "<hr style=\"height:2pt\">\n",
    "\n",
    "### INSTRUCTIONS\n",
    "\n",
    "- To submit your assignment follow the instructions given in Canvas.\n",
    "\n",
    "- Please restart the kernel and run the entire notebook again before you submit.\n",
    "\n",
    "- Running cells out of order is a common pitfall in Jupyter Notebooks. To make sure your code works restart the kernel and run the whole notebook again before you submit. Exceptions should be made for code with an extremely long execution time, of course.\n",
    "- We have tried to include all the libraries you may need to do the assignment in the imports statement at the top of this notebook. We strongly suggest that you use those and not others as we may not be familiar with them.\n",
    "- Please use .head() when viewing data. Do not submit a notebook that is **excessively long**. \n",
    "- In questions that require code to answer, such as \"calculate the $R^2$\", do not just output the value from a cell. Write a `print()` function that includes a reference to the calculated value, **not hardcoded**. For example:\n",
    "```python\n",
    "print(f'The R^2 is {R:.4f}')\n",
    "```\n",
    "- Your plots should be clearly labeled, including clear labels for the $x$ and $y$ axes as well as a descriptive title (\"MSE plot\" is not a descriptive title; \"95% confidence interval of coefficients of polynomial degree 5\" is).\n",
    "\n",
    "<hr style=\"height:2pt\">"
   ]
  },
  {
   "cell_type": "markdown",
   "metadata": {},
   "source": [
    "## Overview and Data Description\n",
    "\n",
    "[Table of Contents](#Contents)\n",
    "\n",
    "In this assignment, we will be analyzing a portion of the data set that [ProPublica](https://www.propublica.org/article/machine-bias-risk-assessments-in-criminal-sentencing) used to report on the effectiveness of and issues surrounding the COMPAS algorithm (as was discussed in lecture 34).  The data are found in the file `compas.csv` and the 'data dictionary' can be found in the file `compas_datadict.csv`, which very briefly explains each variable in the data set.  Please use these files to answer the following questions:"
   ]
  },
  {
   "cell_type": "markdown",
   "metadata": {},
   "source": [
    "<a id=\"Contents\"></a>\n",
    "\n",
    "## Contents\n",
    "- [Question 1 [25 pts]: Data Exploration](#Q1) \n",
    "- [Question 2 [15 pts]: Baseline Modeling](#Q2) \n",
    "- [Question 3 [15 pts]: Predicting without Race](#Q3)\n",
    "- [Question 4 [30 pts]: ROC Curves](#Q4)\n",
    "- [Question 5 [15 pts]: Using Other Models](#Q5)"
   ]
  },
  {
   "cell_type": "markdown",
   "metadata": {},
   "source": [
    "<a id=\"Q1\"></a>\n",
    "\n",
    "### <div class='exercise'>Question 1 [25 pts]: Data Wrangling and Exploration</div>\n",
    "[▲ Return to contents](#Contents)\n"
   ]
  },
  {
   "cell_type": "markdown",
   "metadata": {},
   "source": [
    "**1.1** What is the statistical objective of the COMPAS algorithm?  How is recidivism prediction used in courtrooms?\n",
    "\n",
    "**1.2** Consider the information in the provided `compas_datadict.csv`.  Which variables are raw data?  Which are pre-processed data?  Which is the target variable of the COMPAS algorithm?  Which are output(s) of the COMPAS algorithm?   Which should not be used in building our own model to predict recidivism?  \n",
    "\n",
    "**1.3** Read-in the data and split into 80% training and 20% test **stratified by `race`** (use `random_state=109`). Before splitting you may want to process the categorical predictors (`['c_charge_degree','race','sex']`) first so you don't have to do it separately in train and test later.\n",
    "\n",
    "**1.4** Do a little EDA: provide visuals to explore which unprocessed variables (**not** the derived binary varibles, for example) are related to `race`. \n",
    "\n",
    "**1.5** Report which 3 variables appear to have the most significant differences between Caucasians and African Americans, and briefly explain with a sentence for each.  \n",
    "\n",
    "*Note: as illustrated by [ProPublica](https://www.propublica.org/article/machine-bias-risk-assessments-in-criminal-sentencing), reporting on the U.S. Criminal Justice system often concentrate on the disparate experiences between Caucasians and African Americans, thus we have focused our approaches similarly.\n",
    "\n",
    "**1.6** With respect to these 3 chosen variables, how could bias in the data or data collection be impacting or causing these differences?  Explain in at most 50 words.\n"
   ]
  },
  {
   "cell_type": "markdown",
   "metadata": {},
   "source": [
    "### Question 1: Solutions\n",
    "\n",
    "[▲ Return to contents](#Contents)\n"
   ]
  },
  {
   "cell_type": "markdown",
   "metadata": {},
   "source": [
    "**1.1** What is the statistical objective of the COMPAS algorithm?  How is recidivism prediction used in courtrooms?"
   ]
  },
  {
   "cell_type": "markdown",
   "metadata": {},
   "source": [
    "The statistical objective of the COMPAS algorithm is to predict the recidivism in court judgements. The recidivism prediction is used in courtooms the following way: \n",
    "- If someone is predicted with low chances of recidivism, his sentence will be low\n",
    "- Else, if you are atributed high chances of recidivism, you are likely to spend more time in jail"
   ]
  },
  {
   "cell_type": "markdown",
   "metadata": {},
   "source": [
    "**1.2** Consider the information in the provided `compas_datadict.csv`.  Which variables are raw data?  Which are pre-processed data?  Which is the target variable of the COMPAS algorithm?  Which are output(s) of the COMPAS algorithm?   Which should not be used in building our own model to predict recidivism?  \n",
    "\n"
   ]
  },
  {
   "cell_type": "code",
   "execution_count": 3,
   "metadata": {},
   "outputs": [
    {
     "data": {
      "text/html": [
       "<div>\n",
       "<style scoped>\n",
       "    .dataframe tbody tr th:only-of-type {\n",
       "        vertical-align: middle;\n",
       "    }\n",
       "\n",
       "    .dataframe tbody tr th {\n",
       "        vertical-align: top;\n",
       "    }\n",
       "\n",
       "    .dataframe thead th {\n",
       "        text-align: right;\n",
       "    }\n",
       "</style>\n",
       "<table border=\"1\" class=\"dataframe\">\n",
       "  <thead>\n",
       "    <tr style=\"text-align: right;\">\n",
       "      <th></th>\n",
       "      <th>Variable</th>\n",
       "      <th>Description</th>\n",
       "    </tr>\n",
       "  </thead>\n",
       "  <tbody>\n",
       "    <tr>\n",
       "      <th>0</th>\n",
       "      <td>NaN</td>\n",
       "      <td>NaN</td>\n",
       "    </tr>\n",
       "    <tr>\n",
       "      <th>1</th>\n",
       "      <td>Age</td>\n",
       "      <td>Defendant's age in years</td>\n",
       "    </tr>\n",
       "    <tr>\n",
       "      <th>2</th>\n",
       "      <td>c_charge_degree</td>\n",
       "      <td>The type of crime a defendant has been charged...</td>\n",
       "    </tr>\n",
       "    <tr>\n",
       "      <th>3</th>\n",
       "      <td>race</td>\n",
       "      <td>Defendant's race (categorical)</td>\n",
       "    </tr>\n",
       "    <tr>\n",
       "      <th>4</th>\n",
       "      <td>sex</td>\n",
       "      <td>Defendant biological sex (Male/Female)</td>\n",
       "    </tr>\n",
       "    <tr>\n",
       "      <th>5</th>\n",
       "      <td>length_of_stay</td>\n",
       "      <td>How long between when a defendant was charged ...</td>\n",
       "    </tr>\n",
       "    <tr>\n",
       "      <th>6</th>\n",
       "      <td>length_of_stay_thresh</td>\n",
       "      <td>Thresholded version of length_of_stay variable...</td>\n",
       "    </tr>\n",
       "    <tr>\n",
       "      <th>7</th>\n",
       "      <td>priors_count</td>\n",
       "      <td>Count for number of prior times a defendant ha...</td>\n",
       "    </tr>\n",
       "    <tr>\n",
       "      <th>8</th>\n",
       "      <td>priors_1</td>\n",
       "      <td>Indicator variable derived from priors_count, ...</td>\n",
       "    </tr>\n",
       "    <tr>\n",
       "      <th>9</th>\n",
       "      <td>priors_234</td>\n",
       "      <td>Indicator variable derived from priors_count, ...</td>\n",
       "    </tr>\n",
       "    <tr>\n",
       "      <th>10</th>\n",
       "      <td>priors_5plus</td>\n",
       "      <td>Indicator variable derived from priors_count, ...</td>\n",
       "    </tr>\n",
       "    <tr>\n",
       "      <th>11</th>\n",
       "      <td>juv_fel_count</td>\n",
       "      <td>Count for number of times a defendant was char...</td>\n",
       "    </tr>\n",
       "    <tr>\n",
       "      <th>12</th>\n",
       "      <td>juv_misd_count</td>\n",
       "      <td>Count for number of times a defendant was char...</td>\n",
       "    </tr>\n",
       "    <tr>\n",
       "      <th>13</th>\n",
       "      <td>juv_other_count</td>\n",
       "      <td>Count for number of times a defendant was char...</td>\n",
       "    </tr>\n",
       "    <tr>\n",
       "      <th>14</th>\n",
       "      <td>juv_fel_1plus</td>\n",
       "      <td>Indicator variable derived from juv_fel_count,...</td>\n",
       "    </tr>\n",
       "    <tr>\n",
       "      <th>15</th>\n",
       "      <td>juv_misd_1plus</td>\n",
       "      <td>Indicator variable derived from juv_misd_count...</td>\n",
       "    </tr>\n",
       "    <tr>\n",
       "      <th>16</th>\n",
       "      <td>juv_other_1plus</td>\n",
       "      <td>Indicator variable derived from juv_other_coun...</td>\n",
       "    </tr>\n",
       "    <tr>\n",
       "      <th>17</th>\n",
       "      <td>charge_any_drug</td>\n",
       "      <td>Indicator variable derived from c_charge_desc,...</td>\n",
       "    </tr>\n",
       "    <tr>\n",
       "      <th>18</th>\n",
       "      <td>charge_any_violence_aggression</td>\n",
       "      <td>Indicator variable derived from c_charge_desc,...</td>\n",
       "    </tr>\n",
       "    <tr>\n",
       "      <th>19</th>\n",
       "      <td>charge_any_theft</td>\n",
       "      <td>Indicator variable derived from c_charge_desc,...</td>\n",
       "    </tr>\n",
       "    <tr>\n",
       "      <th>20</th>\n",
       "      <td>NaN</td>\n",
       "      <td>NaN</td>\n",
       "    </tr>\n",
       "    <tr>\n",
       "      <th>21</th>\n",
       "      <td>c_charge_desc</td>\n",
       "      <td>Specific text field with type of charge. A few...</td>\n",
       "    </tr>\n",
       "    <tr>\n",
       "      <th>22</th>\n",
       "      <td>score_text</td>\n",
       "      <td>Low/Medium/High score category from COMPAS.  D...</td>\n",
       "    </tr>\n",
       "    <tr>\n",
       "      <th>23</th>\n",
       "      <td>decile_score</td>\n",
       "      <td>1-10 COMPAS score based on decile.  Do NOT use...</td>\n",
       "    </tr>\n",
       "    <tr>\n",
       "      <th>24</th>\n",
       "      <td>NaN</td>\n",
       "      <td>NaN</td>\n",
       "    </tr>\n",
       "    <tr>\n",
       "      <th>25</th>\n",
       "      <td>two_year_recid</td>\n",
       "      <td>OUTCOME VARIABLE: whether or not defendant rec...</td>\n",
       "    </tr>\n",
       "  </tbody>\n",
       "</table>\n",
       "</div>"
      ],
      "text/plain": [
       "                          Variable                                        Description\n",
       "0                              NaN                                                NaN\n",
       "1                              Age                           Defendant's age in years\n",
       "2                  c_charge_degree  The type of crime a defendant has been charged...\n",
       "3                             race                     Defendant's race (categorical)\n",
       "4                              sex             Defendant biological sex (Male/Female)\n",
       "5                   length_of_stay  How long between when a defendant was charged ...\n",
       "6            length_of_stay_thresh  Thresholded version of length_of_stay variable...\n",
       "7                     priors_count  Count for number of prior times a defendant ha...\n",
       "8                        priors_1   Indicator variable derived from priors_count, ...\n",
       "9                       priors_234  Indicator variable derived from priors_count, ...\n",
       "10                    priors_5plus  Indicator variable derived from priors_count, ...\n",
       "11                   juv_fel_count  Count for number of times a defendant was char...\n",
       "12                  juv_misd_count  Count for number of times a defendant was char...\n",
       "13                 juv_other_count  Count for number of times a defendant was char...\n",
       "14                   juv_fel_1plus  Indicator variable derived from juv_fel_count,...\n",
       "15                  juv_misd_1plus  Indicator variable derived from juv_misd_count...\n",
       "16                 juv_other_1plus  Indicator variable derived from juv_other_coun...\n",
       "17                 charge_any_drug  Indicator variable derived from c_charge_desc,...\n",
       "18  charge_any_violence_aggression  Indicator variable derived from c_charge_desc,...\n",
       "19                charge_any_theft  Indicator variable derived from c_charge_desc,...\n",
       "20                             NaN                                                NaN\n",
       "21                   c_charge_desc  Specific text field with type of charge. A few...\n",
       "22                      score_text  Low/Medium/High score category from COMPAS.  D...\n",
       "23                    decile_score  1-10 COMPAS score based on decile.  Do NOT use...\n",
       "24                             NaN                                                NaN\n",
       "25                  two_year_recid  OUTCOME VARIABLE: whether or not defendant rec..."
      ]
     },
     "execution_count": 3,
     "metadata": {},
     "output_type": "execute_result"
    }
   ],
   "source": [
    "data_attributes = pd.read_csv('data/compas_datadict.csv')\n",
    "data = pd.read_csv('data/compas.csv')\n",
    "pd.set_option('display.width', 100)\n",
    "data_attributes"
   ]
  },
  {
   "cell_type": "markdown",
   "metadata": {},
   "source": [
    "- Raw data: Age, c_charge_degree, race, sex, length_of_stay, priors_count, juv_fel_count, juv_misd_count, juv_other_count, c_charge_desc\n",
    "- Preprocessed data: length_of_stay_thresh, priors_1, priors_234, priors_5plus, juv_fel_1plus, juv_misd_1plus, juv_other_1plus, charge_any_drug, charge_any_violence_aggression, charge_any_theft, score_text, decile_score, two_year_recid\n",
    "- Target variable of the COMPAS algorithm: two_year_recid\n",
    "- Output variable of the COMPAS: score_text, decile_score\n",
    "\n",
    "The variable that should not be used in our own model to predict recidivism: race."
   ]
  },
  {
   "cell_type": "markdown",
   "metadata": {},
   "source": [
    "**1.3** Read-in the data and split into 80% training and 20% test **stratified by `race`** (use `random_state=109`). Before splitting you may want to process the categorical predictors (`['c_charge_desc','race','sex']`) first so you don't have to do it separately in train and test later."
   ]
  },
  {
   "cell_type": "code",
   "execution_count": 4,
   "metadata": {},
   "outputs": [],
   "source": [
    "# your code here\n",
    "data['Sex'] = 1*(data['sex']=='Male')\n",
    "data.drop('sex', axis=1, inplace=True)\n",
    "data['c_charge_deg_cat'] = 1*(data['c_charge_degree']=='F')\n",
    "data.drop('c_charge_degree', axis=1, inplace=True)\n",
    "dummies = pd.get_dummies(data['race'])\n",
    "dummies.columns = [column + ' race' for column in dummies.columns]\n",
    "data = data.join(dummies)\n",
    "X_train, X_test, y_train, y_test = train_test_split(data.drop('two_year_recid', axis=1), data['two_year_recid'], train_size = 0.8, random_state=109, stratify=data['race'])"
   ]
  },
  {
   "cell_type": "markdown",
   "metadata": {},
   "source": [
    "**1.4** Do a little EDA: provide visuals to explore which unprocessed variables (**not** the derived binary varibles, for example) are related to `race`. "
   ]
  },
  {
   "cell_type": "code",
   "execution_count": 5,
   "metadata": {},
   "outputs": [
    {
     "data": {
      "image/png": "[encoded data removed]",
      "text/plain": [
       "<Figure size 2880x2880 with 36 Axes>"
      ]
     },
     "metadata": {
      "needs_background": "light"
     },
     "output_type": "display_data"
    }
   ],
   "source": [
    "# your code here\n",
    "features = ['age', 'length_of_stay', 'priors_count', 'juv_fel_count', 'juv_misd_count', 'juv_other_count']\n",
    "mask_africana = (data['African-American race']==1)\n",
    "mask_asian = (data['Asian race']==1)\n",
    "mask_caucasian = (data['Caucasian race']==1)\n",
    "mask_hispanic = (data['Hispanic race']==1)\n",
    "mask_nativea = (data['Native American race']==1)\n",
    "mask_other = (data['Other race']==1)\n",
    "\n",
    "data_africana = data[mask_africana]\n",
    "data_asian = data[mask_asian]\n",
    "data_caucasian = data[mask_caucasian]\n",
    "data_hispanic = data[mask_hispanic]\n",
    "data_nativea = data[mask_nativea]\n",
    "data_other = data[mask_other]\n",
    "\n",
    "fig, ax = plt.subplots(nrows = 6, ncols = 6, figsize = (40,40))\n",
    "for idx, feature in enumerate(features):\n",
    "    ax[0,idx].hist(data_africana[feature],edgecolor='black', color = 'lightcoral')\n",
    "    ax[1,idx].hist(data_caucasian[feature],edgecolor='black', color = 'slateblue')\n",
    "    ax[2,idx].hist(data_asian[feature],edgecolor='black', color = 'mediumseagreen')\n",
    "    ax[3,idx].hist(data_hispanic[feature],edgecolor='black', color = 'maroon')\n",
    "    ax[4,idx].hist(data_nativea[feature],edgecolor='black', color = 'plum')\n",
    "    ax[5,idx].hist(data_other[feature],edgecolor='black', color = 'teal')\n",
    "    ax[0,idx].set_xlabel(r'feature: ' + str(feature), fontsize = 12)\n",
    "    ax[1,idx].set_xlabel(r'feature: ' + str(feature), fontsize = 12)\n",
    "    ax[2,idx].set_xlabel(r'feature: ' + str(feature), fontsize = 12)\n",
    "    ax[3,idx].set_xlabel(r'feature: ' + str(feature), fontsize = 12)\n",
    "    ax[4,idx].set_xlabel(r'feature: ' + str(feature), fontsize = 12)\n",
    "    ax[5,idx].set_xlabel(r'feature: ' + str(feature), fontsize = 12)\n",
    "    ax[0,idx].set_title(r'African-American, feature:' + str(feature), fontsize = 18)\n",
    "    ax[1,idx].set_title(r'Caucasian, feature:' + str(feature), fontsize = 18)\n",
    "    ax[2,idx].set_title(r'Asian, feature:' + str(feature), fontsize = 18)\n",
    "    ax[3,idx].set_title(r'Hispanic, feature:' + str(feature), fontsize = 18)\n",
    "    ax[4,idx].set_title(r'Native American, feature:' + str(feature), fontsize = 18)\n",
    "    ax[5,idx].set_title(r'Other, feature:' + str(feature), fontsize = 18)\n"
   ]
  },
  {
   "cell_type": "code",
   "execution_count": 6,
   "metadata": {},
   "outputs": [
    {
     "data": {
      "image/png": "[encoded data removed]",
      "text/plain": [
       "<Figure size 2880x1800 with 6 Axes>"
      ]
     },
     "metadata": {
      "needs_background": "light"
     },
     "output_type": "display_data"
    }
   ],
   "source": [
    "# your code here\n",
    "features = ['age', 'length_of_stay', 'priors_count', 'juv_fel_count', 'juv_misd_count', 'juv_other_count']\n",
    "mask_africana = (data['African-American race']==1)\n",
    "mask_caucasian = (data['Caucasian race']==1)\n",
    "#bins = np.linspace(0, 100, 10)\n",
    "bins = [np.linspace(15, 80, 12),np.linspace(0, 500, 12),np.linspace(0, 40, 12),np.linspace(0, 10, 12),np.linspace(0, 10, 12),np.linspace(0, 7, 12)]\n",
    "\n",
    "data_africana = data[mask_africana]\n",
    "data_caucasian = data[mask_caucasian]\n",
    "\n",
    "fig, ax = plt.subplots(nrows = 2, ncols = 3, figsize = (40,25))\n",
    "ax = ax.ravel()\n",
    "for idx, feature in enumerate(features):\n",
    "    ax[idx].hist(data_africana[feature], bins[idx], color = 'lightcoral', alpha = 0.5, density = True, edgecolor='k', label = 'African-American')\n",
    "    ax[idx].hist(data_caucasian[feature], bins[idx], color = 'slateblue', alpha = 0.5, density = True, edgecolor='k', label = 'Caucasian')\n",
    "    ax[idx].set_xlabel(r'feature: ' + str(feature), fontsize = 16)\n",
    "    ax[idx].set_title(r'African American & Caucasian Races, Feature: ' + str(feature), fontsize = 22)\n",
    "    ax[idx].legend(loc='best', prop={'size': 18})\n"
   ]
  },
  {
   "cell_type": "markdown",
   "metadata": {},
   "source": [
    "**1.5** Report which 3 variables appear to have the most significant differences between Caucasians and African Americans, and briefly explain with a sentence for each.  \n",
    "\n",
    "*Note: as illustrated by [ProPublica](https://www.propublica.org/article/machine-bias-risk-assessments-in-criminal-sentencing), reporting on the U.S. Criminal Justice system often concentrate on the disparate experiences between Caucasians and African Americans, thus we have focused our approaches similarly.\n",
    "\n"
   ]
  },
  {
   "cell_type": "markdown",
   "metadata": {},
   "source": [
    "From the figure above, we observe the following three variables that appear to have the most significant differences between Caucasian and African American defendents:\n",
    "- **Age** - It appears that the African-American defendents are in general significantly younger than the Caucasian defendents, i.e. the distribution for Caucasian defendents is more spread out, where the distribution for African-American defedents has larger peak value for younger defendents.\n",
    "- **priors_count** - Both distributions are right skewed, but the distribution for African-American defendents is more spread out, where the distribution for Caucasian defendents has higher peak value at zero (0 prior arrests).\n",
    "- **juv_misd_count** - It appears as for the Caucasian defendents the overwhelming majority has zero juvenile misdemeanor charges, while we see an observably larger number of African-American defendents with one juvenile misdemeanor charge."
   ]
  },
  {
   "cell_type": "markdown",
   "metadata": {},
   "source": [
    "**1.6** With respect to these 3 chosen variables, how could bias in the data or data collection be impacting or causing these differences?  Explain in at most 50 words.\n"
   ]
  },
  {
   "cell_type": "markdown",
   "metadata": {},
   "source": [
    "The bias in the data/data collection and its impacts can be explained by the Kansas city experiment discussed in lecture. I.e. the reason that the number of African-American defendents with one or more **prior_count** and **juv_misd_count** is significantly larger in comparison to the Caucasian defendents is that the police patrols are more likely to conduct patrols and consequently arrests in areas with predominantly African-American population. Thus the data tells us a sotry about unjust policing practices and injustice within judicial policy."
   ]
  },
  {
   "cell_type": "markdown",
   "metadata": {},
   "source": [
    "---"
   ]
  },
  {
   "cell_type": "markdown",
   "metadata": {},
   "source": [
    "<a id=\"Q2\"></a>\n",
    "\n",
    "### <div class='exercise'>Question 2 [15 pts]: Baseline Modeling</div>\n",
    "[▲ Return to contents](#Contents)\n"
   ]
  },
  {
   "cell_type": "markdown",
   "metadata": {},
   "source": [
    "**2.1**  Build a logistic regression model to predict recidivism (`two_year_recid`) from the relevant predictors (including `race`).  Interpret what this model is saying about the relationship of `two_year_recid` to `race`.\n",
    "\n",
    "\n",
    "**2.2**  Report the following on the **test set**:\n",
    "1. Overall model accuracy as a percentage\n",
    "2. **False Positive Rate(FPR)** as a percentage for the groups (*note a positive here is `two_year_recid==1`)\n",
    "    - `African-American`\n",
    "    - `Cacausian`\n",
    "3. **False Negative Rate(FNR)** as a percentage for the groups:\n",
    "    - `African-American`\n",
    "    - `Caucasian`\n",
    "4. Ratios of Error Rates:\n",
    "    - Ratio of the FPR between `African-American` and `Caucasian` groups\n",
    "    - Ratio of the FNR between `African-American` and `Caucasian` groups\n",
    "\n",
    "i.e $\\frac{FPR(AA)}{FPR(CC)}$ and $\\frac{FNR(AA)}{FNR(CC)}$\n",
    "\n",
    "**2.3**  What do you observe? Is there any disparity in the $FPR$ and $FNR$ for the two groups?\n",
    "Explain your findings in 3-6 sentences.\n",
    "    \n",
    "  "
   ]
  },
  {
   "cell_type": "markdown",
   "metadata": {},
   "source": [
    "### Question 2: Solutions\n",
    "\n",
    "[▲ Return to contents](#Contents)\n"
   ]
  },
  {
   "cell_type": "markdown",
   "metadata": {},
   "source": [
    "**2.1**  Build a logistic regression model to predict recidivism (`two_year_recid`) from the relevant predictors (including `race`).  Interpret what this model is saying about the relationship of `two_year_recid` to `race`.   \n",
    "  "
   ]
  },
  {
   "cell_type": "code",
   "execution_count": 7,
   "metadata": {},
   "outputs": [],
   "source": [
    "to_drop = ['race', 'c_charge_desc', 'score_text']\n",
    "X_train.drop(to_drop, axis=1, inplace=True)\n",
    "X_test.drop(to_drop, axis=1, inplace=True)"
   ]
  },
  {
   "cell_type": "code",
   "execution_count": 8,
   "metadata": {},
   "outputs": [
    {
     "name": "stdout",
     "output_type": "stream",
     "text": [
      "African-American race : 0.1541336096129373\n",
      "Asian race : -0.2636299367666399\n",
      "Caucasian race : 0.1650229778504439\n",
      "Hispanic race : 0.01718226479193281\n",
      "Native American race : -0.7200722398413646\n",
      "Other race : 0.08488100843793536\n"
     ]
    }
   ],
   "source": [
    "# your code here\n",
    "model = LogisticRegression(max_iter = 2000).fit(X_train, y_train)\n",
    "dict_interesting_scores = {column: model.coef_[0][i] for i, column in enumerate(X_train.columns) if 'race' in column}\n",
    "for race in dict_interesting_scores:\n",
    "    print(race + ' : ' + str(dict_interesting_scores.get(race)))\n"
   ]
  },
  {
   "cell_type": "markdown",
   "metadata": {},
   "source": [
    "This Logistic Regression explicitely states that: \n",
    "- Being an African American, a Causasian, a Hispanic or from another race contributes to leading to the conclusion that the individual is likely to perform recidivism within 2 years\n",
    "- Being an Asian or a Native American diminishes the likelihood of committing recidivism"
   ]
  },
  {
   "cell_type": "markdown",
   "metadata": {},
   "source": [
    "**2.2**  Report the following on the **test set**:\n",
    "1. Overall model accuracy as a percentage\n",
    "2. **False Positive Rate(FPR)** as a percentage for the groups (*note a positive here is `two_year_recid==1`)\n",
    "    - `African-American`\n",
    "    - `Cacausian`\n",
    "3. **False Negative Rate(FNR)** as a percentage for the groups:\n",
    "    - `African-American`\n",
    "    - `Caucasian`\n",
    "4. Ratios of Error Rates:\n",
    "    - Ratio of the FPR between `African-American` and `Caucasian` groups\n",
    "    - Ratio of the FNR between `African-American` and `Caucasian` groups\n",
    "\n",
    "i.e $\\frac{FPR(AA)}{FPR(CC)}$ and $\\frac{FNR(AA)}{FNR(CC)}$\n",
    "\n"
   ]
  },
  {
   "cell_type": "code",
   "execution_count": 9,
   "metadata": {},
   "outputs": [
    {
     "name": "stdout",
     "output_type": "stream",
     "text": [
      "The overall model accuracy between classes on the test set is 0.6834\n"
     ]
    }
   ],
   "source": [
    "# your code here\n",
    "test_score = model.score(X_test, y_test)\n",
    "print('The overall model accuracy between classes on the test set is {:.4f}'.format(test_score))"
   ]
  },
  {
   "cell_type": "markdown",
   "metadata": {},
   "source": [
    "#### False positives"
   ]
  },
  {
   "cell_type": "code",
   "execution_count": 10,
   "metadata": {},
   "outputs": [],
   "source": [
    "def get_fpr(group, X_test, model, y_test):\n",
    "    X_test_here = X_test.reset_index(drop=True)\n",
    "    mask = (X_test_here[group[0]]==1)\n",
    "    X_test_here = X_test_here[mask]\n",
    "    predictions = model.predict(X_test_here)\n",
    "    y_test_here = y_test[mask]\n",
    "    fp = 0\n",
    "    for i, prediction in enumerate(predictions):\n",
    "        if prediction == 1 and y_test_here[i] == 0:\n",
    "            fp += 1\n",
    "    return fp/len(y_test)"
   ]
  },
  {
   "cell_type": "markdown",
   "metadata": {},
   "source": [
    "For the group African-American"
   ]
  },
  {
   "cell_type": "code",
   "execution_count": 11,
   "metadata": {},
   "outputs": [
    {
     "name": "stdout",
     "output_type": "stream",
     "text": [
      "The false positive rates for the  ['African-American race'] group is 0.0834\n"
     ]
    }
   ],
   "source": [
    "column_selected = [column for column in X_test.columns if 'African' in column]\n",
    "fpr_aa = get_fpr(column_selected, X_test, model, y_test.values)\n",
    "print('The false positive rates for the ', column_selected, 'group is {:.4f}'.format(fpr_aa))"
   ]
  },
  {
   "cell_type": "markdown",
   "metadata": {},
   "source": [
    "For the group Caucasian"
   ]
  },
  {
   "cell_type": "code",
   "execution_count": 12,
   "metadata": {},
   "outputs": [
    {
     "name": "stdout",
     "output_type": "stream",
     "text": [
      "The false positive rates for the  ['Caucasian race'] group is 0.0356\n"
     ]
    }
   ],
   "source": [
    "column_selected = [column for column in X_test.columns if 'Caucasian' in column]\n",
    "fpr_c = get_fpr(column_selected, X_test, model, y_test.values)\n",
    "print('The false positive rates for the ', column_selected, 'group is {:.4f}'.format(fpr_c))"
   ]
  },
  {
   "cell_type": "markdown",
   "metadata": {},
   "source": [
    "#### False negatives"
   ]
  },
  {
   "cell_type": "code",
   "execution_count": 13,
   "metadata": {},
   "outputs": [],
   "source": [
    "def get_fnr(group, X_test, model, y_test):\n",
    "    X_test_here = X_test.reset_index(drop=True)\n",
    "    mask = (X_test_here[group[0]]==1)\n",
    "    X_test_here = X_test_here[mask]\n",
    "    predictions = model.predict(X_test_here)\n",
    "    y_test_here = y_test[mask]\n",
    "    fn = 0\n",
    "    for i, prediction in enumerate(predictions):\n",
    "        if prediction == 0 and y_test_here[i] == 1:\n",
    "            fn += 1\n",
    "    return fn/len(y_test)"
   ]
  },
  {
   "cell_type": "markdown",
   "metadata": {},
   "source": [
    "For the group African-American"
   ]
  },
  {
   "cell_type": "code",
   "execution_count": 14,
   "metadata": {},
   "outputs": [
    {
     "name": "stdout",
     "output_type": "stream",
     "text": [
      "The false positive rates for the  ['African-American race'] group is 0.0826\n"
     ]
    }
   ],
   "source": [
    "column_selected = [column for column in X_test.columns if 'African' in column]\n",
    "fnr_aa = get_fnr(column_selected, X_test, model, y_test.values)\n",
    "print('The false positive rates for the ', column_selected, 'group is {:.4f}'.format(fnr_aa))"
   ]
  },
  {
   "cell_type": "markdown",
   "metadata": {},
   "source": [
    "For the group Caucasian"
   ]
  },
  {
   "cell_type": "code",
   "execution_count": 15,
   "metadata": {},
   "outputs": [
    {
     "name": "stdout",
     "output_type": "stream",
     "text": [
      "The false positive rates for the  ['Caucasian race'] group is 0.0623\n"
     ]
    }
   ],
   "source": [
    "column_selected = [column for column in X_test.columns if 'Caucasian' in column]\n",
    "fnr_c = get_fnr(column_selected, X_test, model, y_test.values)\n",
    "print('The false positive rates for the ', column_selected, 'group is {:.4f}'.format(fnr_c))"
   ]
  },
  {
   "cell_type": "markdown",
   "metadata": {},
   "source": [
    "#### Ratios of Error Rates"
   ]
  },
  {
   "cell_type": "code",
   "execution_count": 16,
   "metadata": {},
   "outputs": [
    {
     "name": "stdout",
     "output_type": "stream",
     "text": [
      "The ratio of false positives is 2.3409\n",
      "The ratio of false negatives is 1.3247\n"
     ]
    }
   ],
   "source": [
    "fpr_ratio = fpr_aa/fpr_c\n",
    "print('The ratio of false positives is {:.4f}'.format(fpr_ratio))\n",
    "fnr_ratio = fnr_aa/fnr_c\n",
    "print('The ratio of false negatives is {:.4f}'.format(fnr_ratio))"
   ]
  },
  {
   "cell_type": "markdown",
   "metadata": {},
   "source": [
    "**2.3**  What do you observe? Is there any disparity in the $FPR$ and $FNR$ for the two groups?\n",
    "Explain your findings in 3-6 sentences.\n",
    " "
   ]
  },
  {
   "cell_type": "markdown",
   "metadata": {},
   "source": [
    "Two observations come from the previous work we have just done:\n",
    "- The false negative rates are comparable, meaning that for both groups, the model performs False predictions whereas it should be true almost as much for Causasian than African Americans. On that point, neither group is favoured by the algorithm. \n",
    "- However, the false positive rates are not at all comparable. This means that there are a lot of African American people that are classified as recidivists where as they should not be. This is where the bias lias in this algorithm: one subgroup is favored whereas another is punished and is more often predicted as recidivist."
   ]
  },
  {
   "cell_type": "markdown",
   "metadata": {},
   "source": [
    "---"
   ]
  },
  {
   "cell_type": "markdown",
   "metadata": {},
   "source": [
    "<a id=\"Q3\"></a>\n",
    "\n",
    "### <div class='exercise'>Question 3 [15 pts]: Predicting Recidivism without using `race`</div>\n",
    "[▲ Return to contents](#Contents)\n"
   ]
  },
  {
   "cell_type": "markdown",
   "metadata": {},
   "source": [
    "**3.1** Refit the logistic model in 2.1 but this time **without** `race` as a predictor. \n",
    "\n",
    "**3.2** Again, report the following on the **test set**:\n",
    "1. Overall model accuracy as a percentage\n",
    "2. **False Positive Rate(FPR)** as a percentage for the groups (*note a positive here is `two_year_recid==1`)\n",
    "    - `African-American`\n",
    "    - `Cacausian`\n",
    "3. **False Negative Rate(FNR)** as a percentage for the groups:\n",
    "    - `African-American`\n",
    "    - `Caucasian`\n",
    "4. Ratios of Error Rates:\n",
    "    - Ratio of the FPR between `African-American` and `Caucasian` groups\n",
    "    - Ratio of the FNR between `African-American` and `Caucasian` groups\n",
    "\n",
    "**3.3**  How do these metrics compare to the model when the variable `race` **is** included as a predictor?\n",
    "\n",
    "**3.4**  Given your exploration and modeling of the data, should a predictive tool be trusted to be unbiased even if it doesn’t explicitly use a variable such as race to predict future crime?  Why or why not?  Why is the bias still occurring or not occurring?  Explain using at most 150 words.\n",
    " "
   ]
  },
  {
   "cell_type": "markdown",
   "metadata": {},
   "source": [
    "### Question 3: Solutions\n",
    "\n",
    "[▲ Return to contents](#Contents)\n"
   ]
  },
  {
   "cell_type": "markdown",
   "metadata": {},
   "source": [
    "**3.1** Refit the logistic model in 2.1 but this time **without** `race` as a predictor. "
   ]
  },
  {
   "cell_type": "code",
   "execution_count": 17,
   "metadata": {},
   "outputs": [],
   "source": [
    "to_drop_race = [column for column in X_train.columns if 'race' in column]\n",
    "X_train_unbias = X_train.drop(to_drop_race, axis=1)\n",
    "X_test_unbias = X_test.drop(to_drop_race, axis=1)"
   ]
  },
  {
   "cell_type": "code",
   "execution_count": 18,
   "metadata": {},
   "outputs": [],
   "source": [
    "# your code here\n",
    "model = LogisticRegression(max_iter = 2000).fit(X_train_unbias, y_train)"
   ]
  },
  {
   "cell_type": "markdown",
   "metadata": {},
   "source": [
    "**3.2** Again, report the following on the **test set**:\n",
    "1. Overall model accuracy as a percentage\n",
    "2. **False Positive Rate(FPR)** as a percentage for the groups (*note a positive here is `two_year_recid==1`)\n",
    "    - `African-American`\n",
    "    - `Cacausian`\n",
    "3. **False Negative Rate(FNR)** as a percentage for the groups:\n",
    "    - `African-American`\n",
    "    - `Caucasian`\n",
    "4. Ratios of Error Rates:\n",
    "    - Ratio of the FPR between `African-American` and `Caucasian` groups\n",
    "    - Ratio of the FNR between `African-American` and `Caucasian` groups\n",
    "\n"
   ]
  },
  {
   "cell_type": "code",
   "execution_count": 19,
   "metadata": {},
   "outputs": [
    {
     "name": "stdout",
     "output_type": "stream",
     "text": [
      "The overall model accuracy between classes on the test set is 0.6834\n"
     ]
    }
   ],
   "source": [
    "test_score = model.score(X_test_unbias, y_test)\n",
    "print('The overall model accuracy between classes on the test set is {:.4f}'.format(test_score))\n"
   ]
  },
  {
   "cell_type": "markdown",
   "metadata": {},
   "source": [
    "#### False positives"
   ]
  },
  {
   "cell_type": "code",
   "execution_count": 20,
   "metadata": {},
   "outputs": [],
   "source": [
    "def get_unbiased_fpr(group, X_test, model, y_test, to_drop):\n",
    "    X_test_here = X_test.reset_index(drop=True)\n",
    "    mask = (X_test_here[group[0]]==1)\n",
    "    X_test_here = X_test_here[mask]\n",
    "    X_test_here = X_test_here.drop(to_drop, axis=1)\n",
    "    predictions = model.predict(X_test_here)\n",
    "    y_test_here = y_test[mask]\n",
    "    fp = 0\n",
    "    for i, prediction in enumerate(predictions):\n",
    "        if prediction == 1 and y_test_here[i] == 0:\n",
    "            fp += 1\n",
    "    return fp/len(y_test)"
   ]
  },
  {
   "cell_type": "markdown",
   "metadata": {},
   "source": [
    "For African American"
   ]
  },
  {
   "cell_type": "code",
   "execution_count": 21,
   "metadata": {},
   "outputs": [
    {
     "name": "stdout",
     "output_type": "stream",
     "text": [
      "The false positive rates for the  ['African-American race'] group is 0.0826\n"
     ]
    }
   ],
   "source": [
    "# your code here\n",
    "column_selected = [column for column in X_test.columns if 'African' in column]\n",
    "fpr_aa = get_unbiased_fpr(column_selected, X_test, model, y_test.values, to_drop_race)\n",
    "print('The false positive rates for the ', column_selected, 'group is {:.4f}'.format(fpr_aa))"
   ]
  },
  {
   "cell_type": "markdown",
   "metadata": {},
   "source": [
    "For Caucasian"
   ]
  },
  {
   "cell_type": "code",
   "execution_count": 22,
   "metadata": {},
   "outputs": [
    {
     "name": "stdout",
     "output_type": "stream",
     "text": [
      "The false positive rates for the  ['Caucasian race'] group is 0.0348\n"
     ]
    }
   ],
   "source": [
    "# your code here\n",
    "column_selected = [column for column in X_test.columns if 'Caucasian' in column]\n",
    "fpr_c = get_unbiased_fpr(column_selected, X_test, model, y_test.values, to_drop_race)\n",
    "print('The false positive rates for the ', column_selected, 'group is {:.4f}'.format(fpr_c))"
   ]
  },
  {
   "cell_type": "markdown",
   "metadata": {},
   "source": [
    "#### False negatives"
   ]
  },
  {
   "cell_type": "code",
   "execution_count": 23,
   "metadata": {},
   "outputs": [],
   "source": [
    "def get_unbiased_fnr(group, X_test, model, y_test, to_drop):\n",
    "    X_test_here = X_test.reset_index(drop=True)\n",
    "    mask = (X_test_here[group[0]]==1)\n",
    "    X_test_here = X_test_here[mask]\n",
    "    X_test_here = X_test_here.drop(to_drop, axis=1)\n",
    "    predictions = model.predict(X_test_here)\n",
    "    y_test_here = y_test[mask]\n",
    "    fn = 0\n",
    "    for i, prediction in enumerate(predictions):\n",
    "        if prediction == 0 and y_test_here[i] == 1:\n",
    "            fn += 1\n",
    "    return fn/len(y_test)"
   ]
  },
  {
   "cell_type": "markdown",
   "metadata": {},
   "source": [
    "For African American"
   ]
  },
  {
   "cell_type": "code",
   "execution_count": 24,
   "metadata": {},
   "outputs": [
    {
     "name": "stdout",
     "output_type": "stream",
     "text": [
      "The false positive rates for the  ['African-American race'] group is 0.0834\n"
     ]
    }
   ],
   "source": [
    "# your code here\n",
    "column_selected = [column for column in X_test.columns if 'African' in column]\n",
    "fnr_aa = get_unbiased_fnr(column_selected, X_test, model, y_test.values, to_drop_race)\n",
    "print('The false positive rates for the ', column_selected, 'group is {:.4f}'.format(fnr_aa))"
   ]
  },
  {
   "cell_type": "markdown",
   "metadata": {},
   "source": [
    "For Caucasian"
   ]
  },
  {
   "cell_type": "code",
   "execution_count": 25,
   "metadata": {},
   "outputs": [
    {
     "name": "stdout",
     "output_type": "stream",
     "text": [
      "The false positive rates for the  ['Caucasian race'] group is 0.0640\n"
     ]
    }
   ],
   "source": [
    "# your code here\n",
    "column_selected = [column for column in X_test.columns if 'Caucasian' in column]\n",
    "fnr_c = get_unbiased_fnr(column_selected, X_test, model, y_test.values, to_drop_race)\n",
    "print('The false positive rates for the ', column_selected, 'group is {:.4f}'.format(fnr_c))"
   ]
  },
  {
   "cell_type": "markdown",
   "metadata": {},
   "source": [
    "#### Ratio of Error Rates"
   ]
  },
  {
   "cell_type": "code",
   "execution_count": 26,
   "metadata": {},
   "outputs": [
    {
     "name": "stdout",
     "output_type": "stream",
     "text": [
      "The ratio of false positives is 2.3721\n",
      "The ratio of false negatives is 1.3038\n"
     ]
    }
   ],
   "source": [
    "fpr_ratio = fpr_aa/fpr_c\n",
    "print('The ratio of false positives is {:.4f}'.format(fpr_ratio))\n",
    "fnr_ratio = fnr_aa/fnr_c\n",
    "print('The ratio of false negatives is {:.4f}'.format(fnr_ratio))"
   ]
  },
  {
   "cell_type": "markdown",
   "metadata": {},
   "source": [
    "**3.3**  How do these metrics compare to the model when the variable `race` **is** included as a predictor?\n",
    "\n"
   ]
  },
  {
   "cell_type": "markdown",
   "metadata": {},
   "source": [
    "We can see that there is very little difference in those metrics when compared to those metrics when the race was not used as a predictor. "
   ]
  },
  {
   "cell_type": "markdown",
   "metadata": {},
   "source": [
    "**3.4**  Given your exploration and modeling of the data, should a predictive tool be trusted to be unbiased even if it doesn’t explicitly use a variable such as race to predict future crime?  Why or why not?  Why is the bias still occurring or not occurring?  Explain using at most 150 words.\n",
    " "
   ]
  },
  {
   "cell_type": "markdown",
   "metadata": {},
   "source": [
    "A predictive tool should not be trusted to be unbiased even if it doesn’t explicitly use a variable such as race to predict future crime. This comes under the problem of algorithmic fairness and algorithm unbiasness. From our previous experience, we have seen that even when an explicit variable is not used, there is bias in the data that accounts for this variable, like other variables that act as proxy of this variable. This can be seen in the correlation between variables, whether it is simple or multi-correlation. "
   ]
  },
  {
   "cell_type": "markdown",
   "metadata": {},
   "source": [
    "---"
   ]
  },
  {
   "cell_type": "markdown",
   "metadata": {},
   "source": [
    "<a id=\"Q4\"></a>\n",
    "\n",
    "### <div class='exercise'>Question 4 [30 pts]: ROC Curves</div>\n",
    "[▲ Return to contents](#Contents)\n"
   ]
  },
  {
   "cell_type": "markdown",
   "metadata": {},
   "source": [
    "**4.1** Use the logistic regression from 3.1 and plot the *Receiver Operating Characteristic (ROC) curve* for two racial groups: `African-American` & `Caucasian` in the test set. \n",
    "    \n",
    "**4.2** The default threshold used for determining the metrics in 2.2 and 3.2 was 0.5.  Choose a new single threshold for the model from 3.1 that may will reduce the bias between these two racial groups (as measured by the ratios of FPR and FNR).  Be sure to briefly justify your choice (Note: there is no one correct answer).\n",
    "\n",
    "**4.3** A second approach to reducing bias is to use different thresholds for the different racial groups to better ensure that the groups have similar false positive and false negative rates.  Choose a pair of thresholds (one for the `African-American` group and one for the `Caucasian` group) that improves the group bias (balanced with accuracy). Be sure to briefly justify your choice\n",
    "\n",
    "**4.4** Comment on the [fairness](https://en.wikipedia.org/wiki/Fairness_(machine_learning)) of the two methods in 4.2 and 4.3 from two different perspectives: the fairness of each group (called 'group fairness') and the fairness for an individual defendant (called 'individual fairness').  Please limit your response to at most 75 words. \n",
    "\n",
    "**4.5** Changing the thresholds can *reduce* bias between the two classes, but it can also affect model accuracy. We want our model to be **accurate** but also **fair**.  What can be done to balance these two criteria?  Write down your strategy to overcome this difficulty.   Please limit your response to at most 150 words.  \n",
    "     "
   ]
  },
  {
   "cell_type": "markdown",
   "metadata": {},
   "source": [
    "### Question 4: Solutions\n",
    "\n",
    "[▲ Return to contents](#Contents)\n"
   ]
  },
  {
   "cell_type": "markdown",
   "metadata": {},
   "source": [
    "**4.1** Use the logistic regression from 3.1 and plot the *Receiver Operating Characteristic (ROC) curve* for two racial groups: `African-American` & `Caucasian` in the test set. \n",
    "        "
   ]
  },
  {
   "cell_type": "markdown",
   "metadata": {},
   "source": [
    "For the African American "
   ]
  },
  {
   "cell_type": "code",
   "execution_count": 27,
   "metadata": {},
   "outputs": [],
   "source": [
    "column_selected = [column for column in X_test.columns if 'African' in column]\n",
    "X_test_here = X_test.reset_index(drop=True)\n",
    "mask = X_test_here[column_selected[0]]==1\n",
    "X_test_here = X_test_here[mask]\n",
    "X_test_here = X_test_here.drop(to_drop_race, axis=1)\n",
    "predictions = model.predict_proba(X_test_here)\n",
    "y_test_here = y_test.values[mask]\n",
    "fpr_aa, tpr_aa, thresholds = roc_curve(y_test_here.tolist(), predictions[:, 1])"
   ]
  },
  {
   "cell_type": "code",
   "execution_count": 28,
   "metadata": {},
   "outputs": [],
   "source": [
    "column_selected = [column for column in X_test.columns if 'Caucasian' in column]\n",
    "X_test_here = X_test.reset_index(drop=True)\n",
    "mask = X_test_here[column_selected[0]]==1\n",
    "X_test_here = X_test_here[mask]\n",
    "X_test_here = X_test_here.drop(to_drop_race, axis=1)\n",
    "predictions = model.predict_proba(X_test_here)\n",
    "y_test_here = y_test.values[mask]\n",
    "fpr_c, tpr_c, thresholds = roc_curve(y_test_here.tolist(), predictions[:, 1])"
   ]
  },
  {
   "cell_type": "code",
   "execution_count": 29,
   "metadata": {},
   "outputs": [
    {
     "name": "stderr",
     "output_type": "stream",
     "text": [
      "C:\\Users\\David\\Anaconda3\\envs\\cs109a\\lib\\site-packages\\ipykernel_launcher.py:10: MatplotlibDeprecationWarning: The 's' parameter of annotate() has been renamed 'text' since Matplotlib 3.3; support for the old name will be dropped two minor releases later.\n",
      "  # Remove the CWD from sys.path while we load stuff.\n"
     ]
    },
    {
     "data": {
      "image/png": "[encoded data removed]",
      "text/plain": [
       "<Figure size 1440x720 with 1 Axes>"
      ]
     },
     "metadata": {
      "needs_background": "light"
     },
     "output_type": "display_data"
    }
   ],
   "source": [
    "# your code here\n",
    "fig, ax = plt.subplots(1, figsize = (20, 10))\n",
    "ax.set_title('ROC curve for the African Amrican and Caucasian races')\n",
    "ax.plot(fpr_aa, tpr_aa, label='AUC curve for African American', color='gold')\n",
    "ax.plot(fpr_c, tpr_c, label='AUC curve for Caucasian', color='lightcoral')\n",
    "ax.set_xlabel('False positive rate')\n",
    "ax.set_ylabel('True positive rate')\n",
    "for i, threshold in enumerate(thresholds):\n",
    "    if np.random.uniform() < 0.2:\n",
    "        ax.annotate(xy=(fpr_c[i], tpr_c[i]), s=round(threshold, 3))\n",
    "ax.legend()\n",
    "plt.show()"
   ]
  },
  {
   "cell_type": "markdown",
   "metadata": {},
   "source": [
    "**4.2** The default threshold used for determining the metrics in 2.2 and 3.2 was 0.5.  Choose a new single threshold for the model from 3.1 that may will reduce the bias between these two racial groups (as measured by the ratios of FPR and FNR).  Be sure to briefly justify your choice (Note: there is no one correct answer).\n",
    "\n"
   ]
  },
  {
   "cell_type": "markdown",
   "metadata": {},
   "source": [
    "#### False positives"
   ]
  },
  {
   "cell_type": "code",
   "execution_count": 30,
   "metadata": {},
   "outputs": [],
   "source": [
    "# your code here\n",
    "def get_unbiased_newth_fpr(group, X_test, model, y_test, to_drop, threshold):\n",
    "    X_test_here = X_test.reset_index(drop=True)\n",
    "    mask = (X_test_here[group[0]]==1)\n",
    "    X_test_here = X_test_here[mask]\n",
    "    X_test_here = X_test_here.drop(to_drop, axis=1)\n",
    "    predictions = np.where(model.predict_proba(X_test_here)[:,1] > threshold, 1, 0)\n",
    "    y_test_here = y_test[mask]\n",
    "    fp = 0\n",
    "    for i, prediction in enumerate(predictions):\n",
    "        if prediction == 1 and y_test_here[i] == 0:\n",
    "            fp += 1\n",
    "    return fp/len(y_test)"
   ]
  },
  {
   "cell_type": "code",
   "execution_count": 31,
   "metadata": {},
   "outputs": [
    {
     "name": "stdout",
     "output_type": "stream",
     "text": [
      "{0.1: 1.2310756972111554, 0.15000000000000002: 1.3472222222222223, 0.2: 1.4761904761904763, 0.25: 1.639240506329114, 0.30000000000000004: 1.7384615384615387, 0.35: 1.8165137614678901, 0.4: 1.8470588235294116, 0.45000000000000007: 2.152542372881356, 0.5: 2.372093023255814, 0.55: 2.964285714285714, 0.6: 3.285714285714286, 0.65: 4.166666666666666, 0.7000000000000001: 6.333333333333333, 0.75: 6.000000000000001, 0.8: 2.75, 0.85: 1.6666666666666665}\n"
     ]
    }
   ],
   "source": [
    "fpr_aa = []\n",
    "fpr_c = []\n",
    "ratios_fpr = []\n",
    "thresholds = np.linspace(0.1,0.85,16)\n",
    "column_selected_aa = [column for column in X_test.columns if 'African' in column]\n",
    "column_selected_c = [column for column in X_test.columns if 'Caucasian' in column]\n",
    "\n",
    "for threshold in thresholds:\n",
    "    fpr_aa.append(get_unbiased_newth_fpr(column_selected_aa, X_test, model, y_test.values, to_drop_race, threshold))\n",
    "    fpr_c.append(get_unbiased_newth_fpr(column_selected_c, X_test, model, y_test.values, to_drop_race, threshold))\n",
    "    ratios_fpr.append((get_unbiased_newth_fpr(column_selected_aa, X_test, model, y_test.values, to_drop_race, threshold))/(get_unbiased_newth_fpr(column_selected_c, X_test, model, y_test.values, to_drop_race, threshold)))\n",
    "res_ratios_fpr = dict(zip(thresholds, ratios_fpr))\n",
    "print(res_ratios_fpr)\n"
   ]
  },
  {
   "cell_type": "markdown",
   "metadata": {},
   "source": [
    "#### False negatives"
   ]
  },
  {
   "cell_type": "code",
   "execution_count": 32,
   "metadata": {},
   "outputs": [],
   "source": [
    "def get_unbiased_newth_fnr(group, X_test, model, y_test, to_drop, threshold):\n",
    "    X_test_here = X_test.reset_index(drop=True)\n",
    "    mask = (X_test_here[group[0]]==1)\n",
    "    X_test_here = X_test_here[mask]\n",
    "    X_test_here = X_test_here.drop(to_drop, axis=1)\n",
    "    predictions = np.where(model.predict_proba(X_test_here)[:,1] > threshold, 1, 0)\n",
    "    y_test_here = y_test[mask]\n",
    "    fn = 0\n",
    "    for i, prediction in enumerate(predictions):\n",
    "        if prediction == 0 and y_test_here[i] == 1:\n",
    "            fn += 1\n",
    "    return fn/len(y_test)"
   ]
  },
  {
   "cell_type": "code",
   "execution_count": 33,
   "metadata": {},
   "outputs": [
    {
     "name": "stdout",
     "output_type": "stream",
     "text": [
      "{0.1: 0.0, 0.15000000000000002: 0.42857142857142855, 0.2: 0.2222222222222222, 0.25: 0.36, 0.30000000000000004: 0.45, 0.35: 0.6181818181818183, 0.4: 0.9838709677419355, 0.45000000000000007: 1.1470588235294117, 0.5: 1.3037974683544302, 0.55: 1.2989690721649483, 0.6: 1.3727272727272728, 0.65: 1.4146341463414633, 0.7000000000000001: 1.550387596899225, 0.75: 1.6861313868613137, 0.8: 1.7651006711409396, 0.85: 1.9407894736842104}\n"
     ]
    }
   ],
   "source": [
    "fnr_aa = []\n",
    "fnr_c = []\n",
    "ratios_fnr = []\n",
    "thresholds = np.linspace(0.1,0.85,16)\n",
    "column_selected_aa = [column for column in X_test.columns if 'African' in column]\n",
    "column_selected_c = [column for column in X_test.columns if 'Caucasian' in column]\n",
    "\n",
    "for threshold in thresholds:\n",
    "    fnr_aa.append(get_unbiased_newth_fnr(column_selected_aa, X_test, model, y_test.values, to_drop_race, threshold))\n",
    "    fnr_c.append(get_unbiased_newth_fnr(column_selected_c, X_test, model, y_test.values, to_drop_race, threshold))\n",
    "    ratios_fnr.append((get_unbiased_newth_fnr(column_selected_aa, X_test, model, y_test.values, to_drop_race, threshold))/(get_unbiased_newth_fnr(column_selected_c, X_test, model, y_test.values, to_drop_race, threshold)))\n",
    "res_ratios_fnr = dict(zip(thresholds, ratios_fnr))\n",
    "print(res_ratios_fnr)\n"
   ]
  },
  {
   "cell_type": "code",
   "execution_count": 34,
   "metadata": {},
   "outputs": [
    {
     "name": "stderr",
     "output_type": "stream",
     "text": [
      "C:\\Users\\David\\Anaconda3\\envs\\cs109a\\lib\\site-packages\\ipykernel_launcher.py:5: MatplotlibDeprecationWarning: The 's' parameter of annotate() has been renamed 'text' since Matplotlib 3.3; support for the old name will be dropped two minor releases later.\n",
      "  \"\"\"\n",
      "C:\\Users\\David\\Anaconda3\\envs\\cs109a\\lib\\site-packages\\ipykernel_launcher.py:6: MatplotlibDeprecationWarning: The 's' parameter of annotate() has been renamed 'text' since Matplotlib 3.3; support for the old name will be dropped two minor releases later.\n",
      "  \n"
     ]
    },
    {
     "data": {
      "text/plain": [
       "<matplotlib.legend.Legend at 0x1938ce3e108>"
      ]
     },
     "execution_count": 34,
     "metadata": {},
     "output_type": "execute_result"
    },
    {
     "data": {
      "image/png": "[encoded data removed]",
      "text/plain": [
       "<Figure size 1152x576 with 1 Axes>"
      ]
     },
     "metadata": {
      "needs_background": "light"
     },
     "output_type": "display_data"
    }
   ],
   "source": [
    "fig, ax = plt.subplots(figsize = (16,8))\n",
    "ax.plot(thresholds, ratios_fpr, label = 'False positive ratios (AA/Ca)')\n",
    "ax.plot(thresholds, ratios_fnr, label = 'False negative ratios (AA/Ca)', color = 'red')\n",
    "for i, threshold in enumerate(thresholds):\n",
    "    ax.annotate(xy=(threshold, ratios_fpr[i]), s=round(ratios_fpr[i], 3))\n",
    "    ax.annotate(xy=(threshold, ratios_fnr[i]), s=round(ratios_fnr[i], 3))\n",
    "ax.set_xlabel('threshold value', fontsize = 16)\n",
    "ax.set_ylabel('AA/Ca ratio', fontsize = 16)\n",
    "ax.axhline(1, color = 'grey', linestyle = '--', lw = 0.5)\n",
    "ax.legend(loc='best')"
   ]
  },
  {
   "cell_type": "markdown",
   "metadata": {},
   "source": [
    "Using the analysis above, the new single threshold chosen for the model from 3.1 that reduces the bias between the two racial groups (as measured by the ratios of FPR and FNR) is: $0.4$. The strategy behind this choice was the following:\n",
    "- First we performed a grid search over the \"reasonable\" possible threshold values: $threshold \\in [0.1,0.85]$.\n",
    "- Then we calculated the ratios of the FPRs and FNRs for the two groups.\n",
    "- The threshold value that reduces the bias between the two racial groups the most is the one for which the FPRs and FNRs ratios are closest to $1$.\n",
    "- Thus we chose the value of $0.4$ as the single threshold value."
   ]
  },
  {
   "cell_type": "markdown",
   "metadata": {},
   "source": [
    "**4.3** A second approach to reducing bias is to use different thresholds for the different racial groups to better ensure that the groups have similar false positive and false negative rates.  Choose a pair of thresholds (one for the `African-American` group and one for the `Caucasian` group) that improves the group bias (balanced with accuracy). Be sure to briefly justify your choice\n",
    "\n"
   ]
  },
  {
   "cell_type": "markdown",
   "metadata": {},
   "source": [
    "#### False positives"
   ]
  },
  {
   "cell_type": "code",
   "execution_count": 35,
   "metadata": {},
   "outputs": [],
   "source": [
    "fpr_aa = []\n",
    "fpr_c = []\n",
    "ratios_fpr = []\n",
    "thresholds_combined = []\n",
    "thresholds_aa = np.linspace(0.2,0.8,7)\n",
    "thresholds_c = np.linspace(0.2,0.8,7)\n",
    "column_selected_aa = [column for column in X_test.columns if 'African' in column]\n",
    "column_selected_c = [column for column in X_test.columns if 'Caucasian' in column]\n",
    "\n",
    "for threshold_aa in thresholds_aa:\n",
    "    for threshold_c in thresholds_c:\n",
    "        fpr_aa.append(get_unbiased_newth_fpr(column_selected_aa, X_test, model, y_test.values, to_drop_race, threshold_aa))\n",
    "        fpr_c.append(get_unbiased_newth_fpr(column_selected_c, X_test, model, y_test.values, to_drop_race, threshold_c))\n",
    "        ratios_fpr.append((get_unbiased_newth_fpr(column_selected_aa, X_test, model, y_test.values, to_drop_race, threshold_aa))/(get_unbiased_newth_fpr(column_selected_c, X_test, model, y_test.values, to_drop_race, threshold_c)))\n",
    "        thresholds_combined.append('aa_th=' +str(threshold_aa)+ '; c_th=' +str(threshold_c))\n",
    "res_ratios_fpr = dict(zip(thresholds_combined, ratios_fpr))\n",
    "#print(res_ratios_fpr)"
   ]
  },
  {
   "cell_type": "code",
   "execution_count": 36,
   "metadata": {},
   "outputs": [
    {
     "data": {
      "text/plain": [
       "Text(69.0, 0.5, 'Threshold African-American')"
      ]
     },
     "execution_count": 36,
     "metadata": {},
     "output_type": "execute_result"
    },
    {
     "data": {
      "image/png": "[encoded data removed]",
      "text/plain": [
       "<Figure size 720x432 with 2 Axes>"
      ]
     },
     "metadata": {
      "needs_background": "light"
     },
     "output_type": "display_data"
    }
   ],
   "source": [
    "ratios_fpr_np = np.array(ratios_fpr).reshape(7,7)\n",
    "ratios_fpr_pd = pd.DataFrame(ratios_fpr_np, columns = [0.2,0.3,0.4,0.5,0.6,0.7,0.8], index = [0.2,0.3,0.4,0.5,0.6,0.7,0.8])\n",
    "fig, ax = plt.subplots(figsize = (10,6))\n",
    "ax0 = sns.heatmap(ratios_fpr_pd, annot=True, ax = ax)\n",
    "ax.set_title('False Positive Rates Ratios: $fp_{AA}/fp_C$')\n",
    "ax.set_xlabel('Threshold Caucasian')\n",
    "ax.set_ylabel('Threshold African-American')\n"
   ]
  },
  {
   "cell_type": "markdown",
   "metadata": {},
   "source": [
    "#### False negatives"
   ]
  },
  {
   "cell_type": "code",
   "execution_count": 37,
   "metadata": {},
   "outputs": [],
   "source": [
    "fnr_aa = []\n",
    "fnr_c = []\n",
    "ratios_fnr = []\n",
    "thresholds_combined = []\n",
    "thresholds_aa = np.linspace(0.2,0.8,7)\n",
    "thresholds_c = np.linspace(0.2,0.8,7)\n",
    "column_selected_aa = [column for column in X_test.columns if 'African' in column]\n",
    "column_selected_c = [column for column in X_test.columns if 'Caucasian' in column]\n",
    "\n",
    "for threshold_aa in thresholds_aa:\n",
    "    for threshold_c in thresholds_c:\n",
    "        fnr_aa.append(get_unbiased_newth_fnr(column_selected_aa, X_test, model, y_test.values, to_drop_race, threshold_aa))\n",
    "        fnr_c.append(get_unbiased_newth_fnr(column_selected_c, X_test, model, y_test.values, to_drop_race, threshold_c))\n",
    "        ratios_fnr.append((get_unbiased_newth_fnr(column_selected_aa, X_test, model, y_test.values, to_drop_race, threshold_aa))/(get_unbiased_newth_fnr(column_selected_c, X_test, model, y_test.values, to_drop_race, threshold_c)))\n",
    "        thresholds_combined.append('aa_th=' +str(threshold_aa)+ '; c_th=' +str(threshold_c))\n",
    "res_ratios_fnr = dict(zip(thresholds_combined, ratios_fnr))\n",
    "#print(res_ratios_fnr)"
   ]
  },
  {
   "cell_type": "code",
   "execution_count": 38,
   "metadata": {},
   "outputs": [
    {
     "data": {
      "text/plain": [
       "Text(69.0, 0.5, 'Threshold African-American')"
      ]
     },
     "execution_count": 38,
     "metadata": {},
     "output_type": "execute_result"
    },
    {
     "data": {
      "image/png": "[encoded data removed]",
      "text/plain": [
       "<Figure size 720x432 with 2 Axes>"
      ]
     },
     "metadata": {
      "needs_background": "light"
     },
     "output_type": "display_data"
    }
   ],
   "source": [
    "ratios_fnr_np = np.array(ratios_fnr).reshape(7,7)\n",
    "ratios_fnr_pd = pd.DataFrame(ratios_fnr_np, columns = [0.2,0.3,0.4,0.5,0.6,0.7,0.8], index = [0.2,0.3,0.4,0.5,0.6,0.7,0.8])\n",
    "fig, ax = plt.subplots(figsize = (10,6))\n",
    "ax0 = sns.heatmap(ratios_fnr_pd, annot=True, ax = ax)\n",
    "ax.set_title('False Negative Rates Ratios: $fp_{AA}/fp_C$')\n",
    "ax.set_xlabel('Threshold Caucasian')\n",
    "ax.set_ylabel('Threshold African-American')\n"
   ]
  },
  {
   "cell_type": "markdown",
   "metadata": {},
   "source": [
    "From the analysis above, we observe the following two pairs of threshold values that reduce the bias the most: $th_{AA}, th_C = (0.3, 0.2), (0.4, 0.3)$.\n",
    "\n",
    "In addition, we will determine the classification accuracies for these two pairs of threshold values in order to determine the pair of threshold values that reduces the bias the most, while maintaining the classification accuracy. "
   ]
  },
  {
   "cell_type": "code",
   "execution_count": 39,
   "metadata": {},
   "outputs": [],
   "source": [
    "def get_unbiased_newth_accuracy(group1, group2, X_test, model, y_test, to_drop, threshold1, threshold2):\n",
    "    X_test_here = X_test.reset_index(drop=True)\n",
    "    mask1 = (X_test_here[group1[0]]==1)\n",
    "    X_test_here1 = X_test_here[mask1]\n",
    "    X_test_here1 = X_test_here1.drop(to_drop, axis=1)\n",
    "    mask2 = (X_test_here[group2[0]]==1)\n",
    "    X_test_here2 = X_test_here[mask2]\n",
    "    X_test_here2 = X_test_here2.drop(to_drop, axis=1)\n",
    "    predictions1 = np.where(model.predict_proba(X_test_here1)[:,1] > threshold1, 1, 0)\n",
    "    y_test_here1 = y_test[mask1]\n",
    "    predictions2 = np.where(model.predict_proba(X_test_here2)[:,1] > threshold2, 1, 0)\n",
    "    y_test_here2 = y_test[mask2]\n",
    "    f_pred = 0\n",
    "    for i, prediction1 in enumerate(predictions1):\n",
    "        if prediction1 != y_test_here1[i]:\n",
    "            f_pred += 1\n",
    "    for i, prediction2 in enumerate(predictions2):\n",
    "        if prediction2 != y_test_here2[i]:\n",
    "            f_pred += 1\n",
    "    return 1-(f_pred)/len(y_test)\n",
    "\n"
   ]
  },
  {
   "cell_type": "code",
   "execution_count": 40,
   "metadata": {},
   "outputs": [
    {
     "name": "stdout",
     "output_type": "stream",
     "text": [
      "The classification accuracy for the two classes using thresholds (0.3,0.2) is 0.6348\n",
      "The classification accuracy for the two classes using thresholds (0.4,0.3) is 0.6858\n"
     ]
    }
   ],
   "source": [
    "th_pair_03_02 = get_unbiased_newth_accuracy(column_selected_aa, column_selected_c, X_test, model, y_test.values, to_drop_race, 0.3, 0.2)\n",
    "th_pair_04_03 = get_unbiased_newth_accuracy(column_selected_aa, column_selected_c, X_test, model, y_test.values, to_drop_race, 0.4, 0.3)\n",
    "\n",
    "print(\"The classification accuracy for the two classes using thresholds (0.3,0.2) is {:.4f}\".format(th_pair_03_02))\n",
    "print(\"The classification accuracy for the two classes using thresholds (0.4,0.3) is {:.4f}\".format(th_pair_04_03))\n"
   ]
  },
  {
   "cell_type": "markdown",
   "metadata": {},
   "source": [
    "Using the analysis above, the new thresholds chosen for the model from 3.1 that reduce the bias between the two racial groups (as measured by the ratios of FPR and FNR) are: $th_{AA},th_C = (0.4,0.3)$. The strategy behind this choice was the following:\n",
    "- First we performed a grid search over the \"reasonable\" possible threshold values: $th_{AA},th_C \\in [0.1,0.8]$.\n",
    "- Then we calculated the ratios of the FPRs and FNRs for the two groups.\n",
    "- The thresholds values that reduce the bias between the two racial groups the most are the one for which the FPRs and FNRs ratios are closest to $1$.\n",
    "- Thus we chose the values of $(0.3,0.2),(0.4,0.3)$ as the possible thresholds values.\n",
    "- Then we evaluated the accuracy of the model given the two threshold pairs.\n",
    "- Finally, we selected the threshold pair $th_{AA}, th_C = (0.4,0.3)$ as the best pair of threshold values.\n",
    "\n",
    "Note, although the pair of threshold values $(0.3,0.2)$ had slightly better performance when reducing the bias, the classification accuracy for the pair of threshold values $(0.4,0.3)$ was significantly higher."
   ]
  },
  {
   "cell_type": "markdown",
   "metadata": {},
   "source": [
    "**4.4** Comment on the [fairness](https://en.wikipedia.org/wiki/Fairness_(machine_learning)) of the two methods in 4.2 and 4.3 from two different perspectives: the fairness of each group (called 'group fairness') and the fairness for an individual defendant (called 'individual fairness').  Please limit your response to at most 75 words. \n"
   ]
  },
  {
   "cell_type": "markdown",
   "metadata": {},
   "source": [
    "The two methods in 4.2 and 4.3 have the following effect on the two different fairness prespectives:\n",
    "- Group Fairness - The group fairness could be expressed by the *ratios* of false positive/negative rates for the two races, i.e. $\\frac{fp_{AA}}{fp_C}$ and $\\frac{fn_{AA}}{fn_C}$. Therefore, in order to increase the group fairness, the aim is to calibrate the model so the above ratios are as close to $1$ as possible. From the analysis above, we observe that the approach used in 4.3 allows for greater improvement of the group fairness.\n",
    "- Individual Fairness - The individual fairness could be expressed by the overall model accuracy, i.e. increasing the individual fairness implies decreasing the overall misclassification rate. From the analysis above, we observe that the approach used in 4.2 allows for better individual fairness, as the method is more strict on the threshold values space."
   ]
  },
  {
   "cell_type": "markdown",
   "metadata": {},
   "source": [
    "\n",
    "**4.5** Changing the thresholds can *reduce* bias between the two classes, but it can also affect model accuracy. We want our model to be **accurate** but also **fair**.  What can be done to balance these two criteria?  Write down your strategy to overcome this difficulty.   Please limit your response to at most 150 words.  \n",
    " "
   ]
  },
  {
   "cell_type": "markdown",
   "metadata": {},
   "source": [
    "I will try to describe the approach I have witnessed in the paper \"Towards Realistic Individual Recourse and\n",
    "Actionable Explanations in Black-Box Decision Making Systems\". This paper provides a framework in order to plug-in algorithms on top of black box classifiers. This plug-in algorithm is called 'recourse'. Its ambition is two-fold:\n",
    "- provide a set of actionable actione for the end-user in order to 'enhance its classification'\n",
    "- provide some optimal paths in a latent space in order to hide a variable and its correlated variable (protect a variable)\n",
    "\n",
    "What this 'recourse' is doing is that it **models** the distribution of the data using VAEs (sending to variable to latent spaces) and disentangling the dimensions of the latent space, therefore creating independence, allowing to reduce for instance how race is represented in other features. \n",
    "\n",
    "This method allows to reduce bias, be more fair and is as accurate as other state of the art algorithms."
   ]
  },
  {
   "cell_type": "markdown",
   "metadata": {},
   "source": [
    "---"
   ]
  },
  {
   "cell_type": "markdown",
   "metadata": {},
   "source": [
    "<a id=\"Q5\"></a>\n",
    "\n",
    "### <div class='exercise'>Question 5 [15 pts]: Using other models </div>\n",
    "[▲ Return to contents](#Contents)\n"
   ]
  },
  {
   "cell_type": "markdown",
   "metadata": {},
   "source": [
    "**5.1** Improve the logistic models you have previously used by including one or more of the following:\n",
    "\n",
    " - Polynomial terms\n",
    " - Interaction terms\n",
    " - Regularization parameters\n",
    " - Different up-sampling techniques\n",
    " - A different class of models (k-NN, random forest, Neural Nets, etc.)\n",
    " \n",
    "**Note:** The ideas given above are not exhaustive. You are free to try other betters to come up with a better model.  You do not need to restrict yourself to the impoted packages at the beginning of this notebook.\n",
    "\n",
    "**5.2** Evaluate your model using the same metrics as in 2.2 and 3.2.  \n",
    "\n",
    "**5.3** Is this model a better model to predict recidivism?  How has this affected bias and fairness between these groups?  How would you modify your model to put it into production (to be a competitior to COMPAS)?  Please limit your response to at most 150 words."
   ]
  },
  {
   "cell_type": "markdown",
   "metadata": {},
   "source": [
    "### Question 5: Solutions\n",
    "\n",
    "[▲ Return to contents](#Contents)\n"
   ]
  },
  {
   "cell_type": "markdown",
   "metadata": {},
   "source": [
    "**5.1** Improve the logistic models you have previously used by including one or more of the following:\n",
    "\n",
    " - Polynomial terms\n",
    " - Interaction terms\n",
    " - Regularization parameters\n",
    " - Different up-sampling techniques\n",
    " - A different class of models (k-NN, random forest, Neural Nets, etc.)\n",
    " \n",
    "Briefly eplxain your approach and justify your choices.\n",
    "\n",
    "**Note:** The ideas given above are not exhaustive. You are free to try other betters to come up with a better model.  You do not need to restrict yourself to the impoted packages at the beginning of this notebook."
   ]
  },
  {
   "cell_type": "code",
   "execution_count": 41,
   "metadata": {},
   "outputs": [],
   "source": [
    "# your code here\n",
    "from sklearn.preprocessing import PolynomialFeatures\n",
    "from sklearn.linear_model import LogisticRegressionCV\n",
    "\n",
    "to_drop_race = [column for column in X_train.columns if 'race' in column]\n",
    "X_train_q5 = X_train.drop(to_drop_race, axis=1)\n",
    "X_test_q5 = X_test.drop(to_drop_race, axis=1)\n",
    "logregCV = LogisticRegressionCV(cv=5, max_iter=10000, Cs=[0.001, 0.01, 0.1, 1, 10], solver = 'saga', penalty = 'l1', n_jobs=-1).fit(X_train, y_train)"
   ]
  },
  {
   "cell_type": "code",
   "execution_count": 42,
   "metadata": {},
   "outputs": [
    {
     "name": "stdout",
     "output_type": "stream",
     "text": [
      "The overall model accuracy between classes on the test set is 0.6818\n"
     ]
    }
   ],
   "source": [
    "test_score = logregCV.score(X_test, y_test)\n",
    "print('The overall model accuracy between classes on the test set is {:.4f}'.format(test_score))"
   ]
  },
  {
   "cell_type": "code",
   "execution_count": 43,
   "metadata": {},
   "outputs": [
    {
     "name": "stdout",
     "output_type": "stream",
     "text": [
      "The overall model accuracy between classes on the test set is 0.6826\n"
     ]
    }
   ],
   "source": [
    "from sklearn.ensemble import RandomForestClassifier\n",
    "\n",
    "rf = RandomForestClassifier(max_depth=5, n_estimators=1000, bootstrap=True).fit(X_train, y_train)\n",
    "test_score = rf.score(X_test, y_test)\n",
    "print('The overall model accuracy between classes on the test set is {:.4f}'.format(test_score))"
   ]
  },
  {
   "cell_type": "code",
   "execution_count": 44,
   "metadata": {
    "scrolled": true
   },
   "outputs": [
    {
     "name": "stdout",
     "output_type": "stream",
     "text": [
      "Fitting 3 folds for each of 28 candidates, totalling 84 fits\n"
     ]
    },
    {
     "name": "stderr",
     "output_type": "stream",
     "text": [
      "[Parallel(n_jobs=-1)]: Using backend LokyBackend with 4 concurrent workers.\n",
      "[Parallel(n_jobs=-1)]: Done  33 tasks      | elapsed:   17.6s\n",
      "[Parallel(n_jobs=-1)]: Done  84 out of  84 | elapsed:   48.5s finished\n"
     ]
    },
    {
     "name": "stdout",
     "output_type": "stream",
     "text": [
      "The overall model accuracy between classes on the test set is 0.6810\n"
     ]
    }
   ],
   "source": [
    "from sklearn.ensemble import RandomForestClassifier\n",
    "from sklearn.model_selection import GridSearchCV\n",
    "\n",
    "param_grid = {\n",
    "    'max_depth': [1,2,3,4,5,7,9],\n",
    "    'n_estimators': [100, 200, 300, 1000]\n",
    "}\n",
    "# Create a based model\n",
    "rf = RandomForestClassifier(random_state = 102)\n",
    "# Instantiate the grid search model\n",
    "grid_search_rf = GridSearchCV(estimator = rf, param_grid = param_grid, \n",
    "                          cv = 3, scoring = 'accuracy',verbose = 2, n_jobs=-1)\n",
    "grid_search_rf.fit(X_train, y_train)\n",
    "test_score = grid_search_rf.score(X_test, y_test)\n",
    "print('The overall model accuracy between classes on the test set is {:.4f}'.format(test_score))"
   ]
  },
  {
   "cell_type": "code",
   "execution_count": 45,
   "metadata": {},
   "outputs": [
    {
     "name": "stdout",
     "output_type": "stream",
     "text": [
      "Fitting 2 folds for each of 50 candidates, totalling 100 fits\n"
     ]
    },
    {
     "name": "stderr",
     "output_type": "stream",
     "text": [
      "[Parallel(n_jobs=-1)]: Using backend LokyBackend with 4 concurrent workers.\n",
      "[Parallel(n_jobs=-1)]: Done  33 tasks      | elapsed:   14.0s\n",
      "[Parallel(n_jobs=-1)]: Done 100 out of 100 | elapsed:   56.4s finished\n"
     ]
    },
    {
     "name": "stdout",
     "output_type": "stream",
     "text": [
      "The overall model accuracy between classes on the test set is 0.6737\n",
      "Fitting 2 folds for each of 50 candidates, totalling 100 fits\n"
     ]
    },
    {
     "name": "stderr",
     "output_type": "stream",
     "text": [
      "[Parallel(n_jobs=-1)]: Using backend LokyBackend with 4 concurrent workers.\n",
      "[Parallel(n_jobs=-1)]: Done  33 tasks      | elapsed:   16.7s\n",
      "[Parallel(n_jobs=-1)]: Done 100 out of 100 | elapsed:   47.2s finished\n"
     ]
    },
    {
     "name": "stdout",
     "output_type": "stream",
     "text": [
      "The overall model accuracy between classes on the test set is 0.6834\n",
      "Fitting 2 folds for each of 50 candidates, totalling 100 fits\n"
     ]
    },
    {
     "name": "stderr",
     "output_type": "stream",
     "text": [
      "[Parallel(n_jobs=-1)]: Using backend LokyBackend with 4 concurrent workers.\n",
      "[Parallel(n_jobs=-1)]: Done  41 tasks      | elapsed:   21.2s\n",
      "[Parallel(n_jobs=-1)]: Done 100 out of 100 | elapsed:   51.0s finished\n"
     ]
    },
    {
     "name": "stdout",
     "output_type": "stream",
     "text": [
      "The overall model accuracy between classes on the test set is 0.6891\n"
     ]
    }
   ],
   "source": [
    "from sklearn.tree import DecisionTreeClassifier\n",
    "from sklearn.ensemble import AdaBoostClassifier\n",
    "\n",
    "depths = [1, 2, 3]\n",
    "\n",
    "# Number of trees in random forest\n",
    "n_estimators = [int(x) for x in np.linspace(start = 11, stop = 501, num = 10)]\n",
    "# Learning Rate\n",
    "learning_rate = [1e-3,1e-2,1e-1,1,10]\n",
    "\n",
    "# Create the random grid\n",
    "param_grid = {'n_estimators': n_estimators,\n",
    "               'learning_rate': learning_rate}\n",
    "\n",
    "scores = []\n",
    "params = []\n",
    "for depth in depths:\n",
    "    # Create a based model\n",
    "    ada = AdaBoostClassifier(base_estimator = DecisionTreeClassifier(max_depth = depth), random_state = 102)\n",
    "    # Instantiate the grid search model\n",
    "    grid_search = GridSearchCV(estimator = ada, param_grid = param_grid, cv = 2, verbose = 2, scoring = 'accuracy', n_jobs=-1)\n",
    "    grid_search.fit(X_train, y_train)\n",
    "    test_score = grid_search.score(X_test, y_test)\n",
    "    print('The overall model accuracy between classes on the test set is {:.4f}'.format(test_score))"
   ]
  },
  {
   "cell_type": "code",
   "execution_count": 46,
   "metadata": {},
   "outputs": [
    {
     "name": "stdout",
     "output_type": "stream",
     "text": [
      "Model: \"MLP\"\n",
      "_________________________________________________________________\n",
      "Layer (type)                 Output Shape              Param #   \n",
      "=================================================================\n",
      "hidden (Dense)               (None, 100)               2600      \n",
      "_________________________________________________________________\n",
      "hidden1 (Dense)              (None, 100)               10100     \n",
      "_________________________________________________________________\n",
      "hidden2 (Dense)              (None, 100)               10100     \n",
      "_________________________________________________________________\n",
      "output (Dense)               (None, 1)                 101       \n",
      "=================================================================\n",
      "Total params: 22,901\n",
      "Trainable params: 22,901\n",
      "Non-trainable params: 0\n",
      "_________________________________________________________________\n"
     ]
    }
   ],
   "source": [
    "import tensorflow as tf \n",
    "from tensorflow import keras\n",
    "\n",
    "model = tf.keras.models.Sequential(name='MLP')\n",
    "\n",
    "# To initialise our model we set some parameters commonly defined in an MLP design\n",
    "\n",
    "# The number of hidden layers\n",
    "n_hidden = 100\n",
    "\n",
    "# The number of input layers\n",
    "n_input = X_train.shape[1]\n",
    "# The number of output layers\n",
    "n_output = 1\n",
    "# We add the first hidden layer with `n_hidden` number of neurons and 'relu' activation\n",
    "model.add(tf.keras.layers.Dense(n_hidden,input_dim=n_input, activation = 'relu',name='hidden', kernel_regularizer=tf.keras.regularizers.l1(0.001)))\n",
    "model.add(tf.keras.layers.Dense(n_hidden, activation = 'relu',name='hidden1', kernel_regularizer=tf.keras.regularizers.l1(0.001)))\n",
    "model.add(tf.keras.layers.Dense(n_hidden, activation = 'relu',name='hidden2', kernel_regularizer=tf.keras.regularizers.l1(0.001)))\n",
    "# The second layer is the final layer in our case, using 'softmax' on the output labels\n",
    "model.add(tf.keras.layers.Dense(n_output, activation = 'sigmoid',name='output'))\n",
    "model.compile(optimizer='adam',\n",
    "              loss='binary_crossentropy',\n",
    "              metrics=['accuracy'])\n",
    "model.summary()"
   ]
  },
  {
   "cell_type": "code",
   "execution_count": 47,
   "metadata": {},
   "outputs": [
    {
     "name": "stdout",
     "output_type": "stream",
     "text": [
      "Epoch 1/1000\n",
      "121/124 [============================>.] - ETA: 0s - loss: 2.1078 - accuracy: 0.6570WARNING:tensorflow:Callbacks method `on_test_batch_begin` is slow compared to the batch time (batch time: 0.0000s vs `on_test_batch_begin` time: 0.0010s). Check your callbacks.\n",
      "124/124 [==============================] - 1s 7ms/step - loss: 2.0978 - accuracy: 0.6581 - val_loss: 1.6595 - val_accuracy: 0.6680\n",
      "Epoch 2/1000\n",
      "124/124 [==============================] - 0s 2ms/step - loss: 1.4666 - accuracy: 0.6784 - val_loss: 1.3958 - val_accuracy: 0.6609\n",
      "Epoch 3/1000\n",
      "124/124 [==============================] - 0s 2ms/step - loss: 1.2790 - accuracy: 0.6835 - val_loss: 1.2223 - val_accuracy: 0.6700\n",
      "Epoch 4/1000\n",
      "124/124 [==============================] - 0s 2ms/step - loss: 1.1743 - accuracy: 0.6819 - val_loss: 1.1230 - val_accuracy: 0.6842\n",
      "Epoch 5/1000\n",
      "124/124 [==============================] - 0s 2ms/step - loss: 1.0989 - accuracy: 0.6814 - val_loss: 1.0626 - val_accuracy: 0.6802\n",
      "Epoch 6/1000\n",
      "124/124 [==============================] - 0s 2ms/step - loss: 1.0266 - accuracy: 0.6855 - val_loss: 0.9967 - val_accuracy: 0.6862\n",
      "Epoch 7/1000\n",
      "124/124 [==============================] - 0s 2ms/step - loss: 0.9706 - accuracy: 0.6870 - val_loss: 0.9517 - val_accuracy: 0.6812\n",
      "Epoch 8/1000\n",
      "124/124 [==============================] - 0s 2ms/step - loss: 0.9261 - accuracy: 0.6906 - val_loss: 0.9093 - val_accuracy: 0.6802\n",
      "Epoch 9/1000\n",
      "124/124 [==============================] - 0s 2ms/step - loss: 0.8933 - accuracy: 0.6850 - val_loss: 0.8834 - val_accuracy: 0.6943\n",
      "Epoch 10/1000\n",
      "124/124 [==============================] - 0s 2ms/step - loss: 0.8615 - accuracy: 0.6918 - val_loss: 0.8539 - val_accuracy: 0.6781\n",
      "Epoch 11/1000\n",
      "124/124 [==============================] - 0s 2ms/step - loss: 0.8290 - accuracy: 0.6918 - val_loss: 0.8163 - val_accuracy: 0.6852\n",
      "Epoch 12/1000\n",
      "124/124 [==============================] - 0s 2ms/step - loss: 0.8031 - accuracy: 0.6974 - val_loss: 0.7963 - val_accuracy: 0.6903\n",
      "Epoch 13/1000\n",
      "124/124 [==============================] - 0s 2ms/step - loss: 0.7833 - accuracy: 0.6900 - val_loss: 0.7739 - val_accuracy: 0.6933\n",
      "Epoch 14/1000\n",
      "124/124 [==============================] - 0s 2ms/step - loss: 0.7668 - accuracy: 0.6860 - val_loss: 0.7614 - val_accuracy: 0.6832\n",
      "Epoch 15/1000\n",
      "124/124 [==============================] - 0s 2ms/step - loss: 0.7449 - accuracy: 0.6931 - val_loss: 0.7409 - val_accuracy: 0.6822\n",
      "Epoch 16/1000\n",
      "124/124 [==============================] - 0s 2ms/step - loss: 0.7296 - accuracy: 0.6888 - val_loss: 0.7280 - val_accuracy: 0.6923\n",
      "Epoch 17/1000\n",
      "124/124 [==============================] - 0s 2ms/step - loss: 0.7202 - accuracy: 0.6847 - val_loss: 0.7127 - val_accuracy: 0.6781\n",
      "Epoch 18/1000\n",
      "124/124 [==============================] - 0s 2ms/step - loss: 0.7042 - accuracy: 0.6908 - val_loss: 0.7013 - val_accuracy: 0.6781\n",
      "Epoch 19/1000\n",
      "124/124 [==============================] - 0s 2ms/step - loss: 0.6923 - accuracy: 0.6878 - val_loss: 0.6896 - val_accuracy: 0.6832\n",
      "Epoch 20/1000\n",
      "124/124 [==============================] - 0s 2ms/step - loss: 0.6829 - accuracy: 0.6898 - val_loss: 0.6874 - val_accuracy: 0.6842\n",
      "Epoch 21/1000\n",
      "124/124 [==============================] - 0s 2ms/step - loss: 0.6725 - accuracy: 0.6931 - val_loss: 0.6737 - val_accuracy: 0.6842\n",
      "Epoch 22/1000\n",
      "124/124 [==============================] - 0s 2ms/step - loss: 0.6652 - accuracy: 0.6933 - val_loss: 0.6644 - val_accuracy: 0.6943\n",
      "Epoch 23/1000\n",
      "124/124 [==============================] - 0s 2ms/step - loss: 0.6570 - accuracy: 0.6941 - val_loss: 0.6579 - val_accuracy: 0.6943\n",
      "Epoch 24/1000\n",
      "124/124 [==============================] - 0s 2ms/step - loss: 0.6524 - accuracy: 0.6923 - val_loss: 0.6608 - val_accuracy: 0.6842\n",
      "Epoch 25/1000\n",
      "124/124 [==============================] - 0s 2ms/step - loss: 0.6496 - accuracy: 0.6971 - val_loss: 0.6816 - val_accuracy: 0.6690\n",
      "Epoch 26/1000\n",
      "124/124 [==============================] - 0s 2ms/step - loss: 0.6448 - accuracy: 0.6903 - val_loss: 0.6436 - val_accuracy: 0.6883\n",
      "Epoch 27/1000\n",
      "124/124 [==============================] - 0s 2ms/step - loss: 0.6381 - accuracy: 0.6931 - val_loss: 0.6412 - val_accuracy: 0.6842\n",
      "Epoch 28/1000\n",
      "124/124 [==============================] - 0s 2ms/step - loss: 0.6333 - accuracy: 0.6944 - val_loss: 0.6390 - val_accuracy: 0.6832\n",
      "Epoch 29/1000\n",
      "124/124 [==============================] - 0s 2ms/step - loss: 0.6338 - accuracy: 0.6890 - val_loss: 0.6351 - val_accuracy: 0.6852\n",
      "Epoch 30/1000\n",
      "124/124 [==============================] - 0s 2ms/step - loss: 0.6300 - accuracy: 0.6938 - val_loss: 0.6347 - val_accuracy: 0.6852\n",
      "Epoch 31/1000\n",
      "124/124 [==============================] - 0s 2ms/step - loss: 0.6258 - accuracy: 0.6936 - val_loss: 0.6304 - val_accuracy: 0.6903\n",
      "Epoch 32/1000\n",
      "124/124 [==============================] - 0s 2ms/step - loss: 0.6255 - accuracy: 0.6971 - val_loss: 0.6384 - val_accuracy: 0.6771\n",
      "Epoch 33/1000\n",
      "124/124 [==============================] - 0s 2ms/step - loss: 0.6225 - accuracy: 0.6964 - val_loss: 0.6277 - val_accuracy: 0.6883\n",
      "Epoch 34/1000\n",
      "124/124 [==============================] - 0s 2ms/step - loss: 0.6249 - accuracy: 0.6903 - val_loss: 0.6290 - val_accuracy: 0.6862\n",
      "Epoch 35/1000\n",
      "124/124 [==============================] - 0s 2ms/step - loss: 0.6204 - accuracy: 0.6936 - val_loss: 0.6257 - val_accuracy: 0.6832\n",
      "Epoch 36/1000\n",
      "124/124 [==============================] - 0s 2ms/step - loss: 0.6169 - accuracy: 0.6951 - val_loss: 0.6238 - val_accuracy: 0.6822\n",
      "Epoch 37/1000\n",
      "124/124 [==============================] - 0s 2ms/step - loss: 0.6163 - accuracy: 0.6961 - val_loss: 0.6216 - val_accuracy: 0.6862\n",
      "Epoch 38/1000\n",
      "124/124 [==============================] - 0s 2ms/step - loss: 0.6154 - accuracy: 0.6951 - val_loss: 0.6247 - val_accuracy: 0.6842\n",
      "Epoch 39/1000\n",
      "124/124 [==============================] - 0s 2ms/step - loss: 0.6156 - accuracy: 0.6951 - val_loss: 0.6199 - val_accuracy: 0.6883\n",
      "Epoch 40/1000\n",
      "124/124 [==============================] - 0s 2ms/step - loss: 0.6131 - accuracy: 0.6979 - val_loss: 0.6256 - val_accuracy: 0.6812\n",
      "Epoch 41/1000\n",
      "124/124 [==============================] - 0s 2ms/step - loss: 0.6119 - accuracy: 0.6987 - val_loss: 0.6175 - val_accuracy: 0.6913\n",
      "Epoch 42/1000\n",
      "124/124 [==============================] - 0s 2ms/step - loss: 0.6146 - accuracy: 0.6941 - val_loss: 0.6213 - val_accuracy: 0.6852\n",
      "Epoch 43/1000\n",
      "124/124 [==============================] - 0s 2ms/step - loss: 0.6126 - accuracy: 0.6941 - val_loss: 0.6178 - val_accuracy: 0.6893\n",
      "Epoch 44/1000\n",
      "124/124 [==============================] - 0s 2ms/step - loss: 0.6122 - accuracy: 0.6971 - val_loss: 0.6157 - val_accuracy: 0.6994\n",
      "Epoch 45/1000\n",
      "124/124 [==============================] - 0s 2ms/step - loss: 0.6121 - accuracy: 0.6971 - val_loss: 0.6296 - val_accuracy: 0.6781\n",
      "Epoch 46/1000\n",
      "124/124 [==============================] - 0s 2ms/step - loss: 0.6101 - accuracy: 0.6987 - val_loss: 0.6194 - val_accuracy: 0.6903\n",
      "Epoch 47/1000\n",
      "124/124 [==============================] - 0s 2ms/step - loss: 0.6107 - accuracy: 0.6959 - val_loss: 0.6172 - val_accuracy: 0.6872\n",
      "Epoch 48/1000\n",
      "124/124 [==============================] - 0s 2ms/step - loss: 0.6084 - accuracy: 0.6966 - val_loss: 0.6134 - val_accuracy: 0.6943\n",
      "Epoch 49/1000\n",
      "124/124 [==============================] - 0s 2ms/step - loss: 0.6088 - accuracy: 0.6954 - val_loss: 0.6144 - val_accuracy: 0.6943\n",
      "Epoch 50/1000\n",
      "124/124 [==============================] - 0s 2ms/step - loss: 0.6103 - accuracy: 0.6936 - val_loss: 0.6155 - val_accuracy: 0.6872\n",
      "Epoch 51/1000\n",
      "124/124 [==============================] - 0s 2ms/step - loss: 0.6085 - accuracy: 0.6989 - val_loss: 0.6136 - val_accuracy: 0.6913\n",
      "Epoch 52/1000\n",
      "124/124 [==============================] - 0s 2ms/step - loss: 0.6068 - accuracy: 0.7014 - val_loss: 0.6285 - val_accuracy: 0.6721\n",
      "Epoch 53/1000\n",
      "124/124 [==============================] - 0s 2ms/step - loss: 0.6084 - accuracy: 0.6961 - val_loss: 0.6197 - val_accuracy: 0.6832\n",
      "Epoch 54/1000\n",
      "124/124 [==============================] - 0s 2ms/step - loss: 0.6080 - accuracy: 0.6997 - val_loss: 0.6210 - val_accuracy: 0.6872\n",
      "Epoch 55/1000\n",
      "124/124 [==============================] - 0s 2ms/step - loss: 0.6083 - accuracy: 0.6949 - val_loss: 0.6323 - val_accuracy: 0.6883\n"
     ]
    },
    {
     "name": "stdout",
     "output_type": "stream",
     "text": [
      "Epoch 56/1000\n",
      "124/124 [==============================] - 0s 2ms/step - loss: 0.6059 - accuracy: 0.7014 - val_loss: 0.6134 - val_accuracy: 0.6923\n",
      "Epoch 57/1000\n",
      "124/124 [==============================] - 0s 2ms/step - loss: 0.6052 - accuracy: 0.7017 - val_loss: 0.6179 - val_accuracy: 0.6812\n",
      "Epoch 58/1000\n",
      "124/124 [==============================] - 0s 2ms/step - loss: 0.6048 - accuracy: 0.6997 - val_loss: 0.6161 - val_accuracy: 0.6791\n",
      "Epoch 59/1000\n",
      "124/124 [==============================] - 0s 2ms/step - loss: 0.6050 - accuracy: 0.6999 - val_loss: 0.6189 - val_accuracy: 0.6893\n",
      "Epoch 60/1000\n",
      "124/124 [==============================] - 0s 2ms/step - loss: 0.6041 - accuracy: 0.6994 - val_loss: 0.6173 - val_accuracy: 0.6832\n",
      "Epoch 61/1000\n",
      "124/124 [==============================] - 0s 2ms/step - loss: 0.6039 - accuracy: 0.6992 - val_loss: 0.6118 - val_accuracy: 0.6933\n",
      "Epoch 62/1000\n",
      "124/124 [==============================] - 0s 2ms/step - loss: 0.6039 - accuracy: 0.7025 - val_loss: 0.6135 - val_accuracy: 0.6842\n",
      "Epoch 63/1000\n",
      "124/124 [==============================] - 0s 2ms/step - loss: 0.6057 - accuracy: 0.6969 - val_loss: 0.6174 - val_accuracy: 0.6832\n",
      "Epoch 64/1000\n",
      "124/124 [==============================] - 0s 2ms/step - loss: 0.6031 - accuracy: 0.6969 - val_loss: 0.6125 - val_accuracy: 0.6933\n",
      "Epoch 65/1000\n",
      "124/124 [==============================] - 0s 2ms/step - loss: 0.6042 - accuracy: 0.7025 - val_loss: 0.6176 - val_accuracy: 0.6822\n",
      "Epoch 66/1000\n",
      "124/124 [==============================] - 0s 2ms/step - loss: 0.6023 - accuracy: 0.7035 - val_loss: 0.6114 - val_accuracy: 0.6943\n",
      "Epoch 67/1000\n",
      "124/124 [==============================] - 0s 2ms/step - loss: 0.6021 - accuracy: 0.7017 - val_loss: 0.6112 - val_accuracy: 0.6964\n",
      "Epoch 68/1000\n",
      "124/124 [==============================] - 0s 2ms/step - loss: 0.6039 - accuracy: 0.7022 - val_loss: 0.6130 - val_accuracy: 0.6913\n",
      "Epoch 69/1000\n",
      "124/124 [==============================] - 0s 2ms/step - loss: 0.6023 - accuracy: 0.6994 - val_loss: 0.6124 - val_accuracy: 0.6842\n",
      "Epoch 70/1000\n",
      "124/124 [==============================] - 0s 2ms/step - loss: 0.6022 - accuracy: 0.7017 - val_loss: 0.6127 - val_accuracy: 0.6903\n",
      "Epoch 71/1000\n",
      "124/124 [==============================] - 0s 2ms/step - loss: 0.6020 - accuracy: 0.7004 - val_loss: 0.6138 - val_accuracy: 0.6893\n",
      "Epoch 72/1000\n",
      "124/124 [==============================] - 0s 2ms/step - loss: 0.6013 - accuracy: 0.7012 - val_loss: 0.6118 - val_accuracy: 0.6923\n",
      "Epoch 73/1000\n",
      "124/124 [==============================] - 0s 2ms/step - loss: 0.6002 - accuracy: 0.7025 - val_loss: 0.6091 - val_accuracy: 0.6984\n",
      "Epoch 74/1000\n",
      "124/124 [==============================] - 0s 2ms/step - loss: 0.6003 - accuracy: 0.7017 - val_loss: 0.6113 - val_accuracy: 0.6923\n",
      "Epoch 75/1000\n",
      "124/124 [==============================] - 0s 2ms/step - loss: 0.6004 - accuracy: 0.6987 - val_loss: 0.6131 - val_accuracy: 0.6923\n",
      "Epoch 76/1000\n",
      "124/124 [==============================] - 0s 2ms/step - loss: 0.6001 - accuracy: 0.7027 - val_loss: 0.6135 - val_accuracy: 0.6862\n",
      "Epoch 77/1000\n",
      "124/124 [==============================] - 0s 2ms/step - loss: 0.6003 - accuracy: 0.7022 - val_loss: 0.6095 - val_accuracy: 0.6953\n",
      "Epoch 78/1000\n",
      "124/124 [==============================] - 0s 2ms/step - loss: 0.6005 - accuracy: 0.7030 - val_loss: 0.6146 - val_accuracy: 0.6852\n",
      "Epoch 79/1000\n",
      "124/124 [==============================] - 0s 2ms/step - loss: 0.6015 - accuracy: 0.6966 - val_loss: 0.6133 - val_accuracy: 0.6903\n",
      "Epoch 80/1000\n",
      "124/124 [==============================] - 0s 2ms/step - loss: 0.6000 - accuracy: 0.6994 - val_loss: 0.6181 - val_accuracy: 0.6771\n",
      "Epoch 81/1000\n",
      "124/124 [==============================] - 0s 2ms/step - loss: 0.5996 - accuracy: 0.6997 - val_loss: 0.6099 - val_accuracy: 0.6933\n",
      "Epoch 82/1000\n",
      "124/124 [==============================] - 0s 2ms/step - loss: 0.5985 - accuracy: 0.7047 - val_loss: 0.6121 - val_accuracy: 0.6953\n",
      "Epoch 83/1000\n",
      "124/124 [==============================] - 0s 2ms/step - loss: 0.6008 - accuracy: 0.6974 - val_loss: 0.6116 - val_accuracy: 0.6953\n",
      "Epoch 84/1000\n",
      "124/124 [==============================] - 0s 2ms/step - loss: 0.6006 - accuracy: 0.6982 - val_loss: 0.6147 - val_accuracy: 0.6943\n",
      "Epoch 85/1000\n",
      "124/124 [==============================] - 0s 2ms/step - loss: 0.6014 - accuracy: 0.6999 - val_loss: 0.6157 - val_accuracy: 0.6842\n",
      "Epoch 86/1000\n",
      "124/124 [==============================] - 0s 2ms/step - loss: 0.6003 - accuracy: 0.7022 - val_loss: 0.6090 - val_accuracy: 0.6943\n",
      "Epoch 87/1000\n",
      "124/124 [==============================] - 0s 2ms/step - loss: 0.5980 - accuracy: 0.7037 - val_loss: 0.6147 - val_accuracy: 0.6832\n",
      "Epoch 88/1000\n",
      "124/124 [==============================] - 0s 2ms/step - loss: 0.5986 - accuracy: 0.7035 - val_loss: 0.6110 - val_accuracy: 0.6923\n",
      "Epoch 89/1000\n",
      "124/124 [==============================] - 0s 2ms/step - loss: 0.5982 - accuracy: 0.6999 - val_loss: 0.6147 - val_accuracy: 0.6771\n",
      "Epoch 90/1000\n",
      "124/124 [==============================] - 0s 2ms/step - loss: 0.5988 - accuracy: 0.7012 - val_loss: 0.6171 - val_accuracy: 0.6812\n",
      "Epoch 91/1000\n",
      "124/124 [==============================] - 0s 2ms/step - loss: 0.5978 - accuracy: 0.7025 - val_loss: 0.6078 - val_accuracy: 0.6994\n",
      "Epoch 92/1000\n",
      "124/124 [==============================] - 0s 2ms/step - loss: 0.5982 - accuracy: 0.7047 - val_loss: 0.6125 - val_accuracy: 0.6933\n",
      "Epoch 93/1000\n",
      "124/124 [==============================] - 0s 2ms/step - loss: 0.5977 - accuracy: 0.7014 - val_loss: 0.6187 - val_accuracy: 0.6771\n",
      "Epoch 94/1000\n",
      "124/124 [==============================] - 0s 2ms/step - loss: 0.6016 - accuracy: 0.6989 - val_loss: 0.6135 - val_accuracy: 0.6872\n",
      "Epoch 95/1000\n",
      "124/124 [==============================] - 0s 2ms/step - loss: 0.5969 - accuracy: 0.7027 - val_loss: 0.6201 - val_accuracy: 0.6791\n",
      "Epoch 96/1000\n",
      "124/124 [==============================] - 0s 2ms/step - loss: 0.5973 - accuracy: 0.7065 - val_loss: 0.6121 - val_accuracy: 0.6852\n",
      "Epoch 97/1000\n",
      "124/124 [==============================] - 0s 2ms/step - loss: 0.5975 - accuracy: 0.7014 - val_loss: 0.6151 - val_accuracy: 0.6832\n",
      "Epoch 98/1000\n",
      "124/124 [==============================] - 0s 2ms/step - loss: 0.5973 - accuracy: 0.7045 - val_loss: 0.6081 - val_accuracy: 0.6953\n",
      "Epoch 99/1000\n",
      "124/124 [==============================] - 0s 2ms/step - loss: 0.5964 - accuracy: 0.7032 - val_loss: 0.6078 - val_accuracy: 0.6984\n",
      "Epoch 100/1000\n",
      "124/124 [==============================] - 0s 2ms/step - loss: 0.5977 - accuracy: 0.7007 - val_loss: 0.6231 - val_accuracy: 0.6802\n",
      "Epoch 101/1000\n",
      "124/124 [==============================] - 0s 2ms/step - loss: 0.5991 - accuracy: 0.7045 - val_loss: 0.6122 - val_accuracy: 0.6883\n",
      "Epoch 102/1000\n",
      "124/124 [==============================] - 0s 2ms/step - loss: 0.5967 - accuracy: 0.7035 - val_loss: 0.6119 - val_accuracy: 0.6994\n",
      "Epoch 103/1000\n",
      "124/124 [==============================] - 0s 2ms/step - loss: 0.5979 - accuracy: 0.7047 - val_loss: 0.6148 - val_accuracy: 0.6893\n",
      "Epoch 104/1000\n",
      "124/124 [==============================] - 0s 2ms/step - loss: 0.5963 - accuracy: 0.7032 - val_loss: 0.6204 - val_accuracy: 0.6822\n",
      "Epoch 105/1000\n",
      "124/124 [==============================] - 0s 2ms/step - loss: 0.5961 - accuracy: 0.7045 - val_loss: 0.6114 - val_accuracy: 0.6842\n",
      "Epoch 106/1000\n",
      "124/124 [==============================] - 0s 2ms/step - loss: 0.5963 - accuracy: 0.7068 - val_loss: 0.6124 - val_accuracy: 0.6842\n",
      "Epoch 107/1000\n",
      "124/124 [==============================] - 0s 2ms/step - loss: 0.5958 - accuracy: 0.7045 - val_loss: 0.6147 - val_accuracy: 0.6791\n",
      "Epoch 108/1000\n",
      "124/124 [==============================] - 0s 3ms/step - loss: 0.5963 - accuracy: 0.6987 - val_loss: 0.6078 - val_accuracy: 0.6974\n",
      "Epoch 109/1000\n",
      "124/124 [==============================] - 0s 3ms/step - loss: 0.5960 - accuracy: 0.7060 - val_loss: 0.6147 - val_accuracy: 0.6832\n",
      "Epoch 110/1000\n",
      "124/124 [==============================] - 0s 3ms/step - loss: 0.5967 - accuracy: 0.7014 - val_loss: 0.6178 - val_accuracy: 0.6791\n",
      "Epoch 111/1000\n",
      "124/124 [==============================] - 0s 2ms/step - loss: 0.5958 - accuracy: 0.7045 - val_loss: 0.6119 - val_accuracy: 0.6974\n",
      "Epoch 112/1000\n"
     ]
    },
    {
     "name": "stdout",
     "output_type": "stream",
     "text": [
      "124/124 [==============================] - 0s 2ms/step - loss: 0.5974 - accuracy: 0.6984 - val_loss: 0.6124 - val_accuracy: 0.6923\n",
      "Epoch 113/1000\n",
      "124/124 [==============================] - 0s 2ms/step - loss: 0.5968 - accuracy: 0.7037 - val_loss: 0.6100 - val_accuracy: 0.6974\n",
      "Epoch 114/1000\n",
      "124/124 [==============================] - 0s 2ms/step - loss: 0.5965 - accuracy: 0.7055 - val_loss: 0.6191 - val_accuracy: 0.6822\n",
      "Epoch 115/1000\n",
      "124/124 [==============================] - 0s 2ms/step - loss: 0.5968 - accuracy: 0.7030 - val_loss: 0.6147 - val_accuracy: 0.6781\n",
      "Epoch 116/1000\n",
      "124/124 [==============================] - 0s 2ms/step - loss: 0.5964 - accuracy: 0.7040 - val_loss: 0.6096 - val_accuracy: 0.6943\n",
      "Epoch 117/1000\n",
      "124/124 [==============================] - 0s 2ms/step - loss: 0.5951 - accuracy: 0.7027 - val_loss: 0.6199 - val_accuracy: 0.6771\n",
      "Epoch 118/1000\n",
      "124/124 [==============================] - 0s 2ms/step - loss: 0.5948 - accuracy: 0.7063 - val_loss: 0.6183 - val_accuracy: 0.6771\n",
      "Epoch 119/1000\n",
      "124/124 [==============================] - 0s 2ms/step - loss: 0.5962 - accuracy: 0.7017 - val_loss: 0.6080 - val_accuracy: 0.6913\n",
      "Epoch 120/1000\n",
      "124/124 [==============================] - 0s 2ms/step - loss: 0.5955 - accuracy: 0.7037 - val_loss: 0.6125 - val_accuracy: 0.6883\n",
      "Epoch 121/1000\n",
      "124/124 [==============================] - 0s 2ms/step - loss: 0.5953 - accuracy: 0.7012 - val_loss: 0.6091 - val_accuracy: 0.6984\n",
      "Epoch 122/1000\n",
      "124/124 [==============================] - 0s 2ms/step - loss: 0.5962 - accuracy: 0.7045 - val_loss: 0.6168 - val_accuracy: 0.6812\n",
      "Epoch 123/1000\n",
      "124/124 [==============================] - 0s 2ms/step - loss: 0.5954 - accuracy: 0.6992 - val_loss: 0.6106 - val_accuracy: 0.6893\n",
      "Epoch 124/1000\n",
      "124/124 [==============================] - 0s 2ms/step - loss: 0.5954 - accuracy: 0.7027 - val_loss: 0.6137 - val_accuracy: 0.6852\n",
      "Epoch 125/1000\n",
      "124/124 [==============================] - 0s 2ms/step - loss: 0.5946 - accuracy: 0.7017 - val_loss: 0.6125 - val_accuracy: 0.6913\n",
      "Epoch 126/1000\n",
      "124/124 [==============================] - 0s 2ms/step - loss: 0.5979 - accuracy: 0.7025 - val_loss: 0.6119 - val_accuracy: 0.6943\n",
      "Epoch 127/1000\n",
      "124/124 [==============================] - 0s 2ms/step - loss: 0.5960 - accuracy: 0.7030 - val_loss: 0.6120 - val_accuracy: 0.6842\n",
      "Epoch 128/1000\n",
      "124/124 [==============================] - 0s 2ms/step - loss: 0.5948 - accuracy: 0.7060 - val_loss: 0.6151 - val_accuracy: 0.6852\n",
      "Epoch 129/1000\n",
      "124/124 [==============================] - 0s 2ms/step - loss: 0.5946 - accuracy: 0.7065 - val_loss: 0.6120 - val_accuracy: 0.6933\n",
      "Epoch 130/1000\n",
      "124/124 [==============================] - 0s 2ms/step - loss: 0.5957 - accuracy: 0.7042 - val_loss: 0.6075 - val_accuracy: 0.6974\n",
      "Epoch 131/1000\n",
      "124/124 [==============================] - 0s 2ms/step - loss: 0.5955 - accuracy: 0.7022 - val_loss: 0.6089 - val_accuracy: 0.6923\n",
      "Epoch 132/1000\n",
      "124/124 [==============================] - 0s 2ms/step - loss: 0.5945 - accuracy: 0.7002 - val_loss: 0.6120 - val_accuracy: 0.6812\n",
      "Epoch 133/1000\n",
      "124/124 [==============================] - 0s 2ms/step - loss: 0.5954 - accuracy: 0.7014 - val_loss: 0.6094 - val_accuracy: 0.6933\n",
      "Epoch 134/1000\n",
      "124/124 [==============================] - 0s 2ms/step - loss: 0.5944 - accuracy: 0.7045 - val_loss: 0.6111 - val_accuracy: 0.6862\n",
      "Epoch 135/1000\n",
      "124/124 [==============================] - 0s 2ms/step - loss: 0.5950 - accuracy: 0.7035 - val_loss: 0.6092 - val_accuracy: 0.6953\n",
      "Epoch 136/1000\n",
      "124/124 [==============================] - 0s 2ms/step - loss: 0.5938 - accuracy: 0.7042 - val_loss: 0.6083 - val_accuracy: 0.6964\n",
      "Epoch 137/1000\n",
      "124/124 [==============================] - 0s 2ms/step - loss: 0.5939 - accuracy: 0.6989 - val_loss: 0.6170 - val_accuracy: 0.6812\n",
      "Epoch 138/1000\n",
      "124/124 [==============================] - 0s 2ms/step - loss: 0.5949 - accuracy: 0.7052 - val_loss: 0.6140 - val_accuracy: 0.6832\n",
      "Epoch 139/1000\n",
      "124/124 [==============================] - 0s 2ms/step - loss: 0.5940 - accuracy: 0.7035 - val_loss: 0.6074 - val_accuracy: 0.6943\n",
      "Epoch 140/1000\n",
      "124/124 [==============================] - 0s 2ms/step - loss: 0.5959 - accuracy: 0.7004 - val_loss: 0.6159 - val_accuracy: 0.6842\n",
      "Epoch 141/1000\n",
      "124/124 [==============================] - 0s 2ms/step - loss: 0.5962 - accuracy: 0.7035 - val_loss: 0.6099 - val_accuracy: 0.6974\n",
      "Epoch 142/1000\n",
      "124/124 [==============================] - 0s 2ms/step - loss: 0.5945 - accuracy: 0.7030 - val_loss: 0.6126 - val_accuracy: 0.6903\n",
      "Epoch 143/1000\n",
      "124/124 [==============================] - 0s 2ms/step - loss: 0.5939 - accuracy: 0.7075 - val_loss: 0.6213 - val_accuracy: 0.6781\n",
      "Epoch 144/1000\n",
      "124/124 [==============================] - 0s 2ms/step - loss: 0.6012 - accuracy: 0.7002 - val_loss: 0.6113 - val_accuracy: 0.6943\n",
      "Epoch 145/1000\n",
      "124/124 [==============================] - 0s 2ms/step - loss: 0.5957 - accuracy: 0.7025 - val_loss: 0.6122 - val_accuracy: 0.6872\n",
      "Epoch 146/1000\n",
      "124/124 [==============================] - 0s 2ms/step - loss: 0.5944 - accuracy: 0.7014 - val_loss: 0.6099 - val_accuracy: 0.6984\n",
      "Epoch 147/1000\n",
      "124/124 [==============================] - 0s 2ms/step - loss: 0.5932 - accuracy: 0.7080 - val_loss: 0.6229 - val_accuracy: 0.6832\n",
      "Epoch 148/1000\n",
      "124/124 [==============================] - 0s 2ms/step - loss: 0.5950 - accuracy: 0.7042 - val_loss: 0.6119 - val_accuracy: 0.6852\n",
      "Epoch 149/1000\n",
      "124/124 [==============================] - 0s 2ms/step - loss: 0.5933 - accuracy: 0.7037 - val_loss: 0.6100 - val_accuracy: 0.6883\n",
      "Epoch 150/1000\n",
      "124/124 [==============================] - 0s 2ms/step - loss: 0.5928 - accuracy: 0.7057 - val_loss: 0.6119 - val_accuracy: 0.6832\n",
      "Epoch 151/1000\n",
      "124/124 [==============================] - 0s 2ms/step - loss: 0.5940 - accuracy: 0.7025 - val_loss: 0.6099 - val_accuracy: 0.6933\n",
      "Epoch 152/1000\n",
      "124/124 [==============================] - 0s 2ms/step - loss: 0.5936 - accuracy: 0.7012 - val_loss: 0.6113 - val_accuracy: 0.6893\n",
      "Epoch 153/1000\n",
      "124/124 [==============================] - 0s 2ms/step - loss: 0.5924 - accuracy: 0.7040 - val_loss: 0.6168 - val_accuracy: 0.6771\n",
      "Epoch 154/1000\n",
      "124/124 [==============================] - 0s 2ms/step - loss: 0.5934 - accuracy: 0.7052 - val_loss: 0.6086 - val_accuracy: 0.6862\n",
      "Epoch 155/1000\n",
      "124/124 [==============================] - 0s 2ms/step - loss: 0.5959 - accuracy: 0.7042 - val_loss: 0.6107 - val_accuracy: 0.6903\n",
      "Epoch 156/1000\n",
      "124/124 [==============================] - 0s 2ms/step - loss: 0.5944 - accuracy: 0.7032 - val_loss: 0.6076 - val_accuracy: 0.6974\n",
      "Epoch 157/1000\n",
      "124/124 [==============================] - 0s 2ms/step - loss: 0.5927 - accuracy: 0.7093 - val_loss: 0.6176 - val_accuracy: 0.6822\n",
      "Epoch 158/1000\n",
      "124/124 [==============================] - 0s 2ms/step - loss: 0.5947 - accuracy: 0.7055 - val_loss: 0.6067 - val_accuracy: 0.6984\n",
      "Epoch 159/1000\n",
      "124/124 [==============================] - 0s 2ms/step - loss: 0.5928 - accuracy: 0.7050 - val_loss: 0.6112 - val_accuracy: 0.6913\n",
      "Epoch 160/1000\n",
      "124/124 [==============================] - 0s 2ms/step - loss: 0.5944 - accuracy: 0.7012 - val_loss: 0.6065 - val_accuracy: 0.6943\n",
      "Epoch 161/1000\n",
      "124/124 [==============================] - 0s 2ms/step - loss: 0.5933 - accuracy: 0.7065 - val_loss: 0.6098 - val_accuracy: 0.6913\n",
      "Epoch 162/1000\n",
      "124/124 [==============================] - 0s 2ms/step - loss: 0.5931 - accuracy: 0.7037 - val_loss: 0.6083 - val_accuracy: 0.6994\n",
      "Epoch 163/1000\n",
      "124/124 [==============================] - 0s 2ms/step - loss: 0.5941 - accuracy: 0.7007 - val_loss: 0.6116 - val_accuracy: 0.6862\n",
      "Epoch 164/1000\n",
      "124/124 [==============================] - 0s 2ms/step - loss: 0.5964 - accuracy: 0.6997 - val_loss: 0.6089 - val_accuracy: 0.6933\n",
      "Epoch 165/1000\n",
      "124/124 [==============================] - 0s 2ms/step - loss: 0.5935 - accuracy: 0.7030 - val_loss: 0.6189 - val_accuracy: 0.6751\n",
      "Epoch 166/1000\n",
      "124/124 [==============================] - 0s 2ms/step - loss: 0.5942 - accuracy: 0.7042 - val_loss: 0.6087 - val_accuracy: 0.6893\n",
      "Epoch 167/1000\n",
      "124/124 [==============================] - 0s 2ms/step - loss: 0.5942 - accuracy: 0.7007 - val_loss: 0.6070 - val_accuracy: 0.6933\n",
      "Epoch 168/1000\n"
     ]
    },
    {
     "name": "stdout",
     "output_type": "stream",
     "text": [
      "124/124 [==============================] - 0s 2ms/step - loss: 0.5932 - accuracy: 0.7012 - val_loss: 0.6125 - val_accuracy: 0.6862\n",
      "Epoch 169/1000\n",
      "124/124 [==============================] - 0s 2ms/step - loss: 0.5946 - accuracy: 0.7032 - val_loss: 0.6081 - val_accuracy: 0.6933\n",
      "Epoch 170/1000\n",
      "124/124 [==============================] - 0s 2ms/step - loss: 0.5950 - accuracy: 0.7030 - val_loss: 0.6117 - val_accuracy: 0.6913\n",
      "Epoch 171/1000\n",
      "124/124 [==============================] - 0s 2ms/step - loss: 0.5939 - accuracy: 0.7040 - val_loss: 0.6099 - val_accuracy: 0.6974\n",
      "Epoch 172/1000\n",
      "124/124 [==============================] - 0s 2ms/step - loss: 0.5933 - accuracy: 0.7035 - val_loss: 0.6121 - val_accuracy: 0.6842\n",
      "Epoch 173/1000\n",
      "124/124 [==============================] - 0s 2ms/step - loss: 0.5945 - accuracy: 0.7027 - val_loss: 0.6105 - val_accuracy: 0.6964\n",
      "Epoch 174/1000\n",
      "124/124 [==============================] - 0s 2ms/step - loss: 0.5933 - accuracy: 0.7012 - val_loss: 0.6130 - val_accuracy: 0.6862\n",
      "Epoch 175/1000\n",
      "124/124 [==============================] - 0s 2ms/step - loss: 0.5935 - accuracy: 0.7012 - val_loss: 0.6123 - val_accuracy: 0.6862\n",
      "Epoch 176/1000\n",
      "124/124 [==============================] - 0s 2ms/step - loss: 0.5939 - accuracy: 0.7042 - val_loss: 0.6076 - val_accuracy: 0.6933\n",
      "Epoch 177/1000\n",
      "124/124 [==============================] - 0s 2ms/step - loss: 0.5933 - accuracy: 0.7042 - val_loss: 0.6107 - val_accuracy: 0.6893\n",
      "Epoch 178/1000\n",
      "124/124 [==============================] - 0s 2ms/step - loss: 0.5925 - accuracy: 0.7063 - val_loss: 0.6151 - val_accuracy: 0.6802\n",
      "Epoch 179/1000\n",
      "124/124 [==============================] - 0s 2ms/step - loss: 0.5935 - accuracy: 0.7017 - val_loss: 0.6109 - val_accuracy: 0.6903\n",
      "Epoch 180/1000\n",
      "124/124 [==============================] - 0s 2ms/step - loss: 0.5938 - accuracy: 0.7025 - val_loss: 0.6086 - val_accuracy: 0.6913\n",
      "Epoch 181/1000\n",
      "124/124 [==============================] - 0s 2ms/step - loss: 0.5945 - accuracy: 0.7027 - val_loss: 0.6089 - val_accuracy: 0.6903\n",
      "Epoch 182/1000\n",
      "124/124 [==============================] - 0s 2ms/step - loss: 0.5933 - accuracy: 0.7040 - val_loss: 0.6131 - val_accuracy: 0.6893\n",
      "Epoch 183/1000\n",
      "124/124 [==============================] - 0s 2ms/step - loss: 0.5933 - accuracy: 0.7040 - val_loss: 0.6087 - val_accuracy: 0.6903\n",
      "Epoch 184/1000\n",
      "124/124 [==============================] - 0s 2ms/step - loss: 0.5952 - accuracy: 0.7037 - val_loss: 0.6073 - val_accuracy: 0.6994\n",
      "Epoch 185/1000\n",
      "124/124 [==============================] - 0s 2ms/step - loss: 0.5943 - accuracy: 0.7025 - val_loss: 0.6066 - val_accuracy: 0.6974\n",
      "Epoch 186/1000\n",
      "124/124 [==============================] - 0s 2ms/step - loss: 0.5929 - accuracy: 0.7045 - val_loss: 0.6106 - val_accuracy: 0.6893\n",
      "Epoch 187/1000\n",
      "124/124 [==============================] - 0s 2ms/step - loss: 0.5920 - accuracy: 0.7068 - val_loss: 0.6079 - val_accuracy: 0.6964\n",
      "Epoch 188/1000\n",
      "124/124 [==============================] - 0s 2ms/step - loss: 0.5921 - accuracy: 0.7050 - val_loss: 0.6084 - val_accuracy: 0.6913\n",
      "Epoch 189/1000\n",
      "124/124 [==============================] - 0s 2ms/step - loss: 0.5928 - accuracy: 0.7022 - val_loss: 0.6075 - val_accuracy: 0.6933\n",
      "Epoch 190/1000\n",
      "124/124 [==============================] - 0s 2ms/step - loss: 0.5932 - accuracy: 0.7030 - val_loss: 0.6142 - val_accuracy: 0.6802\n",
      "Epoch 191/1000\n",
      "124/124 [==============================] - 0s 2ms/step - loss: 0.5930 - accuracy: 0.6999 - val_loss: 0.6081 - val_accuracy: 0.6933\n",
      "Epoch 192/1000\n",
      "124/124 [==============================] - 0s 2ms/step - loss: 0.5917 - accuracy: 0.7042 - val_loss: 0.6124 - val_accuracy: 0.6893\n",
      "Epoch 193/1000\n",
      "124/124 [==============================] - 0s 2ms/step - loss: 0.5936 - accuracy: 0.7035 - val_loss: 0.6104 - val_accuracy: 0.6943\n",
      "Epoch 194/1000\n",
      "124/124 [==============================] - 0s 2ms/step - loss: 0.5925 - accuracy: 0.7035 - val_loss: 0.6089 - val_accuracy: 0.6903\n",
      "Epoch 195/1000\n",
      "124/124 [==============================] - 0s 2ms/step - loss: 0.5916 - accuracy: 0.7078 - val_loss: 0.6162 - val_accuracy: 0.6862\n",
      "Epoch 196/1000\n",
      "124/124 [==============================] - 0s 2ms/step - loss: 0.5919 - accuracy: 0.7055 - val_loss: 0.6085 - val_accuracy: 0.6933\n",
      "Epoch 197/1000\n",
      "124/124 [==============================] - 0s 2ms/step - loss: 0.5912 - accuracy: 0.7050 - val_loss: 0.6080 - val_accuracy: 0.6933\n",
      "Epoch 198/1000\n",
      "124/124 [==============================] - 0s 2ms/step - loss: 0.5926 - accuracy: 0.7078 - val_loss: 0.6149 - val_accuracy: 0.6822\n",
      "Epoch 199/1000\n",
      "124/124 [==============================] - 0s 2ms/step - loss: 0.5934 - accuracy: 0.7047 - val_loss: 0.6076 - val_accuracy: 0.6953\n",
      "Epoch 200/1000\n",
      "124/124 [==============================] - 0s 2ms/step - loss: 0.5925 - accuracy: 0.7032 - val_loss: 0.6076 - val_accuracy: 0.6943\n",
      "Epoch 201/1000\n",
      "124/124 [==============================] - 0s 2ms/step - loss: 0.5933 - accuracy: 0.7037 - val_loss: 0.6117 - val_accuracy: 0.6893\n",
      "Epoch 202/1000\n",
      "124/124 [==============================] - 0s 2ms/step - loss: 0.5923 - accuracy: 0.7014 - val_loss: 0.6152 - val_accuracy: 0.6842\n",
      "Epoch 203/1000\n",
      "124/124 [==============================] - 0s 2ms/step - loss: 0.5935 - accuracy: 0.7068 - val_loss: 0.6058 - val_accuracy: 0.6964\n",
      "Epoch 204/1000\n",
      "124/124 [==============================] - 0s 2ms/step - loss: 0.5927 - accuracy: 0.7025 - val_loss: 0.6103 - val_accuracy: 0.6893\n",
      "Epoch 205/1000\n",
      "124/124 [==============================] - 0s 2ms/step - loss: 0.5922 - accuracy: 0.7045 - val_loss: 0.6068 - val_accuracy: 0.6953\n",
      "Epoch 206/1000\n",
      "124/124 [==============================] - 0s 2ms/step - loss: 0.5933 - accuracy: 0.7025 - val_loss: 0.6111 - val_accuracy: 0.6903\n",
      "Epoch 207/1000\n",
      "124/124 [==============================] - 0s 2ms/step - loss: 0.5928 - accuracy: 0.7014 - val_loss: 0.6085 - val_accuracy: 0.6933\n",
      "Epoch 208/1000\n",
      "124/124 [==============================] - 0s 2ms/step - loss: 0.5921 - accuracy: 0.7057 - val_loss: 0.6063 - val_accuracy: 0.6933\n",
      "Epoch 209/1000\n",
      "124/124 [==============================] - 0s 2ms/step - loss: 0.5928 - accuracy: 0.7060 - val_loss: 0.6067 - val_accuracy: 0.6943\n",
      "Epoch 210/1000\n",
      "124/124 [==============================] - 0s 2ms/step - loss: 0.5919 - accuracy: 0.7050 - val_loss: 0.6117 - val_accuracy: 0.6872\n",
      "Epoch 211/1000\n",
      "124/124 [==============================] - 0s 2ms/step - loss: 0.5927 - accuracy: 0.7070 - val_loss: 0.6076 - val_accuracy: 0.6964\n",
      "Epoch 212/1000\n",
      "124/124 [==============================] - 0s 2ms/step - loss: 0.5923 - accuracy: 0.7065 - val_loss: 0.6098 - val_accuracy: 0.6913\n",
      "Epoch 213/1000\n",
      "124/124 [==============================] - 0s 2ms/step - loss: 0.5931 - accuracy: 0.7050 - val_loss: 0.6085 - val_accuracy: 0.6953\n",
      "Epoch 214/1000\n",
      "124/124 [==============================] - 0s 2ms/step - loss: 0.5924 - accuracy: 0.7095 - val_loss: 0.6070 - val_accuracy: 0.6974\n",
      "Epoch 215/1000\n",
      "124/124 [==============================] - 0s 2ms/step - loss: 0.5924 - accuracy: 0.7063 - val_loss: 0.6066 - val_accuracy: 0.6964\n",
      "Epoch 216/1000\n",
      "124/124 [==============================] - 0s 2ms/step - loss: 0.5931 - accuracy: 0.7032 - val_loss: 0.6079 - val_accuracy: 0.6923\n",
      "Epoch 217/1000\n",
      "124/124 [==============================] - 0s 2ms/step - loss: 0.5924 - accuracy: 0.7007 - val_loss: 0.6074 - val_accuracy: 0.6964\n",
      "Epoch 218/1000\n",
      "124/124 [==============================] - 0s 2ms/step - loss: 0.5925 - accuracy: 0.7032 - val_loss: 0.6084 - val_accuracy: 0.6913\n",
      "Epoch 219/1000\n",
      "124/124 [==============================] - 0s 2ms/step - loss: 0.5931 - accuracy: 0.7045 - val_loss: 0.6102 - val_accuracy: 0.6893\n",
      "Epoch 220/1000\n",
      "124/124 [==============================] - 0s 2ms/step - loss: 0.5926 - accuracy: 0.7022 - val_loss: 0.6123 - val_accuracy: 0.6812\n",
      "Epoch 221/1000\n",
      "124/124 [==============================] - 0s 2ms/step - loss: 0.5919 - accuracy: 0.7075 - val_loss: 0.6067 - val_accuracy: 0.6994\n",
      "Epoch 222/1000\n",
      "124/124 [==============================] - 0s 2ms/step - loss: 0.5925 - accuracy: 0.7042 - val_loss: 0.6076 - val_accuracy: 0.6953\n",
      "Epoch 223/1000\n",
      "124/124 [==============================] - 0s 2ms/step - loss: 0.5924 - accuracy: 0.7065 - val_loss: 0.6104 - val_accuracy: 0.6872\n",
      "Epoch 224/1000\n"
     ]
    },
    {
     "name": "stdout",
     "output_type": "stream",
     "text": [
      "124/124 [==============================] - 0s 2ms/step - loss: 0.5914 - accuracy: 0.7055 - val_loss: 0.6093 - val_accuracy: 0.6872\n",
      "Epoch 225/1000\n",
      "124/124 [==============================] - 0s 3ms/step - loss: 0.5923 - accuracy: 0.7027 - val_loss: 0.6118 - val_accuracy: 0.6862\n",
      "Epoch 226/1000\n",
      "124/124 [==============================] - 1s 4ms/step - loss: 0.5921 - accuracy: 0.7065 - val_loss: 0.6079 - val_accuracy: 0.6913\n",
      "Epoch 227/1000\n",
      "124/124 [==============================] - 0s 3ms/step - loss: 0.5930 - accuracy: 0.7070 - val_loss: 0.6072 - val_accuracy: 0.6953\n",
      "Epoch 228/1000\n",
      "124/124 [==============================] - 0s 3ms/step - loss: 0.5923 - accuracy: 0.7060 - val_loss: 0.6082 - val_accuracy: 0.6923\n",
      "Epoch 229/1000\n",
      "124/124 [==============================] - 0s 2ms/step - loss: 0.5923 - accuracy: 0.7032 - val_loss: 0.6066 - val_accuracy: 0.6974\n",
      "Epoch 230/1000\n",
      "124/124 [==============================] - 0s 2ms/step - loss: 0.5918 - accuracy: 0.7047 - val_loss: 0.6164 - val_accuracy: 0.6791\n",
      "Epoch 231/1000\n",
      "124/124 [==============================] - 0s 2ms/step - loss: 0.5921 - accuracy: 0.7017 - val_loss: 0.6079 - val_accuracy: 0.6923\n",
      "Epoch 232/1000\n",
      "124/124 [==============================] - 0s 2ms/step - loss: 0.5915 - accuracy: 0.7065 - val_loss: 0.6073 - val_accuracy: 0.6964\n",
      "Epoch 233/1000\n",
      "124/124 [==============================] - 0s 3ms/step - loss: 0.5940 - accuracy: 0.6989 - val_loss: 0.6075 - val_accuracy: 0.6974\n",
      "Epoch 234/1000\n",
      "124/124 [==============================] - 0s 3ms/step - loss: 0.5925 - accuracy: 0.7065 - val_loss: 0.6068 - val_accuracy: 0.6974\n",
      "Epoch 235/1000\n",
      "124/124 [==============================] - 0s 3ms/step - loss: 0.5908 - accuracy: 0.7025 - val_loss: 0.6138 - val_accuracy: 0.6883\n",
      "Epoch 236/1000\n",
      "124/124 [==============================] - 0s 3ms/step - loss: 0.5923 - accuracy: 0.7009 - val_loss: 0.6068 - val_accuracy: 0.6953\n",
      "Epoch 237/1000\n",
      "124/124 [==============================] - 0s 3ms/step - loss: 0.5919 - accuracy: 0.7065 - val_loss: 0.6090 - val_accuracy: 0.6903\n",
      "Epoch 238/1000\n",
      "124/124 [==============================] - 0s 3ms/step - loss: 0.5924 - accuracy: 0.7055 - val_loss: 0.6115 - val_accuracy: 0.6862\n",
      "Epoch 239/1000\n",
      "124/124 [==============================] - 0s 3ms/step - loss: 0.5920 - accuracy: 0.7068 - val_loss: 0.6056 - val_accuracy: 0.6984\n",
      "Epoch 240/1000\n",
      "124/124 [==============================] - 0s 3ms/step - loss: 0.5917 - accuracy: 0.7012 - val_loss: 0.6059 - val_accuracy: 0.7014\n",
      "Epoch 241/1000\n",
      "124/124 [==============================] - 0s 3ms/step - loss: 0.5924 - accuracy: 0.7019 - val_loss: 0.6119 - val_accuracy: 0.6883\n",
      "Epoch 242/1000\n",
      "124/124 [==============================] - 0s 3ms/step - loss: 0.5933 - accuracy: 0.7007 - val_loss: 0.6073 - val_accuracy: 0.6923\n",
      "Epoch 243/1000\n",
      "124/124 [==============================] - 0s 3ms/step - loss: 0.5920 - accuracy: 0.7025 - val_loss: 0.6112 - val_accuracy: 0.6872\n",
      "Epoch 244/1000\n",
      "124/124 [==============================] - 0s 3ms/step - loss: 0.5915 - accuracy: 0.7050 - val_loss: 0.6117 - val_accuracy: 0.6903\n",
      "Epoch 245/1000\n",
      "124/124 [==============================] - 0s 3ms/step - loss: 0.5931 - accuracy: 0.7052 - val_loss: 0.6090 - val_accuracy: 0.6893\n",
      "Epoch 246/1000\n",
      "124/124 [==============================] - 0s 2ms/step - loss: 0.5916 - accuracy: 0.7037 - val_loss: 0.6123 - val_accuracy: 0.6872\n",
      "Epoch 247/1000\n",
      "124/124 [==============================] - 0s 2ms/step - loss: 0.5923 - accuracy: 0.7019 - val_loss: 0.6092 - val_accuracy: 0.6893\n",
      "Epoch 248/1000\n",
      "124/124 [==============================] - 0s 2ms/step - loss: 0.5910 - accuracy: 0.7019 - val_loss: 0.6102 - val_accuracy: 0.6872\n",
      "Epoch 249/1000\n",
      "124/124 [==============================] - 0s 3ms/step - loss: 0.5909 - accuracy: 0.7032 - val_loss: 0.6145 - val_accuracy: 0.6761\n",
      "Epoch 250/1000\n",
      "124/124 [==============================] - 0s 3ms/step - loss: 0.5915 - accuracy: 0.7014 - val_loss: 0.6067 - val_accuracy: 0.6974\n",
      "Epoch 251/1000\n",
      "124/124 [==============================] - 0s 3ms/step - loss: 0.5919 - accuracy: 0.7030 - val_loss: 0.6143 - val_accuracy: 0.6802\n",
      "Epoch 252/1000\n",
      "124/124 [==============================] - 0s 3ms/step - loss: 0.5929 - accuracy: 0.7057 - val_loss: 0.6078 - val_accuracy: 0.6893\n",
      "Epoch 253/1000\n",
      "124/124 [==============================] - 0s 3ms/step - loss: 0.5948 - accuracy: 0.7060 - val_loss: 0.6090 - val_accuracy: 0.6893\n",
      "Epoch 254/1000\n",
      "124/124 [==============================] - 0s 3ms/step - loss: 0.5916 - accuracy: 0.7040 - val_loss: 0.6090 - val_accuracy: 0.6923\n",
      "Epoch 255/1000\n",
      "124/124 [==============================] - 0s 3ms/step - loss: 0.5923 - accuracy: 0.7057 - val_loss: 0.6081 - val_accuracy: 0.6913\n",
      "Epoch 256/1000\n",
      "124/124 [==============================] - 0s 3ms/step - loss: 0.5916 - accuracy: 0.7022 - val_loss: 0.6070 - val_accuracy: 0.6943\n",
      "Epoch 257/1000\n",
      "124/124 [==============================] - 0s 3ms/step - loss: 0.5923 - accuracy: 0.7057 - val_loss: 0.6098 - val_accuracy: 0.6933\n",
      "Epoch 258/1000\n",
      "124/124 [==============================] - 0s 3ms/step - loss: 0.5916 - accuracy: 0.7063 - val_loss: 0.6120 - val_accuracy: 0.6893\n",
      "Epoch 259/1000\n",
      "124/124 [==============================] - 0s 3ms/step - loss: 0.5908 - accuracy: 0.7060 - val_loss: 0.6104 - val_accuracy: 0.6893\n",
      "Epoch 260/1000\n",
      "124/124 [==============================] - 0s 3ms/step - loss: 0.5914 - accuracy: 0.7073 - val_loss: 0.6085 - val_accuracy: 0.6903\n",
      "Epoch 261/1000\n",
      "124/124 [==============================] - 0s 2ms/step - loss: 0.5908 - accuracy: 0.7050 - val_loss: 0.6138 - val_accuracy: 0.6893\n",
      "Epoch 262/1000\n",
      "124/124 [==============================] - 0s 2ms/step - loss: 0.5927 - accuracy: 0.7027 - val_loss: 0.6084 - val_accuracy: 0.6913\n",
      "Epoch 263/1000\n",
      "124/124 [==============================] - 0s 3ms/step - loss: 0.5904 - accuracy: 0.7083 - val_loss: 0.6093 - val_accuracy: 0.6883\n",
      "Epoch 264/1000\n",
      "124/124 [==============================] - 0s 3ms/step - loss: 0.5926 - accuracy: 0.7093 - val_loss: 0.6081 - val_accuracy: 0.6923\n",
      "Epoch 265/1000\n",
      "124/124 [==============================] - 0s 3ms/step - loss: 0.5918 - accuracy: 0.7022 - val_loss: 0.6074 - val_accuracy: 0.6933\n",
      "Epoch 266/1000\n",
      "124/124 [==============================] - 0s 3ms/step - loss: 0.5914 - accuracy: 0.7060 - val_loss: 0.6084 - val_accuracy: 0.6893\n",
      "Epoch 267/1000\n",
      "124/124 [==============================] - 0s 2ms/step - loss: 0.5910 - accuracy: 0.7050 - val_loss: 0.6098 - val_accuracy: 0.6913\n",
      "Epoch 268/1000\n",
      "124/124 [==============================] - 0s 2ms/step - loss: 0.5912 - accuracy: 0.7037 - val_loss: 0.6073 - val_accuracy: 0.6862\n",
      "Epoch 269/1000\n",
      "124/124 [==============================] - 0s 2ms/step - loss: 0.5926 - accuracy: 0.7012 - val_loss: 0.6055 - val_accuracy: 0.6974\n",
      "Epoch 270/1000\n",
      "124/124 [==============================] - 0s 2ms/step - loss: 0.5919 - accuracy: 0.7050 - val_loss: 0.6107 - val_accuracy: 0.6842\n",
      "Epoch 271/1000\n",
      "124/124 [==============================] - 0s 2ms/step - loss: 0.5922 - accuracy: 0.7050 - val_loss: 0.6051 - val_accuracy: 0.6933\n",
      "Epoch 272/1000\n",
      "124/124 [==============================] - 0s 3ms/step - loss: 0.5909 - accuracy: 0.7037 - val_loss: 0.6106 - val_accuracy: 0.6883\n",
      "Epoch 273/1000\n",
      "124/124 [==============================] - 0s 4ms/step - loss: 0.5909 - accuracy: 0.7027 - val_loss: 0.6078 - val_accuracy: 0.6953\n",
      "Epoch 274/1000\n",
      "124/124 [==============================] - 0s 2ms/step - loss: 0.5914 - accuracy: 0.7098 - val_loss: 0.6063 - val_accuracy: 0.6984\n",
      "Epoch 275/1000\n",
      "124/124 [==============================] - 0s 2ms/step - loss: 0.5918 - accuracy: 0.7052 - val_loss: 0.6081 - val_accuracy: 0.6893\n",
      "Epoch 276/1000\n",
      "124/124 [==============================] - 0s 2ms/step - loss: 0.5922 - accuracy: 0.7090 - val_loss: 0.6104 - val_accuracy: 0.6964\n",
      "Epoch 277/1000\n",
      "124/124 [==============================] - 0s 2ms/step - loss: 0.5903 - accuracy: 0.7075 - val_loss: 0.6139 - val_accuracy: 0.6781\n",
      "Epoch 278/1000\n",
      "124/124 [==============================] - 0s 2ms/step - loss: 0.5908 - accuracy: 0.7017 - val_loss: 0.6065 - val_accuracy: 0.6974\n",
      "Epoch 279/1000\n",
      "124/124 [==============================] - 0s 2ms/step - loss: 0.5917 - accuracy: 0.7078 - val_loss: 0.6089 - val_accuracy: 0.6964\n",
      "Epoch 280/1000\n"
     ]
    },
    {
     "name": "stdout",
     "output_type": "stream",
     "text": [
      "124/124 [==============================] - 0s 2ms/step - loss: 0.5921 - accuracy: 0.7040 - val_loss: 0.6080 - val_accuracy: 0.6923\n",
      "Epoch 281/1000\n",
      "124/124 [==============================] - 0s 2ms/step - loss: 0.5904 - accuracy: 0.7050 - val_loss: 0.6072 - val_accuracy: 0.6923\n",
      "Epoch 282/1000\n",
      "124/124 [==============================] - 0s 2ms/step - loss: 0.5910 - accuracy: 0.7060 - val_loss: 0.6056 - val_accuracy: 0.6943\n",
      "Epoch 283/1000\n",
      "124/124 [==============================] - 0s 2ms/step - loss: 0.5915 - accuracy: 0.7070 - val_loss: 0.6078 - val_accuracy: 0.6943\n",
      "Epoch 284/1000\n",
      "124/124 [==============================] - 0s 2ms/step - loss: 0.5908 - accuracy: 0.7030 - val_loss: 0.6075 - val_accuracy: 0.6913\n",
      "Epoch 285/1000\n",
      "124/124 [==============================] - 0s 2ms/step - loss: 0.5913 - accuracy: 0.7060 - val_loss: 0.6066 - val_accuracy: 0.6933\n",
      "Epoch 286/1000\n",
      "124/124 [==============================] - 0s 2ms/step - loss: 0.5906 - accuracy: 0.7060 - val_loss: 0.6097 - val_accuracy: 0.6893\n",
      "Epoch 287/1000\n",
      "124/124 [==============================] - 0s 2ms/step - loss: 0.5924 - accuracy: 0.7060 - val_loss: 0.6091 - val_accuracy: 0.6903\n",
      "Epoch 288/1000\n",
      "124/124 [==============================] - 0s 2ms/step - loss: 0.5912 - accuracy: 0.7042 - val_loss: 0.6097 - val_accuracy: 0.6862\n",
      "Epoch 289/1000\n",
      "124/124 [==============================] - 0s 2ms/step - loss: 0.5911 - accuracy: 0.7027 - val_loss: 0.6063 - val_accuracy: 0.6953\n",
      "Epoch 290/1000\n",
      "124/124 [==============================] - 0s 2ms/step - loss: 0.5917 - accuracy: 0.7065 - val_loss: 0.6071 - val_accuracy: 0.6964\n",
      "Epoch 291/1000\n",
      "124/124 [==============================] - 0s 2ms/step - loss: 0.5916 - accuracy: 0.7075 - val_loss: 0.6096 - val_accuracy: 0.6893\n",
      "Epoch 292/1000\n",
      "124/124 [==============================] - 0s 2ms/step - loss: 0.5916 - accuracy: 0.7030 - val_loss: 0.6116 - val_accuracy: 0.6883\n",
      "Epoch 293/1000\n",
      "124/124 [==============================] - 0s 2ms/step - loss: 0.5920 - accuracy: 0.7057 - val_loss: 0.6103 - val_accuracy: 0.6862\n",
      "Epoch 294/1000\n",
      "124/124 [==============================] - 0s 2ms/step - loss: 0.5906 - accuracy: 0.7045 - val_loss: 0.6103 - val_accuracy: 0.6913\n",
      "Epoch 295/1000\n",
      "124/124 [==============================] - 0s 2ms/step - loss: 0.5925 - accuracy: 0.7070 - val_loss: 0.6077 - val_accuracy: 0.6994\n",
      "Epoch 296/1000\n",
      "124/124 [==============================] - 0s 2ms/step - loss: 0.5903 - accuracy: 0.7095 - val_loss: 0.6080 - val_accuracy: 0.6903\n",
      "Epoch 297/1000\n",
      "124/124 [==============================] - 0s 2ms/step - loss: 0.5917 - accuracy: 0.7057 - val_loss: 0.6078 - val_accuracy: 0.6964\n",
      "Epoch 298/1000\n",
      "124/124 [==============================] - 0s 2ms/step - loss: 0.5929 - accuracy: 0.7017 - val_loss: 0.6112 - val_accuracy: 0.6893\n",
      "Epoch 299/1000\n",
      "124/124 [==============================] - 0s 2ms/step - loss: 0.5905 - accuracy: 0.7055 - val_loss: 0.6066 - val_accuracy: 0.6974\n",
      "Epoch 300/1000\n",
      "124/124 [==============================] - 0s 2ms/step - loss: 0.5904 - accuracy: 0.7070 - val_loss: 0.6091 - val_accuracy: 0.6943\n",
      "Epoch 301/1000\n",
      "124/124 [==============================] - 0s 2ms/step - loss: 0.5913 - accuracy: 0.7040 - val_loss: 0.6143 - val_accuracy: 0.6852\n",
      "Epoch 302/1000\n",
      "124/124 [==============================] - 0s 2ms/step - loss: 0.5915 - accuracy: 0.7068 - val_loss: 0.6065 - val_accuracy: 0.6953\n",
      "Epoch 303/1000\n",
      "124/124 [==============================] - 0s 3ms/step - loss: 0.5910 - accuracy: 0.7037 - val_loss: 0.6067 - val_accuracy: 0.6953\n",
      "Epoch 304/1000\n",
      "124/124 [==============================] - 0s 2ms/step - loss: 0.5915 - accuracy: 0.7078 - val_loss: 0.6095 - val_accuracy: 0.6862\n",
      "Epoch 305/1000\n",
      "124/124 [==============================] - 0s 2ms/step - loss: 0.5918 - accuracy: 0.7047 - val_loss: 0.6090 - val_accuracy: 0.6933\n",
      "Epoch 306/1000\n",
      "124/124 [==============================] - 0s 2ms/step - loss: 0.5910 - accuracy: 0.7083 - val_loss: 0.6058 - val_accuracy: 0.6994\n",
      "Epoch 307/1000\n",
      "124/124 [==============================] - 0s 2ms/step - loss: 0.5917 - accuracy: 0.7080 - val_loss: 0.6057 - val_accuracy: 0.6953\n",
      "Epoch 308/1000\n",
      "124/124 [==============================] - 0s 2ms/step - loss: 0.5918 - accuracy: 0.7050 - val_loss: 0.6118 - val_accuracy: 0.6802\n",
      "Epoch 309/1000\n",
      "124/124 [==============================] - 0s 2ms/step - loss: 0.5911 - accuracy: 0.7073 - val_loss: 0.6063 - val_accuracy: 0.6923\n",
      "Epoch 310/1000\n",
      "124/124 [==============================] - 0s 2ms/step - loss: 0.5912 - accuracy: 0.7037 - val_loss: 0.6065 - val_accuracy: 0.6953\n",
      "Epoch 311/1000\n",
      "124/124 [==============================] - 0s 2ms/step - loss: 0.5925 - accuracy: 0.7083 - val_loss: 0.6150 - val_accuracy: 0.6832\n",
      "Epoch 312/1000\n",
      "124/124 [==============================] - 0s 2ms/step - loss: 0.5921 - accuracy: 0.7035 - val_loss: 0.6063 - val_accuracy: 0.6923\n",
      "Epoch 313/1000\n",
      "124/124 [==============================] - 0s 2ms/step - loss: 0.5906 - accuracy: 0.7045 - val_loss: 0.6103 - val_accuracy: 0.6883\n",
      "Epoch 314/1000\n",
      "124/124 [==============================] - 0s 2ms/step - loss: 0.5915 - accuracy: 0.7075 - val_loss: 0.6081 - val_accuracy: 0.6953\n",
      "Epoch 315/1000\n",
      "124/124 [==============================] - 0s 2ms/step - loss: 0.5906 - accuracy: 0.7045 - val_loss: 0.6068 - val_accuracy: 0.6953\n",
      "Epoch 316/1000\n",
      "124/124 [==============================] - 0s 2ms/step - loss: 0.5901 - accuracy: 0.7088 - val_loss: 0.6135 - val_accuracy: 0.6862\n",
      "Epoch 317/1000\n",
      "124/124 [==============================] - 0s 2ms/step - loss: 0.5917 - accuracy: 0.7040 - val_loss: 0.6091 - val_accuracy: 0.6913\n",
      "Epoch 318/1000\n",
      "124/124 [==============================] - 0s 2ms/step - loss: 0.5918 - accuracy: 0.7063 - val_loss: 0.6067 - val_accuracy: 0.6893\n",
      "Epoch 319/1000\n",
      "124/124 [==============================] - 0s 2ms/step - loss: 0.5907 - accuracy: 0.7037 - val_loss: 0.6084 - val_accuracy: 0.6903\n",
      "Epoch 320/1000\n",
      "124/124 [==============================] - 0s 2ms/step - loss: 0.5914 - accuracy: 0.7027 - val_loss: 0.6091 - val_accuracy: 0.6943\n",
      "Epoch 321/1000\n",
      "124/124 [==============================] - 0s 2ms/step - loss: 0.5902 - accuracy: 0.7065 - val_loss: 0.6072 - val_accuracy: 0.6923\n",
      "Epoch 322/1000\n",
      "124/124 [==============================] - 0s 2ms/step - loss: 0.5905 - accuracy: 0.7032 - val_loss: 0.6090 - val_accuracy: 0.6883\n",
      "Epoch 323/1000\n",
      "124/124 [==============================] - 0s 2ms/step - loss: 0.5905 - accuracy: 0.7063 - val_loss: 0.6103 - val_accuracy: 0.6883\n",
      "Epoch 324/1000\n",
      "124/124 [==============================] - 0s 2ms/step - loss: 0.5907 - accuracy: 0.7068 - val_loss: 0.6064 - val_accuracy: 0.6933\n",
      "Epoch 325/1000\n",
      "124/124 [==============================] - 0s 2ms/step - loss: 0.5905 - accuracy: 0.7093 - val_loss: 0.6084 - val_accuracy: 0.6893\n",
      "Epoch 326/1000\n",
      "124/124 [==============================] - 0s 2ms/step - loss: 0.5915 - accuracy: 0.7055 - val_loss: 0.6092 - val_accuracy: 0.6893\n",
      "Epoch 327/1000\n",
      "124/124 [==============================] - 0s 2ms/step - loss: 0.5913 - accuracy: 0.7027 - val_loss: 0.6122 - val_accuracy: 0.6812\n",
      "Epoch 328/1000\n",
      "124/124 [==============================] - 0s 2ms/step - loss: 0.5934 - accuracy: 0.7032 - val_loss: 0.6081 - val_accuracy: 0.6903\n",
      "Epoch 329/1000\n",
      "124/124 [==============================] - 0s 2ms/step - loss: 0.5910 - accuracy: 0.7055 - val_loss: 0.6089 - val_accuracy: 0.6923\n",
      "Epoch 330/1000\n",
      "124/124 [==============================] - 0s 2ms/step - loss: 0.5910 - accuracy: 0.7014 - val_loss: 0.6111 - val_accuracy: 0.6862\n",
      "Epoch 331/1000\n",
      "124/124 [==============================] - 0s 2ms/step - loss: 0.5931 - accuracy: 0.7017 - val_loss: 0.6160 - val_accuracy: 0.6781\n",
      "Epoch 332/1000\n",
      "124/124 [==============================] - 0s 2ms/step - loss: 0.5912 - accuracy: 0.7042 - val_loss: 0.6097 - val_accuracy: 0.6822\n",
      "Epoch 333/1000\n",
      "124/124 [==============================] - 0s 2ms/step - loss: 0.5903 - accuracy: 0.7042 - val_loss: 0.6061 - val_accuracy: 0.6984\n",
      "Epoch 334/1000\n",
      "124/124 [==============================] - 0s 2ms/step - loss: 0.5923 - accuracy: 0.7047 - val_loss: 0.6259 - val_accuracy: 0.6751\n",
      "Epoch 335/1000\n",
      "124/124 [==============================] - 0s 2ms/step - loss: 0.5929 - accuracy: 0.7050 - val_loss: 0.6045 - val_accuracy: 0.6933\n",
      "Epoch 336/1000\n"
     ]
    },
    {
     "name": "stdout",
     "output_type": "stream",
     "text": [
      "124/124 [==============================] - 0s 2ms/step - loss: 0.5916 - accuracy: 0.7055 - val_loss: 0.6051 - val_accuracy: 0.6933\n",
      "Epoch 337/1000\n",
      "124/124 [==============================] - 0s 2ms/step - loss: 0.5903 - accuracy: 0.7090 - val_loss: 0.6072 - val_accuracy: 0.6903\n",
      "Epoch 338/1000\n",
      "124/124 [==============================] - 0s 2ms/step - loss: 0.5914 - accuracy: 0.7052 - val_loss: 0.6091 - val_accuracy: 0.6913\n",
      "Epoch 339/1000\n",
      "124/124 [==============================] - 0s 2ms/step - loss: 0.5921 - accuracy: 0.7070 - val_loss: 0.6076 - val_accuracy: 0.6923\n",
      "Epoch 340/1000\n",
      "124/124 [==============================] - 0s 2ms/step - loss: 0.5897 - accuracy: 0.7037 - val_loss: 0.6119 - val_accuracy: 0.6872\n",
      "Epoch 341/1000\n",
      "124/124 [==============================] - 0s 2ms/step - loss: 0.5903 - accuracy: 0.7037 - val_loss: 0.6133 - val_accuracy: 0.6791\n",
      "Epoch 342/1000\n",
      "124/124 [==============================] - 0s 2ms/step - loss: 0.5900 - accuracy: 0.7070 - val_loss: 0.6106 - val_accuracy: 0.6852\n",
      "Epoch 343/1000\n",
      "124/124 [==============================] - 0s 2ms/step - loss: 0.5912 - accuracy: 0.7012 - val_loss: 0.6079 - val_accuracy: 0.6953\n",
      "Epoch 344/1000\n",
      "124/124 [==============================] - 0s 2ms/step - loss: 0.5897 - accuracy: 0.7060 - val_loss: 0.6101 - val_accuracy: 0.6852\n",
      "Epoch 345/1000\n",
      "124/124 [==============================] - 0s 2ms/step - loss: 0.5910 - accuracy: 0.7012 - val_loss: 0.6061 - val_accuracy: 0.7014\n",
      "Epoch 346/1000\n",
      "124/124 [==============================] - 0s 2ms/step - loss: 0.5922 - accuracy: 0.7065 - val_loss: 0.6057 - val_accuracy: 0.6984\n",
      "Epoch 347/1000\n",
      "124/124 [==============================] - 0s 2ms/step - loss: 0.5916 - accuracy: 0.7030 - val_loss: 0.6098 - val_accuracy: 0.6893\n",
      "Epoch 348/1000\n",
      "124/124 [==============================] - 0s 2ms/step - loss: 0.5916 - accuracy: 0.7035 - val_loss: 0.6053 - val_accuracy: 0.6923\n",
      "Epoch 349/1000\n",
      "124/124 [==============================] - 0s 2ms/step - loss: 0.5906 - accuracy: 0.7070 - val_loss: 0.6136 - val_accuracy: 0.6872\n",
      "Epoch 350/1000\n",
      "124/124 [==============================] - 0s 2ms/step - loss: 0.5923 - accuracy: 0.7025 - val_loss: 0.6097 - val_accuracy: 0.6893\n",
      "Epoch 351/1000\n",
      "124/124 [==============================] - 0s 2ms/step - loss: 0.5907 - accuracy: 0.6992 - val_loss: 0.6103 - val_accuracy: 0.6872\n",
      "Epoch 352/1000\n",
      "124/124 [==============================] - 0s 2ms/step - loss: 0.5895 - accuracy: 0.7047 - val_loss: 0.6058 - val_accuracy: 0.6933\n",
      "Epoch 353/1000\n",
      "124/124 [==============================] - 0s 2ms/step - loss: 0.5906 - accuracy: 0.7060 - val_loss: 0.6158 - val_accuracy: 0.6923\n",
      "Epoch 354/1000\n",
      "124/124 [==============================] - 0s 2ms/step - loss: 0.5907 - accuracy: 0.7022 - val_loss: 0.6168 - val_accuracy: 0.6771\n",
      "Epoch 355/1000\n",
      "124/124 [==============================] - ETA: 0s - loss: 0.5900 - accuracy: 0.70 - 0s 2ms/step - loss: 0.5913 - accuracy: 0.7065 - val_loss: 0.6053 - val_accuracy: 0.6933\n",
      "Epoch 356/1000\n",
      "124/124 [==============================] - 0s 2ms/step - loss: 0.5902 - accuracy: 0.7088 - val_loss: 0.6104 - val_accuracy: 0.6883\n",
      "Epoch 357/1000\n",
      "124/124 [==============================] - 0s 2ms/step - loss: 0.5916 - accuracy: 0.7009 - val_loss: 0.6155 - val_accuracy: 0.6842\n",
      "Epoch 358/1000\n",
      "124/124 [==============================] - 0s 2ms/step - loss: 0.5923 - accuracy: 0.7027 - val_loss: 0.6106 - val_accuracy: 0.6862\n",
      "Epoch 359/1000\n",
      "124/124 [==============================] - 0s 2ms/step - loss: 0.5901 - accuracy: 0.7045 - val_loss: 0.6064 - val_accuracy: 0.6933\n",
      "Epoch 360/1000\n",
      "124/124 [==============================] - 0s 2ms/step - loss: 0.5927 - accuracy: 0.7065 - val_loss: 0.6075 - val_accuracy: 0.6913\n",
      "Epoch 361/1000\n",
      "124/124 [==============================] - 0s 2ms/step - loss: 0.5915 - accuracy: 0.7098 - val_loss: 0.6112 - val_accuracy: 0.6883\n",
      "Epoch 362/1000\n",
      "124/124 [==============================] - 0s 2ms/step - loss: 0.5911 - accuracy: 0.7040 - val_loss: 0.6082 - val_accuracy: 0.6933\n",
      "Epoch 363/1000\n",
      "124/124 [==============================] - 0s 2ms/step - loss: 0.5902 - accuracy: 0.7045 - val_loss: 0.6095 - val_accuracy: 0.6832\n",
      "Epoch 364/1000\n",
      "124/124 [==============================] - 0s 2ms/step - loss: 0.5906 - accuracy: 0.7080 - val_loss: 0.6067 - val_accuracy: 0.6893\n",
      "Epoch 365/1000\n",
      "124/124 [==============================] - 0s 2ms/step - loss: 0.5913 - accuracy: 0.7030 - val_loss: 0.6054 - val_accuracy: 0.7024\n",
      "Epoch 366/1000\n",
      "124/124 [==============================] - 0s 2ms/step - loss: 0.5904 - accuracy: 0.7042 - val_loss: 0.6059 - val_accuracy: 0.6964\n",
      "Epoch 367/1000\n",
      "124/124 [==============================] - 0s 2ms/step - loss: 0.5913 - accuracy: 0.7050 - val_loss: 0.6072 - val_accuracy: 0.6913\n",
      "Epoch 368/1000\n",
      "124/124 [==============================] - 0s 2ms/step - loss: 0.5904 - accuracy: 0.7057 - val_loss: 0.6061 - val_accuracy: 0.6953\n",
      "Epoch 369/1000\n",
      "124/124 [==============================] - 0s 2ms/step - loss: 0.5914 - accuracy: 0.7055 - val_loss: 0.6103 - val_accuracy: 0.6883\n",
      "Epoch 370/1000\n",
      "124/124 [==============================] - 0s 3ms/step - loss: 0.5909 - accuracy: 0.7050 - val_loss: 0.6083 - val_accuracy: 0.6872\n",
      "Epoch 371/1000\n",
      "124/124 [==============================] - 0s 2ms/step - loss: 0.5924 - accuracy: 0.7060 - val_loss: 0.6085 - val_accuracy: 0.6923\n",
      "Epoch 372/1000\n",
      "124/124 [==============================] - 0s 2ms/step - loss: 0.5900 - accuracy: 0.7070 - val_loss: 0.6065 - val_accuracy: 0.6943\n",
      "Epoch 373/1000\n",
      "124/124 [==============================] - 0s 2ms/step - loss: 0.5914 - accuracy: 0.7045 - val_loss: 0.6067 - val_accuracy: 0.6964\n",
      "Epoch 374/1000\n",
      "124/124 [==============================] - 0s 2ms/step - loss: 0.5899 - accuracy: 0.7070 - val_loss: 0.6065 - val_accuracy: 0.6964\n",
      "Epoch 375/1000\n",
      "124/124 [==============================] - 0s 2ms/step - loss: 0.5907 - accuracy: 0.7035 - val_loss: 0.6108 - val_accuracy: 0.6984\n",
      "Epoch 376/1000\n",
      "124/124 [==============================] - 0s 2ms/step - loss: 0.5914 - accuracy: 0.7065 - val_loss: 0.6056 - val_accuracy: 0.6984\n",
      "Epoch 377/1000\n",
      "124/124 [==============================] - 0s 2ms/step - loss: 0.5889 - accuracy: 0.7070 - val_loss: 0.6063 - val_accuracy: 0.6974\n",
      "Epoch 378/1000\n",
      "124/124 [==============================] - 0s 2ms/step - loss: 0.5905 - accuracy: 0.7065 - val_loss: 0.6047 - val_accuracy: 0.6974\n",
      "Epoch 379/1000\n",
      "124/124 [==============================] - 0s 2ms/step - loss: 0.5915 - accuracy: 0.7022 - val_loss: 0.6084 - val_accuracy: 0.6852\n",
      "Epoch 380/1000\n",
      "124/124 [==============================] - 0s 2ms/step - loss: 0.5910 - accuracy: 0.7014 - val_loss: 0.6105 - val_accuracy: 0.6832\n",
      "Epoch 381/1000\n",
      "124/124 [==============================] - 0s 2ms/step - loss: 0.5934 - accuracy: 0.7030 - val_loss: 0.6083 - val_accuracy: 0.6913\n",
      "Epoch 382/1000\n",
      "124/124 [==============================] - 0s 2ms/step - loss: 0.5912 - accuracy: 0.7057 - val_loss: 0.6118 - val_accuracy: 0.6883\n",
      "Epoch 383/1000\n",
      "124/124 [==============================] - 0s 2ms/step - loss: 0.5920 - accuracy: 0.7019 - val_loss: 0.6091 - val_accuracy: 0.6923\n",
      "Epoch 384/1000\n",
      "124/124 [==============================] - 0s 2ms/step - loss: 0.5899 - accuracy: 0.7065 - val_loss: 0.6069 - val_accuracy: 0.6974\n",
      "Epoch 385/1000\n",
      "124/124 [==============================] - 0s 2ms/step - loss: 0.5896 - accuracy: 0.7080 - val_loss: 0.6111 - val_accuracy: 0.6923\n",
      "Epoch 386/1000\n",
      "124/124 [==============================] - 0s 2ms/step - loss: 0.5924 - accuracy: 0.7060 - val_loss: 0.6059 - val_accuracy: 0.6933\n",
      "Epoch 387/1000\n",
      "124/124 [==============================] - 0s 2ms/step - loss: 0.5908 - accuracy: 0.7037 - val_loss: 0.6087 - val_accuracy: 0.6923\n",
      "Epoch 388/1000\n",
      "124/124 [==============================] - 0s 2ms/step - loss: 0.5904 - accuracy: 0.7080 - val_loss: 0.6044 - val_accuracy: 0.6953\n",
      "Epoch 389/1000\n",
      "124/124 [==============================] - 0s 2ms/step - loss: 0.5904 - accuracy: 0.7042 - val_loss: 0.6129 - val_accuracy: 0.6822\n",
      "Epoch 390/1000\n",
      "124/124 [==============================] - 0s 2ms/step - loss: 0.5920 - accuracy: 0.7017 - val_loss: 0.6136 - val_accuracy: 0.6832\n",
      "Epoch 391/1000\n",
      "124/124 [==============================] - 0s 2ms/step - loss: 0.5905 - accuracy: 0.7050 - val_loss: 0.6056 - val_accuracy: 0.6964\n"
     ]
    },
    {
     "name": "stdout",
     "output_type": "stream",
     "text": [
      "Epoch 392/1000\n",
      "124/124 [==============================] - 0s 2ms/step - loss: 0.5921 - accuracy: 0.7088 - val_loss: 0.6076 - val_accuracy: 0.6984\n",
      "Epoch 393/1000\n",
      "124/124 [==============================] - 0s 2ms/step - loss: 0.5915 - accuracy: 0.7035 - val_loss: 0.6068 - val_accuracy: 0.6913\n",
      "Epoch 394/1000\n",
      "124/124 [==============================] - 0s 2ms/step - loss: 0.5899 - accuracy: 0.7037 - val_loss: 0.6113 - val_accuracy: 0.6862\n",
      "Epoch 395/1000\n",
      "124/124 [==============================] - 0s 2ms/step - loss: 0.5904 - accuracy: 0.7078 - val_loss: 0.6062 - val_accuracy: 0.6953\n",
      "Epoch 396/1000\n",
      "124/124 [==============================] - 0s 2ms/step - loss: 0.5903 - accuracy: 0.7057 - val_loss: 0.6168 - val_accuracy: 0.6751\n",
      "Epoch 397/1000\n",
      "124/124 [==============================] - 0s 2ms/step - loss: 0.5904 - accuracy: 0.7093 - val_loss: 0.6095 - val_accuracy: 0.6883\n",
      "Epoch 398/1000\n",
      "124/124 [==============================] - 0s 2ms/step - loss: 0.5915 - accuracy: 0.7055 - val_loss: 0.6113 - val_accuracy: 0.6883\n",
      "Epoch 399/1000\n",
      "124/124 [==============================] - 0s 2ms/step - loss: 0.5912 - accuracy: 0.7022 - val_loss: 0.6101 - val_accuracy: 0.6883\n",
      "Epoch 400/1000\n",
      "124/124 [==============================] - 0s 2ms/step - loss: 0.5903 - accuracy: 0.7085 - val_loss: 0.6071 - val_accuracy: 0.6923\n",
      "Epoch 401/1000\n",
      "124/124 [==============================] - 0s 2ms/step - loss: 0.5907 - accuracy: 0.7014 - val_loss: 0.6087 - val_accuracy: 0.6893\n",
      "Epoch 402/1000\n",
      "124/124 [==============================] - 0s 2ms/step - loss: 0.5910 - accuracy: 0.7040 - val_loss: 0.6068 - val_accuracy: 0.6933\n",
      "Epoch 403/1000\n",
      "124/124 [==============================] - 0s 2ms/step - loss: 0.5901 - accuracy: 0.7075 - val_loss: 0.6049 - val_accuracy: 0.6994\n",
      "Epoch 404/1000\n",
      "124/124 [==============================] - 0s 2ms/step - loss: 0.5916 - accuracy: 0.7055 - val_loss: 0.6061 - val_accuracy: 0.6984\n",
      "Epoch 405/1000\n",
      "124/124 [==============================] - 0s 2ms/step - loss: 0.5912 - accuracy: 0.7068 - val_loss: 0.6102 - val_accuracy: 0.6903\n",
      "Epoch 406/1000\n",
      "124/124 [==============================] - 0s 2ms/step - loss: 0.5916 - accuracy: 0.7070 - val_loss: 0.6085 - val_accuracy: 0.6883\n",
      "Epoch 407/1000\n",
      "124/124 [==============================] - 0s 2ms/step - loss: 0.5920 - accuracy: 0.7060 - val_loss: 0.6056 - val_accuracy: 0.7004\n",
      "Epoch 408/1000\n",
      "124/124 [==============================] - 0s 2ms/step - loss: 0.5907 - accuracy: 0.7050 - val_loss: 0.6083 - val_accuracy: 0.6943\n",
      "Epoch 409/1000\n",
      "124/124 [==============================] - 0s 2ms/step - loss: 0.5913 - accuracy: 0.7040 - val_loss: 0.6093 - val_accuracy: 0.6862\n",
      "Epoch 410/1000\n",
      "124/124 [==============================] - 0s 2ms/step - loss: 0.5903 - accuracy: 0.7070 - val_loss: 0.6048 - val_accuracy: 0.6974\n",
      "Epoch 411/1000\n",
      "124/124 [==============================] - 0s 2ms/step - loss: 0.5902 - accuracy: 0.7037 - val_loss: 0.6054 - val_accuracy: 0.6913\n",
      "Epoch 412/1000\n",
      "124/124 [==============================] - 0s 2ms/step - loss: 0.5912 - accuracy: 0.7030 - val_loss: 0.6051 - val_accuracy: 0.6964\n",
      "Epoch 413/1000\n",
      "124/124 [==============================] - 0s 2ms/step - loss: 0.5911 - accuracy: 0.7075 - val_loss: 0.6097 - val_accuracy: 0.6933\n",
      "Epoch 414/1000\n",
      "124/124 [==============================] - 0s 2ms/step - loss: 0.5901 - accuracy: 0.7055 - val_loss: 0.6100 - val_accuracy: 0.6852\n",
      "Epoch 415/1000\n",
      "124/124 [==============================] - 0s 2ms/step - loss: 0.5903 - accuracy: 0.7073 - val_loss: 0.6122 - val_accuracy: 0.6842\n",
      "Epoch 416/1000\n",
      "124/124 [==============================] - 0s 2ms/step - loss: 0.5905 - accuracy: 0.7068 - val_loss: 0.6168 - val_accuracy: 0.6761\n",
      "Epoch 417/1000\n",
      "124/124 [==============================] - 0s 2ms/step - loss: 0.5905 - accuracy: 0.7032 - val_loss: 0.6114 - val_accuracy: 0.6862\n",
      "Epoch 418/1000\n",
      "124/124 [==============================] - 0s 2ms/step - loss: 0.5913 - accuracy: 0.7047 - val_loss: 0.6103 - val_accuracy: 0.6943\n",
      "Epoch 419/1000\n",
      "124/124 [==============================] - 0s 2ms/step - loss: 0.5918 - accuracy: 0.7075 - val_loss: 0.6222 - val_accuracy: 0.6741\n",
      "Epoch 420/1000\n",
      "124/124 [==============================] - 0s 3ms/step - loss: 0.5918 - accuracy: 0.7055 - val_loss: 0.6062 - val_accuracy: 0.6913\n",
      "Epoch 421/1000\n",
      "124/124 [==============================] - 0s 2ms/step - loss: 0.5906 - accuracy: 0.7012 - val_loss: 0.6080 - val_accuracy: 0.6883\n",
      "Epoch 422/1000\n",
      "124/124 [==============================] - 0s 2ms/step - loss: 0.5888 - accuracy: 0.7083 - val_loss: 0.6112 - val_accuracy: 0.6872\n",
      "Epoch 423/1000\n",
      "124/124 [==============================] - 0s 2ms/step - loss: 0.5910 - accuracy: 0.7085 - val_loss: 0.6056 - val_accuracy: 0.6994\n",
      "Epoch 424/1000\n",
      "124/124 [==============================] - 0s 2ms/step - loss: 0.5905 - accuracy: 0.7085 - val_loss: 0.6060 - val_accuracy: 0.6974\n",
      "Epoch 425/1000\n",
      "124/124 [==============================] - 0s 2ms/step - loss: 0.5896 - accuracy: 0.7078 - val_loss: 0.6050 - val_accuracy: 0.6974\n",
      "Epoch 426/1000\n",
      "124/124 [==============================] - 0s 2ms/step - loss: 0.5902 - accuracy: 0.6999 - val_loss: 0.6059 - val_accuracy: 0.6923\n",
      "Epoch 427/1000\n",
      "124/124 [==============================] - 0s 2ms/step - loss: 0.5917 - accuracy: 0.7004 - val_loss: 0.6090 - val_accuracy: 0.6893\n",
      "Epoch 428/1000\n",
      "124/124 [==============================] - 0s 2ms/step - loss: 0.5916 - accuracy: 0.7068 - val_loss: 0.6114 - val_accuracy: 0.6883\n",
      "Epoch 429/1000\n",
      "124/124 [==============================] - 0s 2ms/step - loss: 0.5907 - accuracy: 0.7037 - val_loss: 0.6058 - val_accuracy: 0.6933\n",
      "Epoch 430/1000\n",
      "124/124 [==============================] - 0s 3ms/step - loss: 0.5898 - accuracy: 0.7090 - val_loss: 0.6076 - val_accuracy: 0.6923\n",
      "Epoch 431/1000\n",
      "124/124 [==============================] - 0s 2ms/step - loss: 0.5900 - accuracy: 0.7057 - val_loss: 0.6200 - val_accuracy: 0.6761\n",
      "Epoch 432/1000\n",
      "124/124 [==============================] - 0s 2ms/step - loss: 0.5904 - accuracy: 0.7070 - val_loss: 0.6074 - val_accuracy: 0.6893\n",
      "Epoch 433/1000\n",
      "124/124 [==============================] - 0s 2ms/step - loss: 0.5909 - accuracy: 0.7065 - val_loss: 0.6050 - val_accuracy: 0.6953\n",
      "Epoch 434/1000\n",
      "124/124 [==============================] - 0s 2ms/step - loss: 0.5918 - accuracy: 0.7095 - val_loss: 0.6082 - val_accuracy: 0.6893\n",
      "Epoch 435/1000\n",
      "124/124 [==============================] - 0s 2ms/step - loss: 0.5920 - accuracy: 0.7075 - val_loss: 0.6093 - val_accuracy: 0.6872\n",
      "Epoch 436/1000\n",
      "124/124 [==============================] - 0s 2ms/step - loss: 0.5902 - accuracy: 0.7027 - val_loss: 0.6060 - val_accuracy: 0.6933\n",
      "Epoch 437/1000\n",
      "124/124 [==============================] - 0s 2ms/step - loss: 0.5907 - accuracy: 0.7035 - val_loss: 0.6048 - val_accuracy: 0.6984\n",
      "Epoch 438/1000\n",
      "124/124 [==============================] - 0s 2ms/step - loss: 0.5905 - accuracy: 0.7040 - val_loss: 0.6041 - val_accuracy: 0.6974\n",
      "Epoch 439/1000\n",
      "124/124 [==============================] - 0s 2ms/step - loss: 0.5897 - accuracy: 0.7050 - val_loss: 0.6102 - val_accuracy: 0.6822\n",
      "Epoch 440/1000\n",
      "124/124 [==============================] - 0s 2ms/step - loss: 0.5909 - accuracy: 0.7090 - val_loss: 0.6053 - val_accuracy: 0.6903\n",
      "Epoch 441/1000\n",
      "124/124 [==============================] - 0s 2ms/step - loss: 0.5911 - accuracy: 0.7065 - val_loss: 0.6103 - val_accuracy: 0.6883\n",
      "Epoch 442/1000\n",
      "124/124 [==============================] - 0s 2ms/step - loss: 0.5904 - accuracy: 0.7065 - val_loss: 0.6053 - val_accuracy: 0.6953\n",
      "Epoch 443/1000\n",
      "124/124 [==============================] - 0s 2ms/step - loss: 0.5936 - accuracy: 0.7047 - val_loss: 0.6087 - val_accuracy: 0.6893\n",
      "Epoch 444/1000\n",
      "124/124 [==============================] - 0s 2ms/step - loss: 0.5906 - accuracy: 0.7063 - val_loss: 0.6064 - val_accuracy: 0.6984\n",
      "Epoch 445/1000\n",
      "124/124 [==============================] - 0s 2ms/step - loss: 0.5903 - accuracy: 0.7047 - val_loss: 0.6074 - val_accuracy: 0.6933\n",
      "Epoch 446/1000\n",
      "124/124 [==============================] - 0s 2ms/step - loss: 0.5894 - accuracy: 0.7075 - val_loss: 0.6074 - val_accuracy: 0.6943\n",
      "Epoch 447/1000\n",
      "124/124 [==============================] - 0s 2ms/step - loss: 0.5901 - accuracy: 0.7052 - val_loss: 0.6080 - val_accuracy: 0.6923\n",
      "Epoch 448/1000\n"
     ]
    },
    {
     "name": "stdout",
     "output_type": "stream",
     "text": [
      "124/124 [==============================] - 0s 2ms/step - loss: 0.5897 - accuracy: 0.7037 - val_loss: 0.6109 - val_accuracy: 0.6903\n",
      "Epoch 449/1000\n",
      "124/124 [==============================] - 0s 2ms/step - loss: 0.5912 - accuracy: 0.7065 - val_loss: 0.6121 - val_accuracy: 0.6862\n",
      "Epoch 450/1000\n",
      "124/124 [==============================] - 0s 2ms/step - loss: 0.5928 - accuracy: 0.7063 - val_loss: 0.6051 - val_accuracy: 0.6953\n",
      "Epoch 451/1000\n",
      "124/124 [==============================] - 0s 2ms/step - loss: 0.5908 - accuracy: 0.7070 - val_loss: 0.6047 - val_accuracy: 0.6933\n",
      "Epoch 452/1000\n",
      "124/124 [==============================] - 0s 2ms/step - loss: 0.5905 - accuracy: 0.7101 - val_loss: 0.6117 - val_accuracy: 0.6893\n",
      "Epoch 453/1000\n",
      "124/124 [==============================] - 0s 2ms/step - loss: 0.5908 - accuracy: 0.7042 - val_loss: 0.6059 - val_accuracy: 0.6953\n",
      "Epoch 454/1000\n",
      "124/124 [==============================] - 0s 2ms/step - loss: 0.5922 - accuracy: 0.7060 - val_loss: 0.6067 - val_accuracy: 0.6913\n",
      "Epoch 455/1000\n",
      "124/124 [==============================] - 0s 2ms/step - loss: 0.5894 - accuracy: 0.7057 - val_loss: 0.6080 - val_accuracy: 0.6903\n",
      "Epoch 456/1000\n",
      "124/124 [==============================] - 0s 2ms/step - loss: 0.5893 - accuracy: 0.7063 - val_loss: 0.6045 - val_accuracy: 0.6994\n",
      "Epoch 457/1000\n",
      "124/124 [==============================] - 0s 2ms/step - loss: 0.5919 - accuracy: 0.7040 - val_loss: 0.6071 - val_accuracy: 0.6943\n",
      "Epoch 458/1000\n",
      "124/124 [==============================] - 0s 2ms/step - loss: 0.5914 - accuracy: 0.7040 - val_loss: 0.6053 - val_accuracy: 0.6994\n",
      "Epoch 459/1000\n",
      "124/124 [==============================] - 0s 2ms/step - loss: 0.5907 - accuracy: 0.7037 - val_loss: 0.6060 - val_accuracy: 0.6943\n",
      "Epoch 460/1000\n",
      "124/124 [==============================] - 0s 2ms/step - loss: 0.5891 - accuracy: 0.7065 - val_loss: 0.6077 - val_accuracy: 0.6913\n",
      "Epoch 461/1000\n",
      "124/124 [==============================] - 0s 2ms/step - loss: 0.5897 - accuracy: 0.7075 - val_loss: 0.6057 - val_accuracy: 0.6994\n",
      "Epoch 462/1000\n",
      "124/124 [==============================] - 0s 2ms/step - loss: 0.5896 - accuracy: 0.7057 - val_loss: 0.6113 - val_accuracy: 0.6893\n",
      "Epoch 463/1000\n",
      "124/124 [==============================] - 0s 2ms/step - loss: 0.5891 - accuracy: 0.7108 - val_loss: 0.6154 - val_accuracy: 0.6771\n",
      "Epoch 464/1000\n",
      "124/124 [==============================] - 0s 2ms/step - loss: 0.5927 - accuracy: 0.7095 - val_loss: 0.6078 - val_accuracy: 0.6893\n",
      "Epoch 465/1000\n",
      "124/124 [==============================] - 0s 2ms/step - loss: 0.5898 - accuracy: 0.7050 - val_loss: 0.6120 - val_accuracy: 0.6852\n",
      "Epoch 466/1000\n",
      "124/124 [==============================] - 0s 2ms/step - loss: 0.5912 - accuracy: 0.7025 - val_loss: 0.6049 - val_accuracy: 0.6964\n",
      "Epoch 467/1000\n",
      "124/124 [==============================] - 0s 2ms/step - loss: 0.5912 - accuracy: 0.7050 - val_loss: 0.6081 - val_accuracy: 0.6872\n",
      "Epoch 468/1000\n",
      "124/124 [==============================] - 0s 2ms/step - loss: 0.5906 - accuracy: 0.7063 - val_loss: 0.6183 - val_accuracy: 0.6802\n",
      "Epoch 469/1000\n",
      "124/124 [==============================] - 0s 2ms/step - loss: 0.5921 - accuracy: 0.7080 - val_loss: 0.6053 - val_accuracy: 0.6974\n",
      "Epoch 470/1000\n",
      "124/124 [==============================] - 0s 2ms/step - loss: 0.5898 - accuracy: 0.7090 - val_loss: 0.6088 - val_accuracy: 0.6893\n",
      "Epoch 471/1000\n",
      "124/124 [==============================] - 0s 2ms/step - loss: 0.5903 - accuracy: 0.7040 - val_loss: 0.6084 - val_accuracy: 0.6893\n",
      "Epoch 472/1000\n",
      "124/124 [==============================] - 0s 2ms/step - loss: 0.5900 - accuracy: 0.7037 - val_loss: 0.6096 - val_accuracy: 0.6872\n",
      "Epoch 473/1000\n",
      "124/124 [==============================] - 0s 2ms/step - loss: 0.5899 - accuracy: 0.7063 - val_loss: 0.6074 - val_accuracy: 0.6943\n",
      "Epoch 474/1000\n",
      "124/124 [==============================] - 0s 2ms/step - loss: 0.5904 - accuracy: 0.7068 - val_loss: 0.6052 - val_accuracy: 0.7024\n",
      "Epoch 475/1000\n",
      "124/124 [==============================] - 0s 2ms/step - loss: 0.5909 - accuracy: 0.7057 - val_loss: 0.6107 - val_accuracy: 0.6852\n",
      "Epoch 476/1000\n",
      "124/124 [==============================] - 0s 2ms/step - loss: 0.5896 - accuracy: 0.7085 - val_loss: 0.6080 - val_accuracy: 0.6923\n",
      "Epoch 477/1000\n",
      "124/124 [==============================] - 0s 2ms/step - loss: 0.5896 - accuracy: 0.7017 - val_loss: 0.6103 - val_accuracy: 0.6893\n",
      "Epoch 478/1000\n",
      "124/124 [==============================] - 0s 2ms/step - loss: 0.5902 - accuracy: 0.7035 - val_loss: 0.6142 - val_accuracy: 0.6893\n",
      "Epoch 479/1000\n",
      "124/124 [==============================] - 0s 2ms/step - loss: 0.5902 - accuracy: 0.7045 - val_loss: 0.6081 - val_accuracy: 0.6872\n",
      "Epoch 480/1000\n",
      "124/124 [==============================] - 0s 2ms/step - loss: 0.5915 - accuracy: 0.7042 - val_loss: 0.6080 - val_accuracy: 0.6903\n",
      "Epoch 481/1000\n",
      "124/124 [==============================] - 0s 2ms/step - loss: 0.5897 - accuracy: 0.7083 - val_loss: 0.6120 - val_accuracy: 0.6862\n",
      "Epoch 482/1000\n",
      "124/124 [==============================] - 0s 2ms/step - loss: 0.5909 - accuracy: 0.7050 - val_loss: 0.6115 - val_accuracy: 0.6893\n",
      "Epoch 483/1000\n",
      "124/124 [==============================] - 0s 2ms/step - loss: 0.5912 - accuracy: 0.7052 - val_loss: 0.6054 - val_accuracy: 0.6953\n",
      "Epoch 484/1000\n",
      "124/124 [==============================] - 0s 2ms/step - loss: 0.5892 - accuracy: 0.7085 - val_loss: 0.6087 - val_accuracy: 0.6913\n",
      "Epoch 485/1000\n",
      "124/124 [==============================] - 0s 2ms/step - loss: 0.5895 - accuracy: 0.7045 - val_loss: 0.6063 - val_accuracy: 0.7004\n",
      "Epoch 486/1000\n",
      "124/124 [==============================] - 0s 2ms/step - loss: 0.5898 - accuracy: 0.7103 - val_loss: 0.6109 - val_accuracy: 0.6842\n",
      "Epoch 487/1000\n",
      "124/124 [==============================] - 0s 2ms/step - loss: 0.5897 - accuracy: 0.7063 - val_loss: 0.6112 - val_accuracy: 0.6872\n",
      "Epoch 488/1000\n",
      "124/124 [==============================] - 0s 2ms/step - loss: 0.5902 - accuracy: 0.7095 - val_loss: 0.6118 - val_accuracy: 0.6862\n",
      "Epoch 489/1000\n",
      "124/124 [==============================] - 0s 2ms/step - loss: 0.5909 - accuracy: 0.7106 - val_loss: 0.6046 - val_accuracy: 0.6994\n",
      "Epoch 490/1000\n",
      "124/124 [==============================] - 0s 2ms/step - loss: 0.5900 - accuracy: 0.7078 - val_loss: 0.6052 - val_accuracy: 0.6933\n",
      "Epoch 491/1000\n",
      "124/124 [==============================] - 0s 2ms/step - loss: 0.5913 - accuracy: 0.7050 - val_loss: 0.6073 - val_accuracy: 0.6913\n",
      "Epoch 492/1000\n",
      "124/124 [==============================] - 0s 2ms/step - loss: 0.5908 - accuracy: 0.7040 - val_loss: 0.6087 - val_accuracy: 0.6893\n",
      "Epoch 493/1000\n",
      "124/124 [==============================] - 0s 2ms/step - loss: 0.5916 - accuracy: 0.6994 - val_loss: 0.6057 - val_accuracy: 0.6903\n",
      "Epoch 494/1000\n",
      "124/124 [==============================] - 0s 2ms/step - loss: 0.5911 - accuracy: 0.7042 - val_loss: 0.6067 - val_accuracy: 0.6913\n",
      "Epoch 495/1000\n",
      "124/124 [==============================] - 0s 2ms/step - loss: 0.5901 - accuracy: 0.7045 - val_loss: 0.6066 - val_accuracy: 0.7004\n",
      "Epoch 496/1000\n",
      "124/124 [==============================] - 0s 2ms/step - loss: 0.5900 - accuracy: 0.7090 - val_loss: 0.6062 - val_accuracy: 0.6913\n",
      "Epoch 497/1000\n",
      "124/124 [==============================] - 0s 2ms/step - loss: 0.5903 - accuracy: 0.7075 - val_loss: 0.6093 - val_accuracy: 0.6923\n",
      "Epoch 498/1000\n",
      "124/124 [==============================] - 0s 2ms/step - loss: 0.5906 - accuracy: 0.7083 - val_loss: 0.6058 - val_accuracy: 0.6933\n",
      "Epoch 499/1000\n",
      "124/124 [==============================] - 0s 2ms/step - loss: 0.5913 - accuracy: 0.7047 - val_loss: 0.6067 - val_accuracy: 0.6964\n",
      "Epoch 500/1000\n",
      "124/124 [==============================] - 0s 2ms/step - loss: 0.5906 - accuracy: 0.7042 - val_loss: 0.6072 - val_accuracy: 0.6933\n",
      "Epoch 501/1000\n",
      "124/124 [==============================] - 0s 2ms/step - loss: 0.5891 - accuracy: 0.7078 - val_loss: 0.6099 - val_accuracy: 0.6923\n",
      "Epoch 502/1000\n",
      "124/124 [==============================] - 0s 2ms/step - loss: 0.5898 - accuracy: 0.7032 - val_loss: 0.6059 - val_accuracy: 0.6933\n",
      "Epoch 503/1000\n",
      "124/124 [==============================] - 0s 2ms/step - loss: 0.5901 - accuracy: 0.7068 - val_loss: 0.6045 - val_accuracy: 0.6964\n",
      "Epoch 504/1000\n"
     ]
    },
    {
     "name": "stdout",
     "output_type": "stream",
     "text": [
      "124/124 [==============================] - 0s 2ms/step - loss: 0.5909 - accuracy: 0.7060 - val_loss: 0.6054 - val_accuracy: 0.6984\n",
      "Epoch 505/1000\n",
      "124/124 [==============================] - 0s 2ms/step - loss: 0.5893 - accuracy: 0.7060 - val_loss: 0.6132 - val_accuracy: 0.6822\n",
      "Epoch 506/1000\n",
      "124/124 [==============================] - 0s 2ms/step - loss: 0.5919 - accuracy: 0.7019 - val_loss: 0.6082 - val_accuracy: 0.6893\n",
      "Epoch 507/1000\n",
      "124/124 [==============================] - 0s 2ms/step - loss: 0.5891 - accuracy: 0.7040 - val_loss: 0.6084 - val_accuracy: 0.6893\n",
      "Epoch 508/1000\n",
      "124/124 [==============================] - 0s 3ms/step - loss: 0.5899 - accuracy: 0.7063 - val_loss: 0.6063 - val_accuracy: 0.6974\n",
      "Epoch 509/1000\n",
      "124/124 [==============================] - 0s 2ms/step - loss: 0.5905 - accuracy: 0.7063 - val_loss: 0.6069 - val_accuracy: 0.6893\n",
      "Epoch 510/1000\n",
      "124/124 [==============================] - 0s 2ms/step - loss: 0.5896 - accuracy: 0.7042 - val_loss: 0.6064 - val_accuracy: 0.6872\n",
      "Epoch 511/1000\n",
      "124/124 [==============================] - 0s 2ms/step - loss: 0.5906 - accuracy: 0.7078 - val_loss: 0.6078 - val_accuracy: 0.6913\n",
      "Epoch 512/1000\n",
      "124/124 [==============================] - 0s 2ms/step - loss: 0.5899 - accuracy: 0.7050 - val_loss: 0.6113 - val_accuracy: 0.6893\n",
      "Epoch 513/1000\n",
      "124/124 [==============================] - 0s 2ms/step - loss: 0.5918 - accuracy: 0.7070 - val_loss: 0.6073 - val_accuracy: 0.6913\n",
      "Epoch 514/1000\n",
      "124/124 [==============================] - 0s 2ms/step - loss: 0.5911 - accuracy: 0.7050 - val_loss: 0.6155 - val_accuracy: 0.6781\n",
      "Epoch 515/1000\n",
      "124/124 [==============================] - 0s 2ms/step - loss: 0.5914 - accuracy: 0.7045 - val_loss: 0.6078 - val_accuracy: 0.6903\n",
      "Epoch 516/1000\n",
      "124/124 [==============================] - 0s 2ms/step - loss: 0.5891 - accuracy: 0.7085 - val_loss: 0.6071 - val_accuracy: 0.6923\n",
      "Epoch 517/1000\n",
      "124/124 [==============================] - 0s 2ms/step - loss: 0.5897 - accuracy: 0.7085 - val_loss: 0.6061 - val_accuracy: 0.6913\n",
      "Epoch 518/1000\n",
      "124/124 [==============================] - 0s 2ms/step - loss: 0.5902 - accuracy: 0.7060 - val_loss: 0.6107 - val_accuracy: 0.6842\n",
      "Epoch 519/1000\n",
      "124/124 [==============================] - 0s 2ms/step - loss: 0.5908 - accuracy: 0.7073 - val_loss: 0.6123 - val_accuracy: 0.6781\n",
      "Epoch 520/1000\n",
      "124/124 [==============================] - 0s 2ms/step - loss: 0.5896 - accuracy: 0.7063 - val_loss: 0.6070 - val_accuracy: 0.6913\n",
      "Epoch 521/1000\n",
      "124/124 [==============================] - 0s 2ms/step - loss: 0.5912 - accuracy: 0.7035 - val_loss: 0.6060 - val_accuracy: 0.6933\n",
      "Epoch 522/1000\n",
      "124/124 [==============================] - 0s 2ms/step - loss: 0.5891 - accuracy: 0.7068 - val_loss: 0.6044 - val_accuracy: 0.6974\n",
      "Epoch 523/1000\n",
      "124/124 [==============================] - 0s 2ms/step - loss: 0.5904 - accuracy: 0.7057 - val_loss: 0.6041 - val_accuracy: 0.6964\n",
      "Epoch 524/1000\n",
      "124/124 [==============================] - 0s 2ms/step - loss: 0.5908 - accuracy: 0.7027 - val_loss: 0.6065 - val_accuracy: 0.6994\n",
      "Epoch 525/1000\n",
      "124/124 [==============================] - 0s 2ms/step - loss: 0.5902 - accuracy: 0.7093 - val_loss: 0.6152 - val_accuracy: 0.6852\n",
      "Epoch 526/1000\n",
      "124/124 [==============================] - 0s 2ms/step - loss: 0.5897 - accuracy: 0.7068 - val_loss: 0.6068 - val_accuracy: 0.6923\n",
      "Epoch 527/1000\n",
      "124/124 [==============================] - 0s 2ms/step - loss: 0.5899 - accuracy: 0.7047 - val_loss: 0.6126 - val_accuracy: 0.6893\n",
      "Epoch 528/1000\n",
      "124/124 [==============================] - 0s 2ms/step - loss: 0.5895 - accuracy: 0.7057 - val_loss: 0.6053 - val_accuracy: 0.6943\n",
      "Epoch 529/1000\n",
      "124/124 [==============================] - 0s 2ms/step - loss: 0.5898 - accuracy: 0.7052 - val_loss: 0.6079 - val_accuracy: 0.6903\n",
      "Epoch 530/1000\n",
      "124/124 [==============================] - 0s 2ms/step - loss: 0.5903 - accuracy: 0.7040 - val_loss: 0.6069 - val_accuracy: 0.6893\n",
      "Epoch 531/1000\n",
      "124/124 [==============================] - 0s 2ms/step - loss: 0.5897 - accuracy: 0.7055 - val_loss: 0.6102 - val_accuracy: 0.6862\n",
      "Epoch 532/1000\n",
      "124/124 [==============================] - 0s 3ms/step - loss: 0.5901 - accuracy: 0.7040 - val_loss: 0.6085 - val_accuracy: 0.6893\n",
      "Epoch 533/1000\n",
      "124/124 [==============================] - 0s 2ms/step - loss: 0.5905 - accuracy: 0.7035 - val_loss: 0.6095 - val_accuracy: 0.6852\n",
      "Epoch 534/1000\n",
      "124/124 [==============================] - 0s 2ms/step - loss: 0.5905 - accuracy: 0.7050 - val_loss: 0.6108 - val_accuracy: 0.6842\n",
      "Epoch 535/1000\n",
      "124/124 [==============================] - 0s 2ms/step - loss: 0.5905 - accuracy: 0.7073 - val_loss: 0.6050 - val_accuracy: 0.6933\n",
      "Epoch 536/1000\n",
      "124/124 [==============================] - 0s 2ms/step - loss: 0.5916 - accuracy: 0.7075 - val_loss: 0.6101 - val_accuracy: 0.6913\n",
      "Epoch 537/1000\n",
      "124/124 [==============================] - 0s 2ms/step - loss: 0.5902 - accuracy: 0.7042 - val_loss: 0.6077 - val_accuracy: 0.6872\n",
      "Epoch 538/1000\n",
      "124/124 [==============================] - 0s 2ms/step - loss: 0.5910 - accuracy: 0.7040 - val_loss: 0.6063 - val_accuracy: 0.6964\n",
      "Epoch 539/1000\n",
      "124/124 [==============================] - 0s 3ms/step - loss: 0.5904 - accuracy: 0.7045 - val_loss: 0.6052 - val_accuracy: 0.6943\n",
      "Epoch 540/1000\n",
      "124/124 [==============================] - 0s 3ms/step - loss: 0.5895 - accuracy: 0.7101 - val_loss: 0.6092 - val_accuracy: 0.6923\n",
      "Epoch 541/1000\n",
      "124/124 [==============================] - 0s 3ms/step - loss: 0.5898 - accuracy: 0.7083 - val_loss: 0.6049 - val_accuracy: 0.6923\n",
      "Epoch 542/1000\n",
      "124/124 [==============================] - 0s 3ms/step - loss: 0.5895 - accuracy: 0.7065 - val_loss: 0.6073 - val_accuracy: 0.6893\n",
      "Epoch 543/1000\n",
      "124/124 [==============================] - 0s 3ms/step - loss: 0.5896 - accuracy: 0.7078 - val_loss: 0.6076 - val_accuracy: 0.6893\n",
      "Epoch 544/1000\n",
      "124/124 [==============================] - 0s 2ms/step - loss: 0.5903 - accuracy: 0.7045 - val_loss: 0.6073 - val_accuracy: 0.6913\n",
      "Epoch 545/1000\n",
      "124/124 [==============================] - 0s 2ms/step - loss: 0.5916 - accuracy: 0.7045 - val_loss: 0.6161 - val_accuracy: 0.6791\n",
      "Epoch 546/1000\n",
      "124/124 [==============================] - 0s 2ms/step - loss: 0.5898 - accuracy: 0.7063 - val_loss: 0.6073 - val_accuracy: 0.6913\n",
      "Epoch 547/1000\n",
      "124/124 [==============================] - 0s 2ms/step - loss: 0.5899 - accuracy: 0.7052 - val_loss: 0.6041 - val_accuracy: 0.6974\n",
      "Epoch 548/1000\n",
      "124/124 [==============================] - 0s 2ms/step - loss: 0.5896 - accuracy: 0.7078 - val_loss: 0.6048 - val_accuracy: 0.6953\n",
      "Epoch 549/1000\n",
      "124/124 [==============================] - 0s 3ms/step - loss: 0.5892 - accuracy: 0.7075 - val_loss: 0.6046 - val_accuracy: 0.6964\n",
      "Epoch 550/1000\n",
      "124/124 [==============================] - 0s 2ms/step - loss: 0.5908 - accuracy: 0.7017 - val_loss: 0.6075 - val_accuracy: 0.6923\n",
      "Epoch 551/1000\n",
      "124/124 [==============================] - 0s 2ms/step - loss: 0.5906 - accuracy: 0.7065 - val_loss: 0.6051 - val_accuracy: 0.6974\n",
      "Epoch 552/1000\n",
      "124/124 [==============================] - 0s 2ms/step - loss: 0.5892 - accuracy: 0.7070 - val_loss: 0.6086 - val_accuracy: 0.6903\n",
      "Epoch 553/1000\n",
      "124/124 [==============================] - 0s 2ms/step - loss: 0.5920 - accuracy: 0.7045 - val_loss: 0.6075 - val_accuracy: 0.6883\n",
      "Epoch 554/1000\n",
      "124/124 [==============================] - 0s 2ms/step - loss: 0.5904 - accuracy: 0.7030 - val_loss: 0.6048 - val_accuracy: 0.6994\n",
      "Epoch 555/1000\n",
      "124/124 [==============================] - 0s 2ms/step - loss: 0.5893 - accuracy: 0.7047 - val_loss: 0.6040 - val_accuracy: 0.6974\n",
      "Epoch 556/1000\n",
      "124/124 [==============================] - 0s 2ms/step - loss: 0.5898 - accuracy: 0.7068 - val_loss: 0.6042 - val_accuracy: 0.6943\n",
      "Epoch 557/1000\n",
      "124/124 [==============================] - 0s 2ms/step - loss: 0.5908 - accuracy: 0.7080 - val_loss: 0.6058 - val_accuracy: 0.6943\n",
      "Epoch 558/1000\n",
      "124/124 [==============================] - 0s 2ms/step - loss: 0.5906 - accuracy: 0.7055 - val_loss: 0.6089 - val_accuracy: 0.6893\n",
      "Epoch 559/1000\n",
      "124/124 [==============================] - 0s 2ms/step - loss: 0.5903 - accuracy: 0.7080 - val_loss: 0.6086 - val_accuracy: 0.6862\n",
      "Epoch 560/1000\n"
     ]
    },
    {
     "name": "stdout",
     "output_type": "stream",
     "text": [
      "124/124 [==============================] - 0s 2ms/step - loss: 0.5907 - accuracy: 0.7045 - val_loss: 0.6074 - val_accuracy: 0.6893\n",
      "Epoch 561/1000\n",
      "124/124 [==============================] - 0s 2ms/step - loss: 0.5894 - accuracy: 0.7052 - val_loss: 0.6040 - val_accuracy: 0.6883\n",
      "Epoch 562/1000\n",
      "124/124 [==============================] - 0s 2ms/step - loss: 0.5905 - accuracy: 0.7052 - val_loss: 0.6094 - val_accuracy: 0.6893\n",
      "Epoch 563/1000\n",
      "124/124 [==============================] - 0s 2ms/step - loss: 0.5907 - accuracy: 0.7098 - val_loss: 0.6078 - val_accuracy: 0.6923\n",
      "Epoch 564/1000\n",
      "124/124 [==============================] - 0s 2ms/step - loss: 0.5913 - accuracy: 0.7052 - val_loss: 0.6052 - val_accuracy: 0.6994\n",
      "Epoch 565/1000\n",
      "124/124 [==============================] - 0s 2ms/step - loss: 0.5903 - accuracy: 0.7050 - val_loss: 0.6099 - val_accuracy: 0.6872\n",
      "Epoch 566/1000\n",
      "124/124 [==============================] - 0s 2ms/step - loss: 0.5917 - accuracy: 0.7052 - val_loss: 0.6079 - val_accuracy: 0.6862\n",
      "Epoch 567/1000\n",
      "124/124 [==============================] - 0s 2ms/step - loss: 0.5900 - accuracy: 0.7070 - val_loss: 0.6152 - val_accuracy: 0.6802\n",
      "Epoch 568/1000\n",
      "124/124 [==============================] - 0s 2ms/step - loss: 0.5914 - accuracy: 0.7078 - val_loss: 0.6088 - val_accuracy: 0.6893\n",
      "Epoch 569/1000\n",
      "124/124 [==============================] - 0s 2ms/step - loss: 0.5901 - accuracy: 0.7037 - val_loss: 0.6053 - val_accuracy: 0.6964\n",
      "Epoch 570/1000\n",
      "124/124 [==============================] - 0s 2ms/step - loss: 0.5903 - accuracy: 0.7050 - val_loss: 0.6097 - val_accuracy: 0.6842\n",
      "Epoch 571/1000\n",
      "124/124 [==============================] - 0s 2ms/step - loss: 0.5899 - accuracy: 0.7035 - val_loss: 0.6211 - val_accuracy: 0.6761\n",
      "Epoch 572/1000\n",
      "124/124 [==============================] - 0s 2ms/step - loss: 0.5897 - accuracy: 0.7052 - val_loss: 0.6057 - val_accuracy: 0.6943\n",
      "Epoch 573/1000\n",
      "124/124 [==============================] - 0s 2ms/step - loss: 0.5902 - accuracy: 0.7073 - val_loss: 0.6077 - val_accuracy: 0.6872\n",
      "Epoch 574/1000\n",
      "124/124 [==============================] - 0s 2ms/step - loss: 0.5900 - accuracy: 0.7052 - val_loss: 0.6079 - val_accuracy: 0.6872\n",
      "Epoch 575/1000\n",
      "124/124 [==============================] - 0s 2ms/step - loss: 0.5901 - accuracy: 0.7070 - val_loss: 0.6096 - val_accuracy: 0.6872\n",
      "Epoch 576/1000\n",
      "124/124 [==============================] - 0s 2ms/step - loss: 0.5892 - accuracy: 0.7037 - val_loss: 0.6148 - val_accuracy: 0.6842\n",
      "Epoch 577/1000\n",
      "124/124 [==============================] - 0s 2ms/step - loss: 0.5906 - accuracy: 0.7063 - val_loss: 0.6083 - val_accuracy: 0.6872\n",
      "Epoch 578/1000\n",
      "124/124 [==============================] - 0s 2ms/step - loss: 0.5899 - accuracy: 0.7088 - val_loss: 0.6089 - val_accuracy: 0.6862\n",
      "Epoch 579/1000\n",
      "124/124 [==============================] - 0s 2ms/step - loss: 0.5913 - accuracy: 0.7022 - val_loss: 0.6074 - val_accuracy: 0.6872\n",
      "Epoch 580/1000\n",
      "124/124 [==============================] - 0s 2ms/step - loss: 0.5892 - accuracy: 0.7050 - val_loss: 0.6060 - val_accuracy: 0.6984\n",
      "Epoch 581/1000\n",
      "124/124 [==============================] - 0s 2ms/step - loss: 0.5902 - accuracy: 0.7075 - val_loss: 0.6054 - val_accuracy: 0.6913\n",
      "Epoch 582/1000\n",
      "124/124 [==============================] - 0s 2ms/step - loss: 0.5896 - accuracy: 0.7050 - val_loss: 0.6051 - val_accuracy: 0.6933\n",
      "Epoch 583/1000\n",
      "124/124 [==============================] - 0s 2ms/step - loss: 0.5897 - accuracy: 0.7068 - val_loss: 0.6061 - val_accuracy: 0.6933\n",
      "Epoch 584/1000\n",
      "124/124 [==============================] - 0s 2ms/step - loss: 0.5898 - accuracy: 0.7085 - val_loss: 0.6048 - val_accuracy: 0.6923\n",
      "Epoch 585/1000\n",
      "124/124 [==============================] - 0s 2ms/step - loss: 0.5903 - accuracy: 0.7057 - val_loss: 0.6096 - val_accuracy: 0.6903\n",
      "Epoch 586/1000\n",
      "124/124 [==============================] - 0s 2ms/step - loss: 0.5895 - accuracy: 0.7063 - val_loss: 0.6186 - val_accuracy: 0.6791\n",
      "Epoch 587/1000\n",
      "124/124 [==============================] - 0s 2ms/step - loss: 0.5905 - accuracy: 0.7042 - val_loss: 0.6181 - val_accuracy: 0.6862\n",
      "Epoch 588/1000\n",
      "124/124 [==============================] - 0s 2ms/step - loss: 0.5884 - accuracy: 0.7085 - val_loss: 0.6051 - val_accuracy: 0.7014\n",
      "Epoch 589/1000\n",
      "124/124 [==============================] - 0s 2ms/step - loss: 0.5905 - accuracy: 0.7050 - val_loss: 0.6089 - val_accuracy: 0.6832\n",
      "Epoch 590/1000\n",
      "124/124 [==============================] - 0s 2ms/step - loss: 0.5896 - accuracy: 0.7065 - val_loss: 0.6065 - val_accuracy: 0.6933\n",
      "Epoch 591/1000\n",
      "124/124 [==============================] - 0s 2ms/step - loss: 0.5895 - accuracy: 0.7075 - val_loss: 0.6127 - val_accuracy: 0.6852\n",
      "Epoch 592/1000\n",
      "124/124 [==============================] - 0s 2ms/step - loss: 0.5904 - accuracy: 0.7040 - val_loss: 0.6071 - val_accuracy: 0.6974\n",
      "Epoch 593/1000\n",
      "124/124 [==============================] - 0s 2ms/step - loss: 0.5903 - accuracy: 0.7017 - val_loss: 0.6086 - val_accuracy: 0.6883\n",
      "Epoch 594/1000\n",
      "124/124 [==============================] - 0s 2ms/step - loss: 0.5898 - accuracy: 0.7045 - val_loss: 0.6122 - val_accuracy: 0.6852\n",
      "Epoch 595/1000\n",
      "124/124 [==============================] - 0s 2ms/step - loss: 0.5923 - accuracy: 0.6997 - val_loss: 0.6109 - val_accuracy: 0.6852\n",
      "Epoch 596/1000\n",
      "124/124 [==============================] - 0s 2ms/step - loss: 0.5898 - accuracy: 0.7073 - val_loss: 0.6070 - val_accuracy: 0.6903\n",
      "Epoch 597/1000\n",
      "124/124 [==============================] - 0s 2ms/step - loss: 0.5895 - accuracy: 0.7065 - val_loss: 0.6064 - val_accuracy: 0.6943\n",
      "Epoch 598/1000\n",
      "124/124 [==============================] - 0s 2ms/step - loss: 0.5898 - accuracy: 0.7080 - val_loss: 0.6055 - val_accuracy: 0.6943\n",
      "Epoch 599/1000\n",
      "124/124 [==============================] - 0s 2ms/step - loss: 0.5889 - accuracy: 0.7116 - val_loss: 0.6135 - val_accuracy: 0.6791\n",
      "Epoch 600/1000\n",
      "124/124 [==============================] - 0s 2ms/step - loss: 0.5902 - accuracy: 0.7030 - val_loss: 0.6051 - val_accuracy: 0.6923\n",
      "Epoch 601/1000\n",
      "124/124 [==============================] - 0s 2ms/step - loss: 0.5898 - accuracy: 0.7088 - val_loss: 0.6062 - val_accuracy: 0.6923\n",
      "Epoch 602/1000\n",
      "124/124 [==============================] - 0s 2ms/step - loss: 0.5902 - accuracy: 0.7073 - val_loss: 0.6062 - val_accuracy: 0.6923\n",
      "Epoch 603/1000\n",
      "124/124 [==============================] - 0s 2ms/step - loss: 0.5889 - accuracy: 0.7090 - val_loss: 0.6085 - val_accuracy: 0.6872\n",
      "Epoch 604/1000\n",
      "124/124 [==============================] - 0s 2ms/step - loss: 0.5900 - accuracy: 0.7063 - val_loss: 0.6098 - val_accuracy: 0.6893\n",
      "Epoch 605/1000\n",
      "124/124 [==============================] - 0s 2ms/step - loss: 0.5901 - accuracy: 0.7073 - val_loss: 0.6096 - val_accuracy: 0.6893\n",
      "Epoch 606/1000\n",
      "124/124 [==============================] - 0s 2ms/step - loss: 0.5898 - accuracy: 0.7037 - val_loss: 0.6118 - val_accuracy: 0.6822\n",
      "Epoch 607/1000\n",
      "124/124 [==============================] - 0s 2ms/step - loss: 0.5894 - accuracy: 0.7088 - val_loss: 0.6065 - val_accuracy: 0.6953\n",
      "Epoch 608/1000\n",
      "124/124 [==============================] - 0s 2ms/step - loss: 0.5905 - accuracy: 0.7019 - val_loss: 0.6072 - val_accuracy: 0.6883\n",
      "Epoch 609/1000\n",
      "124/124 [==============================] - 0s 2ms/step - loss: 0.5907 - accuracy: 0.7040 - val_loss: 0.6070 - val_accuracy: 0.6964\n",
      "Epoch 610/1000\n",
      "124/124 [==============================] - 0s 2ms/step - loss: 0.5892 - accuracy: 0.7070 - val_loss: 0.6060 - val_accuracy: 0.6953\n",
      "Epoch 611/1000\n",
      "124/124 [==============================] - 0s 2ms/step - loss: 0.5891 - accuracy: 0.7075 - val_loss: 0.6078 - val_accuracy: 0.6913\n",
      "Epoch 612/1000\n",
      "124/124 [==============================] - 0s 2ms/step - loss: 0.5900 - accuracy: 0.7068 - val_loss: 0.6078 - val_accuracy: 0.6893\n",
      "Epoch 613/1000\n",
      "124/124 [==============================] - 0s 2ms/step - loss: 0.5884 - accuracy: 0.7063 - val_loss: 0.6048 - val_accuracy: 0.6994\n",
      "Epoch 614/1000\n",
      "124/124 [==============================] - 0s 2ms/step - loss: 0.5896 - accuracy: 0.7052 - val_loss: 0.6073 - val_accuracy: 0.6943\n",
      "Epoch 615/1000\n",
      "124/124 [==============================] - 0s 2ms/step - loss: 0.5901 - accuracy: 0.7047 - val_loss: 0.6092 - val_accuracy: 0.6832\n",
      "Epoch 616/1000\n"
     ]
    },
    {
     "name": "stdout",
     "output_type": "stream",
     "text": [
      "124/124 [==============================] - 0s 2ms/step - loss: 0.5898 - accuracy: 0.7093 - val_loss: 0.6054 - val_accuracy: 0.6974\n",
      "Epoch 617/1000\n",
      "124/124 [==============================] - 0s 2ms/step - loss: 0.5892 - accuracy: 0.7075 - val_loss: 0.6052 - val_accuracy: 0.6943\n",
      "Epoch 618/1000\n",
      "124/124 [==============================] - 0s 2ms/step - loss: 0.5912 - accuracy: 0.7063 - val_loss: 0.6052 - val_accuracy: 0.6953\n",
      "Epoch 619/1000\n",
      "124/124 [==============================] - 0s 2ms/step - loss: 0.5890 - accuracy: 0.7085 - val_loss: 0.6082 - val_accuracy: 0.6842\n",
      "Epoch 620/1000\n",
      "124/124 [==============================] - 0s 2ms/step - loss: 0.5889 - accuracy: 0.7075 - val_loss: 0.6104 - val_accuracy: 0.6933\n",
      "Epoch 621/1000\n",
      "124/124 [==============================] - 0s 2ms/step - loss: 0.5902 - accuracy: 0.7027 - val_loss: 0.6103 - val_accuracy: 0.6822\n",
      "Epoch 622/1000\n",
      "124/124 [==============================] - 0s 2ms/step - loss: 0.5894 - accuracy: 0.7078 - val_loss: 0.6060 - val_accuracy: 0.6943\n",
      "Epoch 623/1000\n",
      "124/124 [==============================] - 0s 2ms/step - loss: 0.5906 - accuracy: 0.7040 - val_loss: 0.6070 - val_accuracy: 0.6943\n",
      "Epoch 624/1000\n",
      "124/124 [==============================] - 0s 2ms/step - loss: 0.5879 - accuracy: 0.7047 - val_loss: 0.6082 - val_accuracy: 0.6903\n",
      "Epoch 625/1000\n",
      "124/124 [==============================] - 0s 2ms/step - loss: 0.5901 - accuracy: 0.7050 - val_loss: 0.6055 - val_accuracy: 0.6913\n",
      "Epoch 626/1000\n",
      "124/124 [==============================] - 0s 2ms/step - loss: 0.5908 - accuracy: 0.7090 - val_loss: 0.6072 - val_accuracy: 0.6923\n",
      "Epoch 627/1000\n",
      "124/124 [==============================] - 0s 2ms/step - loss: 0.5904 - accuracy: 0.7063 - val_loss: 0.6090 - val_accuracy: 0.6832\n",
      "Epoch 628/1000\n",
      "124/124 [==============================] - 0s 2ms/step - loss: 0.5899 - accuracy: 0.7065 - val_loss: 0.6148 - val_accuracy: 0.6832\n",
      "Epoch 629/1000\n",
      "124/124 [==============================] - 0s 2ms/step - loss: 0.5910 - accuracy: 0.7037 - val_loss: 0.6085 - val_accuracy: 0.6862\n",
      "Epoch 630/1000\n",
      "124/124 [==============================] - 0s 2ms/step - loss: 0.5920 - accuracy: 0.7007 - val_loss: 0.6051 - val_accuracy: 0.6974\n",
      "Epoch 631/1000\n",
      "124/124 [==============================] - 0s 2ms/step - loss: 0.5908 - accuracy: 0.7065 - val_loss: 0.6143 - val_accuracy: 0.6791\n",
      "Epoch 632/1000\n",
      "124/124 [==============================] - 0s 2ms/step - loss: 0.5894 - accuracy: 0.7065 - val_loss: 0.6086 - val_accuracy: 0.6943\n",
      "Epoch 633/1000\n",
      "124/124 [==============================] - 0s 2ms/step - loss: 0.5892 - accuracy: 0.7045 - val_loss: 0.6113 - val_accuracy: 0.6842\n",
      "Epoch 634/1000\n",
      "124/124 [==============================] - 0s 2ms/step - loss: 0.5896 - accuracy: 0.7075 - val_loss: 0.6057 - val_accuracy: 0.6943\n",
      "Epoch 635/1000\n",
      "124/124 [==============================] - 0s 2ms/step - loss: 0.5891 - accuracy: 0.7032 - val_loss: 0.6050 - val_accuracy: 0.6933\n",
      "Epoch 636/1000\n",
      "124/124 [==============================] - 0s 2ms/step - loss: 0.5906 - accuracy: 0.7019 - val_loss: 0.6071 - val_accuracy: 0.6872\n",
      "Epoch 637/1000\n",
      "124/124 [==============================] - 0s 2ms/step - loss: 0.5892 - accuracy: 0.7060 - val_loss: 0.6052 - val_accuracy: 0.6964\n",
      "Epoch 638/1000\n",
      "124/124 [==============================] - 0s 2ms/step - loss: 0.5901 - accuracy: 0.7060 - val_loss: 0.6067 - val_accuracy: 0.6872\n",
      "Epoch 639/1000\n",
      "124/124 [==============================] - 0s 2ms/step - loss: 0.5900 - accuracy: 0.7080 - val_loss: 0.6077 - val_accuracy: 0.6903\n",
      "Epoch 640/1000\n",
      "124/124 [==============================] - 0s 2ms/step - loss: 0.5902 - accuracy: 0.7080 - val_loss: 0.6055 - val_accuracy: 0.6953\n",
      "Epoch 641/1000\n",
      "124/124 [==============================] - 0s 2ms/step - loss: 0.5902 - accuracy: 0.7065 - val_loss: 0.6060 - val_accuracy: 0.6964\n",
      "Epoch 642/1000\n",
      "124/124 [==============================] - 0s 2ms/step - loss: 0.5893 - accuracy: 0.7113 - val_loss: 0.6061 - val_accuracy: 0.6913\n",
      "Epoch 643/1000\n",
      "124/124 [==============================] - 0s 2ms/step - loss: 0.5885 - accuracy: 0.7080 - val_loss: 0.6171 - val_accuracy: 0.6802\n",
      "Epoch 644/1000\n",
      "124/124 [==============================] - 0s 2ms/step - loss: 0.5900 - accuracy: 0.7037 - val_loss: 0.6102 - val_accuracy: 0.6893\n",
      "Epoch 645/1000\n",
      "124/124 [==============================] - 0s 2ms/step - loss: 0.5889 - accuracy: 0.7052 - val_loss: 0.6078 - val_accuracy: 0.6883\n",
      "Epoch 646/1000\n",
      "124/124 [==============================] - 0s 2ms/step - loss: 0.5894 - accuracy: 0.7052 - val_loss: 0.6066 - val_accuracy: 0.6964\n",
      "Epoch 647/1000\n",
      "124/124 [==============================] - 0s 2ms/step - loss: 0.5899 - accuracy: 0.7060 - val_loss: 0.6089 - val_accuracy: 0.6974\n",
      "Epoch 648/1000\n",
      "124/124 [==============================] - 0s 2ms/step - loss: 0.5897 - accuracy: 0.7040 - val_loss: 0.6059 - val_accuracy: 0.6893\n",
      "Epoch 649/1000\n",
      "124/124 [==============================] - 0s 2ms/step - loss: 0.5907 - accuracy: 0.7042 - val_loss: 0.6054 - val_accuracy: 0.6913\n",
      "Epoch 650/1000\n",
      "124/124 [==============================] - 0s 2ms/step - loss: 0.5903 - accuracy: 0.7090 - val_loss: 0.6083 - val_accuracy: 0.6883\n",
      "Epoch 651/1000\n",
      "124/124 [==============================] - 0s 2ms/step - loss: 0.5888 - accuracy: 0.7075 - val_loss: 0.6060 - val_accuracy: 0.6984\n",
      "Epoch 652/1000\n",
      "124/124 [==============================] - 0s 2ms/step - loss: 0.5909 - accuracy: 0.7025 - val_loss: 0.6065 - val_accuracy: 0.6974\n",
      "Epoch 653/1000\n",
      "124/124 [==============================] - 0s 2ms/step - loss: 0.5913 - accuracy: 0.7025 - val_loss: 0.6141 - val_accuracy: 0.6791\n",
      "Epoch 654/1000\n",
      "124/124 [==============================] - 0s 2ms/step - loss: 0.5893 - accuracy: 0.7050 - val_loss: 0.6045 - val_accuracy: 0.6984\n",
      "Epoch 655/1000\n",
      "124/124 [==============================] - 0s 2ms/step - loss: 0.5897 - accuracy: 0.7063 - val_loss: 0.6064 - val_accuracy: 0.6943\n",
      "Epoch 656/1000\n",
      "124/124 [==============================] - 0s 2ms/step - loss: 0.5895 - accuracy: 0.7080 - val_loss: 0.6060 - val_accuracy: 0.6893\n",
      "Epoch 657/1000\n",
      "124/124 [==============================] - 0s 2ms/step - loss: 0.5889 - accuracy: 0.7057 - val_loss: 0.6209 - val_accuracy: 0.6842\n",
      "Epoch 658/1000\n",
      "124/124 [==============================] - 0s 2ms/step - loss: 0.5900 - accuracy: 0.7065 - val_loss: 0.6048 - val_accuracy: 0.6974\n",
      "Epoch 659/1000\n",
      "124/124 [==============================] - 0s 2ms/step - loss: 0.5894 - accuracy: 0.7065 - val_loss: 0.6098 - val_accuracy: 0.6852\n",
      "Epoch 660/1000\n",
      "124/124 [==============================] - 0s 2ms/step - loss: 0.5896 - accuracy: 0.7037 - val_loss: 0.6055 - val_accuracy: 0.6913\n",
      "Epoch 661/1000\n",
      "124/124 [==============================] - 0s 2ms/step - loss: 0.5898 - accuracy: 0.7045 - val_loss: 0.6059 - val_accuracy: 0.6964\n",
      "Epoch 662/1000\n",
      "124/124 [==============================] - 0s 2ms/step - loss: 0.5891 - accuracy: 0.7068 - val_loss: 0.6090 - val_accuracy: 0.6852\n",
      "Epoch 663/1000\n",
      "124/124 [==============================] - 0s 2ms/step - loss: 0.5891 - accuracy: 0.7052 - val_loss: 0.6069 - val_accuracy: 0.6933\n",
      "Epoch 664/1000\n",
      "124/124 [==============================] - 0s 2ms/step - loss: 0.5897 - accuracy: 0.7052 - val_loss: 0.6043 - val_accuracy: 0.6883\n",
      "Epoch 665/1000\n",
      "124/124 [==============================] - 0s 2ms/step - loss: 0.5896 - accuracy: 0.7037 - val_loss: 0.6076 - val_accuracy: 0.6852\n",
      "Epoch 666/1000\n",
      "124/124 [==============================] - 0s 2ms/step - loss: 0.5903 - accuracy: 0.7032 - val_loss: 0.6057 - val_accuracy: 0.6974\n",
      "Epoch 667/1000\n",
      "124/124 [==============================] - 0s 2ms/step - loss: 0.5906 - accuracy: 0.7070 - val_loss: 0.6080 - val_accuracy: 0.6883\n",
      "Epoch 668/1000\n",
      "124/124 [==============================] - 0s 2ms/step - loss: 0.5894 - accuracy: 0.7075 - val_loss: 0.6071 - val_accuracy: 0.6893\n",
      "Epoch 669/1000\n",
      "124/124 [==============================] - 0s 2ms/step - loss: 0.5894 - accuracy: 0.7078 - val_loss: 0.6096 - val_accuracy: 0.6872\n",
      "Epoch 670/1000\n",
      "124/124 [==============================] - 0s 2ms/step - loss: 0.5899 - accuracy: 0.7078 - val_loss: 0.6119 - val_accuracy: 0.6832\n",
      "Epoch 671/1000\n",
      "124/124 [==============================] - 0s 2ms/step - loss: 0.5898 - accuracy: 0.7083 - val_loss: 0.6109 - val_accuracy: 0.6893\n",
      "Epoch 672/1000\n"
     ]
    },
    {
     "name": "stdout",
     "output_type": "stream",
     "text": [
      "124/124 [==============================] - 0s 2ms/step - loss: 0.5905 - accuracy: 0.7027 - val_loss: 0.6121 - val_accuracy: 0.6822\n",
      "Epoch 673/1000\n",
      "124/124 [==============================] - 0s 2ms/step - loss: 0.5911 - accuracy: 0.7032 - val_loss: 0.6062 - val_accuracy: 0.6953\n",
      "Epoch 674/1000\n",
      "124/124 [==============================] - 0s 2ms/step - loss: 0.5899 - accuracy: 0.7055 - val_loss: 0.6090 - val_accuracy: 0.6913\n",
      "Epoch 675/1000\n",
      "124/124 [==============================] - 0s 2ms/step - loss: 0.5901 - accuracy: 0.7063 - val_loss: 0.6075 - val_accuracy: 0.6842\n",
      "Epoch 676/1000\n",
      "124/124 [==============================] - 0s 2ms/step - loss: 0.5902 - accuracy: 0.7065 - val_loss: 0.6071 - val_accuracy: 0.6883\n",
      "Epoch 677/1000\n",
      "124/124 [==============================] - 0s 2ms/step - loss: 0.5902 - accuracy: 0.7047 - val_loss: 0.6052 - val_accuracy: 0.6964\n",
      "Epoch 678/1000\n",
      "124/124 [==============================] - 0s 2ms/step - loss: 0.5902 - accuracy: 0.7060 - val_loss: 0.6067 - val_accuracy: 0.6913\n",
      "Epoch 679/1000\n",
      "124/124 [==============================] - 0s 2ms/step - loss: 0.5894 - accuracy: 0.7037 - val_loss: 0.6113 - val_accuracy: 0.6822\n",
      "Epoch 680/1000\n",
      "124/124 [==============================] - 0s 2ms/step - loss: 0.5892 - accuracy: 0.7060 - val_loss: 0.6100 - val_accuracy: 0.6903\n",
      "Epoch 681/1000\n",
      "124/124 [==============================] - 0s 2ms/step - loss: 0.5898 - accuracy: 0.7075 - val_loss: 0.6113 - val_accuracy: 0.6832\n",
      "Epoch 682/1000\n",
      "124/124 [==============================] - 0s 2ms/step - loss: 0.5890 - accuracy: 0.7050 - val_loss: 0.6105 - val_accuracy: 0.6812\n",
      "Epoch 683/1000\n",
      "124/124 [==============================] - 0s 2ms/step - loss: 0.5895 - accuracy: 0.7068 - val_loss: 0.6064 - val_accuracy: 0.6923\n",
      "Epoch 684/1000\n",
      "124/124 [==============================] - 0s 2ms/step - loss: 0.5900 - accuracy: 0.7070 - val_loss: 0.6078 - val_accuracy: 0.6893\n",
      "Epoch 685/1000\n",
      "124/124 [==============================] - 0s 2ms/step - loss: 0.5894 - accuracy: 0.7057 - val_loss: 0.6060 - val_accuracy: 0.6893\n",
      "Epoch 686/1000\n",
      "124/124 [==============================] - 0s 2ms/step - loss: 0.5890 - accuracy: 0.7068 - val_loss: 0.6070 - val_accuracy: 0.6883\n",
      "Epoch 687/1000\n",
      "124/124 [==============================] - 0s 2ms/step - loss: 0.5897 - accuracy: 0.7045 - val_loss: 0.6113 - val_accuracy: 0.6842\n",
      "Epoch 688/1000\n",
      "124/124 [==============================] - 0s 2ms/step - loss: 0.5904 - accuracy: 0.7075 - val_loss: 0.6058 - val_accuracy: 0.6953\n",
      "Epoch 689/1000\n",
      "124/124 [==============================] - 0s 2ms/step - loss: 0.5907 - accuracy: 0.7040 - val_loss: 0.6080 - val_accuracy: 0.6953\n",
      "Epoch 690/1000\n",
      "124/124 [==============================] - 0s 2ms/step - loss: 0.5907 - accuracy: 0.7030 - val_loss: 0.6126 - val_accuracy: 0.6791\n",
      "Epoch 691/1000\n",
      "124/124 [==============================] - 0s 2ms/step - loss: 0.5901 - accuracy: 0.7022 - val_loss: 0.6104 - val_accuracy: 0.6832\n",
      "Epoch 692/1000\n",
      "124/124 [==============================] - 0s 2ms/step - loss: 0.5907 - accuracy: 0.7078 - val_loss: 0.6062 - val_accuracy: 0.6964\n",
      "Epoch 693/1000\n",
      "124/124 [==============================] - 0s 2ms/step - loss: 0.5900 - accuracy: 0.7030 - val_loss: 0.6092 - val_accuracy: 0.6913\n",
      "Epoch 694/1000\n",
      "124/124 [==============================] - 0s 2ms/step - loss: 0.5881 - accuracy: 0.7080 - val_loss: 0.6101 - val_accuracy: 0.6852\n",
      "Epoch 695/1000\n",
      "124/124 [==============================] - 0s 2ms/step - loss: 0.5912 - accuracy: 0.7025 - val_loss: 0.6084 - val_accuracy: 0.6903\n",
      "Epoch 696/1000\n",
      "124/124 [==============================] - 0s 2ms/step - loss: 0.5900 - accuracy: 0.7060 - val_loss: 0.6072 - val_accuracy: 0.6913\n",
      "Epoch 697/1000\n",
      "124/124 [==============================] - 0s 2ms/step - loss: 0.5893 - accuracy: 0.7050 - val_loss: 0.6071 - val_accuracy: 0.6964\n",
      "Epoch 698/1000\n",
      "124/124 [==============================] - 0s 2ms/step - loss: 0.5913 - accuracy: 0.7027 - val_loss: 0.6106 - val_accuracy: 0.6953\n",
      "Epoch 699/1000\n",
      "124/124 [==============================] - 0s 2ms/step - loss: 0.5899 - accuracy: 0.7063 - val_loss: 0.6077 - val_accuracy: 0.6862\n",
      "Epoch 700/1000\n",
      "124/124 [==============================] - 0s 2ms/step - loss: 0.5907 - accuracy: 0.7052 - val_loss: 0.6078 - val_accuracy: 0.6842\n",
      "Epoch 701/1000\n",
      "124/124 [==============================] - 0s 2ms/step - loss: 0.5913 - accuracy: 0.6994 - val_loss: 0.6074 - val_accuracy: 0.6953\n",
      "Epoch 702/1000\n",
      "124/124 [==============================] - 0s 2ms/step - loss: 0.5889 - accuracy: 0.7060 - val_loss: 0.6047 - val_accuracy: 0.6943\n",
      "Epoch 703/1000\n",
      "124/124 [==============================] - 0s 2ms/step - loss: 0.5887 - accuracy: 0.7037 - val_loss: 0.6074 - val_accuracy: 0.6893\n",
      "Epoch 704/1000\n",
      "124/124 [==============================] - 0s 2ms/step - loss: 0.5891 - accuracy: 0.7055 - val_loss: 0.6126 - val_accuracy: 0.6781\n",
      "Epoch 705/1000\n",
      "124/124 [==============================] - 0s 2ms/step - loss: 0.5905 - accuracy: 0.6994 - val_loss: 0.6103 - val_accuracy: 0.6852\n",
      "Epoch 706/1000\n",
      "124/124 [==============================] - 0s 2ms/step - loss: 0.5898 - accuracy: 0.7063 - val_loss: 0.6086 - val_accuracy: 0.6852\n",
      "Epoch 707/1000\n",
      "124/124 [==============================] - 0s 2ms/step - loss: 0.5895 - accuracy: 0.7065 - val_loss: 0.6082 - val_accuracy: 0.6872\n",
      "Epoch 708/1000\n",
      "124/124 [==============================] - 0s 2ms/step - loss: 0.5895 - accuracy: 0.7080 - val_loss: 0.6048 - val_accuracy: 0.6923\n",
      "Epoch 709/1000\n",
      "124/124 [==============================] - 0s 2ms/step - loss: 0.5899 - accuracy: 0.7065 - val_loss: 0.6116 - val_accuracy: 0.6832\n",
      "Epoch 710/1000\n",
      "124/124 [==============================] - 0s 2ms/step - loss: 0.5923 - accuracy: 0.7057 - val_loss: 0.6059 - val_accuracy: 0.6862\n",
      "Epoch 711/1000\n",
      "124/124 [==============================] - 0s 2ms/step - loss: 0.5903 - accuracy: 0.7055 - val_loss: 0.6062 - val_accuracy: 0.6923\n",
      "Epoch 712/1000\n",
      "124/124 [==============================] - 0s 2ms/step - loss: 0.5883 - accuracy: 0.7063 - val_loss: 0.6076 - val_accuracy: 0.6923\n",
      "Epoch 713/1000\n",
      "124/124 [==============================] - 0s 2ms/step - loss: 0.5888 - accuracy: 0.7042 - val_loss: 0.6148 - val_accuracy: 0.6812\n",
      "Epoch 714/1000\n",
      "124/124 [==============================] - 0s 2ms/step - loss: 0.5892 - accuracy: 0.7063 - val_loss: 0.6157 - val_accuracy: 0.6822\n",
      "Epoch 715/1000\n",
      "124/124 [==============================] - 0s 2ms/step - loss: 0.5899 - accuracy: 0.7040 - val_loss: 0.6121 - val_accuracy: 0.6812\n",
      "Epoch 716/1000\n",
      "124/124 [==============================] - 0s 2ms/step - loss: 0.5900 - accuracy: 0.7080 - val_loss: 0.6078 - val_accuracy: 0.6852\n",
      "Epoch 717/1000\n",
      "124/124 [==============================] - 0s 2ms/step - loss: 0.5898 - accuracy: 0.7063 - val_loss: 0.6055 - val_accuracy: 0.6984\n",
      "Epoch 718/1000\n",
      "124/124 [==============================] - 0s 2ms/step - loss: 0.5896 - accuracy: 0.7075 - val_loss: 0.6080 - val_accuracy: 0.6913\n",
      "Epoch 719/1000\n",
      "124/124 [==============================] - 0s 2ms/step - loss: 0.5901 - accuracy: 0.7057 - val_loss: 0.6055 - val_accuracy: 0.6984\n",
      "Epoch 720/1000\n",
      "124/124 [==============================] - 0s 2ms/step - loss: 0.5888 - accuracy: 0.7045 - val_loss: 0.6076 - val_accuracy: 0.6913\n",
      "Epoch 721/1000\n",
      "124/124 [==============================] - 0s 2ms/step - loss: 0.5891 - accuracy: 0.7045 - val_loss: 0.6057 - val_accuracy: 0.6913\n",
      "Epoch 722/1000\n",
      "124/124 [==============================] - 0s 2ms/step - loss: 0.5898 - accuracy: 0.7083 - val_loss: 0.6099 - val_accuracy: 0.6893\n",
      "Epoch 723/1000\n",
      "124/124 [==============================] - 0s 2ms/step - loss: 0.5887 - accuracy: 0.7042 - val_loss: 0.6100 - val_accuracy: 0.6893\n",
      "Epoch 724/1000\n",
      "124/124 [==============================] - 0s 2ms/step - loss: 0.5892 - accuracy: 0.7057 - val_loss: 0.6064 - val_accuracy: 0.6913\n",
      "Epoch 725/1000\n",
      "124/124 [==============================] - 0s 2ms/step - loss: 0.5909 - accuracy: 0.7057 - val_loss: 0.6107 - val_accuracy: 0.6852\n",
      "Epoch 726/1000\n",
      "124/124 [==============================] - 0s 2ms/step - loss: 0.5898 - accuracy: 0.7063 - val_loss: 0.6052 - val_accuracy: 0.6974\n",
      "Epoch 727/1000\n",
      "124/124 [==============================] - 0s 3ms/step - loss: 0.5901 - accuracy: 0.7073 - val_loss: 0.6197 - val_accuracy: 0.6812\n",
      "Epoch 728/1000\n"
     ]
    },
    {
     "name": "stdout",
     "output_type": "stream",
     "text": [
      "124/124 [==============================] - 0s 3ms/step - loss: 0.5891 - accuracy: 0.7073 - val_loss: 0.6125 - val_accuracy: 0.6872\n",
      "Epoch 729/1000\n",
      "124/124 [==============================] - 0s 3ms/step - loss: 0.5893 - accuracy: 0.7065 - val_loss: 0.6064 - val_accuracy: 0.6974\n",
      "Epoch 730/1000\n",
      "124/124 [==============================] - 0s 3ms/step - loss: 0.5889 - accuracy: 0.7037 - val_loss: 0.6096 - val_accuracy: 0.6883\n",
      "Epoch 731/1000\n",
      "124/124 [==============================] - 0s 2ms/step - loss: 0.5891 - accuracy: 0.7063 - val_loss: 0.6152 - val_accuracy: 0.6812\n",
      "Epoch 732/1000\n",
      "124/124 [==============================] - 0s 3ms/step - loss: 0.5894 - accuracy: 0.7080 - val_loss: 0.6055 - val_accuracy: 0.6872\n",
      "Epoch 733/1000\n",
      "124/124 [==============================] - 0s 2ms/step - loss: 0.5901 - accuracy: 0.7090 - val_loss: 0.6094 - val_accuracy: 0.6872\n",
      "Epoch 734/1000\n",
      "124/124 [==============================] - 0s 2ms/step - loss: 0.5906 - accuracy: 0.7047 - val_loss: 0.6071 - val_accuracy: 0.6903\n",
      "Epoch 735/1000\n",
      "124/124 [==============================] - 0s 2ms/step - loss: 0.5900 - accuracy: 0.7047 - val_loss: 0.6121 - val_accuracy: 0.6822\n",
      "Epoch 736/1000\n",
      "124/124 [==============================] - 0s 2ms/step - loss: 0.5884 - accuracy: 0.7070 - val_loss: 0.6137 - val_accuracy: 0.6812\n",
      "Epoch 737/1000\n",
      "124/124 [==============================] - 0s 2ms/step - loss: 0.5873 - accuracy: 0.7078 - val_loss: 0.6063 - val_accuracy: 0.6943\n",
      "Epoch 738/1000\n",
      "124/124 [==============================] - 0s 2ms/step - loss: 0.5896 - accuracy: 0.7078 - val_loss: 0.6113 - val_accuracy: 0.6852\n",
      "Epoch 739/1000\n",
      "124/124 [==============================] - 0s 2ms/step - loss: 0.5890 - accuracy: 0.7078 - val_loss: 0.6069 - val_accuracy: 0.6893\n",
      "Epoch 740/1000\n",
      "124/124 [==============================] - 0s 2ms/step - loss: 0.5893 - accuracy: 0.7060 - val_loss: 0.6051 - val_accuracy: 0.6953\n",
      "Epoch 741/1000\n",
      "124/124 [==============================] - 0s 3ms/step - loss: 0.5885 - accuracy: 0.7085 - val_loss: 0.6077 - val_accuracy: 0.6903\n",
      "Epoch 742/1000\n",
      "124/124 [==============================] - 0s 3ms/step - loss: 0.5892 - accuracy: 0.7027 - val_loss: 0.6067 - val_accuracy: 0.6862\n",
      "Epoch 743/1000\n",
      "124/124 [==============================] - 0s 3ms/step - loss: 0.5904 - accuracy: 0.7007 - val_loss: 0.6054 - val_accuracy: 0.6893\n",
      "Epoch 744/1000\n",
      "124/124 [==============================] - 0s 2ms/step - loss: 0.5898 - accuracy: 0.7022 - val_loss: 0.6100 - val_accuracy: 0.6832\n",
      "Epoch 745/1000\n",
      "124/124 [==============================] - 0s 2ms/step - loss: 0.5894 - accuracy: 0.7078 - val_loss: 0.6062 - val_accuracy: 0.6933\n",
      "Epoch 746/1000\n",
      "124/124 [==============================] - 0s 2ms/step - loss: 0.5903 - accuracy: 0.7042 - val_loss: 0.6079 - val_accuracy: 0.6852\n",
      "Epoch 747/1000\n",
      "124/124 [==============================] - 0s 2ms/step - loss: 0.5895 - accuracy: 0.7098 - val_loss: 0.6134 - val_accuracy: 0.6842\n",
      "Epoch 748/1000\n",
      "124/124 [==============================] - 0s 2ms/step - loss: 0.5891 - accuracy: 0.7042 - val_loss: 0.6139 - val_accuracy: 0.6812\n",
      "Epoch 749/1000\n",
      "124/124 [==============================] - 0s 2ms/step - loss: 0.5895 - accuracy: 0.7083 - val_loss: 0.6044 - val_accuracy: 0.6953\n",
      "Epoch 750/1000\n",
      "124/124 [==============================] - 0s 3ms/step - loss: 0.5900 - accuracy: 0.7073 - val_loss: 0.6071 - val_accuracy: 0.6943\n",
      "Epoch 751/1000\n",
      "124/124 [==============================] - 0s 3ms/step - loss: 0.5883 - accuracy: 0.7065 - val_loss: 0.6320 - val_accuracy: 0.6721\n",
      "Epoch 752/1000\n",
      "124/124 [==============================] - 0s 2ms/step - loss: 0.5911 - accuracy: 0.7060 - val_loss: 0.6065 - val_accuracy: 0.6883\n",
      "Epoch 753/1000\n",
      "124/124 [==============================] - 0s 3ms/step - loss: 0.5891 - accuracy: 0.7088 - val_loss: 0.6083 - val_accuracy: 0.6872\n",
      "Epoch 754/1000\n",
      "124/124 [==============================] - 0s 3ms/step - loss: 0.5897 - accuracy: 0.7073 - val_loss: 0.6057 - val_accuracy: 0.6913\n",
      "Epoch 755/1000\n",
      "124/124 [==============================] - 0s 3ms/step - loss: 0.5897 - accuracy: 0.7103 - val_loss: 0.6065 - val_accuracy: 0.6923\n",
      "Epoch 756/1000\n",
      "124/124 [==============================] - 0s 2ms/step - loss: 0.5883 - accuracy: 0.7088 - val_loss: 0.6048 - val_accuracy: 0.6953\n",
      "Epoch 757/1000\n",
      "124/124 [==============================] - 0s 3ms/step - loss: 0.5896 - accuracy: 0.7063 - val_loss: 0.6054 - val_accuracy: 0.6913\n",
      "Epoch 758/1000\n",
      "124/124 [==============================] - 0s 2ms/step - loss: 0.5894 - accuracy: 0.7027 - val_loss: 0.6174 - val_accuracy: 0.6791\n",
      "Epoch 759/1000\n",
      "124/124 [==============================] - 0s 2ms/step - loss: 0.5891 - accuracy: 0.7068 - val_loss: 0.6065 - val_accuracy: 0.6883\n",
      "Epoch 760/1000\n",
      "124/124 [==============================] - 0s 2ms/step - loss: 0.5899 - accuracy: 0.7019 - val_loss: 0.6069 - val_accuracy: 0.6852\n",
      "Epoch 761/1000\n",
      "124/124 [==============================] - 0s 2ms/step - loss: 0.5891 - accuracy: 0.7080 - val_loss: 0.6045 - val_accuracy: 0.6943\n",
      "Epoch 762/1000\n",
      "124/124 [==============================] - 0s 2ms/step - loss: 0.5894 - accuracy: 0.7045 - val_loss: 0.6058 - val_accuracy: 0.6933\n",
      "Epoch 763/1000\n",
      "124/124 [==============================] - 0s 2ms/step - loss: 0.5893 - accuracy: 0.7060 - val_loss: 0.6137 - val_accuracy: 0.6791\n",
      "Epoch 764/1000\n",
      "124/124 [==============================] - 0s 2ms/step - loss: 0.5908 - accuracy: 0.7068 - val_loss: 0.6058 - val_accuracy: 0.6953\n",
      "Epoch 765/1000\n",
      "124/124 [==============================] - 0s 2ms/step - loss: 0.5892 - accuracy: 0.7057 - val_loss: 0.6056 - val_accuracy: 0.6964\n",
      "Epoch 766/1000\n",
      "124/124 [==============================] - 0s 2ms/step - loss: 0.5899 - accuracy: 0.7085 - val_loss: 0.6057 - val_accuracy: 0.6964\n",
      "Epoch 767/1000\n",
      "124/124 [==============================] - 0s 2ms/step - loss: 0.5888 - accuracy: 0.7050 - val_loss: 0.6110 - val_accuracy: 0.6893\n",
      "Epoch 768/1000\n",
      "124/124 [==============================] - 0s 2ms/step - loss: 0.5889 - accuracy: 0.7065 - val_loss: 0.6066 - val_accuracy: 0.6964\n",
      "Epoch 769/1000\n",
      "124/124 [==============================] - 0s 2ms/step - loss: 0.5888 - accuracy: 0.7060 - val_loss: 0.6057 - val_accuracy: 0.6974\n",
      "Epoch 770/1000\n",
      "124/124 [==============================] - 0s 2ms/step - loss: 0.5892 - accuracy: 0.7116 - val_loss: 0.6182 - val_accuracy: 0.6791\n",
      "Epoch 771/1000\n",
      "124/124 [==============================] - 0s 2ms/step - loss: 0.5900 - accuracy: 0.7057 - val_loss: 0.6049 - val_accuracy: 0.6923\n",
      "Epoch 772/1000\n",
      "124/124 [==============================] - 0s 2ms/step - loss: 0.5890 - accuracy: 0.7035 - val_loss: 0.6066 - val_accuracy: 0.6862\n",
      "Epoch 773/1000\n",
      "124/124 [==============================] - 0s 2ms/step - loss: 0.5893 - accuracy: 0.7068 - val_loss: 0.6071 - val_accuracy: 0.6852\n",
      "Epoch 774/1000\n",
      "124/124 [==============================] - 0s 2ms/step - loss: 0.5901 - accuracy: 0.7057 - val_loss: 0.6130 - val_accuracy: 0.6822\n",
      "Epoch 775/1000\n",
      "124/124 [==============================] - 0s 2ms/step - loss: 0.5892 - accuracy: 0.7073 - val_loss: 0.6076 - val_accuracy: 0.6862\n",
      "Epoch 776/1000\n",
      "124/124 [==============================] - 0s 2ms/step - loss: 0.5891 - accuracy: 0.7065 - val_loss: 0.6078 - val_accuracy: 0.6933\n",
      "Epoch 777/1000\n",
      "124/124 [==============================] - 0s 2ms/step - loss: 0.5897 - accuracy: 0.7070 - val_loss: 0.6139 - val_accuracy: 0.6862\n",
      "Epoch 778/1000\n",
      "124/124 [==============================] - 0s 2ms/step - loss: 0.5898 - accuracy: 0.7065 - val_loss: 0.6051 - val_accuracy: 0.6984\n",
      "Epoch 779/1000\n",
      "124/124 [==============================] - 0s 2ms/step - loss: 0.5888 - accuracy: 0.7035 - val_loss: 0.6075 - val_accuracy: 0.6872\n",
      "Epoch 780/1000\n",
      "124/124 [==============================] - 0s 2ms/step - loss: 0.5898 - accuracy: 0.7045 - val_loss: 0.6103 - val_accuracy: 0.6852\n",
      "Epoch 781/1000\n",
      "124/124 [==============================] - 0s 2ms/step - loss: 0.5891 - accuracy: 0.7040 - val_loss: 0.6053 - val_accuracy: 0.6953\n",
      "Epoch 782/1000\n",
      "124/124 [==============================] - 0s 2ms/step - loss: 0.5902 - accuracy: 0.7032 - val_loss: 0.6070 - val_accuracy: 0.6842\n",
      "Epoch 783/1000\n",
      "124/124 [==============================] - 0s 2ms/step - loss: 0.5883 - accuracy: 0.7035 - val_loss: 0.6069 - val_accuracy: 0.6923\n",
      "Epoch 784/1000\n"
     ]
    },
    {
     "name": "stdout",
     "output_type": "stream",
     "text": [
      "124/124 [==============================] - 0s 2ms/step - loss: 0.5894 - accuracy: 0.7063 - val_loss: 0.6130 - val_accuracy: 0.6832\n",
      "Epoch 785/1000\n",
      "124/124 [==============================] - 0s 2ms/step - loss: 0.5898 - accuracy: 0.7075 - val_loss: 0.6062 - val_accuracy: 0.6862\n",
      "Epoch 786/1000\n",
      "124/124 [==============================] - 0s 2ms/step - loss: 0.5897 - accuracy: 0.7040 - val_loss: 0.6052 - val_accuracy: 0.6893\n",
      "Epoch 787/1000\n",
      "124/124 [==============================] - 0s 2ms/step - loss: 0.5891 - accuracy: 0.7045 - val_loss: 0.6061 - val_accuracy: 0.6903\n",
      "Epoch 788/1000\n",
      "124/124 [==============================] - 0s 2ms/step - loss: 0.5891 - accuracy: 0.7065 - val_loss: 0.6126 - val_accuracy: 0.6822\n",
      "Epoch 789/1000\n",
      "124/124 [==============================] - 0s 2ms/step - loss: 0.5920 - accuracy: 0.7057 - val_loss: 0.6074 - val_accuracy: 0.6923\n",
      "Epoch 790/1000\n",
      "124/124 [==============================] - 0s 2ms/step - loss: 0.5905 - accuracy: 0.7032 - val_loss: 0.6053 - val_accuracy: 0.6943\n",
      "Epoch 791/1000\n",
      "124/124 [==============================] - 0s 2ms/step - loss: 0.5911 - accuracy: 0.7065 - val_loss: 0.6046 - val_accuracy: 0.6933\n",
      "Epoch 792/1000\n",
      "124/124 [==============================] - 0s 2ms/step - loss: 0.5888 - accuracy: 0.7052 - val_loss: 0.6114 - val_accuracy: 0.6842\n",
      "Epoch 793/1000\n",
      "124/124 [==============================] - 0s 2ms/step - loss: 0.5893 - accuracy: 0.7068 - val_loss: 0.6050 - val_accuracy: 0.6903\n",
      "Epoch 794/1000\n",
      "124/124 [==============================] - 0s 2ms/step - loss: 0.5893 - accuracy: 0.7068 - val_loss: 0.6127 - val_accuracy: 0.6812\n",
      "Epoch 795/1000\n",
      "124/124 [==============================] - 0s 2ms/step - loss: 0.5899 - accuracy: 0.7065 - val_loss: 0.6171 - val_accuracy: 0.6862\n",
      "Epoch 796/1000\n",
      "124/124 [==============================] - 0s 2ms/step - loss: 0.5896 - accuracy: 0.7057 - val_loss: 0.6181 - val_accuracy: 0.6771\n",
      "Epoch 797/1000\n",
      "124/124 [==============================] - 0s 2ms/step - loss: 0.5893 - accuracy: 0.7050 - val_loss: 0.6093 - val_accuracy: 0.6883\n",
      "Epoch 798/1000\n",
      "124/124 [==============================] - 0s 2ms/step - loss: 0.5887 - accuracy: 0.7080 - val_loss: 0.6059 - val_accuracy: 0.6903\n",
      "Epoch 799/1000\n",
      "124/124 [==============================] - 0s 2ms/step - loss: 0.5899 - accuracy: 0.7047 - val_loss: 0.6062 - val_accuracy: 0.6933\n",
      "Epoch 800/1000\n",
      "124/124 [==============================] - 0s 2ms/step - loss: 0.5896 - accuracy: 0.7078 - val_loss: 0.6078 - val_accuracy: 0.6852\n",
      "Epoch 801/1000\n",
      "124/124 [==============================] - 0s 2ms/step - loss: 0.5895 - accuracy: 0.7032 - val_loss: 0.6058 - val_accuracy: 0.6923\n",
      "Epoch 802/1000\n",
      "124/124 [==============================] - 0s 2ms/step - loss: 0.5898 - accuracy: 0.7057 - val_loss: 0.6047 - val_accuracy: 0.6943\n",
      "Epoch 803/1000\n",
      "124/124 [==============================] - 0s 2ms/step - loss: 0.5900 - accuracy: 0.7014 - val_loss: 0.6092 - val_accuracy: 0.6852\n",
      "Epoch 804/1000\n",
      "124/124 [==============================] - 0s 2ms/step - loss: 0.5898 - accuracy: 0.7060 - val_loss: 0.6118 - val_accuracy: 0.6852\n",
      "Epoch 805/1000\n",
      "124/124 [==============================] - 0s 2ms/step - loss: 0.5894 - accuracy: 0.7060 - val_loss: 0.6163 - val_accuracy: 0.6802\n",
      "Epoch 806/1000\n",
      "124/124 [==============================] - 0s 2ms/step - loss: 0.5908 - accuracy: 0.7045 - val_loss: 0.6050 - val_accuracy: 0.6943\n",
      "Epoch 807/1000\n",
      "124/124 [==============================] - 0s 2ms/step - loss: 0.5884 - accuracy: 0.7070 - val_loss: 0.6070 - val_accuracy: 0.6883\n",
      "Epoch 808/1000\n",
      "124/124 [==============================] - 0s 2ms/step - loss: 0.5897 - accuracy: 0.7057 - val_loss: 0.6143 - val_accuracy: 0.6802\n",
      "Epoch 809/1000\n",
      "124/124 [==============================] - 0s 2ms/step - loss: 0.5880 - accuracy: 0.7085 - val_loss: 0.6071 - val_accuracy: 0.6923\n",
      "Epoch 810/1000\n",
      "124/124 [==============================] - 0s 2ms/step - loss: 0.5887 - accuracy: 0.7057 - val_loss: 0.6067 - val_accuracy: 0.6903\n",
      "Epoch 811/1000\n",
      "124/124 [==============================] - 0s 2ms/step - loss: 0.5886 - accuracy: 0.7037 - val_loss: 0.6088 - val_accuracy: 0.6842\n",
      "Epoch 812/1000\n",
      "124/124 [==============================] - 0s 2ms/step - loss: 0.5912 - accuracy: 0.7045 - val_loss: 0.6114 - val_accuracy: 0.6812\n",
      "Epoch 813/1000\n",
      "124/124 [==============================] - 0s 2ms/step - loss: 0.5889 - accuracy: 0.7090 - val_loss: 0.6068 - val_accuracy: 0.6883\n",
      "Epoch 814/1000\n",
      "124/124 [==============================] - 0s 2ms/step - loss: 0.5900 - accuracy: 0.7019 - val_loss: 0.6112 - val_accuracy: 0.6822\n",
      "Epoch 815/1000\n",
      "124/124 [==============================] - 0s 2ms/step - loss: 0.5894 - accuracy: 0.7057 - val_loss: 0.6057 - val_accuracy: 0.6862\n",
      "Epoch 816/1000\n",
      "124/124 [==============================] - 0s 2ms/step - loss: 0.5891 - accuracy: 0.7073 - val_loss: 0.6076 - val_accuracy: 0.6872\n",
      "Epoch 817/1000\n",
      "124/124 [==============================] - 0s 2ms/step - loss: 0.5894 - accuracy: 0.7045 - val_loss: 0.6107 - val_accuracy: 0.6761\n",
      "Epoch 818/1000\n",
      "124/124 [==============================] - 0s 2ms/step - loss: 0.5889 - accuracy: 0.7045 - val_loss: 0.6076 - val_accuracy: 0.6862\n",
      "Epoch 819/1000\n",
      "124/124 [==============================] - 0s 2ms/step - loss: 0.5894 - accuracy: 0.7073 - val_loss: 0.6093 - val_accuracy: 0.6842\n",
      "Epoch 820/1000\n",
      "124/124 [==============================] - 0s 2ms/step - loss: 0.5892 - accuracy: 0.7075 - val_loss: 0.6069 - val_accuracy: 0.6903\n",
      "Epoch 821/1000\n",
      "124/124 [==============================] - 0s 2ms/step - loss: 0.5901 - accuracy: 0.7085 - val_loss: 0.6058 - val_accuracy: 0.6923\n",
      "Epoch 822/1000\n",
      "124/124 [==============================] - 0s 2ms/step - loss: 0.5895 - accuracy: 0.7063 - val_loss: 0.6102 - val_accuracy: 0.6862\n",
      "Epoch 823/1000\n",
      "124/124 [==============================] - 0s 2ms/step - loss: 0.5890 - accuracy: 0.7073 - val_loss: 0.6065 - val_accuracy: 0.6923\n",
      "Epoch 824/1000\n",
      "124/124 [==============================] - 0s 2ms/step - loss: 0.5888 - accuracy: 0.7047 - val_loss: 0.6233 - val_accuracy: 0.6700\n",
      "Epoch 825/1000\n",
      "124/124 [==============================] - 0s 2ms/step - loss: 0.5917 - accuracy: 0.7042 - val_loss: 0.6105 - val_accuracy: 0.6791\n",
      "Epoch 826/1000\n",
      "124/124 [==============================] - 0s 2ms/step - loss: 0.5911 - accuracy: 0.7070 - val_loss: 0.6061 - val_accuracy: 0.6893\n",
      "Epoch 827/1000\n",
      "124/124 [==============================] - 0s 2ms/step - loss: 0.5886 - accuracy: 0.7095 - val_loss: 0.6083 - val_accuracy: 0.6883\n",
      "Epoch 828/1000\n",
      "124/124 [==============================] - 0s 2ms/step - loss: 0.5887 - accuracy: 0.7047 - val_loss: 0.6081 - val_accuracy: 0.6893\n",
      "Epoch 829/1000\n",
      "124/124 [==============================] - 0s 2ms/step - loss: 0.5908 - accuracy: 0.7070 - val_loss: 0.6057 - val_accuracy: 0.6943\n",
      "Epoch 830/1000\n",
      "124/124 [==============================] - 0s 2ms/step - loss: 0.5893 - accuracy: 0.7030 - val_loss: 0.6060 - val_accuracy: 0.6903\n",
      "Epoch 831/1000\n",
      "124/124 [==============================] - 0s 2ms/step - loss: 0.5890 - accuracy: 0.7042 - val_loss: 0.6066 - val_accuracy: 0.6943\n",
      "Epoch 832/1000\n",
      "124/124 [==============================] - 0s 2ms/step - loss: 0.5912 - accuracy: 0.7030 - val_loss: 0.6041 - val_accuracy: 0.6893\n",
      "Epoch 833/1000\n",
      "124/124 [==============================] - 0s 2ms/step - loss: 0.5900 - accuracy: 0.7045 - val_loss: 0.6083 - val_accuracy: 0.6923\n",
      "Epoch 834/1000\n",
      "124/124 [==============================] - 0s 2ms/step - loss: 0.5894 - accuracy: 0.7060 - val_loss: 0.6064 - val_accuracy: 0.6862\n",
      "Epoch 835/1000\n",
      "124/124 [==============================] - 0s 2ms/step - loss: 0.5905 - accuracy: 0.7063 - val_loss: 0.6069 - val_accuracy: 0.6883\n",
      "Epoch 836/1000\n",
      "124/124 [==============================] - 0s 2ms/step - loss: 0.5885 - accuracy: 0.7103 - val_loss: 0.6126 - val_accuracy: 0.6832\n",
      "Epoch 837/1000\n",
      "124/124 [==============================] - 0s 2ms/step - loss: 0.5895 - accuracy: 0.7073 - val_loss: 0.6118 - val_accuracy: 0.6832\n",
      "Epoch 838/1000\n",
      "124/124 [==============================] - 0s 2ms/step - loss: 0.5889 - accuracy: 0.7065 - val_loss: 0.6081 - val_accuracy: 0.6883\n",
      "Epoch 839/1000\n",
      "124/124 [==============================] - 0s 2ms/step - loss: 0.5878 - accuracy: 0.7101 - val_loss: 0.6150 - val_accuracy: 0.6842\n",
      "Epoch 840/1000\n"
     ]
    },
    {
     "name": "stdout",
     "output_type": "stream",
     "text": [
      "124/124 [==============================] - 0s 2ms/step - loss: 0.5922 - accuracy: 0.7019 - val_loss: 0.6072 - val_accuracy: 0.6923\n",
      "Epoch 841/1000\n",
      "124/124 [==============================] - 0s 2ms/step - loss: 0.5885 - accuracy: 0.7083 - val_loss: 0.6102 - val_accuracy: 0.6852\n",
      "Epoch 842/1000\n",
      "124/124 [==============================] - 0s 2ms/step - loss: 0.5897 - accuracy: 0.7088 - val_loss: 0.6154 - val_accuracy: 0.6771\n",
      "Epoch 843/1000\n",
      "124/124 [==============================] - 0s 2ms/step - loss: 0.5896 - accuracy: 0.7068 - val_loss: 0.6051 - val_accuracy: 0.6953\n",
      "Epoch 844/1000\n",
      "124/124 [==============================] - 0s 2ms/step - loss: 0.5884 - accuracy: 0.7080 - val_loss: 0.6050 - val_accuracy: 0.6933\n",
      "Epoch 845/1000\n",
      "124/124 [==============================] - 0s 2ms/step - loss: 0.5883 - accuracy: 0.7035 - val_loss: 0.6100 - val_accuracy: 0.6883\n",
      "Epoch 846/1000\n",
      "124/124 [==============================] - 0s 2ms/step - loss: 0.5898 - accuracy: 0.7040 - val_loss: 0.6066 - val_accuracy: 0.6913\n",
      "Epoch 847/1000\n",
      "124/124 [==============================] - 0s 2ms/step - loss: 0.5887 - accuracy: 0.7075 - val_loss: 0.6081 - val_accuracy: 0.6893\n",
      "Epoch 848/1000\n",
      "124/124 [==============================] - 0s 2ms/step - loss: 0.5887 - accuracy: 0.7063 - val_loss: 0.6066 - val_accuracy: 0.6872\n",
      "Epoch 849/1000\n",
      "124/124 [==============================] - 0s 2ms/step - loss: 0.5897 - accuracy: 0.7045 - val_loss: 0.6108 - val_accuracy: 0.6802\n",
      "Epoch 850/1000\n",
      "124/124 [==============================] - 0s 2ms/step - loss: 0.5893 - accuracy: 0.7060 - val_loss: 0.6223 - val_accuracy: 0.6812\n",
      "Epoch 851/1000\n",
      "124/124 [==============================] - 0s 2ms/step - loss: 0.5903 - accuracy: 0.7080 - val_loss: 0.6125 - val_accuracy: 0.6852\n",
      "Epoch 852/1000\n",
      "124/124 [==============================] - 0s 2ms/step - loss: 0.5898 - accuracy: 0.7055 - val_loss: 0.6097 - val_accuracy: 0.6832\n",
      "Epoch 853/1000\n",
      "124/124 [==============================] - 0s 2ms/step - loss: 0.5901 - accuracy: 0.7032 - val_loss: 0.6132 - val_accuracy: 0.6883\n",
      "Epoch 854/1000\n",
      "124/124 [==============================] - 0s 2ms/step - loss: 0.5893 - accuracy: 0.7098 - val_loss: 0.6172 - val_accuracy: 0.6771\n",
      "Epoch 855/1000\n",
      "124/124 [==============================] - 0s 2ms/step - loss: 0.5900 - accuracy: 0.7095 - val_loss: 0.6073 - val_accuracy: 0.6893\n",
      "Epoch 856/1000\n",
      "124/124 [==============================] - 0s 2ms/step - loss: 0.5896 - accuracy: 0.7002 - val_loss: 0.6064 - val_accuracy: 0.6943\n",
      "Epoch 857/1000\n",
      "124/124 [==============================] - 0s 2ms/step - loss: 0.5889 - accuracy: 0.7103 - val_loss: 0.6064 - val_accuracy: 0.6933\n",
      "Epoch 858/1000\n",
      "124/124 [==============================] - 0s 2ms/step - loss: 0.5887 - accuracy: 0.7052 - val_loss: 0.6115 - val_accuracy: 0.6893\n",
      "Epoch 859/1000\n",
      "124/124 [==============================] - 0s 2ms/step - loss: 0.5873 - accuracy: 0.7063 - val_loss: 0.6140 - val_accuracy: 0.6842\n",
      "Epoch 860/1000\n",
      "124/124 [==============================] - 0s 2ms/step - loss: 0.5895 - accuracy: 0.7045 - val_loss: 0.6178 - val_accuracy: 0.6761\n",
      "Epoch 861/1000\n",
      "124/124 [==============================] - 0s 2ms/step - loss: 0.5884 - accuracy: 0.7085 - val_loss: 0.6094 - val_accuracy: 0.6862\n",
      "Epoch 862/1000\n",
      "124/124 [==============================] - 0s 2ms/step - loss: 0.5897 - accuracy: 0.7047 - val_loss: 0.6065 - val_accuracy: 0.6943\n",
      "Epoch 863/1000\n",
      "124/124 [==============================] - 0s 2ms/step - loss: 0.5891 - accuracy: 0.7085 - val_loss: 0.6067 - val_accuracy: 0.6893\n",
      "Epoch 864/1000\n",
      "124/124 [==============================] - 0s 2ms/step - loss: 0.5911 - accuracy: 0.7052 - val_loss: 0.6105 - val_accuracy: 0.6852\n",
      "Epoch 865/1000\n",
      "124/124 [==============================] - 0s 2ms/step - loss: 0.5893 - accuracy: 0.7078 - val_loss: 0.6135 - val_accuracy: 0.6822\n",
      "Epoch 866/1000\n",
      "124/124 [==============================] - 0s 2ms/step - loss: 0.5900 - accuracy: 0.7063 - val_loss: 0.6045 - val_accuracy: 0.6933\n",
      "Epoch 867/1000\n",
      "124/124 [==============================] - 0s 2ms/step - loss: 0.5892 - accuracy: 0.7032 - val_loss: 0.6055 - val_accuracy: 0.6974\n",
      "Epoch 868/1000\n",
      "124/124 [==============================] - 0s 2ms/step - loss: 0.5896 - accuracy: 0.7055 - val_loss: 0.6074 - val_accuracy: 0.6933\n",
      "Epoch 869/1000\n",
      "124/124 [==============================] - 0s 2ms/step - loss: 0.5904 - accuracy: 0.7002 - val_loss: 0.6141 - val_accuracy: 0.6812\n",
      "Epoch 870/1000\n",
      "124/124 [==============================] - 0s 2ms/step - loss: 0.5892 - accuracy: 0.7037 - val_loss: 0.6050 - val_accuracy: 0.7014\n",
      "Epoch 871/1000\n",
      "124/124 [==============================] - 0s 2ms/step - loss: 0.5901 - accuracy: 0.7068 - val_loss: 0.6117 - val_accuracy: 0.6832\n",
      "Epoch 872/1000\n",
      "124/124 [==============================] - 0s 2ms/step - loss: 0.5896 - accuracy: 0.7042 - val_loss: 0.6080 - val_accuracy: 0.6872\n",
      "Epoch 873/1000\n",
      "124/124 [==============================] - 0s 2ms/step - loss: 0.5885 - accuracy: 0.7055 - val_loss: 0.6079 - val_accuracy: 0.6893\n",
      "Epoch 874/1000\n",
      "124/124 [==============================] - 0s 2ms/step - loss: 0.5900 - accuracy: 0.7055 - val_loss: 0.6094 - val_accuracy: 0.6842\n",
      "Epoch 875/1000\n",
      "124/124 [==============================] - 0s 2ms/step - loss: 0.5886 - accuracy: 0.7080 - val_loss: 0.6071 - val_accuracy: 0.6883\n",
      "Epoch 876/1000\n",
      "124/124 [==============================] - 0s 2ms/step - loss: 0.5904 - accuracy: 0.7035 - val_loss: 0.6079 - val_accuracy: 0.6883\n",
      "Epoch 877/1000\n",
      "124/124 [==============================] - 0s 2ms/step - loss: 0.5893 - accuracy: 0.7073 - val_loss: 0.6047 - val_accuracy: 0.6943\n",
      "Epoch 878/1000\n",
      "124/124 [==============================] - 0s 2ms/step - loss: 0.5879 - accuracy: 0.7063 - val_loss: 0.6045 - val_accuracy: 0.6903\n",
      "Epoch 879/1000\n",
      "124/124 [==============================] - 0s 2ms/step - loss: 0.5892 - accuracy: 0.7070 - val_loss: 0.6069 - val_accuracy: 0.6893\n",
      "Epoch 880/1000\n",
      "124/124 [==============================] - 0s 2ms/step - loss: 0.5875 - accuracy: 0.7098 - val_loss: 0.6065 - val_accuracy: 0.6903\n",
      "Epoch 881/1000\n",
      "124/124 [==============================] - 0s 2ms/step - loss: 0.5889 - accuracy: 0.7057 - val_loss: 0.6062 - val_accuracy: 0.6933\n",
      "Epoch 882/1000\n",
      "124/124 [==============================] - 0s 2ms/step - loss: 0.5892 - accuracy: 0.7055 - val_loss: 0.6076 - val_accuracy: 0.6883\n",
      "Epoch 883/1000\n",
      "124/124 [==============================] - 0s 2ms/step - loss: 0.5896 - accuracy: 0.7027 - val_loss: 0.6058 - val_accuracy: 0.6913\n",
      "Epoch 884/1000\n",
      "124/124 [==============================] - 0s 2ms/step - loss: 0.5885 - accuracy: 0.7068 - val_loss: 0.6090 - val_accuracy: 0.6872\n",
      "Epoch 885/1000\n",
      "124/124 [==============================] - 0s 2ms/step - loss: 0.5896 - accuracy: 0.7111 - val_loss: 0.6052 - val_accuracy: 0.6943\n",
      "Epoch 886/1000\n",
      "124/124 [==============================] - 0s 2ms/step - loss: 0.5896 - accuracy: 0.7037 - val_loss: 0.6077 - val_accuracy: 0.6964\n",
      "Epoch 887/1000\n",
      "124/124 [==============================] - 0s 2ms/step - loss: 0.5905 - accuracy: 0.7037 - val_loss: 0.6168 - val_accuracy: 0.6842\n",
      "Epoch 888/1000\n",
      "124/124 [==============================] - 0s 2ms/step - loss: 0.5892 - accuracy: 0.7065 - val_loss: 0.6095 - val_accuracy: 0.6852\n",
      "Epoch 889/1000\n",
      "124/124 [==============================] - 0s 2ms/step - loss: 0.5891 - accuracy: 0.7075 - val_loss: 0.6051 - val_accuracy: 0.6943\n",
      "Epoch 890/1000\n",
      "124/124 [==============================] - 0s 2ms/step - loss: 0.5883 - accuracy: 0.7075 - val_loss: 0.6051 - val_accuracy: 0.6953\n",
      "Epoch 891/1000\n",
      "124/124 [==============================] - 0s 2ms/step - loss: 0.5893 - accuracy: 0.7065 - val_loss: 0.6145 - val_accuracy: 0.6781\n",
      "Epoch 892/1000\n",
      "124/124 [==============================] - 0s 2ms/step - loss: 0.5884 - accuracy: 0.7065 - val_loss: 0.6083 - val_accuracy: 0.6913\n",
      "Epoch 893/1000\n",
      "124/124 [==============================] - 0s 2ms/step - loss: 0.5900 - accuracy: 0.7045 - val_loss: 0.6142 - val_accuracy: 0.6832\n",
      "Epoch 894/1000\n",
      "124/124 [==============================] - 0s 2ms/step - loss: 0.5893 - accuracy: 0.7063 - val_loss: 0.6102 - val_accuracy: 0.6822\n",
      "Epoch 895/1000\n",
      "124/124 [==============================] - 0s 2ms/step - loss: 0.5897 - accuracy: 0.7068 - val_loss: 0.6062 - val_accuracy: 0.6903\n",
      "Epoch 896/1000\n"
     ]
    },
    {
     "name": "stdout",
     "output_type": "stream",
     "text": [
      "124/124 [==============================] - 0s 2ms/step - loss: 0.5897 - accuracy: 0.7057 - val_loss: 0.6095 - val_accuracy: 0.6862\n",
      "Epoch 897/1000\n",
      "124/124 [==============================] - 0s 2ms/step - loss: 0.5913 - accuracy: 0.7027 - val_loss: 0.6098 - val_accuracy: 0.6862\n",
      "Epoch 898/1000\n",
      "124/124 [==============================] - 0s 2ms/step - loss: 0.5888 - accuracy: 0.7057 - val_loss: 0.6046 - val_accuracy: 0.6984\n",
      "Epoch 899/1000\n",
      "124/124 [==============================] - 0s 2ms/step - loss: 0.5897 - accuracy: 0.7060 - val_loss: 0.6096 - val_accuracy: 0.6893\n",
      "Epoch 900/1000\n",
      "124/124 [==============================] - 0s 2ms/step - loss: 0.5896 - accuracy: 0.7065 - val_loss: 0.6124 - val_accuracy: 0.6802\n",
      "Epoch 901/1000\n",
      "124/124 [==============================] - 0s 2ms/step - loss: 0.5882 - accuracy: 0.7080 - val_loss: 0.6082 - val_accuracy: 0.6913\n",
      "Epoch 902/1000\n",
      "124/124 [==============================] - 0s 2ms/step - loss: 0.5890 - accuracy: 0.7057 - val_loss: 0.6192 - val_accuracy: 0.6802\n",
      "Epoch 903/1000\n",
      "124/124 [==============================] - 0s 2ms/step - loss: 0.5892 - accuracy: 0.7090 - val_loss: 0.6042 - val_accuracy: 0.6923\n",
      "Epoch 904/1000\n",
      "124/124 [==============================] - 0s 2ms/step - loss: 0.5881 - accuracy: 0.7047 - val_loss: 0.6079 - val_accuracy: 0.6862\n",
      "Epoch 905/1000\n",
      "124/124 [==============================] - 0s 2ms/step - loss: 0.5895 - accuracy: 0.7073 - val_loss: 0.6082 - val_accuracy: 0.6842\n",
      "Epoch 906/1000\n",
      "124/124 [==============================] - 0s 2ms/step - loss: 0.5879 - accuracy: 0.7022 - val_loss: 0.6142 - val_accuracy: 0.6802\n",
      "Epoch 907/1000\n",
      "124/124 [==============================] - 0s 2ms/step - loss: 0.5902 - accuracy: 0.7025 - val_loss: 0.6113 - val_accuracy: 0.6872\n",
      "Epoch 908/1000\n",
      "124/124 [==============================] - 0s 2ms/step - loss: 0.5898 - accuracy: 0.7055 - val_loss: 0.6074 - val_accuracy: 0.6903\n",
      "Epoch 909/1000\n",
      "124/124 [==============================] - 0s 2ms/step - loss: 0.5897 - accuracy: 0.7065 - val_loss: 0.6065 - val_accuracy: 0.6984\n",
      "Epoch 910/1000\n",
      "124/124 [==============================] - 0s 2ms/step - loss: 0.5899 - accuracy: 0.7002 - val_loss: 0.6048 - val_accuracy: 0.6964\n",
      "Epoch 911/1000\n",
      "124/124 [==============================] - 0s 2ms/step - loss: 0.5895 - accuracy: 0.7052 - val_loss: 0.6048 - val_accuracy: 0.6923\n",
      "Epoch 912/1000\n",
      "124/124 [==============================] - 0s 2ms/step - loss: 0.5892 - accuracy: 0.7070 - val_loss: 0.6146 - val_accuracy: 0.6842\n",
      "Epoch 913/1000\n",
      "124/124 [==============================] - 0s 2ms/step - loss: 0.5890 - accuracy: 0.7055 - val_loss: 0.6118 - val_accuracy: 0.6822\n",
      "Epoch 914/1000\n",
      "124/124 [==============================] - 0s 2ms/step - loss: 0.5890 - accuracy: 0.7073 - val_loss: 0.6051 - val_accuracy: 0.6933\n",
      "Epoch 915/1000\n",
      "124/124 [==============================] - 0s 2ms/step - loss: 0.5882 - accuracy: 0.7037 - val_loss: 0.6076 - val_accuracy: 0.6903\n",
      "Epoch 916/1000\n",
      "124/124 [==============================] - 0s 2ms/step - loss: 0.5909 - accuracy: 0.7035 - val_loss: 0.6061 - val_accuracy: 0.6933\n",
      "Epoch 917/1000\n",
      "124/124 [==============================] - 0s 2ms/step - loss: 0.5886 - accuracy: 0.7040 - val_loss: 0.6058 - val_accuracy: 0.6943\n",
      "Epoch 918/1000\n",
      "124/124 [==============================] - 0s 2ms/step - loss: 0.5904 - accuracy: 0.7019 - val_loss: 0.6098 - val_accuracy: 0.6872\n",
      "Epoch 919/1000\n",
      "124/124 [==============================] - 0s 2ms/step - loss: 0.5890 - accuracy: 0.7065 - val_loss: 0.6129 - val_accuracy: 0.6822\n",
      "Epoch 920/1000\n",
      "124/124 [==============================] - 0s 2ms/step - loss: 0.5890 - accuracy: 0.7045 - val_loss: 0.6107 - val_accuracy: 0.6883\n",
      "Epoch 921/1000\n",
      "124/124 [==============================] - 0s 2ms/step - loss: 0.5899 - accuracy: 0.7088 - val_loss: 0.6062 - val_accuracy: 0.6903\n",
      "Epoch 922/1000\n",
      "124/124 [==============================] - 0s 2ms/step - loss: 0.5881 - accuracy: 0.7004 - val_loss: 0.6070 - val_accuracy: 0.6913\n",
      "Epoch 923/1000\n",
      "124/124 [==============================] - 0s 2ms/step - loss: 0.5897 - accuracy: 0.7078 - val_loss: 0.6108 - val_accuracy: 0.6842\n",
      "Epoch 924/1000\n",
      "124/124 [==============================] - 0s 2ms/step - loss: 0.5889 - accuracy: 0.7030 - val_loss: 0.6077 - val_accuracy: 0.6923\n",
      "Epoch 925/1000\n",
      "124/124 [==============================] - 0s 2ms/step - loss: 0.5901 - accuracy: 0.7035 - val_loss: 0.6109 - val_accuracy: 0.6883\n",
      "Epoch 926/1000\n",
      "124/124 [==============================] - 0s 2ms/step - loss: 0.5892 - accuracy: 0.7090 - val_loss: 0.6071 - val_accuracy: 0.6964\n",
      "Epoch 927/1000\n",
      "124/124 [==============================] - 0s 2ms/step - loss: 0.5898 - accuracy: 0.7068 - val_loss: 0.6055 - val_accuracy: 0.6984\n",
      "Epoch 928/1000\n",
      "124/124 [==============================] - 0s 2ms/step - loss: 0.5886 - accuracy: 0.7063 - val_loss: 0.6101 - val_accuracy: 0.6842\n",
      "Epoch 929/1000\n",
      "124/124 [==============================] - 0s 2ms/step - loss: 0.5887 - accuracy: 0.7080 - val_loss: 0.6089 - val_accuracy: 0.6923\n",
      "Epoch 930/1000\n",
      "124/124 [==============================] - 0s 2ms/step - loss: 0.5890 - accuracy: 0.7052 - val_loss: 0.6107 - val_accuracy: 0.6832\n",
      "Epoch 931/1000\n",
      "124/124 [==============================] - 0s 2ms/step - loss: 0.5915 - accuracy: 0.7014 - val_loss: 0.6054 - val_accuracy: 0.6953\n",
      "Epoch 932/1000\n",
      "124/124 [==============================] - 0s 2ms/step - loss: 0.5908 - accuracy: 0.7037 - val_loss: 0.6087 - val_accuracy: 0.6943\n",
      "Epoch 933/1000\n",
      "124/124 [==============================] - 0s 2ms/step - loss: 0.5895 - accuracy: 0.7063 - val_loss: 0.6060 - val_accuracy: 0.6893\n",
      "Epoch 934/1000\n",
      "124/124 [==============================] - 0s 2ms/step - loss: 0.5893 - accuracy: 0.7045 - val_loss: 0.6078 - val_accuracy: 0.6862\n",
      "Epoch 935/1000\n",
      "124/124 [==============================] - 0s 2ms/step - loss: 0.5889 - accuracy: 0.7068 - val_loss: 0.6065 - val_accuracy: 0.6893\n",
      "Epoch 936/1000\n",
      "124/124 [==============================] - 0s 2ms/step - loss: 0.5902 - accuracy: 0.7052 - val_loss: 0.6102 - val_accuracy: 0.6771\n",
      "Epoch 937/1000\n",
      "124/124 [==============================] - 0s 2ms/step - loss: 0.5914 - accuracy: 0.6994 - val_loss: 0.6177 - val_accuracy: 0.6822\n",
      "Epoch 938/1000\n",
      "124/124 [==============================] - 0s 2ms/step - loss: 0.5895 - accuracy: 0.7068 - val_loss: 0.6059 - val_accuracy: 0.6903\n",
      "Epoch 939/1000\n",
      "124/124 [==============================] - 0s 2ms/step - loss: 0.5883 - accuracy: 0.7078 - val_loss: 0.6072 - val_accuracy: 0.6953\n",
      "Epoch 940/1000\n",
      "124/124 [==============================] - 0s 2ms/step - loss: 0.5894 - accuracy: 0.7042 - val_loss: 0.6057 - val_accuracy: 0.7024\n",
      "Epoch 941/1000\n",
      "124/124 [==============================] - 0s 2ms/step - loss: 0.5894 - accuracy: 0.7047 - val_loss: 0.6090 - val_accuracy: 0.6852\n",
      "Epoch 942/1000\n",
      "124/124 [==============================] - 0s 2ms/step - loss: 0.5895 - accuracy: 0.7055 - val_loss: 0.6144 - val_accuracy: 0.6822\n",
      "Epoch 943/1000\n",
      "124/124 [==============================] - 0s 2ms/step - loss: 0.5884 - accuracy: 0.7052 - val_loss: 0.6043 - val_accuracy: 0.6933\n",
      "Epoch 944/1000\n",
      "124/124 [==============================] - 0s 2ms/step - loss: 0.5891 - accuracy: 0.7052 - val_loss: 0.6058 - val_accuracy: 0.6903\n",
      "Epoch 945/1000\n",
      "124/124 [==============================] - 0s 2ms/step - loss: 0.5884 - accuracy: 0.7068 - val_loss: 0.6076 - val_accuracy: 0.6852\n",
      "Epoch 946/1000\n",
      "124/124 [==============================] - 0s 2ms/step - loss: 0.5898 - accuracy: 0.7060 - val_loss: 0.6130 - val_accuracy: 0.6933\n",
      "Epoch 947/1000\n",
      "124/124 [==============================] - 0s 2ms/step - loss: 0.5889 - accuracy: 0.7075 - val_loss: 0.6086 - val_accuracy: 0.6933\n",
      "Epoch 948/1000\n",
      "124/124 [==============================] - 0s 2ms/step - loss: 0.5900 - accuracy: 0.7088 - val_loss: 0.6071 - val_accuracy: 0.6872\n",
      "Epoch 949/1000\n",
      "124/124 [==============================] - 0s 2ms/step - loss: 0.5891 - accuracy: 0.7063 - val_loss: 0.6087 - val_accuracy: 0.6893\n",
      "Epoch 950/1000\n",
      "124/124 [==============================] - 0s 2ms/step - loss: 0.5896 - accuracy: 0.7098 - val_loss: 0.6079 - val_accuracy: 0.6862\n",
      "Epoch 951/1000\n",
      "124/124 [==============================] - 0s 2ms/step - loss: 0.5888 - accuracy: 0.7073 - val_loss: 0.6128 - val_accuracy: 0.6781\n",
      "Epoch 952/1000\n"
     ]
    },
    {
     "name": "stdout",
     "output_type": "stream",
     "text": [
      "124/124 [==============================] - 0s 2ms/step - loss: 0.5880 - accuracy: 0.7068 - val_loss: 0.6076 - val_accuracy: 0.6893\n",
      "Epoch 953/1000\n",
      "124/124 [==============================] - 0s 2ms/step - loss: 0.5896 - accuracy: 0.7052 - val_loss: 0.6053 - val_accuracy: 0.6974\n",
      "Epoch 954/1000\n",
      "124/124 [==============================] - 0s 2ms/step - loss: 0.5898 - accuracy: 0.7070 - val_loss: 0.6057 - val_accuracy: 0.6903\n",
      "Epoch 955/1000\n",
      "124/124 [==============================] - 0s 2ms/step - loss: 0.5890 - accuracy: 0.7042 - val_loss: 0.6066 - val_accuracy: 0.6883\n",
      "Epoch 956/1000\n",
      "124/124 [==============================] - 0s 2ms/step - loss: 0.5894 - accuracy: 0.7101 - val_loss: 0.6124 - val_accuracy: 0.6852\n",
      "Epoch 957/1000\n",
      "124/124 [==============================] - 0s 2ms/step - loss: 0.5896 - accuracy: 0.7035 - val_loss: 0.6068 - val_accuracy: 0.6903\n",
      "Epoch 958/1000\n",
      "124/124 [==============================] - 0s 2ms/step - loss: 0.5897 - accuracy: 0.7068 - val_loss: 0.6114 - val_accuracy: 0.6832\n",
      "Epoch 959/1000\n",
      "124/124 [==============================] - 0s 2ms/step - loss: 0.5884 - accuracy: 0.7068 - val_loss: 0.6066 - val_accuracy: 0.6903\n",
      "Epoch 960/1000\n",
      "124/124 [==============================] - 0s 2ms/step - loss: 0.5891 - accuracy: 0.7057 - val_loss: 0.6065 - val_accuracy: 0.6913\n",
      "Epoch 961/1000\n",
      "124/124 [==============================] - 0s 2ms/step - loss: 0.5880 - accuracy: 0.7106 - val_loss: 0.6068 - val_accuracy: 0.6883\n",
      "Epoch 962/1000\n",
      "124/124 [==============================] - 0s 2ms/step - loss: 0.5898 - accuracy: 0.7090 - val_loss: 0.6062 - val_accuracy: 0.6923\n",
      "Epoch 963/1000\n",
      "124/124 [==============================] - 0s 2ms/step - loss: 0.5895 - accuracy: 0.7047 - val_loss: 0.6112 - val_accuracy: 0.6822\n",
      "Epoch 964/1000\n",
      "124/124 [==============================] - 0s 2ms/step - loss: 0.5908 - accuracy: 0.7032 - val_loss: 0.6140 - val_accuracy: 0.6832\n",
      "Epoch 965/1000\n",
      "124/124 [==============================] - 0s 2ms/step - loss: 0.5891 - accuracy: 0.7047 - val_loss: 0.6072 - val_accuracy: 0.6903\n",
      "Epoch 966/1000\n",
      "124/124 [==============================] - 0s 2ms/step - loss: 0.5900 - accuracy: 0.7055 - val_loss: 0.6049 - val_accuracy: 0.6974\n",
      "Epoch 967/1000\n",
      "124/124 [==============================] - 0s 2ms/step - loss: 0.5884 - accuracy: 0.7037 - val_loss: 0.6048 - val_accuracy: 0.6893\n",
      "Epoch 968/1000\n",
      "124/124 [==============================] - 0s 2ms/step - loss: 0.5882 - accuracy: 0.7078 - val_loss: 0.6142 - val_accuracy: 0.6832\n",
      "Epoch 969/1000\n",
      "124/124 [==============================] - 0s 2ms/step - loss: 0.5896 - accuracy: 0.7045 - val_loss: 0.6105 - val_accuracy: 0.6832\n",
      "Epoch 970/1000\n",
      "124/124 [==============================] - 0s 2ms/step - loss: 0.5899 - accuracy: 0.7035 - val_loss: 0.6052 - val_accuracy: 0.6893\n",
      "Epoch 971/1000\n",
      "124/124 [==============================] - 0s 2ms/step - loss: 0.5893 - accuracy: 0.7050 - val_loss: 0.6046 - val_accuracy: 0.6943\n",
      "Epoch 972/1000\n",
      "124/124 [==============================] - 0s 2ms/step - loss: 0.5882 - accuracy: 0.7050 - val_loss: 0.6142 - val_accuracy: 0.6812\n",
      "Epoch 973/1000\n",
      "124/124 [==============================] - 0s 2ms/step - loss: 0.5883 - accuracy: 0.7068 - val_loss: 0.6146 - val_accuracy: 0.6832\n",
      "Epoch 974/1000\n",
      "124/124 [==============================] - 0s 2ms/step - loss: 0.5900 - accuracy: 0.7078 - val_loss: 0.6052 - val_accuracy: 0.6964\n",
      "Epoch 975/1000\n",
      "124/124 [==============================] - 0s 2ms/step - loss: 0.5901 - accuracy: 0.7042 - val_loss: 0.6177 - val_accuracy: 0.6832\n",
      "Epoch 976/1000\n",
      "124/124 [==============================] - 0s 2ms/step - loss: 0.5887 - accuracy: 0.7093 - val_loss: 0.6077 - val_accuracy: 0.6933\n",
      "Epoch 977/1000\n",
      "124/124 [==============================] - 0s 2ms/step - loss: 0.5887 - accuracy: 0.7073 - val_loss: 0.6076 - val_accuracy: 0.6883\n",
      "Epoch 978/1000\n",
      "124/124 [==============================] - 0s 2ms/step - loss: 0.5890 - accuracy: 0.7055 - val_loss: 0.6094 - val_accuracy: 0.6923\n",
      "Epoch 979/1000\n",
      "124/124 [==============================] - 0s 2ms/step - loss: 0.5891 - accuracy: 0.7057 - val_loss: 0.6071 - val_accuracy: 0.6933\n",
      "Epoch 980/1000\n",
      "124/124 [==============================] - 0s 2ms/step - loss: 0.5879 - accuracy: 0.7057 - val_loss: 0.6067 - val_accuracy: 0.6903\n",
      "Epoch 981/1000\n",
      "124/124 [==============================] - 0s 2ms/step - loss: 0.5887 - accuracy: 0.7065 - val_loss: 0.6137 - val_accuracy: 0.6832\n",
      "Epoch 982/1000\n",
      "124/124 [==============================] - 0s 2ms/step - loss: 0.5887 - accuracy: 0.7014 - val_loss: 0.6076 - val_accuracy: 0.6903\n",
      "Epoch 983/1000\n",
      "124/124 [==============================] - 0s 2ms/step - loss: 0.5897 - accuracy: 0.7032 - val_loss: 0.6082 - val_accuracy: 0.6872\n",
      "Epoch 984/1000\n",
      "124/124 [==============================] - 0s 2ms/step - loss: 0.5892 - accuracy: 0.7075 - val_loss: 0.6078 - val_accuracy: 0.6883\n",
      "Epoch 985/1000\n",
      "124/124 [==============================] - 0s 2ms/step - loss: 0.5874 - accuracy: 0.7133 - val_loss: 0.6093 - val_accuracy: 0.6943\n",
      "Epoch 986/1000\n",
      "124/124 [==============================] - 0s 2ms/step - loss: 0.5892 - accuracy: 0.7075 - val_loss: 0.6067 - val_accuracy: 0.6943\n",
      "Epoch 987/1000\n",
      "124/124 [==============================] - 0s 2ms/step - loss: 0.5899 - accuracy: 0.7078 - val_loss: 0.6100 - val_accuracy: 0.6943\n",
      "Epoch 988/1000\n",
      "124/124 [==============================] - 0s 2ms/step - loss: 0.5881 - accuracy: 0.7055 - val_loss: 0.6060 - val_accuracy: 0.6913\n",
      "Epoch 989/1000\n",
      "124/124 [==============================] - 0s 2ms/step - loss: 0.5901 - accuracy: 0.7050 - val_loss: 0.6055 - val_accuracy: 0.6933\n",
      "Epoch 990/1000\n",
      "124/124 [==============================] - 0s 2ms/step - loss: 0.5892 - accuracy: 0.7055 - val_loss: 0.6107 - val_accuracy: 0.6802\n",
      "Epoch 991/1000\n",
      "124/124 [==============================] - 0s 2ms/step - loss: 0.5878 - accuracy: 0.7070 - val_loss: 0.6048 - val_accuracy: 0.6943\n",
      "Epoch 992/1000\n",
      "124/124 [==============================] - 0s 2ms/step - loss: 0.5888 - accuracy: 0.7057 - val_loss: 0.6069 - val_accuracy: 0.6903\n",
      "Epoch 993/1000\n",
      "124/124 [==============================] - 0s 2ms/step - loss: 0.5897 - accuracy: 0.7075 - val_loss: 0.6052 - val_accuracy: 0.6883\n",
      "Epoch 994/1000\n",
      "124/124 [==============================] - 0s 2ms/step - loss: 0.5896 - accuracy: 0.7075 - val_loss: 0.6068 - val_accuracy: 0.6862\n",
      "Epoch 995/1000\n",
      "124/124 [==============================] - 0s 2ms/step - loss: 0.5894 - accuracy: 0.7025 - val_loss: 0.6054 - val_accuracy: 0.6903\n",
      "Epoch 996/1000\n",
      "124/124 [==============================] - 0s 2ms/step - loss: 0.5889 - accuracy: 0.7075 - val_loss: 0.6184 - val_accuracy: 0.6791\n",
      "Epoch 997/1000\n",
      "124/124 [==============================] - 0s 2ms/step - loss: 0.5905 - accuracy: 0.7078 - val_loss: 0.6083 - val_accuracy: 0.6852\n",
      "Epoch 998/1000\n",
      "124/124 [==============================] - 0s 2ms/step - loss: 0.5890 - accuracy: 0.7050 - val_loss: 0.6231 - val_accuracy: 0.6731\n",
      "Epoch 999/1000\n",
      "124/124 [==============================] - 0s 2ms/step - loss: 0.5901 - accuracy: 0.7047 - val_loss: 0.6070 - val_accuracy: 0.6913\n",
      "Epoch 1000/1000\n",
      "124/124 [==============================] - 0s 2ms/step - loss: 0.5892 - accuracy: 0.7065 - val_loss: 0.6101 - val_accuracy: 0.6812\n"
     ]
    }
   ],
   "source": [
    "history = model.fit(X_train, y_train, epochs = 1000, batch_size = 32,verbose=1,validation_split=0.2)"
   ]
  },
  {
   "cell_type": "code",
   "execution_count": 48,
   "metadata": {},
   "outputs": [
    {
     "name": "stdout",
     "output_type": "stream",
     "text": [
      "0.6680161943319838\n"
     ]
    }
   ],
   "source": [
    "predictions = (model.predict(X_test) > 0.5).astype(\"int32\")\n",
    "accuracy = accuracy_score(y_true=y_test, y_pred=predictions)\n",
    "print(accuracy)"
   ]
  },
  {
   "cell_type": "markdown",
   "metadata": {},
   "source": [
    "From the wide variety of models we have tried, we can see that no model significantly improve the overall classification accuracy (we have also tried Polynomial Features + Regularization and it has not worked either).\n",
    "What we are going to do is select the best model according to the metrics we used in question 2.2: ratio of FPR and NPR. Then, with this best model, we will evaluate how removing the predictor race compares with the Logistic Regression model we have seen earlier."
   ]
  },
  {
   "cell_type": "markdown",
   "metadata": {},
   "source": [
    "**5.2** Evaluate your model using the same metrics as in 2.2 and 3.2.  \n",
    "\n"
   ]
  },
  {
   "cell_type": "code",
   "execution_count": 50,
   "metadata": {},
   "outputs": [
    {
     "name": "stdout",
     "output_type": "stream",
     "text": [
      "The ratio of fpr is 2.4523809523809526\n",
      "The ratio of fpr is 2.511627906976744\n",
      "The ratio of fpr is 2.571428571428571\n"
     ]
    }
   ],
   "source": [
    "models = [logregCV, grid_search_rf, grid_search]\n",
    "for model in models:\n",
    "    column_selected = [column for column in X_test.columns if 'African' in column]\n",
    "    fpr_aa = get_fpr(column_selected, X_test, model, y_test.values)\n",
    "    column_selected = [column for column in X_test.columns if 'Caucasian' in column]\n",
    "    fpr_c = get_fpr(column_selected, X_test, model, y_test.values)\n",
    "    print('The ratio of fpr is '+str(fpr_aa/fpr_c))"
   ]
  },
  {
   "cell_type": "code",
   "execution_count": 51,
   "metadata": {},
   "outputs": [
    {
     "name": "stdout",
     "output_type": "stream",
     "text": [
      "The ratio of fnr is 2.4761904761904763\n",
      "The ratio of fnr is 2.232558139534884\n",
      "The ratio of fnr is 2.238095238095238\n"
     ]
    }
   ],
   "source": [
    "models = [logregCV, grid_search_rf, grid_search]\n",
    "for model in models:\n",
    "    column_selected = [column for column in X_test.columns if 'African' in column]\n",
    "    fnr_aa = get_fnr(column_selected, X_test, model, y_test.values)\n",
    "    column_selected = [column for column in X_test.columns if 'Caucasian' in column]\n",
    "    fnr_c = get_fpr(column_selected, X_test, model, y_test.values)\n",
    "    print('The ratio of fnr is '+str(fnr_aa/fnr_c))"
   ]
  },
  {
   "cell_type": "markdown",
   "metadata": {},
   "source": [
    "We can see that all of the models are no increase in terms of bias of classes. This could mean that both the objectives of enhancing the classification accuracy and providing a fair classification are not related. For the sake of completeness, let's see how the penalized Logistic Regression behaves when we remove the race predictor."
   ]
  },
  {
   "cell_type": "code",
   "execution_count": null,
   "metadata": {},
   "outputs": [],
   "source": [
    "to_drop_race = [column for column in X_train.columns if 'race' in column]\n",
    "X_train_unbias = X_train.drop(to_drop_race, axis=1)\n",
    "X_test_unbias = X_test.drop(to_drop_race, axis=1)\n",
    "logregCV = LogisticRegressionCV(cv=5, max_iter=10000, Cs=[0.001, 0.01, 0.1, 1, 10], solver = 'saga', penalty = 'l1', n_jobs=-1).fit(X_train_unbias, y_train)"
   ]
  },
  {
   "cell_type": "code",
   "execution_count": null,
   "metadata": {},
   "outputs": [],
   "source": [
    "column_selected = [column for column in X_test.columns if 'African' in column]\n",
    "fpr_aa = get_unbiased_fpr(column_selected, X_test, logregCV, y_test.values, to_drop_race)\n",
    "column_selected = [column for column in X_test.columns if 'Caucasian' in column]\n",
    "fpr_c = get_unbiased_fpr(column_selected, X_test, logregCV, y_test.values, to_drop_race)\n",
    "print('The ratio of fpr is '+str(fpr_aa/fpr_c))"
   ]
  },
  {
   "cell_type": "code",
   "execution_count": null,
   "metadata": {},
   "outputs": [],
   "source": [
    "column_selected = [column for column in X_test.columns if 'African' in column]\n",
    "fnr_aa = get_unbiased_fnr(column_selected, X_test, logregCV, y_test.values, to_drop_race)\n",
    "column_selected = [column for column in X_test.columns if 'Caucasian' in column]\n",
    "fnr_c = get_unbiased_fnr(column_selected, X_test, logregCV, y_test.values, to_drop_race)\n",
    "print('The ratio of fnr is '+str(fnr_aa/fnr_c))"
   ]
  },
  {
   "cell_type": "markdown",
   "metadata": {},
   "source": [
    "**5.3** Is this model a better model to predict recidivism?  How has this affected bias and fairness between these groups?  How would you modify your model to put it into production (to be a competitior to COMPAS)?  Please limit your response to at most 150 words."
   ]
  },
  {
   "cell_type": "markdown",
   "metadata": {},
   "source": [
    "I don't think that this is a better model to predict recidivism. Removing the races predictors has allowed to reduce the false negative ratio. However, the false positive ratio remains high, meaning that we have a lot of false positives for the African American community and that solving this bias problem does not resolve to finding the classifier with best accuracy. This might me a much harder problem to deal with bias and fairness. \n",
    "\n",
    "I would modify my model by first modifying the training data (if our data is biased, then our model is biased). Then, I think I would apply this recourse algorithm on top of any classifier in order to protect this race attributes and all other attributes correlated with race. Then, based on an extensive study of bias and fairness, I would maybe be able to put into production this model."
   ]
  }
 ],
 "metadata": {
  "kernelspec": {
   "display_name": "Python 3",
   "language": "python",
   "name": "python3"
  },
  "language_info": {
   "codemirror_mode": {
    "name": "ipython",
    "version": 3
   },
   "file_extension": ".py",
   "mimetype": "text/x-python",
   "name": "python",
   "nbconvert_exporter": "python",
   "pygments_lexer": "ipython3",
   "version": "3.7.8"
  }
 },
 "nbformat": 4,
 "nbformat_minor": 4
}
