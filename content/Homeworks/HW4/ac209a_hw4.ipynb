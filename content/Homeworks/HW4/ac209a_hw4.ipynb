{
 "cells": [
  {
   "cell_type": "markdown",
   "metadata": {},
   "source": [
    "# <img style=\"float: left; padding-right: 10px; width: 45px\" src=\"https://raw.githubusercontent.com/Harvard-IACS/2018-CS109A/master/content/styles/iacs.png\"> CS109A Introduction to Data Science: \n",
    "\n",
    "## Homework 4  AC 209: GLMs\n",
    "\n",
    "\n",
    "**Harvard University**<br/>\n",
    "**Fall 2020**<br/>\n",
    "**Instructors**: Pavlos Protopapas, Kevin Rader, and Chris Tanner\n"
   ]
  },
  {
   "cell_type": "markdown",
   "metadata": {},
   "source": [
    "<hr style=\"height:2pt\">"
   ]
  },
  {
   "cell_type": "code",
   "execution_count": 1,
   "metadata": {},
   "outputs": [
    {
     "data": {
      "text/html": [
       "<style>\n",
       "blockquote { background: #AEDE94; }\n",
       "h1 { \n",
       "    padding-top: 25px;\n",
       "    padding-bottom: 25px;\n",
       "    text-align: left; \n",
       "    padding-left: 10px;\n",
       "    background-color: #DDDDDD; \n",
       "    color: black;\n",
       "}\n",
       "h2 { \n",
       "    padding-top: 10px;\n",
       "    padding-bottom: 10px;\n",
       "    text-align: left; \n",
       "    padding-left: 5px;\n",
       "    background-color: #EEEEEE; \n",
       "    color: black;\n",
       "}\n",
       "\n",
       "div.exercise {\n",
       "\tbackground-color: #ffcccc;\n",
       "\tborder-color: #E9967A; \t\n",
       "\tborder-left: 5px solid #800080; \n",
       "\tpadding: 0.5em;\n",
       "}\n",
       "\n",
       "div.exercise-r {\n",
       "\tbackground-color: #fce8e8;\n",
       "\tborder-color: #E9967A; \t\n",
       "\tborder-left: 5px solid #800080; \n",
       "\tpadding: 0.5em;\n",
       "}\n",
       "\n",
       "\n",
       "span.sub-q {\n",
       "\tfont-weight: bold;\n",
       "}\n",
       "div.theme {\n",
       "\tbackground-color: #DDDDDD;\n",
       "\tborder-color: #E9967A; \t\n",
       "\tborder-left: 5px solid #800080; \n",
       "\tpadding: 0.5em;\n",
       "\tfont-size: 18pt;\n",
       "}\n",
       "div.gc { \n",
       "\tbackground-color: #AEDE94;\n",
       "\tborder-color: #E9967A; \t \n",
       "\tborder-left: 5px solid #800080; \n",
       "\tpadding: 0.5em;\n",
       "\tfont-size: 12pt;\n",
       "}\n",
       "p.q1 { \n",
       "    padding-top: 5px;\n",
       "    padding-bottom: 5px;\n",
       "    text-align: left; \n",
       "    padding-left: 5px;\n",
       "    background-color: #EEEEEE; \n",
       "    color: black;\n",
       "}\n",
       "header {\n",
       "   padding-top: 35px;\n",
       "    padding-bottom: 35px;\n",
       "    text-align: left; \n",
       "    padding-left: 10px;\n",
       "    background-color: #DDDDDD; \n",
       "    color: black;\n",
       "}\n",
       "</style>\n",
       "\n"
      ],
      "text/plain": [
       "<IPython.core.display.HTML object>"
      ]
     },
     "execution_count": 1,
     "metadata": {},
     "output_type": "execute_result"
    }
   ],
   "source": [
    "# RUN THIS CELL FOR FORMAT\n",
    "import requests\n",
    "from IPython.core.display import HTML\n",
    "styles = requests.get(\"https://raw.githubusercontent.com/Harvard-IACS/2018-CS109A/master/content/styles/cs109.css\").text\n",
    "HTML(styles)"
   ]
  },
  {
   "cell_type": "code",
   "execution_count": 2,
   "metadata": {},
   "outputs": [],
   "source": [
    "import numpy as np\n",
    "import pandas as pd\n",
    "import matplotlib.pyplot as plt\n",
    "from sklearn.linear_model import LinearRegression"
   ]
  },
  {
   "cell_type": "markdown",
   "metadata": {},
   "source": [
    "<div class='exercise'> <b> Question 1 [20 pts] </b> </div>\n",
    "\n",
    "The probability density function of Poisson distribution is given by:\n",
    "$$ p(y|\\lambda) =  \\frac{\\lambda^{y}}{y!} e^{-\\lambda}.$$\n",
    "\n",
    "\n",
    "**1.1** Show that Poisson distribution belongs to the general exponential distribution family with probability density:\n",
    "\n",
    "$$f(y|\\theta)= \\exp\\left( \\frac{y  \\,\\theta-b(\\theta)}{\\phi}+c(y,\\phi)\\right).$$\n",
    "\n",
    "**1.2** For the Poisson distribution calculate the canonical parameter $\\theta$ in terms of $\\lambda$, the cumulant function $b(\\theta)$, the dispersion parameter $\\phi$, and the normalization function $c(y,\\phi)$.\n",
    "\n",
    "**1.3**  Show that the canonical link $g(.)$ for the Poisson regression model is given by:\n",
    "$$\\eta = g(\\lambda) = \\log(\\lambda).$$\n",
    "\n",
    "**1.4** Derive to the *normal equations* that maximizes the likelihood in the Poisson regression model.\n",
    "\n",
    "**1.5** Write a function (call is `pois_loglik`) that returns the log-likelihood (either the positive or negative) for a simple poisson regression model with one predictor (make sure you incorporate the canonical link properly to connect $\\beta_0+\\beta_1 X_1$ to $\\lambda$).  The inputs should be `beta` (a vector), `X` (a matrix), and `y` (a vector), and a boolean `negative` with default option of `False` (that flags whether or not the negative value should be returned) and returns the log-likelihood evaluation.  Note: `X` and `beta` should include the intercept appropriately.\n",
    "\n",
    "*Hint: [scipy.stats.poisson](https://docs.scipy.org/doc/scipy/reference/generated/scipy.stats.poisson.html) may be helpful.\n",
    "\n",
    "**1.6** Use an appropriate visual to explore whether `storms` is related to `watertemp` in the `atlanticstorms.csv` data set.  Use this visual to guess what values of $\\beta_0$ and $\\beta_1$ would be reasonable in a Poisson regression model .\n",
    "\n",
    "*Hint be careful as to the scale for this guess: be sure to take into account the canonical link connection between $\\beta_0+\\beta_1 X_1$ and $\\lambda$.\n",
    "\n",
    "*Note: the data set contains annual counts of the number of tropical storms in the Atlantic Ocean (`storms`) along with the average water temperature in the Gulf of Mexico in June of that year (`watertemp`), measured as the deviation from average in degrees Fahrenheit.\n",
    "\n",
    "\n",
    "**1.7** Use your `pois_loglik` function to get the maximum likelihood estimates for $\\beta_0$ and $\\beta_1$ fit to predict `storms` from `watertemp` in the `atlanticstorms.csv` data set.  Be explicit as to the initial starting value you decide on for $\\beta_0$ and $\\beta_1$ (for example, it may match your guesses from the previous part).\n",
    "\n",
    "*Hint: [scipy.optimize.minimize](https://docs.scipy.org/doc/scipy/reference/generated/scipy.optimize.minimize.html) may be helpful.\n",
    "\n",
    "\n",
    "**1.8** Fit the standard linear regression model (feel free to use sklearn) to predict `np.log(storms)` from `watertemp` in the `atlanticstorms.csv` data set.  Compare the estimates for the coefficients in this model to the Poisson regression model.  What do these models say about the association between the number of storms in the Atlantic (on the original scale) and the water temperature in the Gulf of Mexico?\n",
    "\n",
    "*Hint: it might be useful to plot the models predictions (along with the scatterplot of the data) on the original scale."
   ]
  },
  {
   "cell_type": "markdown",
   "metadata": {},
   "source": [
    "<hr style=\"height:1pt\"> \n",
    "\n",
    "### Solutions\n",
    "\n"
   ]
  },
  {
   "cell_type": "markdown",
   "metadata": {},
   "source": [
    "**1.1 Show that Poisson distribution belongs to the general exponential distribution family with probability density:**\n",
    "\n",
    "$$f(y|\\theta)= \\exp\\left( \\frac{y  \\,\\theta-b(\\theta)}{\\phi}+c(y,\\phi)\\right).$$\n"
   ]
  },
  {
   "cell_type": "markdown",
   "metadata": {},
   "source": [
    "Let us rewrite the probability density function of the Poisson variable:\n",
    "\n",
    "$$\n",
    "p(y|\\lambda) =  \\frac{\\lambda^{y}}{y!} e^{-\\lambda} = e^{-\\lambda+yln(\\lambda) - ln(y!)} = exp(\\frac{yln(\\lambda)-e^{ln\\lambda}}{1} +-lny!)\n",
    "$$"
   ]
  },
  {
   "cell_type": "markdown",
   "metadata": {},
   "source": [
    "**1.2 For the Poisson distribution calculate the canonical parameter $\\theta$ in terms of $\\lambda$, the cumulant function $b(\\theta)$, the dispersion parameter $\\phi$, and the normalization function $c(y,\\phi)$.**\n"
   ]
  },
  {
   "cell_type": "markdown",
   "metadata": {},
   "source": [
    "Therefore, we can infer that :\n",
    "\n",
    "$$\n",
    "\\theta = ln(\\lambda) \\quad \n",
    "b(\\theta) = e^\\theta \\quad\n",
    "\\phi = 1 \\quad\n",
    "c(y, \\phi) = -ln(y!)\n",
    "$$"
   ]
  },
  {
   "cell_type": "markdown",
   "metadata": {},
   "source": [
    "**1.3  Show that the canonical link $g(.)$ for the Poisson regression model is given by:\n",
    "$$\\eta = g(\\lambda) = \\log(\\lambda).$$**"
   ]
  },
  {
   "cell_type": "markdown",
   "metadata": {},
   "source": [
    "We know that for EDFs, once we have set the general expression of the probability distribution, we have that :\n",
    "$$\n",
    "\\mu = b'(\\theta) = e^\\theta \\Rightarrow \\theta = ln(\\mu)\n",
    "$$\n",
    "Therefore, the canoncal link for the Poisson Regression model is $ \\eta = g(\\lambda) = ln(\\lambda)$ "
   ]
  },
  {
   "cell_type": "markdown",
   "metadata": {},
   "source": [
    "**1.4  Derive to the *normal equations* that maximizes the likelihood in the Poisson regression model.**\n"
   ]
  },
  {
   "cell_type": "markdown",
   "metadata": {
    "collapsed": true
   },
   "source": [
    "From the advanced sections, we know that in order to find the coefficients $\\beta$ that maximilize the log-likelihood of the observed data, we need to solve:\n",
    "$$\n",
    "\\sum_{i=1}^N{\\frac{(y_i-\\mu_i)x_i^T}{\\phi_i}} = 0 \\iff \\sum_{i=1}^N{{(y_i-e^{x_i^T\\beta})x_i^T}} = 0\n",
    "$$\n"
   ]
  },
  {
   "cell_type": "markdown",
   "metadata": {},
   "source": [
    "**1.5 Write a function (call it `pois_loglik`) that returns the log-likelihood for a simple poisson regression model with one predictor (make sure you incorporate the canonical link properly to connect $\\beta_0+\\beta_1 X_1$ to $\\lambda$).  The inputs should be `beta` (a vector), `X` (a matrix), and `y` (a vector), and a boolean `negative` with default option of `False` (that flags whether or not the negative value should be returned) and returns the log-likelihood evaluation.  Note: `X` and `beta` should include the intercept appropriately.**"
   ]
  },
  {
   "cell_type": "markdown",
   "metadata": {},
   "source": [
    "First, let us express the log-likelihood of a poisson model:\n",
    "$$\n",
    "l(y|\\beta) = \\sum_{i=1}^N{y_ix_i^T\\beta - e^{x_i^T\\beta}} + \\sum_{i=1}^Nln(y_i!)\n",
    "$$"
   ]
  },
  {
   "cell_type": "code",
   "execution_count": 3,
   "metadata": {},
   "outputs": [],
   "source": [
    "import scipy.special as special"
   ]
  },
  {
   "cell_type": "code",
   "execution_count": 9,
   "metadata": {},
   "outputs": [],
   "source": [
    "def pois_loglik(beta, X, y, negative = False):\n",
    "    # your code here\n",
    "    facto = np.sum(np.log(special.factorial(y)))\n",
    "    dot_products = np.dot(X, beta) \n",
    "    exp = np.exp(dot_products)\n",
    "    ln = y*dot_products\n",
    "    loglik = np.sum(ln - exp) + facto\n",
    "    return loglik"
   ]
  },
  {
   "cell_type": "markdown",
   "metadata": {},
   "source": [
    "**1.6 Use an appropriate visual to explore whether `storms` is related to `watertemp` in the `atlanticstorms.csv` data set.  Use this visual to guess what values of $\\beta_0$ and $\\beta_1$ would be reasonable in a Poisson regression model.**"
   ]
  },
  {
   "cell_type": "code",
   "execution_count": 5,
   "metadata": {},
   "outputs": [
    {
     "data": {
      "text/html": [
       "<div>\n",
       "<style scoped>\n",
       "    .dataframe tbody tr th:only-of-type {\n",
       "        vertical-align: middle;\n",
       "    }\n",
       "\n",
       "    .dataframe tbody tr th {\n",
       "        vertical-align: top;\n",
       "    }\n",
       "\n",
       "    .dataframe thead th {\n",
       "        text-align: right;\n",
       "    }\n",
       "</style>\n",
       "<table border=\"1\" class=\"dataframe\">\n",
       "  <thead>\n",
       "    <tr style=\"text-align: right;\">\n",
       "      <th></th>\n",
       "      <th>year</th>\n",
       "      <th>watertemp</th>\n",
       "      <th>storms</th>\n",
       "    </tr>\n",
       "  </thead>\n",
       "  <tbody>\n",
       "    <tr>\n",
       "      <th>0</th>\n",
       "      <td>2019</td>\n",
       "      <td>2.2</td>\n",
       "      <td>20</td>\n",
       "    </tr>\n",
       "    <tr>\n",
       "      <th>1</th>\n",
       "      <td>2018</td>\n",
       "      <td>1.6</td>\n",
       "      <td>16</td>\n",
       "    </tr>\n",
       "    <tr>\n",
       "      <th>2</th>\n",
       "      <td>2017</td>\n",
       "      <td>0.4</td>\n",
       "      <td>18</td>\n",
       "    </tr>\n",
       "    <tr>\n",
       "      <th>3</th>\n",
       "      <td>2016</td>\n",
       "      <td>2.0</td>\n",
       "      <td>16</td>\n",
       "    </tr>\n",
       "    <tr>\n",
       "      <th>4</th>\n",
       "      <td>2015</td>\n",
       "      <td>1.4</td>\n",
       "      <td>12</td>\n",
       "    </tr>\n",
       "  </tbody>\n",
       "</table>\n",
       "</div>"
      ],
      "text/plain": [
       "   year  watertemp  storms\n",
       "0  2019        2.2      20\n",
       "1  2018        1.6      16\n",
       "2  2017        0.4      18\n",
       "3  2016        2.0      16\n",
       "4  2015        1.4      12"
      ]
     },
     "execution_count": 5,
     "metadata": {},
     "output_type": "execute_result"
    }
   ],
   "source": [
    "# your code here\n",
    "data = pd.read_csv('./data/atlanticstorms.csv')\n",
    "data.head(5)"
   ]
  },
  {
   "cell_type": "code",
   "execution_count": 6,
   "metadata": {},
   "outputs": [
    {
     "data": {
      "image/png": "[encoded data removed]",
      "text/plain": [
       "<Figure size 1440x720 with 1 Axes>"
      ]
     },
     "metadata": {
      "needs_background": "light"
     },
     "output_type": "display_data"
    }
   ],
   "source": [
    "plt.subplots(figsize = (20, 10))\n",
    "data_plot = data.sort_values(by='watertemp')\n",
    "plt.scatter(data_plot['watertemp'], np.log(data_plot['storms']), label='Log of storms explained by watertemp', color='lightcoral')\n",
    "plt.xlabel('Water temperature')\n",
    "plt.ylabel('Log of the number of storms')\n",
    "plt.title('Log of number of storms vs water temperature, in order to visualize if there is a linear fit')\n",
    "plt.legend()\n",
    "plt.show()"
   ]
  },
  {
   "cell_type": "markdown",
   "metadata": {},
   "source": [
    "I used this visual because using a Poisson Regression is equivalent to work with a GLM where we simulate \n",
    "$$\n",
    "\\mathbb{E}(y|x) =  e^{\\beta^Tx_i}\n",
    "$$\n",
    "Therefore, I plotted ln(y) and explored whether there was a linear relationship with X.\n",
    "And here, we can see that it is reasonable to infer that there is one."
   ]
  },
  {
   "cell_type": "code",
   "execution_count": 7,
   "metadata": {},
   "outputs": [
    {
     "data": {
      "image/png": "[encoded data removed]",
      "text/plain": [
       "<Figure size 1440x720 with 1 Axes>"
      ]
     },
     "metadata": {
      "needs_background": "light"
     },
     "output_type": "display_data"
    }
   ],
   "source": [
    "plt.subplots(figsize = (20, 10))\n",
    "data_plot = data.sort_values(by='watertemp')\n",
    "plt.scatter(data_plot['watertemp'], np.log(data_plot['storms']), label='Log of storms explained by watertemp', color='lightcoral')\n",
    "plt.plot(np.linspace(-2, 2, 100), 2.5 + 0.35*np.linspace(-2, 2, 100), label='Linear fit to the data ')\n",
    "plt.xlabel('Water temperature')\n",
    "plt.ylabel('Log of the number of storms')\n",
    "plt.title('Log of number of storms vs water temperature, in order to visualize if there is a linear fit')\n",
    "plt.legend()\n",
    "plt.show()"
   ]
  },
  {
   "cell_type": "markdown",
   "metadata": {},
   "source": [
    "Reasonable coefficients for $\\beta_0 = 2.5$, and for $\\beta_1 = 0.35$ "
   ]
  },
  {
   "cell_type": "markdown",
   "metadata": {},
   "source": [
    "**1.7 Use you `pois_loglik` function to get the maximum likelihood estimates for $\\beta_0$ and $\\beta_1$ fit to predict `storms` from `watertemp` in the `atlanticstorms.csv` data set.  Print out your coefficient estimates.**"
   ]
  },
  {
   "cell_type": "markdown",
   "metadata": {},
   "source": [
    "The likelihood is a concave function (ln is a concave function and -exp is also concave). Therefore, there is only one global maximum to our likelihood."
   ]
  },
  {
   "cell_type": "markdown",
   "metadata": {},
   "source": [
    "**1.8 Fit the standard linear regression model (feel free to use sklearn) to predict `np.log(storms)` from `watertemp` in the `atlanticstorms.csv` data set and print out your coefficient estimates.  Compare the estimates for the coefficients in this model to the Poisson regression model.  What do these models say about the association between the number of storms in the Atlantic (on the original scale) and the water temperature in the Gulf of Mexico?**"
   ]
  },
  {
   "cell_type": "code",
   "execution_count": 8,
   "metadata": {},
   "outputs": [
    {
     "name": "stdout",
     "output_type": "stream",
     "text": [
      "The coefficients estimate of the model assuming normal errors are  2.382640233518301 0.2935811612011948\n"
     ]
    }
   ],
   "source": [
    "# your code here\n",
    "lr = LinearRegression().fit(data['watertemp'].values.reshape(-1, 1), np.log(data['storms']))\n",
    "print('The coefficients estimate of the model assuming normal errors are ', lr.intercept_, *lr.coef_)"
   ]
  },
  {
   "cell_type": "markdown",
   "metadata": {},
   "source": [
    "The estimates for the coefficients in the linear regression model are pretty close to the ones we estimated thanks to ML for the Poisson model. These models say that it is pretty credible to infer that there is a relationship (that can be linear-encoded) between the log- number of storms in the Atlantic and the water temperature in the Guld of Mexico."
   ]
  }
 ],
 "metadata": {
  "kernelspec": {
   "display_name": "Python 3",
   "language": "python",
   "name": "python3"
  },
  "language_info": {
   "codemirror_mode": {
    "name": "ipython",
    "version": 3
   },
   "file_extension": ".py",
   "mimetype": "text/x-python",
   "name": "python",
   "nbconvert_exporter": "python",
   "pygments_lexer": "ipython3",
   "version": "3.7.8"
  }
 },
 "nbformat": 4,
 "nbformat_minor": 2
}
