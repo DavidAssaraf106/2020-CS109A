{
 "cells": [
  {
   "cell_type": "markdown",
   "metadata": {},
   "source": [
    "# <img style=\"float: left; padding-right: 10px; width: 45px\" src=\"https://raw.githubusercontent.com/Harvard-IACS/2018-CS109A/master/content/styles/iacs.png\"> CS109A Introduction to Data Science: \n",
    "## Homework 5: High Dimensionality and PCA\n",
    "\n",
    "**Harvard University**<br/>\n",
    "**Fall 2020**<br/>\n",
    "**Instructors**: Pavlos Protopapas, Kevin Rader, and Chris Tanner\n",
    "\n",
    "<hr style=\"height:2.4pt\">"
   ]
  },
  {
   "cell_type": "code",
   "execution_count": 1,
   "metadata": {},
   "outputs": [
    {
     "data": {
      "text/html": [
       "<style>\n",
       "blockquote { background: #AEDE94; }\n",
       "h1 { \n",
       "    padding-top: 25px;\n",
       "    padding-bottom: 25px;\n",
       "    text-align: left; \n",
       "    padding-left: 10px;\n",
       "    background-color: #DDDDDD; \n",
       "    color: black;\n",
       "}\n",
       "h2 { \n",
       "    padding-top: 10px;\n",
       "    padding-bottom: 10px;\n",
       "    text-align: left; \n",
       "    padding-left: 5px;\n",
       "    background-color: #EEEEEE; \n",
       "    color: black;\n",
       "}\n",
       "\n",
       "div.exercise {\n",
       "\tbackground-color: #ffcccc;\n",
       "\tborder-color: #E9967A; \t\n",
       "\tborder-left: 5px solid #800080; \n",
       "\tpadding: 0.5em;\n",
       "}\n",
       "\n",
       "div.exercise-r {\n",
       "\tbackground-color: #fce8e8;\n",
       "\tborder-color: #E9967A; \t\n",
       "\tborder-left: 5px solid #800080; \n",
       "\tpadding: 0.5em;\n",
       "}\n",
       "\n",
       "\n",
       "span.sub-q {\n",
       "\tfont-weight: bold;\n",
       "}\n",
       "div.theme {\n",
       "\tbackground-color: #DDDDDD;\n",
       "\tborder-color: #E9967A; \t\n",
       "\tborder-left: 5px solid #800080; \n",
       "\tpadding: 0.5em;\n",
       "\tfont-size: 18pt;\n",
       "}\n",
       "div.gc { \n",
       "\tbackground-color: #AEDE94;\n",
       "\tborder-color: #E9967A; \t \n",
       "\tborder-left: 5px solid #800080; \n",
       "\tpadding: 0.5em;\n",
       "\tfont-size: 12pt;\n",
       "}\n",
       "p.q1 { \n",
       "    padding-top: 5px;\n",
       "    padding-bottom: 5px;\n",
       "    text-align: left; \n",
       "    padding-left: 5px;\n",
       "    background-color: #EEEEEE; \n",
       "    color: black;\n",
       "}\n",
       "header {\n",
       "   padding-top: 35px;\n",
       "    padding-bottom: 35px;\n",
       "    text-align: left; \n",
       "    padding-left: 10px;\n",
       "    background-color: #DDDDDD; \n",
       "    color: black;\n",
       "}\n",
       "</style>\n",
       "\n"
      ],
      "text/plain": [
       "<IPython.core.display.HTML object>"
      ]
     },
     "execution_count": 1,
     "metadata": {},
     "output_type": "execute_result"
    }
   ],
   "source": [
    "#RUN THIS CELL \n",
    "import requests\n",
    "from IPython.core.display import HTML\n",
    "styles = requests.get(\"https://raw.githubusercontent.com/Harvard-IACS/2018-CS109A/master/content/styles/cs109.css\").text\n",
    "HTML(styles)"
   ]
  },
  {
   "cell_type": "code",
   "execution_count": 2,
   "metadata": {},
   "outputs": [
    {
     "data": {
      "text/html": [
       "<style>\n",
       ".jp-MarkdownCell {background-color: cornsilk;}\n",
       ".text_cell {background-color: cornsilk;}\n",
       "</style>\n"
      ],
      "text/plain": [
       "<IPython.core.display.HTML object>"
      ]
     },
     "metadata": {},
     "output_type": "display_data"
    }
   ],
   "source": [
    "%%html\n",
    "<style>\n",
    ".jp-MarkdownCell {background-color: cornsilk;}\n",
    ".text_cell {background-color: cornsilk;}\n",
    "</style>"
   ]
  },
  {
   "cell_type": "code",
   "execution_count": 3,
   "metadata": {},
   "outputs": [],
   "source": [
    "#RUN THIS CELL\n",
    "import os\n",
    "import pathlib\n",
    "working_dir = pathlib.Path().absolute()\n",
    "os.chdir(working_dir)"
   ]
  },
  {
   "cell_type": "markdown",
   "metadata": {
    "cell_id": "e3ac03bc-f0ec-4c6b-a41a-9c8eeaa80770",
    "colab_type": "text",
    "id": "-5WJkGo16514"
   },
   "source": [
    "<hr style=\"height:2pt\">\n",
    "\n",
    "### INSTRUCTIONS\n",
    "\n",
    "- To submit your assignment follow the instructions given in Canvas.\n",
    "\n",
    "- This homework can be submitted in pairs, and it is encouraged for you to do so. Especially during covid and distancing, this can be a way to work with other students and learn alongside one another. As future data scientists, you will often be expected to work with others, and working in pairs can help practice communicating data science concepts.\n",
    "\n",
    "- Please restart the kernel and run the entire notebook again before you submit.\n",
    "\n",
    "- Running cells out of order is a common pitfall in Jupyter Notebooks. To make sure your code works restart the kernel and run the whole notebook again before you submit. Exceptions should be made for code with a long execution time, of course.\n",
    "- We have tried to include all the libraries you may need to do the assignment in the imports statement at the top of this notebook. We strongly suggest that you use those and not others as we may not be familiar with them. .\n",
    "- Please use .head() when viewing data. Do not submit a notebook that is **excessively long**. \n",
    "- In questions that require code to answer, such as \"calculate the $R^2$\", do not just output the value from a cell. Write a `print()` function that includes a reference to the calculated value, **not hardcoded**. For example: \n",
    "```\n",
    "print(f'The R^2 is {R:.4f}')\n",
    "```\n",
    "\n",
    "<hr style=\"height:2pt\">"
   ]
  },
  {
   "cell_type": "code",
   "execution_count": 4,
   "metadata": {},
   "outputs": [],
   "source": [
    "import numpy as np\n",
    "import pandas as pd\n",
    "import seaborn as sns\n",
    "import matplotlib\n",
    "import matplotlib.pyplot as plt\n",
    "%matplotlib inline\n",
    "\n",
    "from sklearn.linear_model import LogisticRegression\n",
    "from sklearn.linear_model import LogisticRegressionCV\n",
    "\n",
    "from sklearn.model_selection import cross_val_score\n",
    "from sklearn.metrics import accuracy_score\n",
    "from sklearn.model_selection import KFold\n",
    "from sklearn.preprocessing import MinMaxScaler\n",
    "from sklearn.preprocessing import PolynomialFeatures\n",
    "from sklearn.model_selection import train_test_split\n",
    "from sklearn import metrics\n",
    "from sklearn.decomposition import PCA"
   ]
  },
  {
   "cell_type": "markdown",
   "metadata": {},
   "source": [
    "<div class='theme'> Cancer Classification from Gene Expressions </div>\n",
    "\n",
    "In this assignment, we will build several classification models to distinguish between two related classes of cancer, acute lymphoblastic leukemia (ALL) and acute myeloid leukemia (AML), using gene expression measurements. The .csv data file is provided in the compressed file `data/hw5_genes_multiclass.zip`. Each row in this file corresponds to a tumor tissue sample from a patient with one of the two forms of leukemia.  Note: there are two different forms of the response variable. \n",
    "\n",
    "- The first column contains `Cancer_type`: **0 = ALL** class and **1 = AML** class\n",
    "- Columns 2-7130 contain expression levels of 7129 genes recorded from each tissue sample \n",
    "- The last column `Cancer_subtype` additionally distinguishes between two subtypes of ALL, subtype T and subtype B (used in problem 5): **0 = ALL subtype T**, **1 = ALL subtype B**, **2 = type AML**. \n",
    "\n",
    "In the following questions, we will use logistic regression and PCA to build classification models for this data set. "
   ]
  },
  {
   "cell_type": "markdown",
   "metadata": {},
   "source": [
    "## Contents\n",
    "- [Question 1 [20 pts]: Data Exploration](#Question-1-[20-pts]:-Data-Exploration) \n",
    "- [Question 2 [25 pts]: Logistic Regression Modeling](#Question-2-[25-pts]:-Logistic-Regression-Modeling) \n",
    "- [Question 3 [20 pts]: Performing Principal Components Analysis](#Question-3-[20-pts]:-Performing-Principal-Components-Analysis)\n",
    "- [Question 4 [10 pts]: Principal Components Regression (PCR)](#Question-4-[10-pts]:-Principal-Components-Regression-(PCR))\n",
    "- [Question 5 [25 pts]: Multi-Class Response](#Question-5-[25-pts]:-Multi-Class-Response)"
   ]
  },
  {
   "cell_type": "markdown",
   "metadata": {},
   "source": [
    "#### <div class='exercise'><b>Question 1 [20 pts]: Data Exploration</b></div>"
   ]
  },
  {
   "cell_type": "markdown",
   "metadata": {},
   "source": [
    "[▲ Return to contents](#Contents)"
   ]
  },
  {
   "cell_type": "markdown",
   "metadata": {},
   "source": [
    "The first step is to split the observations into an approximate 75-25 train-test split.  Below we provide some code to do this for you (we want to make sure everyone has the same splits). It also prints the dataset shape before splitting and after splitting. `Cancer_type` is our response variable for problems 1-4, while `Cancer_subtype` is the response variable in problem 5.\n",
    "\n",
    "\n",
    "**1.1** Take a peek at your training set: you should notice the severe differences in the measurements from one gene to the next (some are negative, some hover around zero, and some are well into the thousands). To account for these differences in scale, normalize each predictor to vary between 0 and 1.   **NOTE: for the entirety of this homework assignment, you will use these normalized values, not the original, raw values**.\n",
    "\n",
    "\n",
    "**1.2** The training set contains more predictors than observations. What problem(s) can this lead to in fitting a classification model to such a dataset? Explain in 3 or fewer sentences.\n",
    "\n",
    "\n",
    "**1.3** Determine which 10 genes best individually discriminates between the two cancer classes (Note: consider every gene in the dataset).  Then determine the single best gene predictor.  Plot two sets of histograms of your `best_predictor` -- one using the training set and another using the test set.  The histograms should clearly distinguish two different `Cancer_type` classes.\n",
    "\n",
    "**Hint:** You may use any reasonable approach to determine the `best_predictor`, but please use something very simple (whether taught in this class or elsewhere).\n",
    "\n",
    "**1.4** Using `best_predictor`, create a classification model by eye-balling a value for this gene that would best discriminate the two cancer classes in the training set. (Note: Do not use an algorithm to determine for you the optimal coefficient or threshold; we are asking you to provide a rough estimate / model by manual inspection.) Justify your choice of value in 1-2 sentences. Report the accuracy of your hand-chosen model on the train and test sets."
   ]
  },
  {
   "cell_type": "markdown",
   "metadata": {},
   "source": [
    "---\n"
   ]
  },
  {
   "cell_type": "code",
   "execution_count": 5,
   "metadata": {},
   "outputs": [
    {
     "name": "stdout",
     "output_type": "stream",
     "text": [
      "(752, 7131)\n",
      "(564, 7129) (188, 7129) (564,) (188,)\n",
      "0.0    0.511968\n",
      "1.0    0.488032\n",
      "Name: Cancer_type, dtype: float64\n"
     ]
    }
   ],
   "source": [
    "#############################\n",
    "## DO NOT MODIFY THIS CODE ##\n",
    "#############################\n",
    "\n",
    "np.random.seed(109)\n",
    "#zf = zipfile.ZipFile('data/hw5_genes_multiclass.csv.zip') \n",
    "df = pd.read_csv('data/hw5_genes_multiclass.csv')\n",
    "X = df.drop(['Cancer_type','Cancer_subtype'], axis=1)\n",
    "X_train, X_test, y_train, y_test, y2_train, y2_test  = train_test_split(\n",
    "    X, df.Cancer_type, df.Cancer_subtype, test_size=0.25, random_state = 109,\n",
    "    stratify = df.Cancer_subtype)\n",
    "\n",
    "print(df.shape)\n",
    "print(X_train.shape, X_test.shape, y_train.shape, y_test.shape)\n",
    "print(df.Cancer_type.value_counts(normalize=True))"
   ]
  },
  {
   "cell_type": "markdown",
   "metadata": {},
   "source": [
    "\n",
    "## Answers"
   ]
  },
  {
   "cell_type": "markdown",
   "metadata": {
    "autograde": "1.1",
    "cell_id": "0a790850-87c6-4f46-b89e-048a2295c92b",
    "colab_type": "text",
    "id": "IGFtXJmQap2q"
   },
   "source": [
    "<div class='exercise-r'>  \n",
    " \n",
    "**1.1** Take a peek at your training set: you should notice the severe differences in the measurements from one gene to the next (some are negative, some hover around zero, and some are well into the thousands). To account for these differences in scale, normalize each predictor to vary between 0 and 1.   **NOTE: for the entirety of this homework assignment, you will use these normalized values, not the original, raw values**.\n",
    " \n",
    " \n",
    " </div>"
   ]
  },
  {
   "cell_type": "code",
   "execution_count": 6,
   "metadata": {},
   "outputs": [
    {
     "data": {
      "text/html": [
       "<div>\n",
       "<style scoped>\n",
       "    .dataframe tbody tr th:only-of-type {\n",
       "        vertical-align: middle;\n",
       "    }\n",
       "\n",
       "    .dataframe tbody tr th {\n",
       "        vertical-align: top;\n",
       "    }\n",
       "\n",
       "    .dataframe thead th {\n",
       "        text-align: right;\n",
       "    }\n",
       "</style>\n",
       "<table border=\"1\" class=\"dataframe\">\n",
       "  <thead>\n",
       "    <tr style=\"text-align: right;\">\n",
       "      <th></th>\n",
       "      <th>AFFX-BioB-5_at</th>\n",
       "      <th>AFFX-BioB-M_at</th>\n",
       "      <th>AFFX-BioB-3_at</th>\n",
       "      <th>AFFX-BioC-5_at</th>\n",
       "      <th>AFFX-BioC-3_at</th>\n",
       "      <th>AFFX-BioDn-5_at</th>\n",
       "      <th>AFFX-BioDn-3_at</th>\n",
       "      <th>AFFX-CreX-5_at</th>\n",
       "      <th>AFFX-CreX-3_at</th>\n",
       "      <th>AFFX-BioB-5_st</th>\n",
       "      <th>...</th>\n",
       "      <th>U48730_at</th>\n",
       "      <th>U58516_at</th>\n",
       "      <th>U73738_at</th>\n",
       "      <th>X06956_at</th>\n",
       "      <th>X16699_at</th>\n",
       "      <th>X83863_at</th>\n",
       "      <th>Z17240_at</th>\n",
       "      <th>L49218_f_at</th>\n",
       "      <th>M71243_f_at</th>\n",
       "      <th>Z78285_f_at</th>\n",
       "    </tr>\n",
       "  </thead>\n",
       "  <tbody>\n",
       "    <tr>\n",
       "      <th>640</th>\n",
       "      <td>-177.705507</td>\n",
       "      <td>-322.508411</td>\n",
       "      <td>-253.423465</td>\n",
       "      <td>143.200071</td>\n",
       "      <td>-285.597722</td>\n",
       "      <td>-443.677657</td>\n",
       "      <td>624.588460</td>\n",
       "      <td>159.680490</td>\n",
       "      <td>164.198494</td>\n",
       "      <td>492.740436</td>\n",
       "      <td>...</td>\n",
       "      <td>105.507545</td>\n",
       "      <td>660.738347</td>\n",
       "      <td>-143.844774</td>\n",
       "      <td>171.508414</td>\n",
       "      <td>-75.741237</td>\n",
       "      <td>289.462121</td>\n",
       "      <td>495.033927</td>\n",
       "      <td>-9.145325</td>\n",
       "      <td>1410.014586</td>\n",
       "      <td>18.554470</td>\n",
       "    </tr>\n",
       "    <tr>\n",
       "      <th>506</th>\n",
       "      <td>-326.099314</td>\n",
       "      <td>-373.845943</td>\n",
       "      <td>352.225008</td>\n",
       "      <td>479.545710</td>\n",
       "      <td>-90.705516</td>\n",
       "      <td>-3.330975</td>\n",
       "      <td>943.220723</td>\n",
       "      <td>-389.520281</td>\n",
       "      <td>337.285634</td>\n",
       "      <td>-240.264084</td>\n",
       "      <td>...</td>\n",
       "      <td>19.518151</td>\n",
       "      <td>1127.098390</td>\n",
       "      <td>360.909305</td>\n",
       "      <td>-67.451036</td>\n",
       "      <td>-68.580844</td>\n",
       "      <td>-479.778872</td>\n",
       "      <td>536.070317</td>\n",
       "      <td>106.102649</td>\n",
       "      <td>2056.502380</td>\n",
       "      <td>-75.212788</td>\n",
       "    </tr>\n",
       "    <tr>\n",
       "      <th>642</th>\n",
       "      <td>-300.889141</td>\n",
       "      <td>244.905007</td>\n",
       "      <td>-42.454956</td>\n",
       "      <td>91.581428</td>\n",
       "      <td>9.806180</td>\n",
       "      <td>-469.161353</td>\n",
       "      <td>-237.740081</td>\n",
       "      <td>31.988816</td>\n",
       "      <td>28.570565</td>\n",
       "      <td>-14.145234</td>\n",
       "      <td>...</td>\n",
       "      <td>-267.887382</td>\n",
       "      <td>369.171791</td>\n",
       "      <td>-105.222907</td>\n",
       "      <td>735.551039</td>\n",
       "      <td>157.660421</td>\n",
       "      <td>747.109711</td>\n",
       "      <td>-122.267046</td>\n",
       "      <td>82.772989</td>\n",
       "      <td>1007.516778</td>\n",
       "      <td>-19.150053</td>\n",
       "    </tr>\n",
       "    <tr>\n",
       "      <th>187</th>\n",
       "      <td>50.998406</td>\n",
       "      <td>-47.825228</td>\n",
       "      <td>29.188670</td>\n",
       "      <td>153.172628</td>\n",
       "      <td>96.542487</td>\n",
       "      <td>-133.900960</td>\n",
       "      <td>-620.795554</td>\n",
       "      <td>32.500454</td>\n",
       "      <td>0.041055</td>\n",
       "      <td>-473.449505</td>\n",
       "      <td>...</td>\n",
       "      <td>200.966978</td>\n",
       "      <td>766.026812</td>\n",
       "      <td>42.019084</td>\n",
       "      <td>-1047.245601</td>\n",
       "      <td>-7.379172</td>\n",
       "      <td>1187.979573</td>\n",
       "      <td>-153.299110</td>\n",
       "      <td>61.609262</td>\n",
       "      <td>-1009.169217</td>\n",
       "      <td>-15.240032</td>\n",
       "    </tr>\n",
       "    <tr>\n",
       "      <th>284</th>\n",
       "      <td>117.565340</td>\n",
       "      <td>-82.054638</td>\n",
       "      <td>-19.294026</td>\n",
       "      <td>324.091525</td>\n",
       "      <td>89.109529</td>\n",
       "      <td>-350.140205</td>\n",
       "      <td>32.683995</td>\n",
       "      <td>-162.365487</td>\n",
       "      <td>-149.254334</td>\n",
       "      <td>-421.571207</td>\n",
       "      <td>...</td>\n",
       "      <td>30.598346</td>\n",
       "      <td>1250.535011</td>\n",
       "      <td>-195.608442</td>\n",
       "      <td>621.860178</td>\n",
       "      <td>-135.595186</td>\n",
       "      <td>-516.311403</td>\n",
       "      <td>-98.805754</td>\n",
       "      <td>-14.912965</td>\n",
       "      <td>-114.497564</td>\n",
       "      <td>-114.351123</td>\n",
       "    </tr>\n",
       "  </tbody>\n",
       "</table>\n",
       "<p>5 rows × 7129 columns</p>\n",
       "</div>"
      ],
      "text/plain": [
       "     AFFX-BioB-5_at  AFFX-BioB-M_at  AFFX-BioB-3_at  AFFX-BioC-5_at  \\\n",
       "640     -177.705507     -322.508411     -253.423465      143.200071   \n",
       "506     -326.099314     -373.845943      352.225008      479.545710   \n",
       "642     -300.889141      244.905007      -42.454956       91.581428   \n",
       "187       50.998406      -47.825228       29.188670      153.172628   \n",
       "284      117.565340      -82.054638      -19.294026      324.091525   \n",
       "\n",
       "     AFFX-BioC-3_at  AFFX-BioDn-5_at  AFFX-BioDn-3_at  AFFX-CreX-5_at  \\\n",
       "640     -285.597722      -443.677657       624.588460      159.680490   \n",
       "506      -90.705516        -3.330975       943.220723     -389.520281   \n",
       "642        9.806180      -469.161353      -237.740081       31.988816   \n",
       "187       96.542487      -133.900960      -620.795554       32.500454   \n",
       "284       89.109529      -350.140205        32.683995     -162.365487   \n",
       "\n",
       "     AFFX-CreX-3_at  AFFX-BioB-5_st  ...   U48730_at    U58516_at   U73738_at  \\\n",
       "640      164.198494      492.740436  ...  105.507545   660.738347 -143.844774   \n",
       "506      337.285634     -240.264084  ...   19.518151  1127.098390  360.909305   \n",
       "642       28.570565      -14.145234  ... -267.887382   369.171791 -105.222907   \n",
       "187        0.041055     -473.449505  ...  200.966978   766.026812   42.019084   \n",
       "284     -149.254334     -421.571207  ...   30.598346  1250.535011 -195.608442   \n",
       "\n",
       "       X06956_at   X16699_at    X83863_at   Z17240_at  L49218_f_at  \\\n",
       "640   171.508414  -75.741237   289.462121  495.033927    -9.145325   \n",
       "506   -67.451036  -68.580844  -479.778872  536.070317   106.102649   \n",
       "642   735.551039  157.660421   747.109711 -122.267046    82.772989   \n",
       "187 -1047.245601   -7.379172  1187.979573 -153.299110    61.609262   \n",
       "284   621.860178 -135.595186  -516.311403  -98.805754   -14.912965   \n",
       "\n",
       "     M71243_f_at  Z78285_f_at  \n",
       "640  1410.014586    18.554470  \n",
       "506  2056.502380   -75.212788  \n",
       "642  1007.516778   -19.150053  \n",
       "187 -1009.169217   -15.240032  \n",
       "284  -114.497564  -114.351123  \n",
       "\n",
       "[5 rows x 7129 columns]"
      ]
     },
     "metadata": {},
     "output_type": "display_data"
    },
    {
     "data": {
      "text/html": [
       "<div>\n",
       "<style scoped>\n",
       "    .dataframe tbody tr th:only-of-type {\n",
       "        vertical-align: middle;\n",
       "    }\n",
       "\n",
       "    .dataframe tbody tr th {\n",
       "        vertical-align: top;\n",
       "    }\n",
       "\n",
       "    .dataframe thead th {\n",
       "        text-align: right;\n",
       "    }\n",
       "</style>\n",
       "<table border=\"1\" class=\"dataframe\">\n",
       "  <thead>\n",
       "    <tr style=\"text-align: right;\">\n",
       "      <th></th>\n",
       "      <th>AFFX-BioB-5_at</th>\n",
       "      <th>AFFX-BioB-M_at</th>\n",
       "      <th>AFFX-BioB-3_at</th>\n",
       "      <th>AFFX-BioC-5_at</th>\n",
       "      <th>AFFX-BioC-3_at</th>\n",
       "      <th>AFFX-BioDn-5_at</th>\n",
       "      <th>AFFX-BioDn-3_at</th>\n",
       "      <th>AFFX-CreX-5_at</th>\n",
       "      <th>AFFX-CreX-3_at</th>\n",
       "      <th>AFFX-BioB-5_st</th>\n",
       "      <th>...</th>\n",
       "      <th>U48730_at</th>\n",
       "      <th>U58516_at</th>\n",
       "      <th>U73738_at</th>\n",
       "      <th>X06956_at</th>\n",
       "      <th>X16699_at</th>\n",
       "      <th>X83863_at</th>\n",
       "      <th>Z17240_at</th>\n",
       "      <th>L49218_f_at</th>\n",
       "      <th>M71243_f_at</th>\n",
       "      <th>Z78285_f_at</th>\n",
       "    </tr>\n",
       "  </thead>\n",
       "  <tbody>\n",
       "    <tr>\n",
       "      <th>count</th>\n",
       "      <td>564.000000</td>\n",
       "      <td>564.000000</td>\n",
       "      <td>564.000000</td>\n",
       "      <td>564.000000</td>\n",
       "      <td>564.000000</td>\n",
       "      <td>564.000000</td>\n",
       "      <td>564.000000</td>\n",
       "      <td>564.000000</td>\n",
       "      <td>564.000000</td>\n",
       "      <td>564.000000</td>\n",
       "      <td>...</td>\n",
       "      <td>564.000000</td>\n",
       "      <td>564.000000</td>\n",
       "      <td>564.000000</td>\n",
       "      <td>564.000000</td>\n",
       "      <td>564.000000</td>\n",
       "      <td>564.000000</td>\n",
       "      <td>564.000000</td>\n",
       "      <td>564.000000</td>\n",
       "      <td>564.000000</td>\n",
       "      <td>564.000000</td>\n",
       "    </tr>\n",
       "    <tr>\n",
       "      <th>mean</th>\n",
       "      <td>-110.777613</td>\n",
       "      <td>-166.292370</td>\n",
       "      <td>28.407821</td>\n",
       "      <td>205.002606</td>\n",
       "      <td>-250.529170</td>\n",
       "      <td>-411.331712</td>\n",
       "      <td>-39.567937</td>\n",
       "      <td>-189.111178</td>\n",
       "      <td>75.661194</td>\n",
       "      <td>96.577473</td>\n",
       "      <td>...</td>\n",
       "      <td>163.194118</td>\n",
       "      <td>718.329403</td>\n",
       "      <td>-0.629712</td>\n",
       "      <td>413.445296</td>\n",
       "      <td>-47.938592</td>\n",
       "      <td>834.040906</td>\n",
       "      <td>335.231770</td>\n",
       "      <td>10.307460</td>\n",
       "      <td>533.005073</td>\n",
       "      <td>-26.345959</td>\n",
       "    </tr>\n",
       "    <tr>\n",
       "      <th>std</th>\n",
       "      <td>169.119872</td>\n",
       "      <td>190.809560</td>\n",
       "      <td>207.805181</td>\n",
       "      <td>207.230957</td>\n",
       "      <td>210.839931</td>\n",
       "      <td>260.949052</td>\n",
       "      <td>529.699745</td>\n",
       "      <td>164.032183</td>\n",
       "      <td>174.912495</td>\n",
       "      <td>351.501298</td>\n",
       "      <td>...</td>\n",
       "      <td>166.444713</td>\n",
       "      <td>536.608967</td>\n",
       "      <td>154.418082</td>\n",
       "      <td>553.625123</td>\n",
       "      <td>105.565645</td>\n",
       "      <td>818.088117</td>\n",
       "      <td>376.196247</td>\n",
       "      <td>83.798154</td>\n",
       "      <td>947.053281</td>\n",
       "      <td>70.277210</td>\n",
       "    </tr>\n",
       "    <tr>\n",
       "      <th>min</th>\n",
       "      <td>-894.789505</td>\n",
       "      <td>-1018.221920</td>\n",
       "      <td>-645.439001</td>\n",
       "      <td>-425.750627</td>\n",
       "      <td>-1154.285694</td>\n",
       "      <td>-1073.716188</td>\n",
       "      <td>-2066.516448</td>\n",
       "      <td>-728.996262</td>\n",
       "      <td>-770.025847</td>\n",
       "      <td>-1176.663615</td>\n",
       "      <td>...</td>\n",
       "      <td>-501.285884</td>\n",
       "      <td>-1010.430536</td>\n",
       "      <td>-447.077819</td>\n",
       "      <td>-1870.955269</td>\n",
       "      <td>-424.321478</td>\n",
       "      <td>-2151.593119</td>\n",
       "      <td>-651.051441</td>\n",
       "      <td>-255.419724</td>\n",
       "      <td>-2754.665185</td>\n",
       "      <td>-237.864216</td>\n",
       "    </tr>\n",
       "    <tr>\n",
       "      <th>25%</th>\n",
       "      <td>-210.264419</td>\n",
       "      <td>-288.874992</td>\n",
       "      <td>-85.133924</td>\n",
       "      <td>75.029012</td>\n",
       "      <td>-379.063107</td>\n",
       "      <td>-570.438160</td>\n",
       "      <td>-349.250000</td>\n",
       "      <td>-297.586028</td>\n",
       "      <td>-20.279803</td>\n",
       "      <td>-105.236256</td>\n",
       "      <td>...</td>\n",
       "      <td>69.543039</td>\n",
       "      <td>372.124771</td>\n",
       "      <td>-99.740537</td>\n",
       "      <td>101.459195</td>\n",
       "      <td>-104.009124</td>\n",
       "      <td>279.125420</td>\n",
       "      <td>89.831234</td>\n",
       "      <td>-37.174928</td>\n",
       "      <td>-17.436379</td>\n",
       "      <td>-73.984792</td>\n",
       "    </tr>\n",
       "    <tr>\n",
       "      <th>50%</th>\n",
       "      <td>-96.462357</td>\n",
       "      <td>-149.723498</td>\n",
       "      <td>22.045677</td>\n",
       "      <td>200.532523</td>\n",
       "      <td>-232.256422</td>\n",
       "      <td>-440.325013</td>\n",
       "      <td>-52.140256</td>\n",
       "      <td>-176.000000</td>\n",
       "      <td>88.540977</td>\n",
       "      <td>102.758945</td>\n",
       "      <td>...</td>\n",
       "      <td>156.213901</td>\n",
       "      <td>686.133036</td>\n",
       "      <td>3.382353</td>\n",
       "      <td>380.871848</td>\n",
       "      <td>-34.303343</td>\n",
       "      <td>761.306728</td>\n",
       "      <td>302.718526</td>\n",
       "      <td>8.160191</td>\n",
       "      <td>458.946715</td>\n",
       "      <td>-26.228499</td>\n",
       "    </tr>\n",
       "    <tr>\n",
       "      <th>75%</th>\n",
       "      <td>-4.728281</td>\n",
       "      <td>-43.782496</td>\n",
       "      <td>129.782559</td>\n",
       "      <td>333.414529</td>\n",
       "      <td>-110.121670</td>\n",
       "      <td>-261.518287</td>\n",
       "      <td>307.117571</td>\n",
       "      <td>-76.559346</td>\n",
       "      <td>192.502208</td>\n",
       "      <td>288.565234</td>\n",
       "      <td>...</td>\n",
       "      <td>265.721675</td>\n",
       "      <td>1098.575062</td>\n",
       "      <td>95.688864</td>\n",
       "      <td>703.816753</td>\n",
       "      <td>22.448535</td>\n",
       "      <td>1322.729628</td>\n",
       "      <td>537.484449</td>\n",
       "      <td>62.771559</td>\n",
       "      <td>1168.675819</td>\n",
       "      <td>15.325231</td>\n",
       "    </tr>\n",
       "    <tr>\n",
       "      <th>max</th>\n",
       "      <td>516.618491</td>\n",
       "      <td>384.626762</td>\n",
       "      <td>748.233182</td>\n",
       "      <td>1022.560525</td>\n",
       "      <td>431.217287</td>\n",
       "      <td>607.737258</td>\n",
       "      <td>1385.881293</td>\n",
       "      <td>263.634029</td>\n",
       "      <td>589.778466</td>\n",
       "      <td>1333.519181</td>\n",
       "      <td>...</td>\n",
       "      <td>686.321597</td>\n",
       "      <td>2522.188808</td>\n",
       "      <td>481.820516</td>\n",
       "      <td>2769.630647</td>\n",
       "      <td>215.047697</td>\n",
       "      <td>3743.264860</td>\n",
       "      <td>1996.244626</td>\n",
       "      <td>274.575647</td>\n",
       "      <td>3495.139425</td>\n",
       "      <td>224.773440</td>\n",
       "    </tr>\n",
       "  </tbody>\n",
       "</table>\n",
       "<p>8 rows × 7129 columns</p>\n",
       "</div>"
      ],
      "text/plain": [
       "       AFFX-BioB-5_at  AFFX-BioB-M_at  AFFX-BioB-3_at  AFFX-BioC-5_at  \\\n",
       "count      564.000000      564.000000      564.000000      564.000000   \n",
       "mean      -110.777613     -166.292370       28.407821      205.002606   \n",
       "std        169.119872      190.809560      207.805181      207.230957   \n",
       "min       -894.789505    -1018.221920     -645.439001     -425.750627   \n",
       "25%       -210.264419     -288.874992      -85.133924       75.029012   \n",
       "50%        -96.462357     -149.723498       22.045677      200.532523   \n",
       "75%         -4.728281      -43.782496      129.782559      333.414529   \n",
       "max        516.618491      384.626762      748.233182     1022.560525   \n",
       "\n",
       "       AFFX-BioC-3_at  AFFX-BioDn-5_at  AFFX-BioDn-3_at  AFFX-CreX-5_at  \\\n",
       "count      564.000000       564.000000       564.000000      564.000000   \n",
       "mean      -250.529170      -411.331712       -39.567937     -189.111178   \n",
       "std        210.839931       260.949052       529.699745      164.032183   \n",
       "min      -1154.285694     -1073.716188     -2066.516448     -728.996262   \n",
       "25%       -379.063107      -570.438160      -349.250000     -297.586028   \n",
       "50%       -232.256422      -440.325013       -52.140256     -176.000000   \n",
       "75%       -110.121670      -261.518287       307.117571      -76.559346   \n",
       "max        431.217287       607.737258      1385.881293      263.634029   \n",
       "\n",
       "       AFFX-CreX-3_at  AFFX-BioB-5_st  ...   U48730_at    U58516_at  \\\n",
       "count      564.000000      564.000000  ...  564.000000   564.000000   \n",
       "mean        75.661194       96.577473  ...  163.194118   718.329403   \n",
       "std        174.912495      351.501298  ...  166.444713   536.608967   \n",
       "min       -770.025847    -1176.663615  ... -501.285884 -1010.430536   \n",
       "25%        -20.279803     -105.236256  ...   69.543039   372.124771   \n",
       "50%         88.540977      102.758945  ...  156.213901   686.133036   \n",
       "75%        192.502208      288.565234  ...  265.721675  1098.575062   \n",
       "max        589.778466     1333.519181  ...  686.321597  2522.188808   \n",
       "\n",
       "        U73738_at    X06956_at   X16699_at    X83863_at    Z17240_at  \\\n",
       "count  564.000000   564.000000  564.000000   564.000000   564.000000   \n",
       "mean    -0.629712   413.445296  -47.938592   834.040906   335.231770   \n",
       "std    154.418082   553.625123  105.565645   818.088117   376.196247   \n",
       "min   -447.077819 -1870.955269 -424.321478 -2151.593119  -651.051441   \n",
       "25%    -99.740537   101.459195 -104.009124   279.125420    89.831234   \n",
       "50%      3.382353   380.871848  -34.303343   761.306728   302.718526   \n",
       "75%     95.688864   703.816753   22.448535  1322.729628   537.484449   \n",
       "max    481.820516  2769.630647  215.047697  3743.264860  1996.244626   \n",
       "\n",
       "       L49218_f_at  M71243_f_at  Z78285_f_at  \n",
       "count   564.000000   564.000000   564.000000  \n",
       "mean     10.307460   533.005073   -26.345959  \n",
       "std      83.798154   947.053281    70.277210  \n",
       "min    -255.419724 -2754.665185  -237.864216  \n",
       "25%     -37.174928   -17.436379   -73.984792  \n",
       "50%       8.160191   458.946715   -26.228499  \n",
       "75%      62.771559  1168.675819    15.325231  \n",
       "max     274.575647  3495.139425   224.773440  \n",
       "\n",
       "[8 rows x 7129 columns]"
      ]
     },
     "metadata": {},
     "output_type": "display_data"
    }
   ],
   "source": [
    "# your code here\n",
    "display(X_train.head())\n",
    "display(X_train.describe())"
   ]
  },
  {
   "cell_type": "code",
   "execution_count": 7,
   "metadata": {},
   "outputs": [
    {
     "data": {
      "text/html": [
       "<div>\n",
       "<style scoped>\n",
       "    .dataframe tbody tr th:only-of-type {\n",
       "        vertical-align: middle;\n",
       "    }\n",
       "\n",
       "    .dataframe tbody tr th {\n",
       "        vertical-align: top;\n",
       "    }\n",
       "\n",
       "    .dataframe thead th {\n",
       "        text-align: right;\n",
       "    }\n",
       "</style>\n",
       "<table border=\"1\" class=\"dataframe\">\n",
       "  <thead>\n",
       "    <tr style=\"text-align: right;\">\n",
       "      <th></th>\n",
       "      <th>AFFX-BioB-5_at</th>\n",
       "      <th>AFFX-BioB-M_at</th>\n",
       "      <th>AFFX-BioB-3_at</th>\n",
       "      <th>AFFX-BioC-5_at</th>\n",
       "      <th>AFFX-BioC-3_at</th>\n",
       "      <th>AFFX-BioDn-5_at</th>\n",
       "      <th>AFFX-BioDn-3_at</th>\n",
       "      <th>AFFX-CreX-5_at</th>\n",
       "      <th>AFFX-CreX-3_at</th>\n",
       "      <th>AFFX-BioB-5_st</th>\n",
       "      <th>...</th>\n",
       "      <th>U48730_at</th>\n",
       "      <th>U58516_at</th>\n",
       "      <th>U73738_at</th>\n",
       "      <th>X06956_at</th>\n",
       "      <th>X16699_at</th>\n",
       "      <th>X83863_at</th>\n",
       "      <th>Z17240_at</th>\n",
       "      <th>L49218_f_at</th>\n",
       "      <th>M71243_f_at</th>\n",
       "      <th>Z78285_f_at</th>\n",
       "    </tr>\n",
       "  </thead>\n",
       "  <tbody>\n",
       "    <tr>\n",
       "      <th>count</th>\n",
       "      <td>564.000000</td>\n",
       "      <td>564.000000</td>\n",
       "      <td>564.000000</td>\n",
       "      <td>564.000000</td>\n",
       "      <td>564.000000</td>\n",
       "      <td>564.000000</td>\n",
       "      <td>564.000000</td>\n",
       "      <td>564.000000</td>\n",
       "      <td>564.000000</td>\n",
       "      <td>564.000000</td>\n",
       "      <td>...</td>\n",
       "      <td>564.000000</td>\n",
       "      <td>564.000000</td>\n",
       "      <td>564.000000</td>\n",
       "      <td>564.000000</td>\n",
       "      <td>564.000000</td>\n",
       "      <td>564.000000</td>\n",
       "      <td>564.000000</td>\n",
       "      <td>564.000000</td>\n",
       "      <td>564.000000</td>\n",
       "      <td>564.000000</td>\n",
       "    </tr>\n",
       "    <tr>\n",
       "      <th>mean</th>\n",
       "      <td>0.555482</td>\n",
       "      <td>0.607285</td>\n",
       "      <td>0.483505</td>\n",
       "      <td>0.435509</td>\n",
       "      <td>0.570013</td>\n",
       "      <td>0.393936</td>\n",
       "      <td>0.587113</td>\n",
       "      <td>0.543893</td>\n",
       "      <td>0.621918</td>\n",
       "      <td>0.507230</td>\n",
       "      <td>...</td>\n",
       "      <td>0.559511</td>\n",
       "      <td>0.489371</td>\n",
       "      <td>0.480621</td>\n",
       "      <td>0.492266</td>\n",
       "      <td>0.588678</td>\n",
       "      <td>0.506481</td>\n",
       "      <td>0.372562</td>\n",
       "      <td>0.501376</td>\n",
       "      <td>0.526044</td>\n",
       "      <td>0.457201</td>\n",
       "    </tr>\n",
       "    <tr>\n",
       "      <th>std</th>\n",
       "      <td>0.119824</td>\n",
       "      <td>0.136016</td>\n",
       "      <td>0.149106</td>\n",
       "      <td>0.143085</td>\n",
       "      <td>0.132980</td>\n",
       "      <td>0.155193</td>\n",
       "      <td>0.153430</td>\n",
       "      <td>0.165250</td>\n",
       "      <td>0.128631</td>\n",
       "      <td>0.140030</td>\n",
       "      <td>...</td>\n",
       "      <td>0.140151</td>\n",
       "      <td>0.151901</td>\n",
       "      <td>0.166238</td>\n",
       "      <td>0.119301</td>\n",
       "      <td>0.165109</td>\n",
       "      <td>0.138780</td>\n",
       "      <td>0.142106</td>\n",
       "      <td>0.158111</td>\n",
       "      <td>0.151533</td>\n",
       "      <td>0.151906</td>\n",
       "    </tr>\n",
       "    <tr>\n",
       "      <th>min</th>\n",
       "      <td>0.000000</td>\n",
       "      <td>0.000000</td>\n",
       "      <td>0.000000</td>\n",
       "      <td>0.000000</td>\n",
       "      <td>0.000000</td>\n",
       "      <td>0.000000</td>\n",
       "      <td>0.000000</td>\n",
       "      <td>0.000000</td>\n",
       "      <td>0.000000</td>\n",
       "      <td>0.000000</td>\n",
       "      <td>...</td>\n",
       "      <td>0.000000</td>\n",
       "      <td>0.000000</td>\n",
       "      <td>0.000000</td>\n",
       "      <td>0.000000</td>\n",
       "      <td>0.000000</td>\n",
       "      <td>0.000000</td>\n",
       "      <td>0.000000</td>\n",
       "      <td>0.000000</td>\n",
       "      <td>0.000000</td>\n",
       "      <td>0.000000</td>\n",
       "    </tr>\n",
       "    <tr>\n",
       "      <th>25%</th>\n",
       "      <td>0.484994</td>\n",
       "      <td>0.519904</td>\n",
       "      <td>0.402035</td>\n",
       "      <td>0.345768</td>\n",
       "      <td>0.488944</td>\n",
       "      <td>0.299311</td>\n",
       "      <td>0.497413</td>\n",
       "      <td>0.434613</td>\n",
       "      <td>0.551363</td>\n",
       "      <td>0.426832</td>\n",
       "      <td>...</td>\n",
       "      <td>0.480655</td>\n",
       "      <td>0.391368</td>\n",
       "      <td>0.373924</td>\n",
       "      <td>0.425036</td>\n",
       "      <td>0.500982</td>\n",
       "      <td>0.412346</td>\n",
       "      <td>0.279864</td>\n",
       "      <td>0.411786</td>\n",
       "      <td>0.437970</td>\n",
       "      <td>0.354228</td>\n",
       "    </tr>\n",
       "    <tr>\n",
       "      <th>50%</th>\n",
       "      <td>0.565625</td>\n",
       "      <td>0.619096</td>\n",
       "      <td>0.478940</td>\n",
       "      <td>0.432423</td>\n",
       "      <td>0.581537</td>\n",
       "      <td>0.376693</td>\n",
       "      <td>0.583472</td>\n",
       "      <td>0.557102</td>\n",
       "      <td>0.631390</td>\n",
       "      <td>0.509693</td>\n",
       "      <td>...</td>\n",
       "      <td>0.553634</td>\n",
       "      <td>0.480257</td>\n",
       "      <td>0.484940</td>\n",
       "      <td>0.485246</td>\n",
       "      <td>0.610005</td>\n",
       "      <td>0.494142</td>\n",
       "      <td>0.360281</td>\n",
       "      <td>0.497325</td>\n",
       "      <td>0.514194</td>\n",
       "      <td>0.457455</td>\n",
       "    </tr>\n",
       "    <tr>\n",
       "      <th>75%</th>\n",
       "      <td>0.630619</td>\n",
       "      <td>0.694615</td>\n",
       "      <td>0.556244</td>\n",
       "      <td>0.524173</td>\n",
       "      <td>0.658570</td>\n",
       "      <td>0.483033</td>\n",
       "      <td>0.687532</td>\n",
       "      <td>0.657281</td>\n",
       "      <td>0.707843</td>\n",
       "      <td>0.583714</td>\n",
       "      <td>...</td>\n",
       "      <td>0.645843</td>\n",
       "      <td>0.597009</td>\n",
       "      <td>0.584312</td>\n",
       "      <td>0.554838</td>\n",
       "      <td>0.698767</td>\n",
       "      <td>0.589382</td>\n",
       "      <td>0.448962</td>\n",
       "      <td>0.600366</td>\n",
       "      <td>0.627754</td>\n",
       "      <td>0.547274</td>\n",
       "    </tr>\n",
       "    <tr>\n",
       "      <th>max</th>\n",
       "      <td>1.000000</td>\n",
       "      <td>1.000000</td>\n",
       "      <td>1.000000</td>\n",
       "      <td>1.000000</td>\n",
       "      <td>1.000000</td>\n",
       "      <td>1.000000</td>\n",
       "      <td>1.000000</td>\n",
       "      <td>1.000000</td>\n",
       "      <td>1.000000</td>\n",
       "      <td>1.000000</td>\n",
       "      <td>...</td>\n",
       "      <td>1.000000</td>\n",
       "      <td>1.000000</td>\n",
       "      <td>1.000000</td>\n",
       "      <td>1.000000</td>\n",
       "      <td>1.000000</td>\n",
       "      <td>1.000000</td>\n",
       "      <td>1.000000</td>\n",
       "      <td>1.000000</td>\n",
       "      <td>1.000000</td>\n",
       "      <td>1.000000</td>\n",
       "    </tr>\n",
       "  </tbody>\n",
       "</table>\n",
       "<p>8 rows × 7129 columns</p>\n",
       "</div>"
      ],
      "text/plain": [
       "       AFFX-BioB-5_at  AFFX-BioB-M_at  AFFX-BioB-3_at  AFFX-BioC-5_at  \\\n",
       "count      564.000000      564.000000      564.000000      564.000000   \n",
       "mean         0.555482        0.607285        0.483505        0.435509   \n",
       "std          0.119824        0.136016        0.149106        0.143085   \n",
       "min          0.000000        0.000000        0.000000        0.000000   \n",
       "25%          0.484994        0.519904        0.402035        0.345768   \n",
       "50%          0.565625        0.619096        0.478940        0.432423   \n",
       "75%          0.630619        0.694615        0.556244        0.524173   \n",
       "max          1.000000        1.000000        1.000000        1.000000   \n",
       "\n",
       "       AFFX-BioC-3_at  AFFX-BioDn-5_at  AFFX-BioDn-3_at  AFFX-CreX-5_at  \\\n",
       "count      564.000000       564.000000       564.000000      564.000000   \n",
       "mean         0.570013         0.393936         0.587113        0.543893   \n",
       "std          0.132980         0.155193         0.153430        0.165250   \n",
       "min          0.000000         0.000000         0.000000        0.000000   \n",
       "25%          0.488944         0.299311         0.497413        0.434613   \n",
       "50%          0.581537         0.376693         0.583472        0.557102   \n",
       "75%          0.658570         0.483033         0.687532        0.657281   \n",
       "max          1.000000         1.000000         1.000000        1.000000   \n",
       "\n",
       "       AFFX-CreX-3_at  AFFX-BioB-5_st  ...   U48730_at   U58516_at  \\\n",
       "count      564.000000      564.000000  ...  564.000000  564.000000   \n",
       "mean         0.621918        0.507230  ...    0.559511    0.489371   \n",
       "std          0.128631        0.140030  ...    0.140151    0.151901   \n",
       "min          0.000000        0.000000  ...    0.000000    0.000000   \n",
       "25%          0.551363        0.426832  ...    0.480655    0.391368   \n",
       "50%          0.631390        0.509693  ...    0.553634    0.480257   \n",
       "75%          0.707843        0.583714  ...    0.645843    0.597009   \n",
       "max          1.000000        1.000000  ...    1.000000    1.000000   \n",
       "\n",
       "        U73738_at   X06956_at   X16699_at   X83863_at   Z17240_at  \\\n",
       "count  564.000000  564.000000  564.000000  564.000000  564.000000   \n",
       "mean     0.480621    0.492266    0.588678    0.506481    0.372562   \n",
       "std      0.166238    0.119301    0.165109    0.138780    0.142106   \n",
       "min      0.000000    0.000000    0.000000    0.000000    0.000000   \n",
       "25%      0.373924    0.425036    0.500982    0.412346    0.279864   \n",
       "50%      0.484940    0.485246    0.610005    0.494142    0.360281   \n",
       "75%      0.584312    0.554838    0.698767    0.589382    0.448962   \n",
       "max      1.000000    1.000000    1.000000    1.000000    1.000000   \n",
       "\n",
       "       L49218_f_at  M71243_f_at  Z78285_f_at  \n",
       "count   564.000000   564.000000   564.000000  \n",
       "mean      0.501376     0.526044     0.457201  \n",
       "std       0.158111     0.151533     0.151906  \n",
       "min       0.000000     0.000000     0.000000  \n",
       "25%       0.411786     0.437970     0.354228  \n",
       "50%       0.497325     0.514194     0.457455  \n",
       "75%       0.600366     0.627754     0.547274  \n",
       "max       1.000000     1.000000     1.000000  \n",
       "\n",
       "[8 rows x 7129 columns]"
      ]
     },
     "metadata": {},
     "output_type": "display_data"
    }
   ],
   "source": [
    "normal_scaler = MinMaxScaler().fit(X_train)\n",
    "X_train_normal = pd.DataFrame(normal_scaler.transform(X_train), columns = X_train.columns)\n",
    "X_test_normal = pd.DataFrame(normal_scaler.transform(X_test), columns = X_test.columns)\n",
    "display(X_train_normal.describe())"
   ]
  },
  {
   "cell_type": "code",
   "execution_count": 8,
   "metadata": {},
   "outputs": [],
   "source": [
    "y_train_normal = y_train.reset_index()\n",
    "y_train_normal.drop('index', axis=1, inplace=True)\n",
    "y_test_normal = y_test.reset_index()\n",
    "y_test_normal.drop('index', axis=1, inplace=True)"
   ]
  },
  {
   "cell_type": "markdown",
   "metadata": {
    "autograde": "1.2",
    "cell_id": "0a790850-87c6-4f46-b89e-048a2295c92b",
    "colab_type": "text",
    "id": "IGFtXJmQap2q"
   },
   "source": [
    "<div class='exercise-r'>  \n",
    " \n",
    "**1.2** The training set contains more predictors than observations. What problem(s) can this lead to in fitting a classification model to such a dataset? Explain in 3 or fewer sentences.\n",
    " \n",
    " \n",
    " </div>"
   ]
  },
  {
   "cell_type": "markdown",
   "metadata": {},
   "source": [
    "Several problems can occur in this is a High Dimensionality problem in the Big Data setting:\n",
    "- Over-specified model *(p > n)*, the parameters cannot be uniquely identified, as the model is overdetermined.\n",
    "- Multicolinearity between predictors is likely to occur.\n",
    "- Model is more succeptible to overfitting on the training data."
   ]
  },
  {
   "cell_type": "markdown",
   "metadata": {
    "autograde": "1.3",
    "cell_id": "0a790850-87c6-4f46-b89e-048a2295c92b",
    "colab_type": "text",
    "id": "IGFtXJmQap2q"
   },
   "source": [
    "<div class='exercise-r'>  \n",
    " \n",
    "**1.3** Determine which 10 genes best individually discriminates between the two cancer classes (Note: consider every gene in the dataset).  Then determine the single best gene predictor.  Plot two sets of histograms of your `best_predictor` -- one using the training set and another using the test set.  The histograms should clearly distinguish two different `Cancer_type` classes.\n",
    " \n",
    " **Hint:** You may use any reasonable approach to determine the `best_predictor`, but please use something very simple (whether taught in this class or elsewhere).\n",
    " \n",
    " </div>"
   ]
  },
  {
   "cell_type": "markdown",
   "metadata": {},
   "source": [
    "In order to find the best *10* genes that individually discriminate between the two cancer classes, we are going to perform **one-way anova tests**. \n",
    "\n",
    "For every gene, we are going to compare the population of this gene for cancer type 1 vs the population of this gene for cancer type 0 and try to characterize the difference in distribution in these two populations. Then, according to the significance of the difference of these two distributions, we will assess the quality of this gene."
   ]
  },
  {
   "cell_type": "code",
   "execution_count": 9,
   "metadata": {},
   "outputs": [
    {
     "data": {
      "text/plain": [
       "X95735_at         9.209289e-31\n",
       "M31523_at         1.145460e-27\n",
       "X61587_at         1.413175e-27\n",
       "M84526_at         1.683361e-26\n",
       "X17042_at         8.918938e-24\n",
       "Y08612_at         4.133803e-23\n",
       "J04029_s_at       1.016734e-21\n",
       "X84908_at         1.576918e-21\n",
       "X76648_at         1.821437e-20\n",
       "U50136_rna1_at    5.986027e-20\n",
       "dtype: float64"
      ]
     },
     "execution_count": 9,
     "metadata": {},
     "output_type": "execute_result"
    }
   ],
   "source": [
    "# your code here\n",
    "from scipy.stats import f_oneway\n",
    "pvalues = []\n",
    "for gene in X_train_normal.columns:\n",
    "    pvalue = f_oneway(X_train_normal[gene][y_train_normal['Cancer_type']==0], X_train_normal[gene][y_train_normal['Cancer_type']==1])[1]\n",
    "    pvalues.append(pvalue)\n",
    "best_genes = pd.Series(pvalues, index=X_train_normal.columns).sort_values(ascending=True)\n",
    "best_genes.head(10)"
   ]
  },
  {
   "cell_type": "markdown",
   "metadata": {},
   "source": [
    "Now, the best gene predictor according to the method we leveraged is **X95735_at**. Let us visualize the distribution of this gene according to the cancer classes and accross training and testing sets."
   ]
  },
  {
   "cell_type": "code",
   "execution_count": 10,
   "metadata": {},
   "outputs": [
    {
     "data": {
      "image/png": "[encoded data removed]",
      "text/plain": [
       "<Figure size 2160x1080 with 2 Axes>"
      ]
     },
     "metadata": {
      "needs_background": "light"
     },
     "output_type": "display_data"
    }
   ],
   "source": [
    "best_predictor = 'X95735_at'\n",
    "fig, axes = plt.subplots(1, 2, figsize = (30, 15), sharey=True)\n",
    "plt.rcParams['font.size'] = 18\n",
    "fig.suptitle('Visualization of the distribution of the gene X95735_at')\n",
    "axes[0].hist(X_train_normal[best_predictor][y_train_normal['Cancer_type']==0], label='Gene for the class ALL', color='lightblue')\n",
    "axes[0].hist(X_train_normal[best_predictor][y_train_normal['Cancer_type']==1], label='Gene for the class AML', color='lightpink')\n",
    "axes[0].set_xlabel('Value of the X95735_at gene')\n",
    "axes[0].set_ylabel('#Count')\n",
    "axes[0].set_title('Distribution in the Training base')\n",
    "axes[0].legend()\n",
    "axes[1].hist(X_test_normal[best_predictor][y_test_normal['Cancer_type']==0], label='Gene for the class ALL', color='lightblue')\n",
    "axes[1].hist(X_test_normal[best_predictor][y_test_normal['Cancer_type']==1], label='Gene for the class AML', color='lightpink')\n",
    "axes[1].set_xlabel('Value of the X95735_at gene')\n",
    "axes[1].set_ylabel('#Count')\n",
    "axes[1].set_title('Distribution in the Testing base')\n",
    "axes[1].legend()\n",
    "plt.show(fig)"
   ]
  },
  {
   "cell_type": "markdown",
   "metadata": {
    "autograde": "1.4",
    "cell_id": "0a790850-87c6-4f46-b89e-048a2295c92b",
    "colab_type": "text",
    "id": "IGFtXJmQap2q"
   },
   "source": [
    "<div class='exercise-r'>  \n",
    "    \n",
    "**1.4** Using `best_predictor`, create a classification model by eye-balling a value for this gene that would best discriminate the two cancer classes in the training set. (Note: Do not use an algorithm to determine for you the optimal coefficient or threshold; we are asking you to provide a rough estimate / model by manual inspection.) Justify your choice of value in 1-2 sentences. Report the accuracy of your hand-chosen model on the train and test sets."
   ]
  },
  {
   "cell_type": "code",
   "execution_count": 11,
   "metadata": {},
   "outputs": [
    {
     "data": {
      "text/html": [
       "<div>\n",
       "<style scoped>\n",
       "    .dataframe tbody tr th:only-of-type {\n",
       "        vertical-align: middle;\n",
       "    }\n",
       "\n",
       "    .dataframe tbody tr th {\n",
       "        vertical-align: top;\n",
       "    }\n",
       "\n",
       "    .dataframe thead th {\n",
       "        text-align: right;\n",
       "    }\n",
       "</style>\n",
       "<table border=\"1\" class=\"dataframe\">\n",
       "  <thead>\n",
       "    <tr style=\"text-align: right;\">\n",
       "      <th></th>\n",
       "      <th>Train Accuracy</th>\n",
       "      <th>Test Accuracy</th>\n",
       "    </tr>\n",
       "  </thead>\n",
       "  <tbody>\n",
       "    <tr>\n",
       "      <th>baseline</th>\n",
       "      <td>0.714539</td>\n",
       "      <td>0.696809</td>\n",
       "    </tr>\n",
       "  </tbody>\n",
       "</table>\n",
       "</div>"
      ],
      "text/plain": [
       "          Train Accuracy  Test Accuracy\n",
       "baseline        0.714539       0.696809"
      ]
     },
     "execution_count": 11,
     "metadata": {},
     "output_type": "execute_result"
    }
   ],
   "source": [
    "# your code here\n",
    "eye_ball_train_preds = 1*(X_train_normal[best_predictor] > 0.5)\n",
    "eye_ball_test_preds = 1*(X_test_normal[best_predictor] > 0.5)\n",
    "training_accuracy_eye_ball = accuracy_score(eye_ball_train_preds, y_train_normal)\n",
    "testing_accuracy_eye_ball = accuracy_score(eye_ball_test_preds, y_test_normal)\n",
    "scores = [[training_accuracy_eye_ball, testing_accuracy_eye_ball]]\n",
    "names = ['baseline']\n",
    "df_results = pd.DataFrame(scores, index=names, columns=['Train Accuracy', 'Test Accuracy'])\n",
    "df_results\n"
   ]
  },
  {
   "cell_type": "markdown",
   "metadata": {},
   "source": [
    "The baseline classification model will leverage the feature *X95735_at* and leverage some kinds of classification we have seen with the Bayes classifier: \n",
    "$$\n",
    "\\textit{X95735_at} > 0.5 \\rightarrow y = AML\n",
    "$$\n",
    "$$\n",
    "\\textit{X95735_at} < 0.5 \\rightarrow y = ALL\n",
    "$$\n",
    "In other words, we project our dataset normalized onto the line generated by this feature and the classification boundary is located at 0.5. We chose this boundary by eye-balling the boundary position in order to misclassify the least examples in the training set."
   ]
  },
  {
   "cell_type": "markdown",
   "metadata": {},
   "source": [
    "#### <div class='exercise'><b>Question 2 [25 pts]: Logistic Regression Modeling</b></div>"
   ]
  },
  {
   "cell_type": "markdown",
   "metadata": {},
   "source": [
    "[▲ Return to contents](#Contents)"
   ]
  },
  {
   "cell_type": "markdown",
   "metadata": {},
   "source": [
    "**2.1** Fit a simple logistic regression model to the training set using the single gene predictor `best_predictor` to predict cancer type. Calculate and display the training and test classification accuracies of this model. \n",
    "How do accuracies compare to the eye-balled ones from 1.4? \n",
    "\n",
    "**2.2** Next, fit a multiple logistic regression model with **all** the gene predictors from the data set (reminder: for this assignment, we are always using the normalized values).  \n",
    "How does the classification accuracy of this model compare with the logistic and eyeballed models above which were fit with a single gene? Be sure to evaluate both the training and test sets.\n",
    "\n",
    "**2.3** Print out the logistic regression coefficients for  `best_predictor` from the simple logistic and multiple logistic regression models in part 1 and part 2 above.  Interpret the coefficients: Do they agree or disagree?  What does this indicate?\n",
    "\n",
    "**2.4** Now let's use regularization to improve the predictions from the multiple logistic regression model. Specifically, use LASSO-like regularization and 5-fold cross-validation to fit the model on the training set. \n",
    "Report the chosen best value of the regularization hyperparamter and the classification accuracy on both the training and test sets.\n",
    "\n",
    "**2.5** Compare the classification accuracies (both train and test) between the un-regularized multiple logistic regression model to the regularized one. Briefly explain why these results occur.\n",
    "\n",
    "**2.6** How many predictors are considered as important features in this regularized model?  What does that say about the full logistic regression model in problem 2.2?"
   ]
  },
  {
   "cell_type": "markdown",
   "metadata": {},
   "source": [
    "\n",
    "## Answers"
   ]
  },
  {
   "cell_type": "markdown",
   "metadata": {
    "autograde": "2.1",
    "cell_id": "0a790850-87c6-4f46-b89e-048a2295c92b",
    "colab_type": "text",
    "id": "IGFtXJmQap2q"
   },
   "source": [
    "<div class='exercise-r'>  \n",
    " \n",
    "**2.1** Fit a simple logistic regression model to the training set using the single gene predictor `best_predictor` to predict cancer type. Calculate and display the training and test classification accuracies of this model.\n",
    " How do accuracies compare to the eye-balled ones from 1.4?\n",
    " \n",
    " </div>"
   ]
  },
  {
   "cell_type": "code",
   "execution_count": 12,
   "metadata": {},
   "outputs": [],
   "source": [
    "y_train_normal = pd.Series(np.hstack(y_train_normal.values))\n",
    "y_test_normal = pd.Series(np.hstack(y_test_normal.values))"
   ]
  },
  {
   "cell_type": "code",
   "execution_count": 13,
   "metadata": {},
   "outputs": [
    {
     "data": {
      "text/html": [
       "<div>\n",
       "<style scoped>\n",
       "    .dataframe tbody tr th:only-of-type {\n",
       "        vertical-align: middle;\n",
       "    }\n",
       "\n",
       "    .dataframe tbody tr th {\n",
       "        vertical-align: top;\n",
       "    }\n",
       "\n",
       "    .dataframe thead th {\n",
       "        text-align: right;\n",
       "    }\n",
       "</style>\n",
       "<table border=\"1\" class=\"dataframe\">\n",
       "  <thead>\n",
       "    <tr style=\"text-align: right;\">\n",
       "      <th></th>\n",
       "      <th>Train Accuracy</th>\n",
       "      <th>Test Accuracy</th>\n",
       "    </tr>\n",
       "  </thead>\n",
       "  <tbody>\n",
       "    <tr>\n",
       "      <th>baseline</th>\n",
       "      <td>0.714539</td>\n",
       "      <td>0.696809</td>\n",
       "    </tr>\n",
       "    <tr>\n",
       "      <th>Single Logistic Regression</th>\n",
       "      <td>0.718085</td>\n",
       "      <td>0.707447</td>\n",
       "    </tr>\n",
       "  </tbody>\n",
       "</table>\n",
       "</div>"
      ],
      "text/plain": [
       "                            Train Accuracy  Test Accuracy\n",
       "baseline                          0.714539       0.696809\n",
       "Single Logistic Regression        0.718085       0.707447"
      ]
     },
     "execution_count": 13,
     "metadata": {},
     "output_type": "execute_result"
    }
   ],
   "source": [
    "# your code here\n",
    "logit_single = LogisticRegression(C=100000, solver='lbfgs', max_iter=10000).fit(X_train_normal[best_predictor].values.reshape(-1, 1), y_train_normal)\n",
    "training_accuracy_logit_single = logit_single.score(X_train_normal[best_predictor].values.reshape(-1, 1), y_train_normal)\n",
    "testing_accuracy_logit_single = logit_single.score(X_test_normal[best_predictor].values.reshape(-1, 1), y_test_normal)\n",
    "names.append('Single Logistic Regression')\n",
    "scores.append([training_accuracy_logit_single, testing_accuracy_logit_single])\n",
    "df_results = pd.DataFrame(scores, index=names, columns=['Train Accuracy', 'Test Accuracy'])\n",
    "df_results"
   ]
  },
  {
   "cell_type": "markdown",
   "metadata": {},
   "source": [
    "The results are better using the Logistic Regression layer before the classification. "
   ]
  },
  {
   "cell_type": "markdown",
   "metadata": {
    "autograde": "2.2",
    "cell_id": "0a790850-87c6-4f46-b89e-048a2295c92b",
    "colab_type": "text",
    "id": "IGFtXJmQap2q"
   },
   "source": [
    "<div class='exercise-r'>  \n",
    " \n",
    "**2.2** Next, fit a multiple logistic regression model with **all** the gene predictors from the data set (reminder: for this assignment, we are always using the normalized values).\n",
    " How does the classification accuracy of this model compare with the logistic and eyeballed models above which were fit with a single gene? Be sure to evaluate both the training and test sets.\n",
    " \n",
    " </div>"
   ]
  },
  {
   "cell_type": "code",
   "execution_count": 14,
   "metadata": {},
   "outputs": [
    {
     "data": {
      "text/html": [
       "<div>\n",
       "<style scoped>\n",
       "    .dataframe tbody tr th:only-of-type {\n",
       "        vertical-align: middle;\n",
       "    }\n",
       "\n",
       "    .dataframe tbody tr th {\n",
       "        vertical-align: top;\n",
       "    }\n",
       "\n",
       "    .dataframe thead th {\n",
       "        text-align: right;\n",
       "    }\n",
       "</style>\n",
       "<table border=\"1\" class=\"dataframe\">\n",
       "  <thead>\n",
       "    <tr style=\"text-align: right;\">\n",
       "      <th></th>\n",
       "      <th>AFFX-BioB-5_at</th>\n",
       "      <th>AFFX-BioB-M_at</th>\n",
       "      <th>AFFX-BioB-3_at</th>\n",
       "      <th>AFFX-BioC-5_at</th>\n",
       "      <th>AFFX-BioC-3_at</th>\n",
       "      <th>AFFX-BioDn-5_at</th>\n",
       "      <th>AFFX-BioDn-3_at</th>\n",
       "      <th>AFFX-CreX-5_at</th>\n",
       "      <th>AFFX-CreX-3_at</th>\n",
       "      <th>AFFX-BioB-5_st</th>\n",
       "      <th>...</th>\n",
       "      <th>U48730_at</th>\n",
       "      <th>U58516_at</th>\n",
       "      <th>U73738_at</th>\n",
       "      <th>X06956_at</th>\n",
       "      <th>X16699_at</th>\n",
       "      <th>X83863_at</th>\n",
       "      <th>Z17240_at</th>\n",
       "      <th>L49218_f_at</th>\n",
       "      <th>M71243_f_at</th>\n",
       "      <th>Z78285_f_at</th>\n",
       "    </tr>\n",
       "  </thead>\n",
       "  <tbody>\n",
       "    <tr>\n",
       "      <th>0</th>\n",
       "      <td>0.508063</td>\n",
       "      <td>0.495929</td>\n",
       "      <td>0.281282</td>\n",
       "      <td>0.392837</td>\n",
       "      <td>0.547894</td>\n",
       "      <td>0.374699</td>\n",
       "      <td>0.779489</td>\n",
       "      <td>0.895275</td>\n",
       "      <td>0.687029</td>\n",
       "      <td>0.665053</td>\n",
       "      <td>...</td>\n",
       "      <td>0.510938</td>\n",
       "      <td>0.473068</td>\n",
       "      <td>0.326444</td>\n",
       "      <td>0.440131</td>\n",
       "      <td>0.545194</td>\n",
       "      <td>0.414099</td>\n",
       "      <td>0.432927</td>\n",
       "      <td>0.464673</td>\n",
       "      <td>0.666370</td>\n",
       "      <td>0.554254</td>\n",
       "    </tr>\n",
       "    <tr>\n",
       "      <th>1</th>\n",
       "      <td>0.402924</td>\n",
       "      <td>0.459334</td>\n",
       "      <td>0.715853</td>\n",
       "      <td>0.625070</td>\n",
       "      <td>0.670816</td>\n",
       "      <td>0.636583</td>\n",
       "      <td>0.871782</td>\n",
       "      <td>0.341996</td>\n",
       "      <td>0.814317</td>\n",
       "      <td>0.373040</td>\n",
       "      <td>...</td>\n",
       "      <td>0.438532</td>\n",
       "      <td>0.605083</td>\n",
       "      <td>0.869834</td>\n",
       "      <td>0.388637</td>\n",
       "      <td>0.556393</td>\n",
       "      <td>0.283606</td>\n",
       "      <td>0.448428</td>\n",
       "      <td>0.682124</td>\n",
       "      <td>0.769811</td>\n",
       "      <td>0.351574</td>\n",
       "    </tr>\n",
       "    <tr>\n",
       "      <th>2</th>\n",
       "      <td>0.420786</td>\n",
       "      <td>0.900401</td>\n",
       "      <td>0.432658</td>\n",
       "      <td>0.357197</td>\n",
       "      <td>0.734210</td>\n",
       "      <td>0.359543</td>\n",
       "      <td>0.529712</td>\n",
       "      <td>0.766635</td>\n",
       "      <td>0.587288</td>\n",
       "      <td>0.463121</td>\n",
       "      <td>...</td>\n",
       "      <td>0.196528</td>\n",
       "      <td>0.390532</td>\n",
       "      <td>0.368022</td>\n",
       "      <td>0.561676</td>\n",
       "      <td>0.910244</td>\n",
       "      <td>0.491734</td>\n",
       "      <td>0.199745</td>\n",
       "      <td>0.638105</td>\n",
       "      <td>0.601968</td>\n",
       "      <td>0.472755</td>\n",
       "    </tr>\n",
       "    <tr>\n",
       "      <th>3</th>\n",
       "      <td>0.670102</td>\n",
       "      <td>0.691733</td>\n",
       "      <td>0.484065</td>\n",
       "      <td>0.399723</td>\n",
       "      <td>0.788916</td>\n",
       "      <td>0.558930</td>\n",
       "      <td>0.418758</td>\n",
       "      <td>0.767150</td>\n",
       "      <td>0.566307</td>\n",
       "      <td>0.280145</td>\n",
       "      <td>...</td>\n",
       "      <td>0.591317</td>\n",
       "      <td>0.502873</td>\n",
       "      <td>0.526534</td>\n",
       "      <td>0.177501</td>\n",
       "      <td>0.652115</td>\n",
       "      <td>0.566523</td>\n",
       "      <td>0.188023</td>\n",
       "      <td>0.598173</td>\n",
       "      <td>0.279288</td>\n",
       "      <td>0.481206</td>\n",
       "    </tr>\n",
       "    <tr>\n",
       "      <th>4</th>\n",
       "      <td>0.717266</td>\n",
       "      <td>0.667333</td>\n",
       "      <td>0.449277</td>\n",
       "      <td>0.517736</td>\n",
       "      <td>0.784228</td>\n",
       "      <td>0.430328</td>\n",
       "      <td>0.608041</td>\n",
       "      <td>0.570838</td>\n",
       "      <td>0.456515</td>\n",
       "      <td>0.300812</td>\n",
       "      <td>...</td>\n",
       "      <td>0.447862</td>\n",
       "      <td>0.640025</td>\n",
       "      <td>0.270718</td>\n",
       "      <td>0.537177</td>\n",
       "      <td>0.451580</td>\n",
       "      <td>0.277408</td>\n",
       "      <td>0.208607</td>\n",
       "      <td>0.453790</td>\n",
       "      <td>0.422440</td>\n",
       "      <td>0.266976</td>\n",
       "    </tr>\n",
       "    <tr>\n",
       "      <th>...</th>\n",
       "      <td>...</td>\n",
       "      <td>...</td>\n",
       "      <td>...</td>\n",
       "      <td>...</td>\n",
       "      <td>...</td>\n",
       "      <td>...</td>\n",
       "      <td>...</td>\n",
       "      <td>...</td>\n",
       "      <td>...</td>\n",
       "      <td>...</td>\n",
       "      <td>...</td>\n",
       "      <td>...</td>\n",
       "      <td>...</td>\n",
       "      <td>...</td>\n",
       "      <td>...</td>\n",
       "      <td>...</td>\n",
       "      <td>...</td>\n",
       "      <td>...</td>\n",
       "      <td>...</td>\n",
       "      <td>...</td>\n",
       "      <td>...</td>\n",
       "    </tr>\n",
       "    <tr>\n",
       "      <th>559</th>\n",
       "      <td>0.605393</td>\n",
       "      <td>0.617685</td>\n",
       "      <td>1.000000</td>\n",
       "      <td>0.720884</td>\n",
       "      <td>0.681058</td>\n",
       "      <td>0.772798</td>\n",
       "      <td>0.603806</td>\n",
       "      <td>0.579420</td>\n",
       "      <td>0.429342</td>\n",
       "      <td>0.360853</td>\n",
       "      <td>...</td>\n",
       "      <td>0.373968</td>\n",
       "      <td>0.515740</td>\n",
       "      <td>0.828128</td>\n",
       "      <td>0.505109</td>\n",
       "      <td>0.902549</td>\n",
       "      <td>0.554543</td>\n",
       "      <td>0.478554</td>\n",
       "      <td>0.838243</td>\n",
       "      <td>0.518728</td>\n",
       "      <td>0.285814</td>\n",
       "    </tr>\n",
       "    <tr>\n",
       "      <th>560</th>\n",
       "      <td>0.487446</td>\n",
       "      <td>0.643386</td>\n",
       "      <td>0.357753</td>\n",
       "      <td>0.378500</td>\n",
       "      <td>0.433666</td>\n",
       "      <td>0.181028</td>\n",
       "      <td>0.564859</td>\n",
       "      <td>0.443325</td>\n",
       "      <td>0.601739</td>\n",
       "      <td>0.435896</td>\n",
       "      <td>...</td>\n",
       "      <td>0.497187</td>\n",
       "      <td>0.344865</td>\n",
       "      <td>0.217375</td>\n",
       "      <td>0.338685</td>\n",
       "      <td>0.501695</td>\n",
       "      <td>0.477691</td>\n",
       "      <td>0.354740</td>\n",
       "      <td>0.592386</td>\n",
       "      <td>0.387742</td>\n",
       "      <td>0.503844</td>\n",
       "    </tr>\n",
       "    <tr>\n",
       "      <th>561</th>\n",
       "      <td>0.648835</td>\n",
       "      <td>0.574605</td>\n",
       "      <td>0.276424</td>\n",
       "      <td>0.015844</td>\n",
       "      <td>0.628720</td>\n",
       "      <td>0.612816</td>\n",
       "      <td>0.838207</td>\n",
       "      <td>0.261809</td>\n",
       "      <td>0.497353</td>\n",
       "      <td>0.586858</td>\n",
       "      <td>...</td>\n",
       "      <td>0.518060</td>\n",
       "      <td>0.464154</td>\n",
       "      <td>0.580260</td>\n",
       "      <td>0.599532</td>\n",
       "      <td>0.255560</td>\n",
       "      <td>0.312131</td>\n",
       "      <td>0.463890</td>\n",
       "      <td>0.478777</td>\n",
       "      <td>0.246202</td>\n",
       "      <td>0.403339</td>\n",
       "    </tr>\n",
       "    <tr>\n",
       "      <th>562</th>\n",
       "      <td>0.696133</td>\n",
       "      <td>0.715279</td>\n",
       "      <td>0.452966</td>\n",
       "      <td>0.397668</td>\n",
       "      <td>0.510738</td>\n",
       "      <td>0.312318</td>\n",
       "      <td>0.379122</td>\n",
       "      <td>0.454800</td>\n",
       "      <td>0.689299</td>\n",
       "      <td>0.578346</td>\n",
       "      <td>...</td>\n",
       "      <td>0.624698</td>\n",
       "      <td>0.459777</td>\n",
       "      <td>0.416870</td>\n",
       "      <td>0.493385</td>\n",
       "      <td>0.661865</td>\n",
       "      <td>0.628326</td>\n",
       "      <td>0.360736</td>\n",
       "      <td>0.616476</td>\n",
       "      <td>0.720797</td>\n",
       "      <td>0.366048</td>\n",
       "    </tr>\n",
       "    <tr>\n",
       "      <th>563</th>\n",
       "      <td>0.575840</td>\n",
       "      <td>0.557658</td>\n",
       "      <td>0.000000</td>\n",
       "      <td>0.488186</td>\n",
       "      <td>0.844430</td>\n",
       "      <td>0.223551</td>\n",
       "      <td>0.546530</td>\n",
       "      <td>0.550706</td>\n",
       "      <td>0.532607</td>\n",
       "      <td>0.492698</td>\n",
       "      <td>...</td>\n",
       "      <td>0.621378</td>\n",
       "      <td>0.576499</td>\n",
       "      <td>0.411118</td>\n",
       "      <td>0.499806</td>\n",
       "      <td>0.472723</td>\n",
       "      <td>0.529399</td>\n",
       "      <td>0.290300</td>\n",
       "      <td>0.506831</td>\n",
       "      <td>0.944312</td>\n",
       "      <td>0.414259</td>\n",
       "    </tr>\n",
       "  </tbody>\n",
       "</table>\n",
       "<p>564 rows × 7129 columns</p>\n",
       "</div>"
      ],
      "text/plain": [
       "     AFFX-BioB-5_at  AFFX-BioB-M_at  AFFX-BioB-3_at  AFFX-BioC-5_at  \\\n",
       "0          0.508063        0.495929        0.281282        0.392837   \n",
       "1          0.402924        0.459334        0.715853        0.625070   \n",
       "2          0.420786        0.900401        0.432658        0.357197   \n",
       "3          0.670102        0.691733        0.484065        0.399723   \n",
       "4          0.717266        0.667333        0.449277        0.517736   \n",
       "..              ...             ...             ...             ...   \n",
       "559        0.605393        0.617685        1.000000        0.720884   \n",
       "560        0.487446        0.643386        0.357753        0.378500   \n",
       "561        0.648835        0.574605        0.276424        0.015844   \n",
       "562        0.696133        0.715279        0.452966        0.397668   \n",
       "563        0.575840        0.557658        0.000000        0.488186   \n",
       "\n",
       "     AFFX-BioC-3_at  AFFX-BioDn-5_at  AFFX-BioDn-3_at  AFFX-CreX-5_at  \\\n",
       "0          0.547894         0.374699         0.779489        0.895275   \n",
       "1          0.670816         0.636583         0.871782        0.341996   \n",
       "2          0.734210         0.359543         0.529712        0.766635   \n",
       "3          0.788916         0.558930         0.418758        0.767150   \n",
       "4          0.784228         0.430328         0.608041        0.570838   \n",
       "..              ...              ...              ...             ...   \n",
       "559        0.681058         0.772798         0.603806        0.579420   \n",
       "560        0.433666         0.181028         0.564859        0.443325   \n",
       "561        0.628720         0.612816         0.838207        0.261809   \n",
       "562        0.510738         0.312318         0.379122        0.454800   \n",
       "563        0.844430         0.223551         0.546530        0.550706   \n",
       "\n",
       "     AFFX-CreX-3_at  AFFX-BioB-5_st  ...  U48730_at  U58516_at  U73738_at  \\\n",
       "0          0.687029        0.665053  ...   0.510938   0.473068   0.326444   \n",
       "1          0.814317        0.373040  ...   0.438532   0.605083   0.869834   \n",
       "2          0.587288        0.463121  ...   0.196528   0.390532   0.368022   \n",
       "3          0.566307        0.280145  ...   0.591317   0.502873   0.526534   \n",
       "4          0.456515        0.300812  ...   0.447862   0.640025   0.270718   \n",
       "..              ...             ...  ...        ...        ...        ...   \n",
       "559        0.429342        0.360853  ...   0.373968   0.515740   0.828128   \n",
       "560        0.601739        0.435896  ...   0.497187   0.344865   0.217375   \n",
       "561        0.497353        0.586858  ...   0.518060   0.464154   0.580260   \n",
       "562        0.689299        0.578346  ...   0.624698   0.459777   0.416870   \n",
       "563        0.532607        0.492698  ...   0.621378   0.576499   0.411118   \n",
       "\n",
       "     X06956_at  X16699_at  X83863_at  Z17240_at  L49218_f_at  M71243_f_at  \\\n",
       "0     0.440131   0.545194   0.414099   0.432927     0.464673     0.666370   \n",
       "1     0.388637   0.556393   0.283606   0.448428     0.682124     0.769811   \n",
       "2     0.561676   0.910244   0.491734   0.199745     0.638105     0.601968   \n",
       "3     0.177501   0.652115   0.566523   0.188023     0.598173     0.279288   \n",
       "4     0.537177   0.451580   0.277408   0.208607     0.453790     0.422440   \n",
       "..         ...        ...        ...        ...          ...          ...   \n",
       "559   0.505109   0.902549   0.554543   0.478554     0.838243     0.518728   \n",
       "560   0.338685   0.501695   0.477691   0.354740     0.592386     0.387742   \n",
       "561   0.599532   0.255560   0.312131   0.463890     0.478777     0.246202   \n",
       "562   0.493385   0.661865   0.628326   0.360736     0.616476     0.720797   \n",
       "563   0.499806   0.472723   0.529399   0.290300     0.506831     0.944312   \n",
       "\n",
       "     Z78285_f_at  \n",
       "0       0.554254  \n",
       "1       0.351574  \n",
       "2       0.472755  \n",
       "3       0.481206  \n",
       "4       0.266976  \n",
       "..           ...  \n",
       "559     0.285814  \n",
       "560     0.503844  \n",
       "561     0.403339  \n",
       "562     0.366048  \n",
       "563     0.414259  \n",
       "\n",
       "[564 rows x 7129 columns]"
      ]
     },
     "metadata": {},
     "output_type": "display_data"
    }
   ],
   "source": [
    "display(X_train_normal)"
   ]
  },
  {
   "cell_type": "code",
   "execution_count": 15,
   "metadata": {},
   "outputs": [
    {
     "data": {
      "text/html": [
       "<div>\n",
       "<style scoped>\n",
       "    .dataframe tbody tr th:only-of-type {\n",
       "        vertical-align: middle;\n",
       "    }\n",
       "\n",
       "    .dataframe tbody tr th {\n",
       "        vertical-align: top;\n",
       "    }\n",
       "\n",
       "    .dataframe thead th {\n",
       "        text-align: right;\n",
       "    }\n",
       "</style>\n",
       "<table border=\"1\" class=\"dataframe\">\n",
       "  <thead>\n",
       "    <tr style=\"text-align: right;\">\n",
       "      <th></th>\n",
       "      <th>Train Accuracy</th>\n",
       "      <th>Test Accuracy</th>\n",
       "    </tr>\n",
       "  </thead>\n",
       "  <tbody>\n",
       "    <tr>\n",
       "      <th>baseline</th>\n",
       "      <td>0.714539</td>\n",
       "      <td>0.696809</td>\n",
       "    </tr>\n",
       "    <tr>\n",
       "      <th>Single Logistic Regression</th>\n",
       "      <td>0.718085</td>\n",
       "      <td>0.707447</td>\n",
       "    </tr>\n",
       "    <tr>\n",
       "      <th>Logistic Regression</th>\n",
       "      <td>1.000000</td>\n",
       "      <td>0.829787</td>\n",
       "    </tr>\n",
       "  </tbody>\n",
       "</table>\n",
       "</div>"
      ],
      "text/plain": [
       "                            Train Accuracy  Test Accuracy\n",
       "baseline                          0.714539       0.696809\n",
       "Single Logistic Regression        0.718085       0.707447\n",
       "Logistic Regression               1.000000       0.829787"
      ]
     },
     "execution_count": 15,
     "metadata": {},
     "output_type": "execute_result"
    }
   ],
   "source": [
    "# your code here\n",
    "logit = LogisticRegression(C=100000, solver='lbfgs', max_iter=10000).fit(X_train_normal, y_train_normal)\n",
    "training_accuracy_logit = logit.score(X_train_normal, y_train_normal)\n",
    "testing_accuracy_logit = logit.score(X_test_normal, y_test_normal)\n",
    "names.append('Logistic Regression')\n",
    "scores.append([training_accuracy_logit, testing_accuracy_logit])\n",
    "df_results = pd.DataFrame(scores, index=names, columns=['Train Accuracy', 'Test Accuracy'])\n",
    "df_results"
   ]
  },
  {
   "cell_type": "markdown",
   "metadata": {},
   "source": [
    "From the table above, as expected, we observe that the traning accuracy when leveraging all 7129 features is 1.0. The underlying reason for this observation is that $p>>n$, leading to an overdefined model. The test accuracy for the *Logistic Regression* model is higher than the test accuracies for the *Baseline* and the *Single Logistic Regression* models. However, we observe a significant drop in the accuracy on the test set in comparison to the traning set (for the *Logistic Regression* model), which is a clear sign of overfitting the traning data. "
   ]
  },
  {
   "cell_type": "markdown",
   "metadata": {
    "autograde": "2.3",
    "cell_id": "0a790850-87c6-4f46-b89e-048a2295c92b",
    "colab_type": "text",
    "id": "IGFtXJmQap2q"
   },
   "source": [
    "<div class='exercise-r'>  \n",
    " \n",
    "**2.3** Print out the logistic regression coefficients for  `best_predictor` from the simple logistic and multiple logistic regression models in part 1 and part 2 above.  Interpret the coefficients: Do they agree or disagree?  What does this indicate?\n",
    " \n",
    " </div>"
   ]
  },
  {
   "cell_type": "code",
   "execution_count": 16,
   "metadata": {},
   "outputs": [
    {
     "name": "stdout",
     "output_type": "stream",
     "text": [
      "When performing single logistic regression, the coefficient we got for the best predictor was  9.842972135156298\n",
      "When performing full logistic regression, the coefficient we got for the best predictor was  0.9938319536731622\n"
     ]
    }
   ],
   "source": [
    "# your code here\n",
    "print('When performing single logistic regression, the coefficient we got for the best predictor was ', *logit_single.coef_[0])\n",
    "idx = np.hstack(np.argwhere(X_train_normal.columns==best_predictor))[0]\n",
    "print('When performing full logistic regression, the coefficient we got for the best predictor was ',  logit.coef_[0][idx])"
   ]
  },
  {
   "cell_type": "markdown",
   "metadata": {},
   "source": [
    "These coefficients strongly disagree. Only the sign matches (meaning that the positive correlation is conserved). This indicates that there might be potential correlation between our feature X95735_at and the other features that were utilized in the full *Logistic Regression Model*."
   ]
  },
  {
   "cell_type": "markdown",
   "metadata": {
    "autograde": "2.4",
    "cell_id": "0a790850-87c6-4f46-b89e-048a2295c92b",
    "colab_type": "text",
    "id": "IGFtXJmQap2q"
   },
   "source": [
    "<div class='exercise-r'>  \n",
    " \n",
    "**2.4** Now let's use regularization to improve the predictions from the multiple logistic regression model. Specifically, use LASSO-like regularization and 5-fold cross-validation to fit the model on the training set.\n",
    " Report the chosen best value of the regularization hyperparamter and the classification accuracy on both the training and test sets.\n",
    " \n",
    " </div>"
   ]
  },
  {
   "cell_type": "code",
   "execution_count": 17,
   "metadata": {},
   "outputs": [],
   "source": [
    "import warnings\n",
    "warnings.filterwarnings('ignore')"
   ]
  },
  {
   "cell_type": "code",
   "execution_count": 18,
   "metadata": {},
   "outputs": [
    {
     "name": "stdout",
     "output_type": "stream",
     "text": [
      "The best value of the regularization hyperparamter is  1.0\n"
     ]
    },
    {
     "data": {
      "text/html": [
       "<div>\n",
       "<style scoped>\n",
       "    .dataframe tbody tr th:only-of-type {\n",
       "        vertical-align: middle;\n",
       "    }\n",
       "\n",
       "    .dataframe tbody tr th {\n",
       "        vertical-align: top;\n",
       "    }\n",
       "\n",
       "    .dataframe thead th {\n",
       "        text-align: right;\n",
       "    }\n",
       "</style>\n",
       "<table border=\"1\" class=\"dataframe\">\n",
       "  <thead>\n",
       "    <tr style=\"text-align: right;\">\n",
       "      <th></th>\n",
       "      <th>Train Accuracy</th>\n",
       "      <th>Test Accuracy</th>\n",
       "    </tr>\n",
       "  </thead>\n",
       "  <tbody>\n",
       "    <tr>\n",
       "      <th>baseline</th>\n",
       "      <td>0.714539</td>\n",
       "      <td>0.696809</td>\n",
       "    </tr>\n",
       "    <tr>\n",
       "      <th>Single Logistic Regression</th>\n",
       "      <td>0.718085</td>\n",
       "      <td>0.707447</td>\n",
       "    </tr>\n",
       "    <tr>\n",
       "      <th>Logistic Regression</th>\n",
       "      <td>1.000000</td>\n",
       "      <td>0.829787</td>\n",
       "    </tr>\n",
       "    <tr>\n",
       "      <th>Lasso Logistic Regression</th>\n",
       "      <td>0.934397</td>\n",
       "      <td>0.893617</td>\n",
       "    </tr>\n",
       "  </tbody>\n",
       "</table>\n",
       "</div>"
      ],
      "text/plain": [
       "                            Train Accuracy  Test Accuracy\n",
       "baseline                          0.714539       0.696809\n",
       "Single Logistic Regression        0.718085       0.707447\n",
       "Logistic Regression               1.000000       0.829787\n",
       "Lasso Logistic Regression         0.934397       0.893617"
      ]
     },
     "execution_count": 18,
     "metadata": {},
     "output_type": "execute_result"
    }
   ],
   "source": [
    "# your code here\n",
    "Cs = [0.001, 0.01, 0.1, 1, 10, 100, 1000]\n",
    "lasso = LogisticRegressionCV(cv = 5, penalty='l1', Cs=Cs, scoring='accuracy', solver='saga', max_iter=1000).fit(X_train_normal, y_train_normal)\n",
    "print('The best value of the regularization hyperparamter is ', str(*lasso.C_))\n",
    "training_accuracy_lasso = lasso.score(X_train_normal, y_train_normal)\n",
    "testing_accuracy_lasso = lasso.score(X_test_normal, y_test_normal)\n",
    "names.append('Lasso Logistic Regression')\n",
    "scores.append([training_accuracy_lasso, testing_accuracy_lasso])\n",
    "df_results = pd.DataFrame(scores, index=names, columns=['Train Accuracy', 'Test Accuracy'])\n",
    "df_results"
   ]
  },
  {
   "cell_type": "markdown",
   "metadata": {
    "autograde": "2.5",
    "cell_id": "0a790850-87c6-4f46-b89e-048a2295c92b",
    "colab_type": "text",
    "id": "IGFtXJmQap2q"
   },
   "source": [
    "<div class='exercise-r'>  \n",
    " \n",
    "**2.5** Compare the classification accuracies (both train and test) between the un-regularized multiple logistic regression model to the regularized one. Briefly explain why these results occur.\n",
    " \n",
    " </div>"
   ]
  },
  {
   "cell_type": "markdown",
   "metadata": {},
   "source": [
    "The training accuracy of the regularized logistic regression drops down to 0.93. This is due to the fact that now we have 230 non-zero features and $p_{effective} < n$, meaning that the problem of not being able to uniquely determine the coefficient values is no longer present. However, now we observe a rather insignificant drop in the testing accuracy compared to the traning accuracy, and a substantial increase in the testing accuracy for the *Lasso Logistic Regression* model in comparison to the *Logistic Regression* model. The fundamental reason behind the above observation is that by reducing the numer of significant features, the model is no longer overdetermined, i.e. the model overfits the traning data considerably less."
   ]
  },
  {
   "cell_type": "markdown",
   "metadata": {
    "autograde": "2.6",
    "cell_id": "0a790850-87c6-4f46-b89e-048a2295c92b",
    "colab_type": "text",
    "id": "IGFtXJmQap2q"
   },
   "source": [
    "<div class='exercise-r'>  \n",
    "    \n",
    "**2.6** How many predictors are considered as important features in this regularized model?  What does that say about the full logistic regression model in problem 2.2?"
   ]
  },
  {
   "cell_type": "code",
   "execution_count": 19,
   "metadata": {},
   "outputs": [
    {
     "name": "stdout",
     "output_type": "stream",
     "text": [
      "The number of predictors that are considered important in this penalized logistic regression is  211\n"
     ]
    }
   ],
   "source": [
    "# your code here\n",
    "print('The number of predictors that are considered important in this penalized logistic regression is ', np.sum(np.abs(np.asarray(lasso.coef_))>0.1))"
   ]
  },
  {
   "cell_type": "markdown",
   "metadata": {},
   "source": [
    "This means that the full logistic regression model in problem 2.2 leverages a lot of non-relevant or highly correlated features that are being killed by the feature selection process embedded in the Lasso algorithm. "
   ]
  },
  {
   "cell_type": "markdown",
   "metadata": {},
   "source": [
    "---"
   ]
  },
  {
   "cell_type": "markdown",
   "metadata": {},
   "source": [
    "#### <div class='exercise'><b>Question 3 [20 pts]: Performing Principal Components Analysis</b></div>"
   ]
  },
  {
   "cell_type": "markdown",
   "metadata": {},
   "source": [
    "[▲ Return to contents](#Contents)"
   ]
  },
  {
   "cell_type": "markdown",
   "metadata": {},
   "source": [
    "**3.1** Create the full PCA decomposition of `X_train` and apply the transformation to both `X_train` and `X_test`.  Report the shape of both of these.  What is the limiting factor for the maximum number of PCA components for this data set? \n",
    "\n",
    "**3.2** PCA is often solely used to help in visualizing high-dimensional problems.  Plot the scatterplot of the second PCA vector of train on the $Y$-axis and the first PCA vector of train on the $X$-axis (be sure to denote the classes via different colors and markings).  In 2-3 sentences, explain why using the scatterplot of the top two PCA vectors is a useful approach to visualize a high dimensional classification problem.\n",
    "\n",
    "**3.3** Determine and report the variance explained in `X_train` based on the top two PCA vectors.  Determine and report how many PCA vectors are needed so that 90\\% of the variability in the predictors is explained, and create a plot to illustrate this result (Hint: look at cumulative explained variability vs. number of PCA components used).\n",
    "\n",
    "**3.4** Plot explained variability in the predictors on the $Y$-axis and the PCA component number on the $X$-axis. Select a reasonable value for the number of components that balances representativeness (of the predictors) with parsimony."
   ]
  },
  {
   "cell_type": "markdown",
   "metadata": {},
   "source": [
    "<hr>"
   ]
  },
  {
   "cell_type": "markdown",
   "metadata": {},
   "source": [
    "\n",
    "## Answers"
   ]
  },
  {
   "cell_type": "markdown",
   "metadata": {
    "autograde": "3.1",
    "cell_id": "0a790850-87c6-4f46-b89e-048a2295c92b",
    "colab_type": "text",
    "id": "IGFtXJmQap2q"
   },
   "source": [
    "<div class='exercise-r'>  \n",
    " \n",
    "**3.1** Create the full PCA decomposition of `X_train` and apply the transformation to both `X_train` and `X_test`.  Report the shape of both of these.  What is the limiting factor for the maximum number of PCA components for this data set?\n",
    " \n",
    " </div>"
   ]
  },
  {
   "cell_type": "code",
   "execution_count": 20,
   "metadata": {},
   "outputs": [
    {
     "name": "stdout",
     "output_type": "stream",
     "text": [
      "(564, 564) (188, 564)\n"
     ]
    }
   ],
   "source": [
    "# your code here\n",
    "pca_decomp = PCA().fit(X_train_normal)\n",
    "X_train_pca = pca_decomp.transform(X_train_normal)\n",
    "X_test_pca = pca_decomp.transform(X_test_normal)\n",
    "print(X_train_pca.shape, X_test_pca.shape)"
   ]
  },
  {
   "cell_type": "markdown",
   "metadata": {},
   "source": [
    "The limiting factor for the maximum number of PCA components for this dataset is the number of examples in the set on which we are fitting the PCA. From the singular value decomposition, we see that the number of components created is $min(n_{features}, n_{samples}).$ "
   ]
  },
  {
   "cell_type": "markdown",
   "metadata": {
    "autograde": "3.2",
    "cell_id": "0a790850-87c6-4f46-b89e-048a2295c92b",
    "colab_type": "text",
    "id": "IGFtXJmQap2q"
   },
   "source": [
    "<div class='exercise-r'>  \n",
    " \n",
    "**3.2** PCA is often solely used to help in visualizing high-dimensional problems.  Plot the scatterplot of the second PCA vector of train on the $Y$-axis and the first PCA vector of train on the $X$-axis (be sure to denote the classes via different colors and markings).  In 2-3 sentences, explain why using the scatterplot of the top two PCA vectors is a useful approach to visualize a high dimensional classification problem.\n",
    " \n",
    " </div>"
   ]
  },
  {
   "cell_type": "code",
   "execution_count": 21,
   "metadata": {},
   "outputs": [
    {
     "data": {
      "text/plain": [
       "(564, 564)"
      ]
     },
     "execution_count": 21,
     "metadata": {},
     "output_type": "execute_result"
    }
   ],
   "source": [
    "X_train_pca.shape"
   ]
  },
  {
   "cell_type": "code",
   "execution_count": 22,
   "metadata": {},
   "outputs": [
    {
     "data": {
      "image/png": "[encoded data removed]",
      "text/plain": [
       "<Figure size 1440x720 with 1 Axes>"
      ]
     },
     "metadata": {
      "needs_background": "light"
     },
     "output_type": "display_data"
    }
   ],
   "source": [
    "# your code here\n",
    "fig, ax = plt.subplots(1, figsize = (20, 10))\n",
    "ax.set_title('VIsualization of the first two PCA coordinates')\n",
    "ax.scatter(X_train_pca[:, 0][y_train_normal==0], X_train_pca[:, 1][y_train_normal==0], color='lightpink', label='ALL')\n",
    "ax.scatter(X_train_pca[:, 0][y_train_normal==1], X_train_pca[:, 1][y_train_normal==1], color='lightblue', label = 'AML')\n",
    "ax.legend()\n",
    "plt.show(fig)"
   ]
  },
  {
   "cell_type": "markdown",
   "metadata": {},
   "source": [
    "Vizualizing high dimensional data is a challenging problem. The benefits of using the scatter plot of the top two PCA vectors is a useful approach due to several reasons:\n",
    "- Provides us with an easily implementable framework for visualizing high dimensional data.\n",
    "- The top two (first two) principal components, capture the most variance/information about the original dataset. Consequently we can observe most of the information contained in the original multi dimensional dataset on a 2D plot.\n",
    "- Usually better representation of the information contained in the original dataset in comparison to projecting the multi dimensional space in 2D."
   ]
  },
  {
   "cell_type": "markdown",
   "metadata": {
    "autograde": "3.3",
    "cell_id": "0a790850-87c6-4f46-b89e-048a2295c92b",
    "colab_type": "text",
    "id": "IGFtXJmQap2q"
   },
   "source": [
    "<div class='exercise-r'>  \n",
    " \n",
    "**3.3** Determine and report the variance explained in `X_train` based on the top two PCA vectors.  Determine and report how many PCA vectors are needed so that 90\\% of the variability in the predictors is explained, and create a plot to illustrate this result (Hint: look at cumulative explained variability vs. number of PCA components used).\n",
    " \n",
    " </div>"
   ]
  },
  {
   "cell_type": "code",
   "execution_count": 23,
   "metadata": {},
   "outputs": [],
   "source": [
    "ratio = pca_decomp.explained_variance_ratio_"
   ]
  },
  {
   "cell_type": "code",
   "execution_count": 24,
   "metadata": {},
   "outputs": [
    {
     "name": "stdout",
     "output_type": "stream",
     "text": [
      "The variance explained in X_train based on the top two PCA vectors is  0.11663364078007235\n",
      "The number of PCA vectors needed so that 90% of the variability in the predictors is explained is  221\n"
     ]
    }
   ],
   "source": [
    "print('The variance explained in X_train based on the top two PCA vectors is ', np.cumsum(ratio)[1])\n",
    "print('The number of PCA vectors needed so that 90% of the variability in the predictors is explained is ', *np.argwhere((np.cumsum(ratio)>0.9)==True)[0])"
   ]
  },
  {
   "cell_type": "code",
   "execution_count": 25,
   "metadata": {},
   "outputs": [
    {
     "data": {
      "image/png": "[encoded data removed]",
      "text/plain": [
       "<Figure size 1440x720 with 1 Axes>"
      ]
     },
     "metadata": {
      "needs_background": "light"
     },
     "output_type": "display_data"
    }
   ],
   "source": [
    "# your code here\n",
    "fig, ax2 = plt.subplots(1, figsize=(20, 10))\n",
    "ax2.plot(np.cumsum(ratio), 'o-', label='Explained Variance')\n",
    "ax2.set_title('Cumulative Sum of Explained Variance Ratio PCA', fontsize=20)\n",
    "ax2.set_ylim(0,1.1)\n",
    "ax2.axhline(0.9, linestyle='--', color='lightgreen', label = '90% explained variance')\n",
    "ax2.axvline(221, linestyle='--', color='lightgray', label='221 first PCA vectors')\n",
    "ax2.legend()\n",
    "ax2.set_ylabel('Cumulative Sum of Explained Variance Ratio');"
   ]
  },
  {
   "cell_type": "code",
   "execution_count": 26,
   "metadata": {},
   "outputs": [],
   "source": [
    "n_components_90 = 221"
   ]
  },
  {
   "cell_type": "markdown",
   "metadata": {
    "autograde": "3.4",
    "cell_id": "0a790850-87c6-4f46-b89e-048a2295c92b",
    "colab_type": "text",
    "id": "IGFtXJmQap2q"
   },
   "source": [
    "<div class='exercise-r'>  \n",
    "    \n",
    "**3.4** Plot explained variability in the predictors on the $Y$-axis and the PCA component number on the $X$-axis. Select a reasonable value for the number of components that balances representativeness (of the predictors) with parsimony."
   ]
  },
  {
   "cell_type": "code",
   "execution_count": 27,
   "metadata": {},
   "outputs": [
    {
     "data": {
      "image/png": "[encoded data removed]",
      "text/plain": [
       "<Figure size 1440x720 with 1 Axes>"
      ]
     },
     "metadata": {
      "needs_background": "light"
     },
     "output_type": "display_data"
    }
   ],
   "source": [
    "# your code here\n",
    "ratio = pca_decomp.explained_variance_ratio_\n",
    "fig, ax2 = plt.subplots(1, figsize=(20, 10))\n",
    "ax2.plot(np.cumsum(ratio), 'o-', label='Explained Variance')\n",
    "ax2.set_title('Cumulative Sum of Explained Variance Ratio PCA', fontsize=20)\n",
    "ax2.set_ylim(0,1.1)\n",
    "ax2.axhline(0.95, linestyle='--', color='lightgreen', label = '90% explained variance')\n",
    "plt.axvline(310, linestyle='--', color='lightgray', label='221 first PCA vectors')\n",
    "ax2.set_ylabel('Cumulative Sum of Explained Variance Ratio');"
   ]
  },
  {
   "cell_type": "code",
   "execution_count": 28,
   "metadata": {},
   "outputs": [],
   "source": [
    "n_components_pca = 310"
   ]
  },
  {
   "cell_type": "markdown",
   "metadata": {},
   "source": [
    "We will select the 310 first features from the PCA in order to have a training set which is no longer in the high-dimensional setting. One additional note is that 221 > 230, where 221 is the number of principle components necessary to retain 90% of the information contained in the original data set, and 203 is the number of predictors from the Lasso-like Logistic Regression we implemented in question 2."
   ]
  },
  {
   "cell_type": "markdown",
   "metadata": {},
   "source": [
    "#### <div class='exercise'><b>Question 4 [10 pts]: Principal Components Regression (PCR)</b></div>"
   ]
  },
  {
   "cell_type": "markdown",
   "metadata": {},
   "source": [
    "[▲ Return to contents](#Contents)"
   ]
  },
  {
   "cell_type": "markdown",
   "metadata": {},
   "source": [
    "**4.1** Fit three separate Logistic Regression models using principal components as the predictors: (1) with just the first two PCA vectors, (2) with the number of component vectors you chose from problem 3 above, and (3) with the number of components that explain at least 90% of the variability in the predictor set. How do the classification accuracy values on both the training and test sets compare with the models fit in Question 2?\n",
    "\n",
    "**4.2** Use cross-validation to determine the best number of principal components. Try out the 3 values from the previous sub-part and optionally include other values as well. \n"
   ]
  },
  {
   "cell_type": "markdown",
   "metadata": {},
   "source": [
    "<hr>"
   ]
  },
  {
   "cell_type": "markdown",
   "metadata": {},
   "source": [
    "\n",
    "## Answers"
   ]
  },
  {
   "cell_type": "markdown",
   "metadata": {
    "autograde": "4.1",
    "cell_id": "0a790850-87c6-4f46-b89e-048a2295c92b",
    "colab_type": "text",
    "id": "IGFtXJmQap2q"
   },
   "source": [
    "<div class='exercise-r'>  \n",
    " \n",
    "**4.1** Fit three separate Logistic Regression models using principal components as the predictors: (1) with just the first two PCA vectors, (2) with the number of component vectors you chose from problem 3 above, and (3) with the number of components that explain at least 90% of the variability in the predictor set. How do the classification accuracy values on both the training and test sets compare with the models fit in Question 2?\n",
    " \n",
    " </div>"
   ]
  },
  {
   "cell_type": "code",
   "execution_count": 29,
   "metadata": {},
   "outputs": [
    {
     "data": {
      "text/html": [
       "<div>\n",
       "<style scoped>\n",
       "    .dataframe tbody tr th:only-of-type {\n",
       "        vertical-align: middle;\n",
       "    }\n",
       "\n",
       "    .dataframe tbody tr th {\n",
       "        vertical-align: top;\n",
       "    }\n",
       "\n",
       "    .dataframe thead th {\n",
       "        text-align: right;\n",
       "    }\n",
       "</style>\n",
       "<table border=\"1\" class=\"dataframe\">\n",
       "  <thead>\n",
       "    <tr style=\"text-align: right;\">\n",
       "      <th></th>\n",
       "      <th>Train Accuracy</th>\n",
       "      <th>Test Accuracy</th>\n",
       "    </tr>\n",
       "  </thead>\n",
       "  <tbody>\n",
       "    <tr>\n",
       "      <th>baseline</th>\n",
       "      <td>0.714539</td>\n",
       "      <td>0.696809</td>\n",
       "    </tr>\n",
       "    <tr>\n",
       "      <th>Single Logistic Regression</th>\n",
       "      <td>0.718085</td>\n",
       "      <td>0.707447</td>\n",
       "    </tr>\n",
       "    <tr>\n",
       "      <th>Logistic Regression</th>\n",
       "      <td>1.000000</td>\n",
       "      <td>0.829787</td>\n",
       "    </tr>\n",
       "    <tr>\n",
       "      <th>Lasso Logistic Regression</th>\n",
       "      <td>0.934397</td>\n",
       "      <td>0.893617</td>\n",
       "    </tr>\n",
       "    <tr>\n",
       "      <th>Logistic Regression with first 2 PCA vectors</th>\n",
       "      <td>0.753546</td>\n",
       "      <td>0.771277</td>\n",
       "    </tr>\n",
       "  </tbody>\n",
       "</table>\n",
       "</div>"
      ],
      "text/plain": [
       "                                              Train Accuracy  Test Accuracy\n",
       "baseline                                            0.714539       0.696809\n",
       "Single Logistic Regression                          0.718085       0.707447\n",
       "Logistic Regression                                 1.000000       0.829787\n",
       "Lasso Logistic Regression                           0.934397       0.893617\n",
       "Logistic Regression with first 2 PCA vectors        0.753546       0.771277"
      ]
     },
     "execution_count": 29,
     "metadata": {},
     "output_type": "execute_result"
    }
   ],
   "source": [
    "# your code here\n",
    "logit_2 = LogisticRegression(penalty='none', solver='lbfgs').fit(X_train_pca[:, :2], y_train_normal)\n",
    "training_accuracy_logit_2 = logit_2.score(X_train_pca[:, :2], y_train_normal)\n",
    "testing_accuracy_logit_2 = logit_2.score(X_test_pca[:, :2], y_test_normal)\n",
    "names.append('Logistic Regression with first 2 PCA vectors')\n",
    "scores.append([training_accuracy_logit_2, testing_accuracy_logit_2])\n",
    "df_results = pd.DataFrame(scores, index=names, columns=['Train Accuracy', 'Test Accuracy'])\n",
    "df_results"
   ]
  },
  {
   "cell_type": "code",
   "execution_count": 30,
   "metadata": {},
   "outputs": [
    {
     "data": {
      "text/html": [
       "<div>\n",
       "<style scoped>\n",
       "    .dataframe tbody tr th:only-of-type {\n",
       "        vertical-align: middle;\n",
       "    }\n",
       "\n",
       "    .dataframe tbody tr th {\n",
       "        vertical-align: top;\n",
       "    }\n",
       "\n",
       "    .dataframe thead th {\n",
       "        text-align: right;\n",
       "    }\n",
       "</style>\n",
       "<table border=\"1\" class=\"dataframe\">\n",
       "  <thead>\n",
       "    <tr style=\"text-align: right;\">\n",
       "      <th></th>\n",
       "      <th>Train Accuracy</th>\n",
       "      <th>Test Accuracy</th>\n",
       "    </tr>\n",
       "  </thead>\n",
       "  <tbody>\n",
       "    <tr>\n",
       "      <th>baseline</th>\n",
       "      <td>0.714539</td>\n",
       "      <td>0.696809</td>\n",
       "    </tr>\n",
       "    <tr>\n",
       "      <th>Single Logistic Regression</th>\n",
       "      <td>0.718085</td>\n",
       "      <td>0.707447</td>\n",
       "    </tr>\n",
       "    <tr>\n",
       "      <th>Logistic Regression</th>\n",
       "      <td>1.000000</td>\n",
       "      <td>0.829787</td>\n",
       "    </tr>\n",
       "    <tr>\n",
       "      <th>Lasso Logistic Regression</th>\n",
       "      <td>0.934397</td>\n",
       "      <td>0.893617</td>\n",
       "    </tr>\n",
       "    <tr>\n",
       "      <th>Logistic Regression with first 2 PCA vectors</th>\n",
       "      <td>0.753546</td>\n",
       "      <td>0.771277</td>\n",
       "    </tr>\n",
       "    <tr>\n",
       "      <th>Logistic Regression with first 310 PCA vectors</th>\n",
       "      <td>1.000000</td>\n",
       "      <td>0.787234</td>\n",
       "    </tr>\n",
       "  </tbody>\n",
       "</table>\n",
       "</div>"
      ],
      "text/plain": [
       "                                                Train Accuracy  Test Accuracy\n",
       "baseline                                              0.714539       0.696809\n",
       "Single Logistic Regression                            0.718085       0.707447\n",
       "Logistic Regression                                   1.000000       0.829787\n",
       "Lasso Logistic Regression                             0.934397       0.893617\n",
       "Logistic Regression with first 2 PCA vectors          0.753546       0.771277\n",
       "Logistic Regression with first 310 PCA vectors        1.000000       0.787234"
      ]
     },
     "execution_count": 30,
     "metadata": {},
     "output_type": "execute_result"
    }
   ],
   "source": [
    "logit_95 = LogisticRegression(penalty='none', solver='lbfgs').fit(X_train_pca[:, :n_components_pca], y_train_normal)\n",
    "training_accuracy_logit_95 = logit_95.score(X_train_pca[:, :n_components_pca], y_train_normal)\n",
    "testing_accuracy_logit_95 = logit_95.score(X_test_pca[:, :n_components_pca], y_test_normal)\n",
    "names.append('Logistic Regression with first 310 PCA vectors')\n",
    "scores.append([training_accuracy_logit_95, testing_accuracy_logit_95])\n",
    "df_results = pd.DataFrame(scores, index=names, columns=['Train Accuracy', 'Test Accuracy'])\n",
    "df_results"
   ]
  },
  {
   "cell_type": "code",
   "execution_count": 31,
   "metadata": {},
   "outputs": [
    {
     "data": {
      "text/html": [
       "<div>\n",
       "<style scoped>\n",
       "    .dataframe tbody tr th:only-of-type {\n",
       "        vertical-align: middle;\n",
       "    }\n",
       "\n",
       "    .dataframe tbody tr th {\n",
       "        vertical-align: top;\n",
       "    }\n",
       "\n",
       "    .dataframe thead th {\n",
       "        text-align: right;\n",
       "    }\n",
       "</style>\n",
       "<table border=\"1\" class=\"dataframe\">\n",
       "  <thead>\n",
       "    <tr style=\"text-align: right;\">\n",
       "      <th></th>\n",
       "      <th>Train Accuracy</th>\n",
       "      <th>Test Accuracy</th>\n",
       "    </tr>\n",
       "  </thead>\n",
       "  <tbody>\n",
       "    <tr>\n",
       "      <th>baseline</th>\n",
       "      <td>0.714539</td>\n",
       "      <td>0.696809</td>\n",
       "    </tr>\n",
       "    <tr>\n",
       "      <th>Single Logistic Regression</th>\n",
       "      <td>0.718085</td>\n",
       "      <td>0.707447</td>\n",
       "    </tr>\n",
       "    <tr>\n",
       "      <th>Logistic Regression</th>\n",
       "      <td>1.000000</td>\n",
       "      <td>0.829787</td>\n",
       "    </tr>\n",
       "    <tr>\n",
       "      <th>Lasso Logistic Regression</th>\n",
       "      <td>0.934397</td>\n",
       "      <td>0.893617</td>\n",
       "    </tr>\n",
       "    <tr>\n",
       "      <th>Logistic Regression with first 2 PCA vectors</th>\n",
       "      <td>0.753546</td>\n",
       "      <td>0.771277</td>\n",
       "    </tr>\n",
       "    <tr>\n",
       "      <th>Logistic Regression with first 310 PCA vectors</th>\n",
       "      <td>1.000000</td>\n",
       "      <td>0.787234</td>\n",
       "    </tr>\n",
       "    <tr>\n",
       "      <th>Logistic Regression with first 211 PCA vectors</th>\n",
       "      <td>0.996454</td>\n",
       "      <td>0.808511</td>\n",
       "    </tr>\n",
       "  </tbody>\n",
       "</table>\n",
       "</div>"
      ],
      "text/plain": [
       "                                                Train Accuracy  Test Accuracy\n",
       "baseline                                              0.714539       0.696809\n",
       "Single Logistic Regression                            0.718085       0.707447\n",
       "Logistic Regression                                   1.000000       0.829787\n",
       "Lasso Logistic Regression                             0.934397       0.893617\n",
       "Logistic Regression with first 2 PCA vectors          0.753546       0.771277\n",
       "Logistic Regression with first 310 PCA vectors        1.000000       0.787234\n",
       "Logistic Regression with first 211 PCA vectors        0.996454       0.808511"
      ]
     },
     "execution_count": 31,
     "metadata": {},
     "output_type": "execute_result"
    }
   ],
   "source": [
    "logit_90 = LogisticRegression(penalty='none', solver='lbfgs').fit(X_train_pca[:, :n_components_90], y_train_normal)\n",
    "training_accuracy_logit_90 = logit_90.score(X_train_pca[:, :n_components_90], y_train_normal)\n",
    "testing_accuracy_logit_90 = logit_90.score(X_test_pca[:, :n_components_90], y_test_normal)\n",
    "names.append('Logistic Regression with first 211 PCA vectors')\n",
    "scores.append([training_accuracy_logit_90, testing_accuracy_logit_90])\n",
    "df_results = pd.DataFrame(scores, index=names, columns=['Train Accuracy', 'Test Accuracy'])\n",
    "df_results"
   ]
  },
  {
   "cell_type": "markdown",
   "metadata": {},
   "source": [
    "One interesting fact to point out is that: the Constrained Logistic Regression model selected 230 features and generalized pretty well, while showing evidences that we do not overfit too much the data. However, when selecting **only** 211 features from the PCA decomposition, there are clear evidences that we do overfit the data and the drop in performances between training and testing result in the fact that our pca model performs worse than the lasso-penalized logistic regression."
   ]
  },
  {
   "cell_type": "markdown",
   "metadata": {
    "autograde": "4.2",
    "cell_id": "0a790850-87c6-4f46-b89e-048a2295c92b",
    "colab_type": "text",
    "id": "IGFtXJmQap2q"
   },
   "source": [
    "<div class='exercise-r'>  \n",
    "    \n",
    "**4.2** Use cross-validation to determine the best number of principal components. Try out the 3 values from the previous sub-part and optionally include other values as well."
   ]
  },
  {
   "cell_type": "code",
   "execution_count": 32,
   "metadata": {},
   "outputs": [],
   "source": [
    "import itertools"
   ]
  },
  {
   "cell_type": "code",
   "execution_count": 33,
   "metadata": {},
   "outputs": [],
   "source": [
    "# your code here\n",
    "max_num_features = X_train_pca.shape[0]\n",
    "scores_val = []\n",
    "lr = LogisticRegression(penalty='none', solver='lbfgs')\n",
    "for num_features in range(1, max_num_features):\n",
    "    score = np.mean(cross_val_score(lr, X_train_pca[:, :num_features], y_train_normal, cv=5))\n",
    "    scores_val.append(score)"
   ]
  },
  {
   "cell_type": "code",
   "execution_count": 34,
   "metadata": {},
   "outputs": [
    {
     "data": {
      "image/png": "[encoded data removed]",
      "text/plain": [
       "<Figure size 1440x720 with 1 Axes>"
      ]
     },
     "metadata": {
      "needs_background": "light"
     },
     "output_type": "display_data"
    }
   ],
   "source": [
    "fig, ax3= plt.subplots(1, figsize = (20, 10))\n",
    "ax3.set_title('5-fold Cross Validation performances according to the number of PCA features selected')\n",
    "ax3.set_xlabel('Number of PCA vectors selected')\n",
    "ax3.set_ylabel('Cross-Validation Accuracy')\n",
    "ax3.axvline(2, label='Previous attempted model with 2 PCA features', color='lightgreen')\n",
    "ax3.axvline(211, label='Previous attempted model with 211 PCA features', color='lightblue')\n",
    "ax3.axvline(310, label='Previous attempted model with 310 PCA features', color='lightpink')\n",
    "ax3.plot(scores_val, 'o-', label='Cross Validation Scores')\n",
    "plt.show(fig)"
   ]
  },
  {
   "cell_type": "code",
   "execution_count": 35,
   "metadata": {},
   "outputs": [
    {
     "name": "stdout",
     "output_type": "stream",
     "text": [
      "The best number of principal components is  25 and the corresponding validation score is  0.8758217446270544\n"
     ]
    }
   ],
   "source": [
    "print('The best number of principal components is ', np.argmax(scores_val), 'and the corresponding validation score is ', np.max(scores_val))"
   ]
  },
  {
   "cell_type": "code",
   "execution_count": 36,
   "metadata": {},
   "outputs": [],
   "source": [
    "n_components_val = np.argmax(scores_val)"
   ]
  },
  {
   "cell_type": "code",
   "execution_count": 37,
   "metadata": {},
   "outputs": [
    {
     "data": {
      "text/html": [
       "<div>\n",
       "<style scoped>\n",
       "    .dataframe tbody tr th:only-of-type {\n",
       "        vertical-align: middle;\n",
       "    }\n",
       "\n",
       "    .dataframe tbody tr th {\n",
       "        vertical-align: top;\n",
       "    }\n",
       "\n",
       "    .dataframe thead th {\n",
       "        text-align: right;\n",
       "    }\n",
       "</style>\n",
       "<table border=\"1\" class=\"dataframe\">\n",
       "  <thead>\n",
       "    <tr style=\"text-align: right;\">\n",
       "      <th></th>\n",
       "      <th>Train Accuracy</th>\n",
       "      <th>Test Accuracy</th>\n",
       "    </tr>\n",
       "  </thead>\n",
       "  <tbody>\n",
       "    <tr>\n",
       "      <th>baseline</th>\n",
       "      <td>0.714539</td>\n",
       "      <td>0.696809</td>\n",
       "    </tr>\n",
       "    <tr>\n",
       "      <th>Single Logistic Regression</th>\n",
       "      <td>0.718085</td>\n",
       "      <td>0.707447</td>\n",
       "    </tr>\n",
       "    <tr>\n",
       "      <th>Logistic Regression</th>\n",
       "      <td>1.000000</td>\n",
       "      <td>0.829787</td>\n",
       "    </tr>\n",
       "    <tr>\n",
       "      <th>Lasso Logistic Regression</th>\n",
       "      <td>0.934397</td>\n",
       "      <td>0.893617</td>\n",
       "    </tr>\n",
       "    <tr>\n",
       "      <th>Logistic Regression with first 2 PCA vectors</th>\n",
       "      <td>0.753546</td>\n",
       "      <td>0.771277</td>\n",
       "    </tr>\n",
       "    <tr>\n",
       "      <th>Logistic Regression with first 310 PCA vectors</th>\n",
       "      <td>1.000000</td>\n",
       "      <td>0.787234</td>\n",
       "    </tr>\n",
       "    <tr>\n",
       "      <th>Logistic Regression with first 211 PCA vectors</th>\n",
       "      <td>0.996454</td>\n",
       "      <td>0.808511</td>\n",
       "    </tr>\n",
       "    <tr>\n",
       "      <th>Validaton PCA Logistic Regression</th>\n",
       "      <td>0.881206</td>\n",
       "      <td>0.882979</td>\n",
       "    </tr>\n",
       "  </tbody>\n",
       "</table>\n",
       "</div>"
      ],
      "text/plain": [
       "                                                Train Accuracy  Test Accuracy\n",
       "baseline                                              0.714539       0.696809\n",
       "Single Logistic Regression                            0.718085       0.707447\n",
       "Logistic Regression                                   1.000000       0.829787\n",
       "Lasso Logistic Regression                             0.934397       0.893617\n",
       "Logistic Regression with first 2 PCA vectors          0.753546       0.771277\n",
       "Logistic Regression with first 310 PCA vectors        1.000000       0.787234\n",
       "Logistic Regression with first 211 PCA vectors        0.996454       0.808511\n",
       "Validaton PCA Logistic Regression                     0.881206       0.882979"
      ]
     },
     "execution_count": 37,
     "metadata": {},
     "output_type": "execute_result"
    }
   ],
   "source": [
    "logit_val = LogisticRegression(penalty='none', solver='lbfgs').fit(X_train_pca[:, :n_components_val], y_train_normal)\n",
    "training_accuracy_logit_val = logit_val.score(X_train_pca[:, :n_components_val], y_train_normal)\n",
    "testing_accuracy_logit_val = logit_val.score(X_test_pca[:, :n_components_val], y_test_normal)\n",
    "names.append('Validaton PCA Logistic Regression')\n",
    "scores.append([training_accuracy_logit_val, testing_accuracy_logit_val])\n",
    "df_results = pd.DataFrame(scores, index=names, columns=['Train Accuracy', 'Test Accuracy'])\n",
    "df_results"
   ]
  },
  {
   "cell_type": "markdown",
   "metadata": {},
   "source": [
    "#### <div class='exercise'><b>Question 5 [25 pts]: Multi-Class Response</b></div>"
   ]
  },
  {
   "cell_type": "markdown",
   "metadata": {},
   "source": [
    "[▲ Return to contents](#Contents)"
   ]
  },
  {
   "cell_type": "markdown",
   "metadata": {},
   "source": [
    "As mentioned earlier, there are actually two subtypes of `ALL` cancer: B-cell and T-cell.  The variable `Cancer_subtype` designates the 3 cancer cubtypes: \n",
    "- 0 = ALL Type T, \n",
    "- 1 = ALL Type B, and \n",
    "- 2 = AML.  \n",
    "Use this updated response variable to answer the following questions:\n",
    "\n",
    "**5.1** Fit two separate well-tuned, regularized (Ridge-like), multinomial logistic regression models to predict `Cancer_subtype`. For the first model, use the first two PCA components as predictors. For the second model, include  the quadratic and interaction terms for the first two PCA components, for a total of five predictors. Print and evaluate (with two or three sentences) the classification accuracy of the two models, on both train and test.\n",
    "\n",
    "**5.2** Create two separate scatter plots (one will be for each model above) of the first two principal components of the test data and denote the three cancer types by different color and marker.  Plot the decision boundaries separately on the two scatterplots and interpret the results:  which model appears to draw more reasonable decision boundaries?  Do the first two principal components appear to provide enough predictive power for this classification problem?\n",
    "\n",
    "**Hint: you can use the `meshgrid` as seen in lecture exercises to generate the decision boundaries.**\n",
    "\n",
    "**5.3** Use cross-validation to determine the best number of principal components for this multiclass problem. Consider the set of [2, 5, 10, 15, 20, 50, and 100] components.  Be sure to clearly substantiate your choice.\n",
    "\n",
    "**5.4** For your best model in the previous part, determine the classification accuracies within each observed (not predicted) subtype in test: which group is the most difficult to classify accurately?  Is this surprising?  Why or why not?\n",
    "\n",
    "**5.5** In the 2-class problem the classification threshold can be altered from 0.5 to affect the number of false positives and false negatives (this is what the ROC curve is based on). In the multiclass setting, the predicted class probabilities can be weighted to determine the winning class (so that a smaller class will not be 'ignored' by the algorithm): essentially, each class's predicted probability can be multiplied by this class weight and compared to determine the classification.\n",
    " \n",
    "Determine the classification accuracies in each observed subtype in test if instead the observations were weighted more 'fairly': they are inversely weighted based on the observed sample sizes in train (so that if there were just 2 groups in the response with 75% of the response in one class and 25% in the other, the smaller class should be weighted 3 times as much as the larger class).  \n",
    "\n",
    "Report the weights you used and the resulting classification accuracies in each subtype.  In what way have the results improved?  In what way have the results not improved?  Comment with 2-3 sentences."
   ]
  },
  {
   "cell_type": "markdown",
   "metadata": {},
   "source": [
    "<hr>"
   ]
  },
  {
   "cell_type": "markdown",
   "metadata": {},
   "source": [
    "\n",
    "## Answers"
   ]
  },
  {
   "cell_type": "markdown",
   "metadata": {
    "autograde": "5.1",
    "cell_id": "0a790850-87c6-4f46-b89e-048a2295c92b",
    "colab_type": "text",
    "id": "IGFtXJmQap2q"
   },
   "source": [
    "<div class='exercise-r'>  \n",
    " \n",
    "**5.1** Fit two separate well-tuned, regularized (Ridge-like), multinomial logistic regression models to predict `Cancer_subtype`. For the first model, use the first two PCA components as predictors. For the second model, include  the quadratic and interaction terms for the first two PCA components, for a total of five predictors. Print and evaluate (with two or three sentences) the classification accuracy of the two models, on both train and test.\n",
    " \n",
    " </div>"
   ]
  },
  {
   "cell_type": "code",
   "execution_count": 38,
   "metadata": {},
   "outputs": [],
   "source": [
    "y2_train_normal = y2_train.reset_index()\n",
    "y2_train_normal.drop('index', axis=1, inplace=True)\n",
    "y2_test_normal = y2_test.reset_index()\n",
    "y2_test_normal.drop('index', axis=1, inplace=True)"
   ]
  },
  {
   "cell_type": "code",
   "execution_count": 39,
   "metadata": {},
   "outputs": [],
   "source": [
    "y2_train_normal = pd.Series(np.hstack(y2_train_normal.values))\n",
    "y2_test_normal = pd.Series(np.hstack(y2_test_normal.values))"
   ]
  },
  {
   "cell_type": "code",
   "execution_count": 40,
   "metadata": {},
   "outputs": [
    {
     "data": {
      "text/html": [
       "<div>\n",
       "<style scoped>\n",
       "    .dataframe tbody tr th:only-of-type {\n",
       "        vertical-align: middle;\n",
       "    }\n",
       "\n",
       "    .dataframe tbody tr th {\n",
       "        vertical-align: top;\n",
       "    }\n",
       "\n",
       "    .dataframe thead th {\n",
       "        text-align: right;\n",
       "    }\n",
       "</style>\n",
       "<table border=\"1\" class=\"dataframe\">\n",
       "  <thead>\n",
       "    <tr style=\"text-align: right;\">\n",
       "      <th></th>\n",
       "      <th>Train Accuracy</th>\n",
       "      <th>Test Accuracy</th>\n",
       "    </tr>\n",
       "  </thead>\n",
       "  <tbody>\n",
       "    <tr>\n",
       "      <th>baseline</th>\n",
       "      <td>0.714539</td>\n",
       "      <td>0.696809</td>\n",
       "    </tr>\n",
       "    <tr>\n",
       "      <th>Single Logistic Regression</th>\n",
       "      <td>0.718085</td>\n",
       "      <td>0.707447</td>\n",
       "    </tr>\n",
       "    <tr>\n",
       "      <th>Logistic Regression</th>\n",
       "      <td>1.000000</td>\n",
       "      <td>0.829787</td>\n",
       "    </tr>\n",
       "    <tr>\n",
       "      <th>Lasso Logistic Regression</th>\n",
       "      <td>0.934397</td>\n",
       "      <td>0.893617</td>\n",
       "    </tr>\n",
       "    <tr>\n",
       "      <th>Logistic Regression with first 2 PCA vectors</th>\n",
       "      <td>0.753546</td>\n",
       "      <td>0.771277</td>\n",
       "    </tr>\n",
       "    <tr>\n",
       "      <th>Logistic Regression with first 310 PCA vectors</th>\n",
       "      <td>1.000000</td>\n",
       "      <td>0.787234</td>\n",
       "    </tr>\n",
       "    <tr>\n",
       "      <th>Logistic Regression with first 211 PCA vectors</th>\n",
       "      <td>0.996454</td>\n",
       "      <td>0.808511</td>\n",
       "    </tr>\n",
       "    <tr>\n",
       "      <th>Validaton PCA Logistic Regression</th>\n",
       "      <td>0.881206</td>\n",
       "      <td>0.882979</td>\n",
       "    </tr>\n",
       "    <tr>\n",
       "      <th>Multiclass Logistic Regression with first 2 PCA vectors</th>\n",
       "      <td>0.634752</td>\n",
       "      <td>0.648936</td>\n",
       "    </tr>\n",
       "  </tbody>\n",
       "</table>\n",
       "</div>"
      ],
      "text/plain": [
       "                                                    Train Accuracy  \\\n",
       "baseline                                                  0.714539   \n",
       "Single Logistic Regression                                0.718085   \n",
       "Logistic Regression                                       1.000000   \n",
       "Lasso Logistic Regression                                 0.934397   \n",
       "Logistic Regression with first 2 PCA vectors              0.753546   \n",
       "Logistic Regression with first 310 PCA vectors            1.000000   \n",
       "Logistic Regression with first 211 PCA vectors            0.996454   \n",
       "Validaton PCA Logistic Regression                         0.881206   \n",
       "Multiclass Logistic Regression with first 2 PCA...        0.634752   \n",
       "\n",
       "                                                    Test Accuracy  \n",
       "baseline                                                 0.696809  \n",
       "Single Logistic Regression                               0.707447  \n",
       "Logistic Regression                                      0.829787  \n",
       "Lasso Logistic Regression                                0.893617  \n",
       "Logistic Regression with first 2 PCA vectors             0.771277  \n",
       "Logistic Regression with first 310 PCA vectors           0.787234  \n",
       "Logistic Regression with first 211 PCA vectors           0.808511  \n",
       "Validaton PCA Logistic Regression                        0.882979  \n",
       "Multiclass Logistic Regression with first 2 PCA...       0.648936  "
      ]
     },
     "execution_count": 40,
     "metadata": {},
     "output_type": "execute_result"
    }
   ],
   "source": [
    "# your code here, fine tune le C\n",
    "Cs = [0.001, 0.01, 0.1, 1, 10, 100, 1000]\n",
    "logit_2_mc = LogisticRegressionCV(cv = 5, penalty='l2', Cs=Cs, scoring='accuracy', solver='lbfgs', max_iter=1000, multi_class='multinomial').fit(X_train_pca[:, :2], y2_train_normal)\n",
    "training_accuracy_logit_2_mc = logit_2_mc.score(X_train_pca[:, :2], y2_train_normal)\n",
    "testing_accuracy_logit_2_mc = logit_2_mc.score(X_test_pca[:, :2], y2_test_normal)\n",
    "names.append('Multiclass Logistic Regression with first 2 PCA vectors')\n",
    "scores.append([training_accuracy_logit_2_mc, testing_accuracy_logit_2_mc])\n",
    "df_results = pd.DataFrame(scores, index=names, columns=['Train Accuracy', 'Test Accuracy'])\n",
    "df_results"
   ]
  },
  {
   "cell_type": "code",
   "execution_count": 41,
   "metadata": {},
   "outputs": [
    {
     "name": "stdout",
     "output_type": "stream",
     "text": [
      "(564, 5)\n"
     ]
    }
   ],
   "source": [
    "poly_transformer = PolynomialFeatures(degree=2, include_bias=False)\n",
    "X_train_pca_poly = poly_transformer.fit_transform(X_train_pca[:, :2])\n",
    "X_test_pca_poly = poly_transformer.transform(X_test_pca[:, :2])\n",
    "print(X_train_pca_poly.shape)"
   ]
  },
  {
   "cell_type": "code",
   "execution_count": 42,
   "metadata": {},
   "outputs": [
    {
     "data": {
      "text/html": [
       "<div>\n",
       "<style scoped>\n",
       "    .dataframe tbody tr th:only-of-type {\n",
       "        vertical-align: middle;\n",
       "    }\n",
       "\n",
       "    .dataframe tbody tr th {\n",
       "        vertical-align: top;\n",
       "    }\n",
       "\n",
       "    .dataframe thead th {\n",
       "        text-align: right;\n",
       "    }\n",
       "</style>\n",
       "<table border=\"1\" class=\"dataframe\">\n",
       "  <thead>\n",
       "    <tr style=\"text-align: right;\">\n",
       "      <th></th>\n",
       "      <th>Train Accuracy</th>\n",
       "      <th>Test Accuracy</th>\n",
       "    </tr>\n",
       "  </thead>\n",
       "  <tbody>\n",
       "    <tr>\n",
       "      <th>baseline</th>\n",
       "      <td>0.714539</td>\n",
       "      <td>0.696809</td>\n",
       "    </tr>\n",
       "    <tr>\n",
       "      <th>Single Logistic Regression</th>\n",
       "      <td>0.718085</td>\n",
       "      <td>0.707447</td>\n",
       "    </tr>\n",
       "    <tr>\n",
       "      <th>Logistic Regression</th>\n",
       "      <td>1.000000</td>\n",
       "      <td>0.829787</td>\n",
       "    </tr>\n",
       "    <tr>\n",
       "      <th>Lasso Logistic Regression</th>\n",
       "      <td>0.934397</td>\n",
       "      <td>0.893617</td>\n",
       "    </tr>\n",
       "    <tr>\n",
       "      <th>Logistic Regression with first 2 PCA vectors</th>\n",
       "      <td>0.753546</td>\n",
       "      <td>0.771277</td>\n",
       "    </tr>\n",
       "    <tr>\n",
       "      <th>Logistic Regression with first 310 PCA vectors</th>\n",
       "      <td>1.000000</td>\n",
       "      <td>0.787234</td>\n",
       "    </tr>\n",
       "    <tr>\n",
       "      <th>Logistic Regression with first 211 PCA vectors</th>\n",
       "      <td>0.996454</td>\n",
       "      <td>0.808511</td>\n",
       "    </tr>\n",
       "    <tr>\n",
       "      <th>Validaton PCA Logistic Regression</th>\n",
       "      <td>0.881206</td>\n",
       "      <td>0.882979</td>\n",
       "    </tr>\n",
       "    <tr>\n",
       "      <th>Multiclass Logistic Regression with first 2 PCA vectors</th>\n",
       "      <td>0.634752</td>\n",
       "      <td>0.648936</td>\n",
       "    </tr>\n",
       "    <tr>\n",
       "      <th>Multiclass Logistic Regression with first 2 PCA vectors, quadratic and interaction terms</th>\n",
       "      <td>0.689716</td>\n",
       "      <td>0.702128</td>\n",
       "    </tr>\n",
       "  </tbody>\n",
       "</table>\n",
       "</div>"
      ],
      "text/plain": [
       "                                                    Train Accuracy  \\\n",
       "baseline                                                  0.714539   \n",
       "Single Logistic Regression                                0.718085   \n",
       "Logistic Regression                                       1.000000   \n",
       "Lasso Logistic Regression                                 0.934397   \n",
       "Logistic Regression with first 2 PCA vectors              0.753546   \n",
       "Logistic Regression with first 310 PCA vectors            1.000000   \n",
       "Logistic Regression with first 211 PCA vectors            0.996454   \n",
       "Validaton PCA Logistic Regression                         0.881206   \n",
       "Multiclass Logistic Regression with first 2 PCA...        0.634752   \n",
       "Multiclass Logistic Regression with first 2 PCA...        0.689716   \n",
       "\n",
       "                                                    Test Accuracy  \n",
       "baseline                                                 0.696809  \n",
       "Single Logistic Regression                               0.707447  \n",
       "Logistic Regression                                      0.829787  \n",
       "Lasso Logistic Regression                                0.893617  \n",
       "Logistic Regression with first 2 PCA vectors             0.771277  \n",
       "Logistic Regression with first 310 PCA vectors           0.787234  \n",
       "Logistic Regression with first 211 PCA vectors           0.808511  \n",
       "Validaton PCA Logistic Regression                        0.882979  \n",
       "Multiclass Logistic Regression with first 2 PCA...       0.648936  \n",
       "Multiclass Logistic Regression with first 2 PCA...       0.702128  "
      ]
     },
     "execution_count": 42,
     "metadata": {},
     "output_type": "execute_result"
    }
   ],
   "source": [
    "Cs = [0.001, 0.01, 0.1, 1, 10, 100, 1000]\n",
    "logit_2_mc_poly = LogisticRegressionCV(cv = 5, penalty='l2', Cs=Cs, scoring='accuracy', solver='lbfgs', max_iter=1000, multi_class='multinomial').fit(X_train_pca_poly, y2_train_normal)\n",
    "training_accuracy_logit_2_mc_poly = logit_2_mc_poly.score(X_train_pca_poly, y2_train_normal)\n",
    "testing_accuracy_logit_2_mc_poly = logit_2_mc_poly.score(X_test_pca_poly, y2_test_normal)\n",
    "names.append('Multiclass Logistic Regression with first 2 PCA vectors, quadratic and interaction terms')\n",
    "scores.append([training_accuracy_logit_2_mc_poly, testing_accuracy_logit_2_mc_poly])\n",
    "df_results = pd.DataFrame(scores, index=names, columns=['Train Accuracy', 'Test Accuracy'])\n",
    "df_results"
   ]
  },
  {
   "cell_type": "markdown",
   "metadata": {},
   "source": [
    "The table above displays the values of the classification accuracy for both models on the traning and testing sets. One remarkable finding is that the classification accuracy on the testing set (compared to the classification accuracy on the training set) is higher for both models, i.e. neither model overfitts on the training data. Another thing we observe is that adding the quadratic and interaction terms, we retain more information from the original dataset, and consequently, the classification accuracy for the second model is higher on both the training and the testing sets."
   ]
  },
  {
   "cell_type": "markdown",
   "metadata": {
    "autograde": "5.2",
    "cell_id": "0a790850-87c6-4f46-b89e-048a2295c92b",
    "colab_type": "text",
    "id": "IGFtXJmQap2q"
   },
   "source": [
    "<div class='exercise-r'>  \n",
    " \n",
    "**5.2** Create two separate scatter plots (one will be for each model above) of the first two principal components of the test data and denote the three cancer types by different color and marker.  Plot the decision boundaries separately on the two scatterplots and interpret the results:  which model appears to draw more reasonable decision boundaries?  Do the first two principal components appear to provide enough predictive power for this classification problem?\n",
    " \n",
    " **Hint: you can use the `meshgrid` as seen in lecture exercises to generate the decision boundaries.**\n",
    " \n",
    " </div>"
   ]
  },
  {
   "cell_type": "code",
   "execution_count": 43,
   "metadata": {},
   "outputs": [
    {
     "data": {
      "image/png": "[encoded data removed]",
      "text/plain": [
       "<Figure size 1008x1440 with 2 Axes>"
      ]
     },
     "metadata": {
      "needs_background": "light"
     },
     "output_type": "display_data"
    }
   ],
   "source": [
    "# your code here\n",
    "n = 100\n",
    "\n",
    "x1=np.linspace(np.min(X_test_pca[:, 0]),np.max(X_test_pca[:, 0]),n)\n",
    "x2=np.linspace(np.min(X_test_pca[:, 1]),np.max(X_test_pca[:, 1]),n)\n",
    "\n",
    "x1v, x2v = np.meshgrid(x1, x2)\n",
    "X = np.c_[x1v.ravel(), x2v.ravel()]\n",
    "\n",
    "X_dummy = PolynomialFeatures(degree=2, include_bias=False).fit_transform(X)\n",
    "\n",
    "yhat1 = logit_2_mc.predict(X)\n",
    "yhat2 = logit_2_mc_poly.predict(X_dummy)\n",
    "\n",
    "fig, ax = plt.subplots(2, 1,  figsize=(14, 20))\n",
    "\n",
    "ax[0].pcolormesh(x1v, x2v, yhat1.reshape(x1v.shape),alpha = 0.05) \n",
    "ax[0].scatter(X_test_pca[:, 0],X_test_pca[:, 1],c=y2_test_normal)\n",
    "ax[0].set_ylabel(\"PC2\", fontsize = 10)\n",
    "ax[0].set_xlabel(\"PC1\", fontsize = 10)\n",
    "ax[0].set_title(\"Decision Boundary, Multiclass Logistic Regression with 2 Principle Components\", fontsize = 14)\n",
    "\n",
    "ax[1].pcolormesh(x1v, x2v, yhat2.reshape(x1v.shape),alpha = 0.05) \n",
    "ax[1].scatter(X_test_pca[:, 0],X_test_pca[:, 1],c=y2_test_normal)\n",
    "ax[1].set_ylabel(\"PC2\", fontsize = 10)\n",
    "ax[1].set_xlabel(\"PC1\", fontsize = 10)\n",
    "ax[1].set_title(\"Decision Boundary, Multiclass Logistic Regression with 2 Principle Components, Quadratic and Interaction Terms\", fontsize = 14)\n",
    "plt.show()"
   ]
  },
  {
   "cell_type": "markdown",
   "metadata": {
    "autograde": "5.3",
    "cell_id": "0a790850-87c6-4f46-b89e-048a2295c92b",
    "colab_type": "text",
    "id": "IGFtXJmQap2q"
   },
   "source": [
    "<div class='exercise-r'>  \n",
    " \n",
    "**5.3** Use cross-validation to determine the best number of principal components for this multiclass problem. Consider the set of [2, 5, 10, 15, 20, 50, and 100] components.  Be sure to clearly substantiate your choice.\n",
    " \n",
    " </div>"
   ]
  },
  {
   "cell_type": "code",
   "execution_count": 44,
   "metadata": {},
   "outputs": [],
   "source": [
    "# your code here\n",
    "num_features = [2, 5, 10, 15, 20, 50, 100]\n",
    "scores_val = []\n",
    "lr = LogisticRegression(penalty='none', solver='lbfgs', multi_class='multinomial')\n",
    "for feature in num_features:\n",
    "    score = np.mean(cross_val_score(lr, X_train_pca[:, :feature], y2_train_normal, cv=5))\n",
    "    scores_val.append(score)"
   ]
  },
  {
   "cell_type": "code",
   "execution_count": 45,
   "metadata": {},
   "outputs": [
    {
     "data": {
      "image/png": "[encoded data removed]",
      "text/plain": [
       "<Figure size 1440x720 with 1 Axes>"
      ]
     },
     "metadata": {
      "needs_background": "light"
     },
     "output_type": "display_data"
    }
   ],
   "source": [
    "fig, ax3= plt.subplots(1, figsize = (20, 10))\n",
    "ax3.set_title('5-fold Cross Validation performances according to the number of PCA features selected for the MultiClass Setting')\n",
    "ax3.set_xlabel('Number of PCA vectors selected')\n",
    "ax3.set_ylabel('Cross-Validation Accuracy in the Multi-Class setting')\n",
    "ax3.plot(num_features, scores_val, 'o-', label='Cross Validation Scores')\n",
    "ax3.axvline(20, label='Best Number of Principal COmponents', color='lightgreen')\n",
    "plt.show(fig)"
   ]
  },
  {
   "cell_type": "code",
   "execution_count": 46,
   "metadata": {},
   "outputs": [
    {
     "name": "stdout",
     "output_type": "stream",
     "text": [
      "The best CV accuracy in the multi-class problem is attained when using  20  component vectors.\n"
     ]
    }
   ],
   "source": [
    "print('The best CV accuracy in the multi-class problem is attained when using ', str(num_features[np.argmax(scores_val)]), ' component vectors.')"
   ]
  },
  {
   "cell_type": "code",
   "execution_count": 47,
   "metadata": {},
   "outputs": [],
   "source": [
    "best_number_5 = num_features[np.argmax(scores_val)]"
   ]
  },
  {
   "cell_type": "markdown",
   "metadata": {
    "autograde": "5.4",
    "cell_id": "0a790850-87c6-4f46-b89e-048a2295c92b",
    "colab_type": "text",
    "id": "IGFtXJmQap2q"
   },
   "source": [
    "<div class='exercise-r'>  \n",
    " \n",
    "**5.4** For your best model in the previous part, determine the classification accuracies within each observed (not predicted) subtype in test: which group is the most difficult to classify accurately?  Is this surprising?  Why or why not?\n",
    " \n",
    " </div>"
   ]
  },
  {
   "cell_type": "code",
   "execution_count": 48,
   "metadata": {},
   "outputs": [
    {
     "data": {
      "text/html": [
       "<div>\n",
       "<style scoped>\n",
       "    .dataframe tbody tr th:only-of-type {\n",
       "        vertical-align: middle;\n",
       "    }\n",
       "\n",
       "    .dataframe tbody tr th {\n",
       "        vertical-align: top;\n",
       "    }\n",
       "\n",
       "    .dataframe thead th {\n",
       "        text-align: right;\n",
       "    }\n",
       "</style>\n",
       "<table border=\"1\" class=\"dataframe\">\n",
       "  <thead>\n",
       "    <tr style=\"text-align: right;\">\n",
       "      <th></th>\n",
       "      <th>Classification Accuracy</th>\n",
       "    </tr>\n",
       "  </thead>\n",
       "  <tbody>\n",
       "    <tr>\n",
       "      <th>ALL/T</th>\n",
       "      <td>0.333333</td>\n",
       "    </tr>\n",
       "    <tr>\n",
       "      <th>ALL/B</th>\n",
       "      <td>0.809524</td>\n",
       "    </tr>\n",
       "    <tr>\n",
       "      <th>ALM</th>\n",
       "      <td>0.902174</td>\n",
       "    </tr>\n",
       "  </tbody>\n",
       "</table>\n",
       "</div>"
      ],
      "text/plain": [
       "       Classification Accuracy\n",
       "ALL/T                 0.333333\n",
       "ALL/B                 0.809524\n",
       "ALM                   0.902174"
      ]
     },
     "metadata": {},
     "output_type": "display_data"
    }
   ],
   "source": [
    "lr = LogisticRegression(penalty='none', solver='lbfgs', multi_class='multinomial').fit(X_train_pca[:, :best_number_5], y2_train_normal)\n",
    "\n",
    "X_5_4 = pd.DataFrame(X_test_pca[:, :best_number_5])\n",
    "\n",
    "x0 = X_5_4[y2_test_normal == 0]\n",
    "y0 = y2_test_normal[y2_test_normal == 0]\n",
    "x1 = X_5_4[y2_test_normal == 1]\n",
    "y1 = y2_test_normal[y2_test_normal == 1]\n",
    "x2 = X_5_4[y2_test_normal == 2]\n",
    "y2 = y2_test_normal[y2_test_normal == 2]\n",
    "\n",
    "test54_x0 = lr.score(x0, y0)\n",
    "test54_x1 = lr.score(x1, y1)\n",
    "test54_x2 = lr.score(x2, y2)\n",
    "\n",
    "df_5_4 = pd.DataFrame([test54_x0, test54_x1, test54_x2], index = ['ALL/T', 'ALL/B', 'ALM'], columns = ['Classification Accuracy'])\n",
    "display(df_5_4)"
   ]
  },
  {
   "cell_type": "markdown",
   "metadata": {},
   "source": [
    "From the table above we observe that the most difficult group to predict is *group 0 (ALL type T)*. This observation is not surprising, but rather expected. The main reason is that the *ALL type T* group is underrepresented in the testing set and therefore it is 'ignored' by the Logistic Regression algorithm. Consequently we deduce that the Logistic Regression model, misclassifies *66.7%* of the observations that are originally *ALL type T* as either *ALL type B* or *ALM*."
   ]
  },
  {
   "cell_type": "markdown",
   "metadata": {
    "autograde": "5.5",
    "cell_id": "0a790850-87c6-4f46-b89e-048a2295c92b",
    "colab_type": "text",
    "id": "IGFtXJmQap2q"
   },
   "source": [
    "<div class='exercise-r'>  \n",
    " \n",
    "**5.5** In the 2-class problem the classification threshold can be altered from 0.5 to affect the number of false positives and false negatives (this is what the ROC curve is based on). In the multiclass setting, the predicted class probabilities can be weighted to determine the winning class (so that a smaller class will not be 'ignored' by the algorithm): essentially, each class's predicted probability can be multiplied by this class weight and compared to determine the classification.\n",
    " \n",
    " Determine the classification accuracies in each observed subtype in test if instead the observations were weighted more 'fairly': they are inversely weighted based on the observed sample sizes in train (so that if there were just 2 groups in the response with 75% of the response in one class and 25% in the other, the smaller class should be weighted 3 times as much as the larger class).\n",
    " \n",
    " Report the weights you used and the resulting classification accuracies in each subtype.  In what way have the results improved?  In what way have the results not improved?  Comment with 2-3 sentences.\n",
    " </div>"
   ]
  },
  {
   "cell_type": "code",
   "execution_count": 50,
   "metadata": {},
   "outputs": [
    {
     "name": "stdout",
     "output_type": "stream",
     "text": [
      "The weights for the three response classes are: (2.79, 1.46, 1.0).\n"
     ]
    },
    {
     "data": {
      "text/html": [
       "<div>\n",
       "<style scoped>\n",
       "    .dataframe tbody tr th:only-of-type {\n",
       "        vertical-align: middle;\n",
       "    }\n",
       "\n",
       "    .dataframe tbody tr th {\n",
       "        vertical-align: top;\n",
       "    }\n",
       "\n",
       "    .dataframe thead th {\n",
       "        text-align: right;\n",
       "    }\n",
       "</style>\n",
       "<table border=\"1\" class=\"dataframe\">\n",
       "  <thead>\n",
       "    <tr style=\"text-align: right;\">\n",
       "      <th></th>\n",
       "      <th>Classification Accuracy</th>\n",
       "    </tr>\n",
       "  </thead>\n",
       "  <tbody>\n",
       "    <tr>\n",
       "      <th>ALL/T</th>\n",
       "      <td>0.545455</td>\n",
       "    </tr>\n",
       "    <tr>\n",
       "      <th>ALL/B</th>\n",
       "      <td>0.634921</td>\n",
       "    </tr>\n",
       "    <tr>\n",
       "      <th>ALM</th>\n",
       "      <td>0.869565</td>\n",
       "    </tr>\n",
       "  </tbody>\n",
       "</table>\n",
       "</div>"
      ],
      "text/plain": [
       "       Classification Accuracy\n",
       "ALL/T                 0.545455\n",
       "ALL/B                 0.634921\n",
       "ALM                   0.869565"
      ]
     },
     "metadata": {},
     "output_type": "display_data"
    }
   ],
   "source": [
    "# your code here\n",
    "s0 = np.sum(y2_test_normal == 0)\n",
    "s1 = np.sum(y2_test_normal == 1)\n",
    "s2 = np.sum(y2_test_normal == 2)\n",
    "max_s = np.max([s0,s1,s2])\n",
    "w0 = max_s/s0\n",
    "w1 = max_s/s1\n",
    "w2 = max_s/s2\n",
    "\n",
    "print(f\"The weights for the three response classes are: {np.round(w0,2), np.round(w1,2), np.round(w2,2)}.\")\n",
    "\n",
    "lr1 = LogisticRegression(penalty='none', solver='lbfgs', multi_class='multinomial', class_weight={0:w0,1:w1,2:w2}).fit(X_train_pca[:, :best_number_5], y2_train_normal)\n",
    "\n",
    "X_5_5 = pd.DataFrame(X_test_pca[:, :best_number_5])\n",
    "\n",
    "x0 = X_5_5[y2_test_normal == 0]\n",
    "y0 = y2_test_normal[y2_test_normal == 0]\n",
    "x1 = X_5_5[y2_test_normal == 1]\n",
    "y1 = y2_test_normal[y2_test_normal == 1]\n",
    "x2 = X_5_5[y2_test_normal == 2]\n",
    "y2 = y2_test_normal[y2_test_normal == 2]\n",
    "\n",
    "test55_x0 = lr1.score(x0, y0)\n",
    "test55_x1 = lr1.score(x1, y1)\n",
    "test55_x2 = lr1.score(x2, y2)\n",
    "\n",
    "df_5_5 = pd.DataFrame([test55_x0, test55_x1, test55_x2], index = ['ALL/T', 'ALL/B', 'ALM'], columns = ['Classification Accuracy'])\n",
    "display(df_5_5)\n"
   ]
  },
  {
   "cell_type": "markdown",
   "metadata": {},
   "source": [
    "The weights for the three response classes are: $w_{ALL/T} = 2.79; w_{ALL/B} = 1.46; w_{ALM} = 1.0$. The values of the weights were determined using the approach explained in the problem definition.\n",
    "\n",
    "We observe from the table above, as expected, that the classification accuracy for the *ALL type T* class has improved, but the classification accuracies for the *ALL type B* and *ALM* classes have both decreased. The reason for this behaviour is that we have altered the values of the classification boundaries, adjusting them towards improving the classification accuracy for the underrepresented *ALL type T* class. Consequently, adjusting the boundaries to improve the prediction accuracy for one class, leads to a subsequent decrease in the classification accuracies for the other two classes."
   ]
  },
  {
   "cell_type": "code",
   "execution_count": null,
   "metadata": {},
   "outputs": [],
   "source": []
  }
 ],
 "metadata": {
  "colab": {
   "collapsed_sections": [],
   "name": "hw1-part1.ipynb",
   "provenance": []
  },
  "deepnote_execution_queue": [],
  "deepnote_notebook_id": "5e5027d5-1cf7-4394-a1d5-c57eaedde1db",
  "kernelspec": {
   "display_name": "Python 3",
   "language": "python",
   "name": "python3"
  },
  "language_info": {
   "codemirror_mode": {
    "name": "ipython",
    "version": 3
   },
   "file_extension": ".py",
   "mimetype": "text/x-python",
   "name": "python",
   "nbconvert_exporter": "python",
   "pygments_lexer": "ipython3",
   "version": "3.8.3"
  }
 },
 "nbformat": 4,
 "nbformat_minor": 4
}
