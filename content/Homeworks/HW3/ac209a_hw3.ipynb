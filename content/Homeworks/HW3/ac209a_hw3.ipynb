{
 "cells": [
  {
   "cell_type": "markdown",
   "metadata": {
    "deletable": false,
    "editable": false
   },
   "source": [
    "# <img style=\"float: left; padding-right: 10px; width: 45px\" src=\"https://raw.githubusercontent.com/Harvard-IACS/2018-CS109A/master/content/styles/iacs.png\"> CS109A Introduction to Data Science: \n",
    "\n",
    "## Homework 3  AC 209 : Linear Algebra, Accuracy, and Confidence Intervals\n",
    "\n",
    "\n",
    "**Harvard University**<br/>\n",
    "**Fall 2020**<br/>\n",
    "**Instructors**: Pavlos Protopapas, Kevin Rader, and Chris Tanner\n",
    "\n",
    "<hr style=\"height:2pt\">\n"
   ]
  },
  {
   "cell_type": "code",
   "execution_count": 1,
   "metadata": {
    "deletable": false,
    "editable": false
   },
   "outputs": [
    {
     "data": {
      "text/html": [
       "<style>\n",
       "blockquote { background: #AEDE94; }\n",
       "h1 { \n",
       "    padding-top: 25px;\n",
       "    padding-bottom: 25px;\n",
       "    text-align: left; \n",
       "    padding-left: 10px;\n",
       "    background-color: #DDDDDD; \n",
       "    color: black;\n",
       "}\n",
       "h2 { \n",
       "    padding-top: 10px;\n",
       "    padding-bottom: 10px;\n",
       "    text-align: left; \n",
       "    padding-left: 5px;\n",
       "    background-color: #EEEEEE; \n",
       "    color: black;\n",
       "}\n",
       "\n",
       "div.exercise {\n",
       "\tbackground-color: #ffcccc;\n",
       "\tborder-color: #E9967A; \t\n",
       "\tborder-left: 5px solid #800080; \n",
       "\tpadding: 0.5em;\n",
       "}\n",
       "\n",
       "div.exercise-r {\n",
       "\tbackground-color: #fce8e8;\n",
       "\tborder-color: #E9967A; \t\n",
       "\tborder-left: 5px solid #800080; \n",
       "\tpadding: 0.5em;\n",
       "}\n",
       "\n",
       "\n",
       "span.sub-q {\n",
       "\tfont-weight: bold;\n",
       "}\n",
       "div.theme {\n",
       "\tbackground-color: #DDDDDD;\n",
       "\tborder-color: #E9967A; \t\n",
       "\tborder-left: 5px solid #800080; \n",
       "\tpadding: 0.5em;\n",
       "\tfont-size: 18pt;\n",
       "}\n",
       "div.gc { \n",
       "\tbackground-color: #AEDE94;\n",
       "\tborder-color: #E9967A; \t \n",
       "\tborder-left: 5px solid #800080; \n",
       "\tpadding: 0.5em;\n",
       "\tfont-size: 12pt;\n",
       "}\n",
       "p.q1 { \n",
       "    padding-top: 5px;\n",
       "    padding-bottom: 5px;\n",
       "    text-align: left; \n",
       "    padding-left: 5px;\n",
       "    background-color: #EEEEEE; \n",
       "    color: black;\n",
       "}\n",
       "header {\n",
       "   padding-top: 35px;\n",
       "    padding-bottom: 35px;\n",
       "    text-align: left; \n",
       "    padding-left: 10px;\n",
       "    background-color: #DDDDDD; \n",
       "    color: black;\n",
       "}\n",
       "</style>\n",
       "\n"
      ],
      "text/plain": [
       "<IPython.core.display.HTML object>"
      ]
     },
     "execution_count": 1,
     "metadata": {},
     "output_type": "execute_result"
    }
   ],
   "source": [
    "#RUN THIS CELL \n",
    "import requests\n",
    "from IPython.core.display import HTML\n",
    "styles = requests.get(\"https://raw.githubusercontent.com/Harvard-IACS/2018-CS109A/master/content/styles/cs109.css\").text\n",
    "HTML(styles)"
   ]
  },
  {
   "cell_type": "markdown",
   "metadata": {
    "deletable": false,
    "editable": false
   },
   "source": [
    "### INSTRUCTIONS\n",
    "\n",
    "- To submit your assignment follow the instructions given in canvas.\n",
    "- As much as possible, try and stick to the hints and functions we import at the top of the homework, as those are the ideas and tools the class supports and is aiming to teach. And if a problem specifies a particular library you're required to use that library, and possibly others from the import list.\n",
    "- Restart the kernel and run the whole notebook again before you submit. \n",
    "- Please use .head() when viewing data. Do not submit a notebook that is excessively long because output was not suppressed."
   ]
  },
  {
   "cell_type": "markdown",
   "metadata": {
    "deletable": false,
    "editable": false
   },
   "source": [
    "<hr style=\"height:2pt\">"
   ]
  },
  {
   "cell_type": "code",
   "execution_count": 2,
   "metadata": {
    "deletable": false,
    "editable": false,
    "scrolled": true
   },
   "outputs": [],
   "source": [
    "import numpy as np\n",
    "import pandas as pd\n",
    "import matplotlib\n",
    "import matplotlib.pyplot as plt\n",
    "from sklearn.metrics import r2_score\n",
    "from sklearn.neighbors import KNeighborsRegressor\n",
    "from sklearn.linear_model import LinearRegression\n",
    "from sklearn.model_selection import train_test_split\n",
    "import statsmodels.api as sm\n",
    "from statsmodels.api import OLS\n",
    "%matplotlib inline"
   ]
  },
  {
   "cell_type": "markdown",
   "metadata": {
    "deletable": false,
    "editable": false
   },
   "source": [
    "<hr style=\"height:2pt\">\n",
    "<hr style=\"height:2pt\">\n",
    "\n",
    "<div class='theme'> <b>Linear Algebra, Accuracy, and Confidence Intervals</b> </div>\n",
    "\n",
    "In this part of the homework, you will see how *uncertainty* in the $\\beta$ coefficients can directly impact our ability to make predictions with a linear regression model and how in general we can do inference on the predictors. \n",
    "\n",
    "The data for this supplement are imported for you in the cells below."
   ]
  },
  {
   "cell_type": "markdown",
   "metadata": {
    "deletable": false,
    "editable": false
   },
   "source": [
    "First a little review. The linear model assumes:\n",
    "$$ y_i \\sim N(\\beta_0+\\beta_1 x_i,\\sigma^2 )   $$\n",
    "\n",
    "This means, pun intended, that $ \\mu_{y_i} = \\beta_0+\\beta_1 x_i $, which can be estimated with $ \\hat{\\mu}_{y_i} = \\hat{\\beta}_0+\\hat{\\beta}_1 x_i $.\n",
    "\n",
    "And for a new observation not in the data set, once we measure the new predictor value, $x^*$, we can predict its response, $y^*$, from our model as:\n",
    "$$\\hat{y}^* = \\hat{\\mu}_{y_i} + \\hat{\\varepsilon}^* $$\n",
    "\n",
    "Which can be calculated by using the estimate for $\\hat{\\mu}_{y_i}$ and adding on a randomly selected value for $\\hat{\\varepsilon}^*$ from its assumed (and estimated) distribution, $N(0,\\hat{\\sigma}^2)$.\n"
   ]
  },
  {
   "cell_type": "code",
   "execution_count": 3,
   "metadata": {
    "deletable": false,
    "editable": false
   },
   "outputs": [
    {
     "data": {
      "text/html": [
       "<div>\n",
       "<style scoped>\n",
       "    .dataframe tbody tr th:only-of-type {\n",
       "        vertical-align: middle;\n",
       "    }\n",
       "\n",
       "    .dataframe tbody tr th {\n",
       "        vertical-align: top;\n",
       "    }\n",
       "\n",
       "    .dataframe thead th {\n",
       "        text-align: right;\n",
       "    }\n",
       "</style>\n",
       "<table border=\"1\" class=\"dataframe\">\n",
       "  <thead>\n",
       "    <tr style=\"text-align: right;\">\n",
       "      <th></th>\n",
       "      <th>name</th>\n",
       "      <th>mpg</th>\n",
       "      <th>cyl</th>\n",
       "      <th>disp</th>\n",
       "      <th>hp</th>\n",
       "      <th>drat</th>\n",
       "      <th>wt</th>\n",
       "      <th>qsec</th>\n",
       "      <th>vs</th>\n",
       "      <th>am</th>\n",
       "      <th>gear</th>\n",
       "      <th>carb</th>\n",
       "    </tr>\n",
       "  </thead>\n",
       "  <tbody>\n",
       "    <tr>\n",
       "      <th>0</th>\n",
       "      <td>Mazda RX4</td>\n",
       "      <td>21.0</td>\n",
       "      <td>6</td>\n",
       "      <td>160.0</td>\n",
       "      <td>110</td>\n",
       "      <td>3.90</td>\n",
       "      <td>2.620</td>\n",
       "      <td>16.46</td>\n",
       "      <td>0</td>\n",
       "      <td>1</td>\n",
       "      <td>4</td>\n",
       "      <td>4</td>\n",
       "    </tr>\n",
       "    <tr>\n",
       "      <th>1</th>\n",
       "      <td>Mazda RX4 Wag</td>\n",
       "      <td>21.0</td>\n",
       "      <td>6</td>\n",
       "      <td>160.0</td>\n",
       "      <td>110</td>\n",
       "      <td>3.90</td>\n",
       "      <td>2.875</td>\n",
       "      <td>17.02</td>\n",
       "      <td>0</td>\n",
       "      <td>1</td>\n",
       "      <td>4</td>\n",
       "      <td>4</td>\n",
       "    </tr>\n",
       "    <tr>\n",
       "      <th>2</th>\n",
       "      <td>Datsun 710</td>\n",
       "      <td>22.8</td>\n",
       "      <td>4</td>\n",
       "      <td>108.0</td>\n",
       "      <td>93</td>\n",
       "      <td>3.85</td>\n",
       "      <td>2.320</td>\n",
       "      <td>18.61</td>\n",
       "      <td>1</td>\n",
       "      <td>1</td>\n",
       "      <td>4</td>\n",
       "      <td>1</td>\n",
       "    </tr>\n",
       "    <tr>\n",
       "      <th>3</th>\n",
       "      <td>Hornet 4 Drive</td>\n",
       "      <td>21.4</td>\n",
       "      <td>6</td>\n",
       "      <td>258.0</td>\n",
       "      <td>110</td>\n",
       "      <td>3.08</td>\n",
       "      <td>3.215</td>\n",
       "      <td>19.44</td>\n",
       "      <td>1</td>\n",
       "      <td>0</td>\n",
       "      <td>3</td>\n",
       "      <td>1</td>\n",
       "    </tr>\n",
       "    <tr>\n",
       "      <th>4</th>\n",
       "      <td>Hornet Sportabout</td>\n",
       "      <td>18.7</td>\n",
       "      <td>8</td>\n",
       "      <td>360.0</td>\n",
       "      <td>175</td>\n",
       "      <td>3.15</td>\n",
       "      <td>3.440</td>\n",
       "      <td>17.02</td>\n",
       "      <td>0</td>\n",
       "      <td>0</td>\n",
       "      <td>3</td>\n",
       "      <td>2</td>\n",
       "    </tr>\n",
       "  </tbody>\n",
       "</table>\n",
       "</div>"
      ],
      "text/plain": [
       "                name   mpg  cyl   disp   hp  drat     wt   qsec  vs  am  gear  \\\n",
       "0          Mazda RX4  21.0    6  160.0  110  3.90  2.620  16.46   0   1     4   \n",
       "1      Mazda RX4 Wag  21.0    6  160.0  110  3.90  2.875  17.02   0   1     4   \n",
       "2         Datsun 710  22.8    4  108.0   93  3.85  2.320  18.61   1   1     4   \n",
       "3     Hornet 4 Drive  21.4    6  258.0  110  3.08  3.215  19.44   1   0     3   \n",
       "4  Hornet Sportabout  18.7    8  360.0  175  3.15  3.440  17.02   0   0     3   \n",
       "\n",
       "   carb  \n",
       "0     4  \n",
       "1     4  \n",
       "2     1  \n",
       "3     1  \n",
       "4     2  "
      ]
     },
     "execution_count": 3,
     "metadata": {},
     "output_type": "execute_result"
    }
   ],
   "source": [
    "import pandas as pd\n",
    "import statsmodels.api as sm\n",
    "import numpy as np\n",
    "import matplotlib.pyplot as plt\n",
    "\n",
    "df=pd.read_csv(\"data/cleaned_mtcars.csv\")\n",
    "df.head()"
   ]
  },
  {
   "cell_type": "code",
   "execution_count": 4,
   "metadata": {
    "deletable": false,
    "editable": false
   },
   "outputs": [],
   "source": [
    "y = df[['mpg']].values\n",
    "X = df[['cyl','disp','hp','wt','qsec']]\n",
    "\n",
    "\n",
    "X = sm.add_constant(X)"
   ]
  },
  {
   "cell_type": "markdown",
   "metadata": {
    "deletable": false,
    "editable": false
   },
   "source": [
    "---- \n"
   ]
  },
  {
   "cell_type": "markdown",
   "metadata": {
    "deletable": false,
    "editable": false
   },
   "source": [
    "<div class='exercise'> <b> Question 1 [20 pts] </b>\n",
    "\n",
    "**1.1** Fit a simple linear regression model predicting `mpg` via `disp`. Use the `FittedOLS.get_prediction().summary_frame()` method to access the confidence intervals for our true mean predictions at various values of `disp` and make a well-labeled plot showing\n",
    " 1. The observed values of `disp` and `mpg`.\n",
    " 2. The estimated regression line.\n",
    " 3. The upper and lower bounds of the 95% confidence interval for the true average (not the observed) `mpg` at any given displacement.\n",
    " \n",
    "**1.2** Why do we have a confidence interval for our true mean prediction values?  Why isn't the mean prediction just a single number?\n",
    "\n",
    "**1.3** Someone asks what mean `mpg` you would predict for a `disp` value of 400. What do you tell them?  Paying attention to the confidence interval (1.1.3) above?\n",
    "\n",
    "**1.4** Why does the 95% confidence interval for the mean predicted `mpg` appear to curve as we move away from the data's center? \n",
    "\n",
    "**1.5** An alternative way to produce the confidence intervals from 1.1 is through the bootstrap.  Create 100 bootstrap samples in order to create 100 bootstrapped regression models and store their estimated intercept and slope values.  Use these bootstrapped estimates to build the 95\\% confidence intervals as in 1.1, and recreate the plot from that question with your new bootstrapped confidence intervals.  Compare this new plot to the one from 1.1.\n",
    "\n",
    "**1.6** Another interval of uncertainty in a regression model is called a *prediction interval*.  A prediction interval gives a range of plausible values for a future individual observation, $\\hat{y}^*$, given a specific value of $x$ in general (`disp` here).  How should the 95\\% prediction interval calculated at a `disp` value of 400 compare to the corresponding 95\\% confidence interval for the mean predicted `mpg`?  Justify with a few sentences.\n",
    "    \n",
    " </div>"
   ]
  },
  {
   "cell_type": "markdown",
   "metadata": {
    "deletable": false,
    "editable": false
   },
   "source": [
    "### Answers"
   ]
  },
  {
   "cell_type": "markdown",
   "metadata": {
    "autograde": "1.1",
    "deletable": false,
    "editable": false
   },
   "source": [
    "<div class='exercise-r'>  \n",
    " \n",
    "**1.1** Fit a simple linear regression model predicting `mpg` via `disp`. Use the `FittedOLS.get_prediction().summary_frame()` method to access the confidence intervals for our true mean predictions at various values of `disp` and make a well-labeled plot showing\n",
    " 1. The observed values of `disp` and `mpg`.\n",
    " 2. The estimated regression line.\n",
    " 3. The upper and lower bounds of the 95% confidence interval for the true average (not the observed) `mpg` at any given displacement.\n",
    " \n",
    " </div>"
   ]
  },
  {
   "cell_type": "code",
   "execution_count": 45,
   "metadata": {
    "deletable": false
   },
   "outputs": [],
   "source": [
    "# your code here \n",
    "X_disp = X[['const', 'disp']]\n",
    "ols1 = sm.OLS(y, X_disp).fit()\n",
    "summary = ols1.get_prediction().summary_frame()\n",
    "summary['x_disp'] = X['disp']\n",
    "summary['y'] = y\n",
    "summary.sort_values(by='x_disp', inplace=True)\n",
    "mean_values = summary['mean']\n",
    "lower_CI = summary['mean_ci_lower']\n",
    "upper_CI = summary['mean_ci_upper']\n"
   ]
  },
  {
   "cell_type": "code",
   "execution_count": 51,
   "metadata": {},
   "outputs": [
    {
     "data": {
      "image/png": "[encoded data removed]",
      "text/plain": [
       "<Figure size 1440x720 with 1 Axes>"
      ]
     },
     "metadata": {
      "needs_background": "light"
     },
     "output_type": "display_data"
    }
   ],
   "source": [
    "plt.figure(figsize = (20, 10))\n",
    "plt.scatter(summary['x_disp'], summary['y'], label='True Values')\n",
    "plt.plot(summary['x_disp'], lower_CI, color='blue', alpha = 0.4, label = 'Lower bound of the 95% CI for mpg')\n",
    "plt.plot(summary['x_disp'], upper_CI, color='blue', alpha=0.4, label = 'Upper bound of the 95% CI for mpg')\n",
    "plt.fill_between(summary['x_disp'], lower_CI, upper_CI, color='blue', alpha = 0.1, label='95% CI for mpg')\n",
    "plt.plot(summary['x_disp'], mean_values, color='coral')\n",
    "plt.title('VIsualization of the Data, the fitted model and Confidence Interval on the distribution of the variable of interest')\n",
    "plt.xlabel('Disp')\n",
    "plt.ylabel('mpg')\n",
    "plt.legend()\n",
    "plt.show()"
   ]
  },
  {
   "cell_type": "markdown",
   "metadata": {
    "autograde": "1.2",
    "deletable": false,
    "editable": false
   },
   "source": [
    "<div class='exercise-r'>  \n",
    " \n",
    "**1.2** Why do we have a confidence interval for our true mean prediction values?  Why isn't the mean prediction just a single number?\n",
    " \n",
    " </div>"
   ]
  },
  {
   "cell_type": "markdown",
   "metadata": {
    "deletable": false
   },
   "source": [
    "Until now, we have always computed the MLE of the parameters for Linear Regression. However, when we do not want to compute point-estimate for our parameters, in order to have an understanding of the distribution of the coefficients, we will have Confidence Interval for the parameters. These Confidence Intervals can be obtained by bootstrapping our Training Data and computing the percentiles for parameters estimate of every bootstrapped training set, or analytically when we know the variance of the random noise (we can estimate it via MLE). "
   ]
  },
  {
   "cell_type": "markdown",
   "metadata": {
    "autograde": "1.3",
    "deletable": false,
    "editable": false
   },
   "source": [
    "<div class='exercise-r'>  \n",
    " \n",
    "**1.3** Someone asks what mean `mpg` you would predict for a `disp` value of 400. What do you tell them?  Paying attention to the confidence interval (1.1.3) above?\n",
    " \n",
    " </div>"
   ]
  },
  {
   "cell_type": "code",
   "execution_count": 62,
   "metadata": {},
   "outputs": [
    {
     "data": {
      "text/html": [
       "<div>\n",
       "<style scoped>\n",
       "    .dataframe tbody tr th:only-of-type {\n",
       "        vertical-align: middle;\n",
       "    }\n",
       "\n",
       "    .dataframe tbody tr th {\n",
       "        vertical-align: top;\n",
       "    }\n",
       "\n",
       "    .dataframe thead th {\n",
       "        text-align: right;\n",
       "    }\n",
       "</style>\n",
       "<table border=\"1\" class=\"dataframe\">\n",
       "  <thead>\n",
       "    <tr style=\"text-align: right;\">\n",
       "      <th></th>\n",
       "      <th>mean</th>\n",
       "      <th>mean_se</th>\n",
       "      <th>mean_ci_lower</th>\n",
       "      <th>mean_ci_upper</th>\n",
       "      <th>obs_ci_lower</th>\n",
       "      <th>obs_ci_upper</th>\n",
       "      <th>x_disp</th>\n",
       "      <th>y</th>\n",
       "    </tr>\n",
       "  </thead>\n",
       "  <tbody>\n",
       "    <tr>\n",
       "      <th>24</th>\n",
       "      <td>13.113807</td>\n",
       "      <td>0.983136</td>\n",
       "      <td>11.105976</td>\n",
       "      <td>15.121638</td>\n",
       "      <td>6.176537</td>\n",
       "      <td>20.051077</td>\n",
       "      <td>400.0</td>\n",
       "      <td>19.2</td>\n",
       "    </tr>\n",
       "  </tbody>\n",
       "</table>\n",
       "</div>"
      ],
      "text/plain": [
       "         mean   mean_se  mean_ci_lower  mean_ci_upper  obs_ci_lower  \\\n",
       "24  13.113807  0.983136      11.105976      15.121638      6.176537   \n",
       "\n",
       "    obs_ci_upper  x_disp     y  \n",
       "24     20.051077   400.0  19.2  "
      ]
     },
     "execution_count": 62,
     "metadata": {},
     "output_type": "execute_result"
    }
   ],
   "source": [
    "values = summary[summary['x_disp']==400]\n",
    "lower_CI, upper_CI = values['mean_ci_lower'].values[0], values['mean_ci_upper'].values[0]\n",
    "values"
   ]
  },
  {
   "cell_type": "code",
   "execution_count": 63,
   "metadata": {
    "deletable": false
   },
   "outputs": [
    {
     "name": "stdout",
     "output_type": "stream",
     "text": [
      "The estimation of the mean mpg for a disp value of 400 would lie between 11.105975775409771 and 15.121637766689215\n"
     ]
    }
   ],
   "source": [
    "# your code here\n",
    "print('The estimation of the mean mpg for a disp value of 400 would lie between ' + str(lower_CI) + ' and '+str(upper_CI))"
   ]
  },
  {
   "cell_type": "markdown",
   "metadata": {
    "deletable": false
   },
   "source": [
    "*Your answer here*"
   ]
  },
  {
   "cell_type": "markdown",
   "metadata": {
    "autograde": "1.4",
    "deletable": false,
    "editable": false
   },
   "source": [
    "<div class='exercise-r'>  \n",
    " \n",
    "**1.4** Why does the 95% confidence interval for the mean predicted `mpg` appear to curve as we move away from the data's center?\n",
    " \n",
    " </div>"
   ]
  },
  {
   "cell_type": "markdown",
   "metadata": {
    "deletable": false
   },
   "source": [
    "The expected shape for the 95% interval for the mean predicted interval is: narrow when we have a lot of training examples and quite wider when we are far away from the data. This is what happens in this case: when we see a lot of training data, we are pretty more confident for our estimate than when we do not see much training data."
   ]
  },
  {
   "cell_type": "markdown",
   "metadata": {
    "autograde": "1.5",
    "deletable": false,
    "editable": false
   },
   "source": [
    "<div class='exercise-r'>  \n",
    " \n",
    "**1.5** An alternative way to produce the confidence intervals from 1.1 is through the bootstrap.  Create 100 bootstrap samples in order to create 100 bootstrapped regression models and store their estimated intercept and slope values.  Use these bootstrapped estimates to build the 95\\% confidence intervals as in 1.1, and recreate the plot from that question with your new bootstrapped confidence intervals.  Compare this new plot to the one from 1.1.\n",
    " \n",
    " </div>"
   ]
  },
  {
   "cell_type": "code",
   "execution_count": 68,
   "metadata": {
    "deletable": false
   },
   "outputs": [],
   "source": [
    "# your code here\n",
    "import itertools\n",
    "params = []\n",
    "n_bootstrap = 100\n",
    "for _ in itertools.repeat(None, n_bootstrap):\n",
    "    df_bootstrapped = df.sample(frac=1, replace=True)\n",
    "    y = df_bootstrapped[['mpg']].values\n",
    "    X = df_bootstrapped[['cyl','disp','hp','wt','qsec']]\n",
    "    X = sm.add_constant(X)\n",
    "    X_disp = X[['const', 'disp']]\n",
    "    ols1 = sm.OLS(y, X_disp).fit()\n",
    "    params.append(ols1.params)"
   ]
  },
  {
   "cell_type": "code",
   "execution_count": 87,
   "metadata": {},
   "outputs": [],
   "source": [
    "X_disp = X[['const', 'disp']]\n",
    "ols1 = sm.OLS(y, X_disp).fit()\n",
    "beta0, beta1 = ols1.params"
   ]
  },
  {
   "cell_type": "code",
   "execution_count": 88,
   "metadata": {},
   "outputs": [
    {
     "name": "stdout",
     "output_type": "stream",
     "text": [
      "(100, 500)\n"
     ]
    }
   ],
   "source": [
    "x_plot =np.linspace(0, 500, 500)\n",
    "predictions = []\n",
    "for x in x_plot:\n",
    "    pred_y = []\n",
    "    for param in params:\n",
    "        pred_y_param = param[0]+param[1]*x\n",
    "        pred_y.append(pred_y_param)\n",
    "    predictions.append(pred_y)\n",
    "predictions = np.asarray(predictions).T\n",
    "print(predictions.shape)\n",
    "lower_CIs = [np.percentile(predictions[:, i], 2.5) for i in range(predictions.shape[1])]\n",
    "upper_CIs = [np.percentile(predictions[:, i], 97.5) for i in range(predictions.shape[1])]\n",
    "mean = beta0 + beta1*x_plot"
   ]
  },
  {
   "cell_type": "code",
   "execution_count": 91,
   "metadata": {},
   "outputs": [
    {
     "data": {
      "image/png": "[encoded data removed]",
      "text/plain": [
       "<Figure size 1440x720 with 1 Axes>"
      ]
     },
     "metadata": {
      "needs_background": "light"
     },
     "output_type": "display_data"
    }
   ],
   "source": [
    "plt.figure(figsize = (20, 10))\n",
    "plt.scatter(summary['x_disp'], summary['y'], label='True Values')\n",
    "plt.plot(x_plot, lower_CIs, color='blue', alpha = 0.4, label = 'Lower bound of the 95% CI for mpg')\n",
    "plt.plot(x_plot, upper_CIs, color='blue', alpha=0.4, label = 'Upper bound of the 95% CI for mpg')\n",
    "plt.fill_between(x_plot, lower_CIs, upper_CIs, color='blue', alpha = 0.1, label='95% CI for mpg')\n",
    "plt.plot(x_plot, mean, color='coral')\n",
    "plt.title('VIsualization of the Data, the fitted model and Confidence Interval on the distribution of the variable of interest, computed via Bootstrapping over 100 models')\n",
    "plt.xlabel('Disp')\n",
    "plt.ylabel('mpg')\n",
    "plt.legend()\n",
    "plt.show()"
   ]
  },
  {
   "cell_type": "markdown",
   "metadata": {
    "deletable": false
   },
   "source": [
    "Both plots are very similar. I believe OLS compute the Confidence Interval thanks to the analytical equation leveraging the standard error. Here, maybe we do not use enough bootstrap in order for our different estimates to fully converge. We could try increasing the number of bootstraps in order to see if our bootstrap-estimated CI will converge towards the one computed with statsmodel. "
   ]
  },
  {
   "cell_type": "markdown",
   "metadata": {
    "autograde": "1.6",
    "deletable": false,
    "editable": false
   },
   "source": [
    "<div class='exercise-r'>  \n",
    " \n",
    "**1.6** Another interval of uncertainty in a regression model is called a *prediction interval*.  A prediction interval gives a range of plausible values for a future individual observation, $\\hat{y}^*$, given a specific value of $x$ in general (`disp` here).  How should the 95\\% prediction interval calculated at a `disp` value of 400 compare to the corresponding 95\\% confidence interval for the mean predicted `mpg`?  Justify with a few sentences.\n",
    " \n",
    " </div>"
   ]
  },
  {
   "cell_type": "markdown",
   "metadata": {
    "deletable": false
   },
   "source": [
    "The 95% prediction interval will be wider than the corresponding 95% interval for the mean predicted mpg. Indeed, the prediction encodes the $\\textbf{irreducible error}$ of our model. Therefore, we add the prediction error that comes from the fact that our estimate of $\\beta$ is random and the model error. "
   ]
  },
  {
   "cell_type": "code",
   "execution_count": null,
   "metadata": {
    "deletable": false,
    "editable": false
   },
   "outputs": [],
   "source": []
  },
  {
   "cell_type": "code",
   "execution_count": null,
   "metadata": {
    "deletable": false,
    "editable": false
   },
   "outputs": [],
   "source": []
  },
  {
   "cell_type": "code",
   "execution_count": null,
   "metadata": {
    "deletable": false,
    "editable": false
   },
   "outputs": [],
   "source": []
  }
 ],
 "metadata": {
  "anaconda-cloud": {},
  "kernelspec": {
   "display_name": "Python 3",
   "language": "python",
   "name": "python3"
  },
  "language_info": {
   "codemirror_mode": {
    "name": "ipython",
    "version": 3
   },
   "file_extension": ".py",
   "mimetype": "text/x-python",
   "name": "python",
   "nbconvert_exporter": "python",
   "pygments_lexer": "ipython3",
   "version": "3.7.8"
  }
 },
 "nbformat": 4,
 "nbformat_minor": 4
}
