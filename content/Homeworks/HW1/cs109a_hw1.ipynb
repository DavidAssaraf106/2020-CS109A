{
 "cells": [
  {
   "cell_type": "markdown",
   "metadata": {
    "deletable": false,
    "editable": false
   },
   "source": [
    "<h1 style=\"padding-top: 25px;padding-bottom: 25px;text-align: left; padding-left: 10px; background-color: #DDDDDD; \n",
    "    color: black;\"> <img style=\"float: left; padding-right: 10px; width: 45px\" src=\"https://raw.githubusercontent.com/Harvard-IACS/2018-CS109A/master/content/styles/iacs.png\"> CS109A Introduction to Data Science </h1>\n",
    "\n",
    "## Homework 1: Data Collection, Parsing, and Quick Analyses\n",
    "\n",
    "**Harvard University**<br/>\n",
    "**Fall 2020**<br/>\n",
    "**Instructors**: Pavlos Protopapas, Kevin Rader, and Chris Tanner<br/>\n",
    "<hr style='height:2px'>"
   ]
  },
  {
   "cell_type": "code",
   "execution_count": 1,
   "metadata": {
    "deletable": false,
    "editable": false
   },
   "outputs": [
    {
     "data": {
      "text/html": [
       "<style>\n",
       "blockquote { background: #AEDE94; }\n",
       "h1 { \n",
       "    padding-top: 25px;\n",
       "    padding-bottom: 25px;\n",
       "    text-align: left; \n",
       "    padding-left: 10px;\n",
       "    background-color: #DDDDDD; \n",
       "    color: black;\n",
       "}\n",
       "h2 { \n",
       "    padding-top: 10px;\n",
       "    padding-bottom: 10px;\n",
       "    text-align: left; \n",
       "    padding-left: 5px;\n",
       "    background-color: #EEEEEE; \n",
       "    color: black;\n",
       "}\n",
       "\n",
       "div.exercise {\n",
       "\tbackground-color: #ffcccc;\n",
       "\tborder-color: #E9967A; \t\n",
       "\tborder-left: 5px solid #800080; \n",
       "\tpadding: 0.5em;\n",
       "}\n",
       "\n",
       "div.exercise-r {\n",
       "\tbackground-color: #ffd0d0;\n",
       "\tborder-color: #E9967A; \t\n",
       "\tborder-left: 5px solid #800080; \n",
       "\tpadding: 0.5em;\n",
       "}\n",
       "\n",
       "\n",
       "span.sub-q {\n",
       "\tfont-weight: bold;\n",
       "}\n",
       "div.theme {\n",
       "\tbackground-color: #DDDDDD;\n",
       "\tborder-color: #E9967A; \t\n",
       "\tborder-left: 5px solid #800080; \n",
       "\tpadding: 0.5em;\n",
       "\tfont-size: 18pt;\n",
       "}\n",
       "div.gc { \n",
       "\tbackground-color: #AEDE94;\n",
       "\tborder-color: #E9967A; \t \n",
       "\tborder-left: 5px solid #800080; \n",
       "\tpadding: 0.5em;\n",
       "\tfont-size: 12pt;\n",
       "}\n",
       "p.q1 { \n",
       "    padding-top: 5px;\n",
       "    padding-bottom: 5px;\n",
       "    text-align: left; \n",
       "    padding-left: 5px;\n",
       "    background-color: #EEEEEE; \n",
       "    color: black;\n",
       "}\n",
       "header {\n",
       "   padding-top: 35px;\n",
       "    padding-bottom: 35px;\n",
       "    text-align: left; \n",
       "    padding-left: 10px;\n",
       "    background-color: #DDDDDD; \n",
       "    color: black;\n",
       "}\n",
       "</style>\n",
       "\n"
      ],
      "text/plain": [
       "<IPython.core.display.HTML object>"
      ]
     },
     "execution_count": 1,
     "metadata": {},
     "output_type": "execute_result"
    }
   ],
   "source": [
    "## RUN THIS CELL TO GET THE RIGHT FORMATTING \n",
    "import requests\n",
    "from IPython.core.display import HTML\n",
    "styles = requests.get(\"https://raw.githubusercontent.com/Harvard-IACS/2020-CS109A/master/themes/static/css/cs109.css\").text\n",
    "HTML(styles)"
   ]
  },
  {
   "cell_type": "markdown",
   "metadata": {
    "deletable": false,
    "editable": false
   },
   "source": [
    "\n",
    "## Overview \n",
    "\n",
    "In this homework, your goal is to learn how to acquire, parse, clean, and analyze data. Toward this goal, we will address certain question about COVID, and you will scrape data directly from a website. For the remainder of the semester, we will provide you data files directly; however, since real-world problems often require gathering information from a variety of sources, including the Internet, web scraping is a highly useful skill to have.\n",
    "\n",
    "### Instructions\n",
    "- To submit your assignment, follow the instructions given in Canvas.\n",
    "\n",
    "### Learning Objectives\n",
    "- Get started using Jupyter Notebooks, which are incredibly popular, powerful, and will be our medium of programming for the duration of CS109A and CS109B.\n",
    "- Become familiar with how to access and use data from various sources (i.e., web scraping and directly from files).\n",
    "- Gain experience with data exploration and simple analysis.\n",
    "- Become comfortable with PANDAS as a means of storing and working with data.\n",
    "- Reflect on what further analysis you may wish to do with this data. For example, given the material we've covered so far, what *more* do you wish you had the ability to do (e.g., modelling, prediction, etc). That is, think about questions you may have about the data, and try to imagine what types of tools you might need to help answer your questions.\n",
    "\n",
    "### Notes\n",
    "- Exercise **responsible scraping**. Web servers can become slow or unresponsive if they receive too many requests from the same source in a short amount of time. In your code, use a delay of 2 seconds between requests. This helps to not get blocked by the target website -- imagine how frustrating it would be to have this occur. Section 1 of this homework involves saving the scraped web pages to your local machine. Thus, after completing Section 1, you do not need to re-scrape any of the pages, unless you wish to occasionally grab the latest data. \n",
    "\n",
    "- Web scraping requests can take several minutes. This is another reason why you should not wait until the last minute to do this homework.\n",
    "- As you run a Jupyter Notebook, it maintains a running state of memory. Thus, the order in which you run cells matters and plays a crucial role; it can be easy to make mistakes based on *when* you run different cells as you develop and test your code. **Before submitting every Jupyter Notebook homework assignment, be sure to restart your Jupyter Notebook and run the entire notebook from scratch, all at once (i.e., \"Kernel -> Restart & Run All\")**\n",
    "- We will be working with COVID data. COVID has impacted everyone in the world, and naturally some people have been greatly more affected than others. We, the teaching staff, are sensitive to this, empathize, and understand that working with COVID data may be unsettling to some. We apologize for any discomfort this may cause. Our intent with this assignment is purely pedagogical, and we'd like to remind students that data science and machine learning can be used to provide insights that can be used for good and invoke change. Toward this goal, parts of the homework are intended to shed light on the unfortunate, widespread inequality that exists. So, while this data may be unsettling, our aim is for the learned skills addressed here -- and in all future assignments -- to provide you with knowledge and confidence to do good work."
   ]
  },
  {
   "cell_type": "markdown",
   "metadata": {
    "deletable": false,
    "editable": false
   },
   "source": [
    "## 1. Obtaining Data (17 points)\n",
    "\n",
    "For any given situation or scenario that we wish to understand, we will rely on having relevant data. Here, we are interested in the degree to which the SARS-CoV-2 virus has affected United States citizens (SARS-CoV-2 is the virus that causes the COVID-19 disease). The Centers for Disease Control and Prevention (CDC) provides relevant data from USAFacts.org that includes the number of confirmed COVID-19 cases on a per-county basis. Visit https://usafacts.org/visualizations/coronavirus-covid-19-spread-map/. At the bottom of the web page, in a blue table, you should see a list of every state, each of which has its own web page.\n",
    "\n",
    "In this exercise, we will focus on automating the downloading of each state's data (via ``Requests``). First, as we will do for every Jupyter Notebook, let's import necessary packages that we will use throughout the notebook (i.e., run the cell below). "
   ]
  },
  {
   "cell_type": "code",
   "execution_count": 2,
   "metadata": {
    "deletable": false,
    "editable": false
   },
   "outputs": [],
   "source": [
    "# import the necessary libraries\n",
    "import re\n",
    "import requests\n",
    "import pandas as pd\n",
    "import numpy as np\n",
    "from time import sleep\n",
    "from bs4 import BeautifulSoup\n",
    "\n",
    "# NOTE: files will be saved to this directory, so you need to ensure\n",
    "# that it exists on your system first (it should be visible from the\n",
    "# directory of where you are running this Notebook file)\n",
    "# i.e.,\n",
    "# >> ls\n",
    "# cs109a_hw1_student.ipynb\n",
    "# election2016_by_county.csv\n",
    "# data/\n",
    "state_dir = \"data/\""
   ]
  },
  {
   "cell_type": "code",
   "execution_count": 3,
   "metadata": {
    "deletable": false,
    "editable": false
   },
   "outputs": [],
   "source": [
    "# we define this for convenience, as every state's url begins with this prefix\n",
    "base_url = 'https://usafacts.org/visualizations/coronavirus-covid-19-spread-map/'"
   ]
  },
  {
   "cell_type": "markdown",
   "metadata": {
    "deletable": false,
    "editable": false
   },
   "source": [
    "<div class='exercise'><b> Exercise 1.1 [1 pt]: Fetching Website data via Requests</b>\n",
    "\n",
    "Fetch the web page located at `base_url` and save the request's returned object (a Response object) to a variable named `home_page`.\n",
    "</div>"
   ]
  },
  {
   "cell_type": "code",
   "execution_count": 4,
   "metadata": {
    "deletable": false
   },
   "outputs": [],
   "source": [
    "# YOUR CODE HERE\n",
    "home_page = requests.get(base_url)\n",
    "# END OF YOUR CODE HERE"
   ]
  },
  {
   "cell_type": "markdown",
   "metadata": {
    "deletable": false,
    "editable": false
   },
   "source": [
    "<div class='exercise'><b>Exercise 1.2 [2 pts]:</b> In the cell below:\n",
    "    \n",
    "- Write a line of code that prints to the screen the status of `home_page` (the web page's returned object). You should receive a code of 200 if the request was successful; then,\n",
    "\n",
    "- Write code that prints the entire contents of `home_page`</div>\n"
   ]
  },
  {
   "cell_type": "code",
   "execution_count": null,
   "metadata": {
    "deletable": false
   },
   "outputs": [],
   "source": [
    "# YOUR CODE HERE\n",
    "print('The status of our request is', home_page.status_code)\n",
    "print(home_page.text)\n",
    "# END OF YOUR CODE HERE"
   ]
  },
  {
   "cell_type": "markdown",
   "metadata": {
    "deletable": false,
    "editable": false
   },
   "source": [
    "<div class='exercise'><b> Exercise 1.3 [1 pt]:</b>\n",
    "    \n",
    "In the cell below, create a new BeautifulSoup object that parses the `home_page` as an HTML document (can be done with 1 line of code)</div>"
   ]
  },
  {
   "cell_type": "code",
   "execution_count": 6,
   "metadata": {
    "deletable": false
   },
   "outputs": [],
   "source": [
    "# YOUR CODE HERE\n",
    "soup = BeautifulSoup(home_page.text, \"html.parser\")\n",
    "# END OF YOUR CODE HERE"
   ]
  },
  {
   "cell_type": "markdown",
   "metadata": {
    "deletable": false,
    "editable": false
   },
   "source": [
    "<div class='exercise'><b> Exercise 1.4 [8 pts]:</b>\n",
    "    \n",
    "In the cell below, write code that uses the BeautifulSoup object to parse through the home page in order to extract the link for every state. Feel free to use Regular Expressions, in conjunction with any BeautifulSoup parsing. Specifically, the goal is to populate the `state_urls` dictionary by setting each key to be the state name and the value to be the full URL. When complete, there will be 51 keys (50 states + 1 for DC).\n",
    "\n",
    "### AS A CRITICAL EXAMPLE:###\n",
    "Within `state_urls`, one of your <key, value> pairs should be:\n",
    "\n",
    "``\"District of Columbia\" : \"https://usafacts.org/visualizations/coronavirus-covid-19-spread-map/state/district-of-columbia\"``\n",
    "\n",
    "The casing here is **incredibly** important because later, in Exercise 4, you will merge your data with another dataset that has casing of this form. Thus, our key here should be `District of Columbia` and not `District Of Columbia` or `district-of-columbia`.\n",
    "\n",
    "\n",
    "**NOTES:**\n",
    "- There are _many_ solutions, but you may find it easiest to use Regular Expression(s)\n",
    "- Pay attention to the casing example above, so that your later Exercises go smoothly. \n",
    "</div>"
   ]
  },
  {
   "cell_type": "code",
   "execution_count": 7,
   "metadata": {
    "deletable": false
   },
   "outputs": [],
   "source": [
    "# YOUR CODE HERE\n",
    "html_states = soup.findAll('a', class_=\"jss45\")\n",
    "States = [html.text for html in html_states]\n",
    "States_formatted = States\n",
    "urls_formatted = [\"https://usafacts.org\"+url.get('href') for url in html_states]\n",
    "state_urls = dict(zip(States_formatted, urls_formatted))\n",
    "# END OF YOUR CODE HERE"
   ]
  },
  {
   "cell_type": "markdown",
   "metadata": {
    "deletable": false,
    "editable": false
   },
   "source": [
    "Run the cell below to help ensure your formatting is correct and has 51 <key, value> pairs."
   ]
  },
  {
   "cell_type": "code",
   "execution_count": 8,
   "metadata": {
    "deletable": false,
    "editable": false
   },
   "outputs": [
    {
     "name": "stdout",
     "output_type": "stream",
     "text": [
      "** 1.4 might be correct\n"
     ]
    }
   ],
   "source": [
    "# SANITY CHECK\n",
    "if len(state_urls.keys()) != 51 or \\\n",
    "state_urls[\"District of Columbia\"] != \"https://usafacts.org/visualizations/coronavirus-covid-19-spread-map/state/district-of-columbia\":\n",
    "    print(\"** 1.4 is incorrect\")\n",
    "else:\n",
    "    print(\"** 1.4 might be correct\")"
   ]
  },
  {
   "cell_type": "markdown",
   "metadata": {
    "deletable": false,
    "editable": false
   },
   "source": [
    "We wish to use the data without having to re-download it every time. So, let's save each webpage to our local hard drive. **NOTE: It's probably okay to download all of the state web pages a few times a day, but it's safer to keep it to a minimum.**"
   ]
  },
  {
   "cell_type": "markdown",
   "metadata": {
    "deletable": false,
    "editable": false
   },
   "source": [
    "<div class='exercise'><b> Exercise 1.5 [5 pts]:</b>\n",
    "    \n",
    "In the cell below, we will iterate through all <key, value> items in `state_urls`. Your job is to make a web request for each URL and save the **contents** out to a file on your hard drive (use `state_dir` as the prefix to the path.) \n",
    "\n",
    "**NOTES:**\n",
    "- Leave the 2 second pause\n",
    "- You should be saving to a file the actual content of the webpage, not a BeautifulSoup object. That is, you should be able to open the saved files in an editor and see the HTML code, just as you could if you were to view the webpage in your browser and click 'View Page Source'.\n",
    "- See [official Python documentation](https://docs.python.org/3/tutorial/inputoutput.html#reading-and-writing-files) for details on how to read/write files to disk\n",
    "- You should have saved 51 different files to your hard drive.\n",
    "</div>"
   ]
  },
  {
   "cell_type": "code",
   "execution_count": 9,
   "metadata": {
    "deletable": false
   },
   "outputs": [],
   "source": [
    "# 1.5 (4 pts) -- save each webpage to disk\n",
    "for state, url in state_urls.items():\n",
    "    \n",
    "    # YOUR CODE HERE\n",
    "    with open(state_dir + state, 'w', newline='') as f:\n",
    "        state_page = requests.get(url)\n",
    "        f.write(state_page.text)\n",
    "    # END OF YOUR CODE HERE\n",
    "    sleep(2) # LEAVE THIS IN"
   ]
  },
  {
   "cell_type": "markdown",
   "metadata": {
    "deletable": false,
    "editable": false
   },
   "source": [
    "## 2. Loading and Exploring Data (22 pts)\n",
    "Now, let's actually use the data! Fortunately, it's saved to our local machine, so we don't need to re-crawl the data every time we wish to access it. We want you to understand that PANDAS is a library of useful data structures and operations, but we also wish to remind you that it isn't magic and it isn't the _only_ way to do Data Science; it's just a tool to help, and you could do the same operations without PANDAS. Thus, here we ask you to perform a few operations without using PANDAS, and then in Exercise 3 we will use PANDAS.\n",
    "\n",
    "**Terminology Notice:** In the United States, every state is comprised of many **counties.** You can think of a **county** as being a pretty large district. "
   ]
  },
  {
   "cell_type": "markdown",
   "metadata": {
    "deletable": false,
    "editable": false
   },
   "source": [
    "First, run the cell below to construct `state_info`"
   ]
  },
  {
   "cell_type": "code",
   "execution_count": 9,
   "metadata": {
    "deletable": false,
    "editable": false
   },
   "outputs": [],
   "source": [
    "state_info = [(state, state_dir + state) for state in state_urls.keys()]"
   ]
  },
  {
   "cell_type": "markdown",
   "metadata": {
    "deletable": false,
    "editable": false
   },
   "source": [
    "<div class='exercise'><b> Exercise 2.1 [10 pts]: Parsing and storing data</b>\n",
    "    \n",
    "Complete the `load_covid_data()` function, which:\n",
    "\n",
    "- Takes as input `state_info`, which is a list of tuples: (state name, path to the corresponding file)\n",
    "- Parses the contents of the file and extracts for **each county**:\n",
    "    - \\# of confirmed cases (total)\n",
    "    - \\# of deaths\n",
    "    - \\# of confirmed cases (per 100k)\n",
    "- Stores in a **non-PANDAS** data structure named `covid_data` the above 3 pieces of data, **for every county across every state**\n",
    "- Returns `county_counts`\n",
    "    <font color='blue'>\n",
    "\n",
    "**NOTES:**\n",
    "- To be clear, as of September 7, 2020, the webpage for Alabama currently lists 67 counties. District of Columbia has 1 county, and Wyoming has 23. Here we are asking you to store in `covid_data` *all counties* across every state. So, later, if we were wished to access just Wyoming's information, you could easily retrieve such for each of its 23 counties, or the info for any of the 67 counties in Alabama. \n",
    "- `covid_data` **must not be a PANDAS data structure;** it must use a combination of lists and/or dictionaries. It's up to you to decide how to organize this, e.g., a lists of lists of lists, or a list of dictionaries, or a dictionary of dictionaries, or a dictionary of lists of lists, etc. A guiding decision should be ease of access for computing basic stats (Exercises 2.2, 2.3, and 2.4)\n",
    "</div>"
   ]
  },
  {
   "cell_type": "code",
   "execution_count": 10,
   "metadata": {
    "deletable": false
   },
   "outputs": [],
   "source": [
    "# parses all county-level COVID data from the\n",
    "# passed-in list of (state, filepath) tuples \n",
    "def load_covid_data(state_info):\n",
    "    #covid_data = {}\n",
    "    # YOUR CODE HERE\n",
    "    list_state = []\n",
    "    list_dict = []\n",
    "    for tuple_state in state_info:\n",
    "        state = tuple_state[0]\n",
    "        list_state.append(state)\n",
    "        state_directory = tuple_state[1]\n",
    "        with open(state_directory) as f:\n",
    "            data = f.read()\n",
    "        soup_state = BeautifulSoup(data, \"html.parser\")\n",
    "        name_counties = [s.text for s in soup_state.findAll(class_=\"jss41\")]\n",
    "        htmls_counties = soup_state.findAll(class_=\"MuiTableCell-root-52 MuiTableCell-body-54 MuiTableCell-sizeSmall-56\")\n",
    "        numbers = [html.text for html in htmls_counties]\n",
    "        stats = [numbers[i:i + 3] for i in range(0, len(numbers), 3)]\n",
    "        state_stat = dict(zip(name_counties, stats))\n",
    "        list_dict.append(state_stat)\n",
    "    covid_data = dict(zip(list_state, list_dict))\n",
    "    # END OF YOUR CODE HERE\n",
    "    return covid_data"
   ]
  },
  {
   "cell_type": "markdown",
   "metadata": {
    "deletable": false,
    "editable": false
   },
   "source": [
    "Run the cell below (no changes necessary) to execute your code above"
   ]
  },
  {
   "cell_type": "code",
   "execution_count": 11,
   "metadata": {
    "deletable": false,
    "editable": false
   },
   "outputs": [],
   "source": [
    "covid_data = load_covid_data(state_info)"
   ]
  },
  {
   "cell_type": "markdown",
   "metadata": {
    "deletable": false,
    "editable": false
   },
   "source": [
    "<div class='exercise'><b> Exercise 2.2 [4 pts]: Simple analytics</b>\n",
    "    \n",
    "Complete the `calculate_county_stats()` function, which calculates:\n",
    "1. The single county (and the state to which it belongs) that has the **lowest rate** of COVID cases per 100k people\n",
    "2. The single county (and the state to which it belongs) that has the **highest rate** of COVID cases per 100k people\n",
    "\n",
    "**NOTES:**\n",
    "- Place your resulting variables within the blanks of the `print()` statements that we provide\n",
    "- These values you report should be Floating point numbers (e.g., 3.4), not Integers (e.g., 3).\n",
    "- If there are ties, return any of the tied counties\n",
    "</div>"
   ]
  },
  {
   "cell_type": "code",
   "execution_count": 14,
   "metadata": {
    "deletable": false
   },
   "outputs": [],
   "source": [
    "def calculate_county_stats(covid_data):\n",
    "    \n",
    "    # YOUR CODE HERE\n",
    "    running_min = 10000\n",
    "    running_max = 0\n",
    "    running_min_county = \"\"\n",
    "    running_max_county = \"\"\n",
    "    running_min_state = \"\"\n",
    "    running_max_state = \"\"\n",
    "    for state in covid_data.keys():\n",
    "        state_dict = covid_data.get(state)\n",
    "        for county in state_dict.keys():\n",
    "            confirmed_cases = state_dict.get(county)[2]\n",
    "            confirmed_cases = float(confirmed_cases.replace(',', ''))\n",
    "            if confirmed_cases > running_max:\n",
    "                running_max = confirmed_cases\n",
    "                running_max_county = county\n",
    "                running_max_state = state\n",
    "            if confirmed_cases < running_min and confirmed_cases > 0:\n",
    "                running_min = confirmed_cases\n",
    "                running_min_county = county\n",
    "                running_min_state= state\n",
    "    # END OF YOUR CODE HERE\n",
    "    print(running_min_county + \"(\" +running_min_state+ \")\" +\" has the lowest rate of confirmed COVID cases: \" + str(running_min) + \" per 100k\")\n",
    "    print(running_max_county + \"(\" +running_max_state+ \")\" + \" has the highest rate of confirmed COVID cases: \" + str(running_max) + \" per 100k\")"
   ]
  },
  {
   "cell_type": "markdown",
   "metadata": {
    "deletable": false,
    "editable": false
   },
   "source": [
    "Run the cell below (no changes necessary) to execute your code above"
   ]
  },
  {
   "cell_type": "code",
   "execution_count": 15,
   "metadata": {
    "deletable": false,
    "editable": false
   },
   "outputs": [
    {
     "name": "stdout",
     "output_type": "stream",
     "text": [
      "Elk County(Kansas) has the lowest rate of confirmed COVID cases: 39.5 per 100k\n",
      "Lafayette County(Florida) has the highest rate of confirmed COVID cases: 14474.0 per 100k\n"
     ]
    }
   ],
   "source": [
    "calculate_county_stats(covid_data)"
   ]
  },
  {
   "cell_type": "markdown",
   "metadata": {
    "deletable": false,
    "editable": false
   },
   "source": [
    "<div class='exercise'><b> Exercise 2.3 [4 pts]: Simple analytics</b>\n",
    "    \n",
    "Complete the `calculate_state_deaths()` function, which calculates:\n",
    "1. The state that has the **lowest number** of deaths\n",
    "2. The state that has the **highest number** of deaths\n",
    "\n",
    "**NOTES:**\n",
    "- Place your resulting variables within the blanks of the `print()` statements that we provide (don't just manually type your textual answers in the blanks)\n",
    "- These values you report should be Integers, not Floating point numbers.\n",
    "- If there are ties, return any of the tied counties\n",
    "\n",
    "</div>"
   ]
  },
  {
   "cell_type": "code",
   "execution_count": 16,
   "metadata": {
    "deletable": false
   },
   "outputs": [],
   "source": [
    "def calculate_state_deaths(covid_data):\n",
    "    \n",
    "    # YOUR CODE HERE\n",
    "    running_min = 10000\n",
    "    running_max = 0\n",
    "    running_min_state = \"\"\n",
    "    running_max_state = \"\"\n",
    "    for state in covid_data.keys():\n",
    "        state_dict = covid_data.get(state)\n",
    "        state_sum = 0\n",
    "        for county in state_dict.keys():\n",
    "            death = state_dict.get(county)[1]\n",
    "            death = int(death.replace(',', ''))\n",
    "            state_sum = state_sum + death\n",
    "        if state_sum > running_max:\n",
    "            running_max = state_sum\n",
    "            running_max_state = state\n",
    "        if state_sum < running_min and state_sum > 0:\n",
    "            running_min = state_sum\n",
    "            running_min_state = state\n",
    "    # END OF YOUR CODE HERE\n",
    "\n",
    "    print(running_min_state + \" has the fewest COVID deaths: \" + str(running_min))\n",
    "    print(running_max_state + \" has the most COVID deaths: \" + str(running_max))"
   ]
  },
  {
   "cell_type": "markdown",
   "metadata": {
    "deletable": false,
    "editable": false
   },
   "source": [
    "Run the cell below (no changes necessary) to execute your code above"
   ]
  },
  {
   "cell_type": "code",
   "execution_count": 17,
   "metadata": {
    "deletable": false,
    "editable": false
   },
   "outputs": [
    {
     "name": "stdout",
     "output_type": "stream",
     "text": [
      "Alaska has the fewest COVID deaths: 42\n",
      "New York has the most COVID deaths: 32604\n"
     ]
    }
   ],
   "source": [
    "calculate_state_deaths(covid_data)"
   ]
  },
  {
   "cell_type": "markdown",
   "metadata": {
    "deletable": false,
    "editable": false
   },
   "source": [
    "<div class='exercise'><b> Exercise 2.4 [4 pts]: Simple analytics</b>\n",
    "    \n",
    "Complete the `calculate_state_deathrate()` function, which calculates:\n",
    "1. The state that has the **lowest rate** of deaths based on its entire population\n",
    "2. The state that has the **highest rate** of deaths based on its entire population\n",
    "\n",
    "**NOTES:**\n",
    "- To calculate a state's population, we are asserting that is sufficient to sum the population over all counties, and that each county's population can be calculated simply from the data fields stored within `covid_data`.\n",
    "- **If a county has reported 0 COVID cases,** then we should ignore this county as we estimate its county population. Thus, that county would contribute 0 to its state population total.\n",
    "- Round your results to the a single person (e.g., \"1 out of every 2703 people has died\" not 2703.4)\n",
    "- Place your resulting variables within the blanks of the `print()` statements that we provide (don't just manually type your textual answers in the blanks)\n",
    "</div>"
   ]
  },
  {
   "cell_type": "code",
   "execution_count": 18,
   "metadata": {
    "deletable": false
   },
   "outputs": [],
   "source": [
    "def calculate_state_deathrate(covid_data):\n",
    "    \n",
    "    # YOUR CODE HERE\n",
    "    running_min = 10000\n",
    "    running_max = 0\n",
    "    running_min_state = \"\"\n",
    "    running_max_state = \"\"\n",
    "    for state in covid_data.keys():\n",
    "        state_dict = covid_data.get(state)\n",
    "        population_state = 0\n",
    "        deaths_state = 0\n",
    "        for county in state_dict.keys():\n",
    "            stats = state_dict.get(county)\n",
    "            if float(stats[2].replace(',', '')) > 0:\n",
    "                population_county = (float(stats[0].replace(',', ''))/float(stats[2].replace(',', '')))*100000\n",
    "                population_state = population_state + population_county\n",
    "                deaths_state = deaths_state + float(stats[1].replace(',', ''))\n",
    "        rate_state = deaths_state/population_state\n",
    "        if rate_state > running_max:\n",
    "            running_max = rate_state\n",
    "            running_max_state = state\n",
    "        if rate_state < running_min and rate_state > 0:\n",
    "            running_min = rate_state\n",
    "            running_min_state = state\n",
    "    # END OF YOUR CODE HERE\n",
    "    print(running_min_state+ \" has the lowest COVID death rate; 1 out of every \" + str(round(running_min)) + \" people has died\")\n",
    "    print(running_max_state + \" has the highest COVID death rate; 1 out of every \" + str(round(running_max)) + \" people has died\")"
   ]
  },
  {
   "cell_type": "markdown",
   "metadata": {
    "deletable": false,
    "editable": false
   },
   "source": [
    "Run the cell below (no changes necessary) to execute your code above"
   ]
  },
  {
   "cell_type": "code",
   "execution_count": 19,
   "metadata": {
    "deletable": false,
    "editable": false
   },
   "outputs": [
    {
     "name": "stdout",
     "output_type": "stream",
     "text": [
      "Alaska has the lowest COVID death rate; 1 out of every 5.7618573982459404e-05 people has died\n",
      "New Jersey has the highest COVID death rate; 1 out of every 0.0018039556489511431 people has died\n"
     ]
    }
   ],
   "source": [
    "calculate_state_deathrate(covid_data)"
   ]
  },
  {
   "cell_type": "markdown",
   "metadata": {
    "deletable": false,
    "editable": false
   },
   "source": [
    "## 3. PANDAS (36 pts)\n",
    "What if we wanted to observe more than just the single-most extreme counties and states? What if we wanted to inspect all states, after having sorted the data by some feature? As you saw in the above exercises, doing the most basic analytics is possible, but it can quickly become cumbersome. As we learned in class, PANDAS is a great library that provides data structures that are highly useful for data analysis."
   ]
  },
  {
   "cell_type": "markdown",
   "metadata": {
    "deletable": false,
    "editable": false
   },
   "source": [
    "<div class='exercise'><b> Exercise 3.1 [10 pts]: Converting to PANDAS</b>\n",
    "\n",
    "In Exercise 2, we worked with `covid_data`, which is comprises of some combination of lists and/or dictionaries.\n",
    "\n",
    "Complete the `convert_to_pandas()` function, which converts `covid_data` to a PANDAS DataFrame, whereby:\n",
    "- Each row corresponds to a unique county\n",
    "- The 5 columns are:\n",
    "    - county\n",
    "    - state\n",
    "    - \\# total covid cases (Integer)\n",
    "    - \\# covid cases per 100k (Integer)\n",
    "    - \\# covid deaths (Integer)\n",
    "- The columns should be titled **exactly** as listed above\n",
    "\n",
    "**NOTE:**\n",
    "- If there exists multiple counties with the same name, each of which belonging to a different state, then there should be a distinct row for each.\n",
    "- The 3 columns that correspond to COVID counts should all be Integers (e.g., 1498), not Floating point digits (e.g., 1498.0)\n",
    "</div>"
   ]
  },
  {
   "cell_type": "code",
   "execution_count": 20,
   "metadata": {
    "deletable": false
   },
   "outputs": [],
   "source": [
    "def convert_to_pandas(covid_data):\n",
    "    # YOUR CODE HERE\n",
    "    usa_data = [] \n",
    "    for state in covid_data:\n",
    "        state_information = covid_data.get(state)\n",
    "        for county in state_information:\n",
    "            values = state_information.get(county)\n",
    "            county_features=[str(county), str(state), int(values[0].replace(',', '')), float(values[2].replace(',', '')), int(values[1].replace(',', ''))]\n",
    "            usa_data.append(county_features)      \n",
    "    covid_df = pd.DataFrame(data = np.asarray(usa_data), columns = ['county', 'state', '# total covid cases', '# covid cases per 100k', '# covid deaths']) \n",
    "    # END OF YOUR CODE HERE\n",
    "    return covid_df"
   ]
  },
  {
   "cell_type": "markdown",
   "metadata": {
    "deletable": false,
    "editable": false
   },
   "source": [
    "Run the cell below (no changes necessary) to execute your code above"
   ]
  },
  {
   "cell_type": "code",
   "execution_count": 21,
   "metadata": {
    "deletable": false,
    "editable": false
   },
   "outputs": [
    {
     "data": {
      "text/html": [
       "<div>\n",
       "<style scoped>\n",
       "    .dataframe tbody tr th:only-of-type {\n",
       "        vertical-align: middle;\n",
       "    }\n",
       "\n",
       "    .dataframe tbody tr th {\n",
       "        vertical-align: top;\n",
       "    }\n",
       "\n",
       "    .dataframe thead th {\n",
       "        text-align: right;\n",
       "    }\n",
       "</style>\n",
       "<table border=\"1\" class=\"dataframe\">\n",
       "  <thead>\n",
       "    <tr style=\"text-align: right;\">\n",
       "      <th></th>\n",
       "      <th>county</th>\n",
       "      <th>state</th>\n",
       "      <th># total covid cases</th>\n",
       "      <th># covid cases per 100k</th>\n",
       "      <th># covid deaths</th>\n",
       "    </tr>\n",
       "  </thead>\n",
       "  <tbody>\n",
       "    <tr>\n",
       "      <th>0</th>\n",
       "      <td>Autauga County</td>\n",
       "      <td>Alabama</td>\n",
       "      <td>1551</td>\n",
       "      <td>2776.1</td>\n",
       "      <td>24</td>\n",
       "    </tr>\n",
       "    <tr>\n",
       "      <th>1</th>\n",
       "      <td>Baldwin County</td>\n",
       "      <td>Alabama</td>\n",
       "      <td>4886</td>\n",
       "      <td>2188.7</td>\n",
       "      <td>47</td>\n",
       "    </tr>\n",
       "    <tr>\n",
       "      <th>2</th>\n",
       "      <td>Barbour County</td>\n",
       "      <td>Alabama</td>\n",
       "      <td>786</td>\n",
       "      <td>3184.0</td>\n",
       "      <td>7</td>\n",
       "    </tr>\n",
       "    <tr>\n",
       "      <th>3</th>\n",
       "      <td>Bibb County</td>\n",
       "      <td>Alabama</td>\n",
       "      <td>602</td>\n",
       "      <td>2688.2</td>\n",
       "      <td>9</td>\n",
       "    </tr>\n",
       "    <tr>\n",
       "      <th>4</th>\n",
       "      <td>Blount County</td>\n",
       "      <td>Alabama</td>\n",
       "      <td>1441</td>\n",
       "      <td>2492.0</td>\n",
       "      <td>12</td>\n",
       "    </tr>\n",
       "    <tr>\n",
       "      <th>...</th>\n",
       "      <td>...</td>\n",
       "      <td>...</td>\n",
       "      <td>...</td>\n",
       "      <td>...</td>\n",
       "      <td>...</td>\n",
       "    </tr>\n",
       "    <tr>\n",
       "      <th>3137</th>\n",
       "      <td>Sweetwater County</td>\n",
       "      <td>Wyoming</td>\n",
       "      <td>320</td>\n",
       "      <td>755.7</td>\n",
       "      <td>2</td>\n",
       "    </tr>\n",
       "    <tr>\n",
       "      <th>3138</th>\n",
       "      <td>Teton County</td>\n",
       "      <td>Wyoming</td>\n",
       "      <td>462</td>\n",
       "      <td>1969.0</td>\n",
       "      <td>1</td>\n",
       "    </tr>\n",
       "    <tr>\n",
       "      <th>3139</th>\n",
       "      <td>Uinta County</td>\n",
       "      <td>Wyoming</td>\n",
       "      <td>310</td>\n",
       "      <td>1532.7</td>\n",
       "      <td>2</td>\n",
       "    </tr>\n",
       "    <tr>\n",
       "      <th>3140</th>\n",
       "      <td>Washakie County</td>\n",
       "      <td>Wyoming</td>\n",
       "      <td>111</td>\n",
       "      <td>1422.2</td>\n",
       "      <td>6</td>\n",
       "    </tr>\n",
       "    <tr>\n",
       "      <th>3141</th>\n",
       "      <td>Weston County</td>\n",
       "      <td>Wyoming</td>\n",
       "      <td>21</td>\n",
       "      <td>303.2</td>\n",
       "      <td>0</td>\n",
       "    </tr>\n",
       "  </tbody>\n",
       "</table>\n",
       "<p>3142 rows × 5 columns</p>\n",
       "</div>"
      ],
      "text/plain": [
       "                 county    state # total covid cases # covid cases per 100k  \\\n",
       "0        Autauga County  Alabama                1551                 2776.1   \n",
       "1        Baldwin County  Alabama                4886                 2188.7   \n",
       "2        Barbour County  Alabama                 786                 3184.0   \n",
       "3           Bibb County  Alabama                 602                 2688.2   \n",
       "4         Blount County  Alabama                1441                 2492.0   \n",
       "...                 ...      ...                 ...                    ...   \n",
       "3137  Sweetwater County  Wyoming                 320                  755.7   \n",
       "3138       Teton County  Wyoming                 462                 1969.0   \n",
       "3139       Uinta County  Wyoming                 310                 1532.7   \n",
       "3140    Washakie County  Wyoming                 111                 1422.2   \n",
       "3141      Weston County  Wyoming                  21                  303.2   \n",
       "\n",
       "     # covid deaths  \n",
       "0                24  \n",
       "1                47  \n",
       "2                 7  \n",
       "3                 9  \n",
       "4                12  \n",
       "...             ...  \n",
       "3137              2  \n",
       "3138              1  \n",
       "3139              2  \n",
       "3140              6  \n",
       "3141              0  \n",
       "\n",
       "[3142 rows x 5 columns]"
      ]
     },
     "execution_count": 21,
     "metadata": {},
     "output_type": "execute_result"
    }
   ],
   "source": [
    "covid_df = convert_to_pandas(covid_data)\n",
    "covid_df"
   ]
  },
  {
   "cell_type": "code",
   "execution_count": 22,
   "metadata": {},
   "outputs": [
    {
     "data": {
      "text/plain": [
       "county                    object\n",
       "state                     object\n",
       "# total covid cases       object\n",
       "# covid cases per 100k    object\n",
       "# covid deaths            object\n",
       "dtype: object"
      ]
     },
     "execution_count": 22,
     "metadata": {},
     "output_type": "execute_result"
    }
   ],
   "source": [
    "covid_df.dtypes"
   ]
  },
  {
   "cell_type": "code",
   "execution_count": 26,
   "metadata": {},
   "outputs": [],
   "source": [
    "covid_df= covid_df.astype(dict(zip(covid_df.columns, [str, str, int, float, int])))"
   ]
  },
  {
   "cell_type": "code",
   "execution_count": 27,
   "metadata": {},
   "outputs": [
    {
     "data": {
      "text/plain": [
       "county                     object\n",
       "state                      object\n",
       "# total covid cases         int32\n",
       "# covid cases per 100k    float64\n",
       "# covid deaths              int32\n",
       "dtype: object"
      ]
     },
     "execution_count": 27,
     "metadata": {},
     "output_type": "execute_result"
    }
   ],
   "source": [
    "covid_df.dtypes"
   ]
  },
  {
   "cell_type": "markdown",
   "metadata": {
    "deletable": false,
    "editable": false
   },
   "source": [
    "<div class='exercise'><b> Exercise 3.2 [5 pts]: Simple analytics</b>\n",
    "\n",
    "Complete the `calculate_county_stats2()` function, **which should obtain identical information as problem 2.2, but now using the PANDAS `covid_df` DataFrame.**\n",
    "\n",
    "That is, it should calculates:\n",
    "1. the single county (and the state to which it belongs) that has the **lowest rate** of COVID cases per 100k people\n",
    "2. the single county (and the state to which it belongs) that has the **highest rate** of COVID cases per 100k people\n",
    "\n",
    "**NOTES:**\n",
    "- If there are ties, return any of the tied counties\n",
    "- Place your resulting variables within the `print()` statements that we provide (don't just manually type your textual answers in the blanks)\n",
    "- The values you report should be Floating point numbers (e.g., 3.4), not Integers (e.g., 3).\n",
    "\n",
    "</div>"
   ]
  },
  {
   "cell_type": "code",
   "execution_count": 28,
   "metadata": {
    "deletable": false
   },
   "outputs": [],
   "source": [
    "def calculate_county_stats2(covid_df):\n",
    "\n",
    "    # YOUR CODE HERE\n",
    "    county_lowest = covid_df[covid_df['# covid cases per 100k'] > 0].min()\n",
    "    name_lowest, value_lowest, state_lowest = county_lowest['county'], county_lowest['# covid cases per 100k'], county_lowest['state']\n",
    "    county_largest = covid_df[covid_df['# covid cases per 100k'] > 0].max()\n",
    "    name_largest, value_largest, state_largest = county_largest['county'], county_largest['# covid cases per 100k'], county_largest['state']\n",
    "    # END OF YOUR CODE HERE\n",
    "    print(str(name_lowest) + \" (\" + str(state_lowest) + \") has the lowest rate of confirmed COVID cases: \" + str(value_lowest) + \" per 100k\")\n",
    "    print(str(name_largest) + \" (\" +str(state_largest) + \") has the highest rate of confirmed COVID cases: \" + str(value_largest) + \" per 100k\")"
   ]
  },
  {
   "cell_type": "markdown",
   "metadata": {
    "deletable": false,
    "editable": false
   },
   "source": [
    "Run the cell below (no changes necessary) to execute your code above"
   ]
  },
  {
   "cell_type": "code",
   "execution_count": 29,
   "metadata": {
    "deletable": false,
    "editable": false
   },
   "outputs": [
    {
     "name": "stdout",
     "output_type": "stream",
     "text": [
      "Abbeville County (Alabama) has the lowest rate of confirmed COVID cases: 39.5 per 100k\n",
      "Ziebach County (Wyoming) has the highest rate of confirmed COVID cases: 14474.0 per 100k\n"
     ]
    }
   ],
   "source": [
    "calculate_county_stats2(covid_df)"
   ]
  },
  {
   "cell_type": "markdown",
   "metadata": {},
   "source": [
    "Note: The results are consistent, we just output different counties from 2.2 because there were ties."
   ]
  },
  {
   "cell_type": "markdown",
   "metadata": {
    "deletable": false,
    "editable": false
   },
   "source": [
    "<div class='exercise'><b> Exercise 3.3 [5 pts]: Simple analytics</b>\n",
    "    \n",
    "Complete the `calculate_state_deaths2()` function, **which should obtain identical information as problem 2.3, but now using the PANDAS `covid_df` DataFrame.**\n",
    "1. the state that has the **lowest number** of deaths\n",
    "2. the state that has the **highest number** of deaths\n",
    "\n",
    "**NOTES:**\n",
    "- If there are ties, return any of the tied counties\n",
    "- Place your resulting variables within the `print()` statements that we provide (don't just manually type your textual answers in the blanks)\n",
    "- The values you report should be Integers, not Floating point numbers.\n",
    "</div>"
   ]
  },
  {
   "cell_type": "code",
   "execution_count": 30,
   "metadata": {
    "deletable": false
   },
   "outputs": [],
   "source": [
    "def calculate_state_deaths2(covid_df):\n",
    "    \n",
    "    # YOUR CODE HERE\n",
    "    stats = covid_df.groupby('state').sum()['# covid deaths']\n",
    "    min_state, min_value = stats.idxmin(), stats.min()\n",
    "    max_state, max_value = stats.idxmax(), stats.max()\n",
    "    # END OF YOUR CODE HERE\n",
    "    print(str(min_state) + \" has the fewest COVID deaths: \" + str(min_value))\n",
    "    print(str(max_state) + \" has the most COVID deaths: \" + str(max_value))"
   ]
  },
  {
   "cell_type": "markdown",
   "metadata": {
    "deletable": false,
    "editable": false
   },
   "source": [
    "Run the cell below (no changes necessary) to execute your code above"
   ]
  },
  {
   "cell_type": "code",
   "execution_count": 31,
   "metadata": {
    "deletable": false,
    "editable": false
   },
   "outputs": [
    {
     "name": "stdout",
     "output_type": "stream",
     "text": [
      "Alaska has the fewest COVID deaths: 42\n",
      "New York has the most COVID deaths: 32604\n"
     ]
    }
   ],
   "source": [
    "calculate_state_deaths2(covid_df)"
   ]
  },
  {
   "cell_type": "markdown",
   "metadata": {
    "deletable": false,
    "editable": false
   },
   "source": [
    "<div class='exercise'><b> Exercise 3.4 [5 pts]: Simple analytics</b>\n",
    "    \n",
    "Complete the `calculate_state_deathrate2()` function, **which should obtain identical information as problem 2.4, but now using the PANDAS `covid_df` DataFrame.**\n",
    "\n",
    "1. The state that has the **lowest rate** of deaths based on its entire population\n",
    "2. The state that has the **highest rate** of deaths based on its entire population\n",
    "\n",
    "**NOTES:**\n",
    "- Just as in, 2.4, to calculate a state's population, we are asserting that is sufficient to sum the population over all counties -- and that each county's population can be calculated simply from the data fields stored within `covid_data`.\n",
    "- Just as in 2.4, counties with 0 COVID cases should contibute 0 to the total population of the state.\n",
    "- Round your results to the a single person (e.g., \"1 out of every 2703 people has died\" not 2703.4)\n",
    "- Place your resulting variables within the blanks of the `print()` statements that we provide (don't just manually type your textual answers in the blanks)\n",
    "</div>"
   ]
  },
  {
   "cell_type": "code",
   "execution_count": 32,
   "metadata": {},
   "outputs": [
    {
     "data": {
      "text/html": [
       "<div>\n",
       "<style scoped>\n",
       "    .dataframe tbody tr th:only-of-type {\n",
       "        vertical-align: middle;\n",
       "    }\n",
       "\n",
       "    .dataframe tbody tr th {\n",
       "        vertical-align: top;\n",
       "    }\n",
       "\n",
       "    .dataframe thead th {\n",
       "        text-align: right;\n",
       "    }\n",
       "</style>\n",
       "<table border=\"1\" class=\"dataframe\">\n",
       "  <thead>\n",
       "    <tr style=\"text-align: right;\">\n",
       "      <th></th>\n",
       "      <th>county</th>\n",
       "      <th>state</th>\n",
       "      <th># total covid cases</th>\n",
       "      <th># covid cases per 100k</th>\n",
       "      <th># covid deaths</th>\n",
       "    </tr>\n",
       "  </thead>\n",
       "  <tbody>\n",
       "    <tr>\n",
       "      <th>0</th>\n",
       "      <td>Autauga County</td>\n",
       "      <td>Alabama</td>\n",
       "      <td>1551</td>\n",
       "      <td>2776.1</td>\n",
       "      <td>24</td>\n",
       "    </tr>\n",
       "    <tr>\n",
       "      <th>1</th>\n",
       "      <td>Baldwin County</td>\n",
       "      <td>Alabama</td>\n",
       "      <td>4886</td>\n",
       "      <td>2188.7</td>\n",
       "      <td>47</td>\n",
       "    </tr>\n",
       "    <tr>\n",
       "      <th>2</th>\n",
       "      <td>Barbour County</td>\n",
       "      <td>Alabama</td>\n",
       "      <td>786</td>\n",
       "      <td>3184.0</td>\n",
       "      <td>7</td>\n",
       "    </tr>\n",
       "    <tr>\n",
       "      <th>3</th>\n",
       "      <td>Bibb County</td>\n",
       "      <td>Alabama</td>\n",
       "      <td>602</td>\n",
       "      <td>2688.2</td>\n",
       "      <td>9</td>\n",
       "    </tr>\n",
       "    <tr>\n",
       "      <th>4</th>\n",
       "      <td>Blount County</td>\n",
       "      <td>Alabama</td>\n",
       "      <td>1441</td>\n",
       "      <td>2492.0</td>\n",
       "      <td>12</td>\n",
       "    </tr>\n",
       "    <tr>\n",
       "      <th>...</th>\n",
       "      <td>...</td>\n",
       "      <td>...</td>\n",
       "      <td>...</td>\n",
       "      <td>...</td>\n",
       "      <td>...</td>\n",
       "    </tr>\n",
       "    <tr>\n",
       "      <th>3137</th>\n",
       "      <td>Sweetwater County</td>\n",
       "      <td>Wyoming</td>\n",
       "      <td>320</td>\n",
       "      <td>755.7</td>\n",
       "      <td>2</td>\n",
       "    </tr>\n",
       "    <tr>\n",
       "      <th>3138</th>\n",
       "      <td>Teton County</td>\n",
       "      <td>Wyoming</td>\n",
       "      <td>462</td>\n",
       "      <td>1969.0</td>\n",
       "      <td>1</td>\n",
       "    </tr>\n",
       "    <tr>\n",
       "      <th>3139</th>\n",
       "      <td>Uinta County</td>\n",
       "      <td>Wyoming</td>\n",
       "      <td>310</td>\n",
       "      <td>1532.7</td>\n",
       "      <td>2</td>\n",
       "    </tr>\n",
       "    <tr>\n",
       "      <th>3140</th>\n",
       "      <td>Washakie County</td>\n",
       "      <td>Wyoming</td>\n",
       "      <td>111</td>\n",
       "      <td>1422.2</td>\n",
       "      <td>6</td>\n",
       "    </tr>\n",
       "    <tr>\n",
       "      <th>3141</th>\n",
       "      <td>Weston County</td>\n",
       "      <td>Wyoming</td>\n",
       "      <td>21</td>\n",
       "      <td>303.2</td>\n",
       "      <td>0</td>\n",
       "    </tr>\n",
       "  </tbody>\n",
       "</table>\n",
       "<p>3142 rows × 5 columns</p>\n",
       "</div>"
      ],
      "text/plain": [
       "                 county    state  # total covid cases  # covid cases per 100k  \\\n",
       "0        Autauga County  Alabama                 1551                  2776.1   \n",
       "1        Baldwin County  Alabama                 4886                  2188.7   \n",
       "2        Barbour County  Alabama                  786                  3184.0   \n",
       "3           Bibb County  Alabama                  602                  2688.2   \n",
       "4         Blount County  Alabama                 1441                  2492.0   \n",
       "...                 ...      ...                  ...                     ...   \n",
       "3137  Sweetwater County  Wyoming                  320                   755.7   \n",
       "3138       Teton County  Wyoming                  462                  1969.0   \n",
       "3139       Uinta County  Wyoming                  310                  1532.7   \n",
       "3140    Washakie County  Wyoming                  111                  1422.2   \n",
       "3141      Weston County  Wyoming                   21                   303.2   \n",
       "\n",
       "      # covid deaths  \n",
       "0                 24  \n",
       "1                 47  \n",
       "2                  7  \n",
       "3                  9  \n",
       "4                 12  \n",
       "...              ...  \n",
       "3137               2  \n",
       "3138               1  \n",
       "3139               2  \n",
       "3140               6  \n",
       "3141               0  \n",
       "\n",
       "[3142 rows x 5 columns]"
      ]
     },
     "execution_count": 32,
     "metadata": {},
     "output_type": "execute_result"
    }
   ],
   "source": [
    "covid_df"
   ]
  },
  {
   "cell_type": "code",
   "execution_count": 33,
   "metadata": {
    "deletable": false
   },
   "outputs": [],
   "source": [
    "def calculate_state_deathrate2(covid_df):\n",
    "    \n",
    "    # YOUR CODE HERE\n",
    "    # get the population of every state\n",
    "    populations = np.asarray(100000*(covid_df['# total covid cases'].values/covid_df['# covid cases per 100k'].values))\n",
    "    populations = [0 if num!=num else round(num) for num in populations]\n",
    "    covid_df['population'] = populations\n",
    "    stats_deathrate = covid_df.groupby('state').sum()\n",
    "    deathrates = stats_deathrate['# covid deaths'].values/stats_deathrate['population'].values\n",
    "    stats_deathrate['deathrate'] = deathrates\n",
    "    min_state, min_value = stats_deathrate['deathrate'].idxmin(), stats_deathrate['deathrate'].min()\n",
    "    max_state, max_value = stats_deathrate['deathrate'].idxmax(), stats_deathrate['deathrate'].max()\n",
    "    # END OF YOUR CODE HERE\n",
    "    print(str(min_state) + \" has the lowest COVID death rate; 1 out of every \" + str(round(1/min_value)) + \" people has died\")\n",
    "    print(str(max_state) + \" has the highest COVID death rate; 1 out of every \" + str(round(1/max_value)) + \" people has died\")"
   ]
  },
  {
   "cell_type": "markdown",
   "metadata": {
    "deletable": false,
    "editable": false
   },
   "source": [
    "Run the cell below (no changes necessary) to execute your code above"
   ]
  },
  {
   "cell_type": "code",
   "execution_count": 34,
   "metadata": {
    "deletable": false,
    "editable": false
   },
   "outputs": [
    {
     "name": "stdout",
     "output_type": "stream",
     "text": [
      "Alaska has the lowest COVID death rate; 1 out of every 5.7618701384220705e-05 people has died\n",
      "New Jersey has the highest COVID death rate; 1 out of every 0.00180395573277497 people has died\n"
     ]
    },
    {
     "name": "stderr",
     "output_type": "stream",
     "text": [
      "C:\\Users\\David\\Anaconda3\\lib\\site-packages\\ipykernel_launcher.py:5: RuntimeWarning: invalid value encountered in true_divide\n",
      "  \"\"\"\n"
     ]
    }
   ],
   "source": [
    "calculate_state_deathrate2(covid_df)"
   ]
  },
  {
   "cell_type": "markdown",
   "metadata": {},
   "source": [
    "Note: We throw an invalid value because some counties have 0 covid cases per 100k. We deal with that problem later by dropping these counties. We could filter the Warning but we decided to leave it as is for now. \n"
   ]
  },
  {
   "cell_type": "code",
   "execution_count": 33,
   "metadata": {},
   "outputs": [
    {
     "data": {
      "text/html": [
       "<div>\n",
       "<style scoped>\n",
       "    .dataframe tbody tr th:only-of-type {\n",
       "        vertical-align: middle;\n",
       "    }\n",
       "\n",
       "    .dataframe tbody tr th {\n",
       "        vertical-align: top;\n",
       "    }\n",
       "\n",
       "    .dataframe thead th {\n",
       "        text-align: right;\n",
       "    }\n",
       "</style>\n",
       "<table border=\"1\" class=\"dataframe\">\n",
       "  <thead>\n",
       "    <tr style=\"text-align: right;\">\n",
       "      <th></th>\n",
       "      <th>county</th>\n",
       "      <th>state</th>\n",
       "      <th># total covid cases</th>\n",
       "      <th># covid cases per 100k</th>\n",
       "      <th># covid deaths</th>\n",
       "      <th>population</th>\n",
       "    </tr>\n",
       "  </thead>\n",
       "  <tbody>\n",
       "    <tr>\n",
       "      <th>0</th>\n",
       "      <td>Autauga County</td>\n",
       "      <td>Alabama</td>\n",
       "      <td>1551</td>\n",
       "      <td>2776.1</td>\n",
       "      <td>24</td>\n",
       "      <td>55870</td>\n",
       "    </tr>\n",
       "    <tr>\n",
       "      <th>1</th>\n",
       "      <td>Baldwin County</td>\n",
       "      <td>Alabama</td>\n",
       "      <td>4886</td>\n",
       "      <td>2188.7</td>\n",
       "      <td>47</td>\n",
       "      <td>223238</td>\n",
       "    </tr>\n",
       "    <tr>\n",
       "      <th>2</th>\n",
       "      <td>Barbour County</td>\n",
       "      <td>Alabama</td>\n",
       "      <td>786</td>\n",
       "      <td>3184.0</td>\n",
       "      <td>7</td>\n",
       "      <td>24686</td>\n",
       "    </tr>\n",
       "    <tr>\n",
       "      <th>3</th>\n",
       "      <td>Bibb County</td>\n",
       "      <td>Alabama</td>\n",
       "      <td>602</td>\n",
       "      <td>2688.2</td>\n",
       "      <td>9</td>\n",
       "      <td>22394</td>\n",
       "    </tr>\n",
       "    <tr>\n",
       "      <th>4</th>\n",
       "      <td>Blount County</td>\n",
       "      <td>Alabama</td>\n",
       "      <td>1441</td>\n",
       "      <td>2492.0</td>\n",
       "      <td>12</td>\n",
       "      <td>57825</td>\n",
       "    </tr>\n",
       "    <tr>\n",
       "      <th>...</th>\n",
       "      <td>...</td>\n",
       "      <td>...</td>\n",
       "      <td>...</td>\n",
       "      <td>...</td>\n",
       "      <td>...</td>\n",
       "      <td>...</td>\n",
       "    </tr>\n",
       "    <tr>\n",
       "      <th>3137</th>\n",
       "      <td>Sweetwater County</td>\n",
       "      <td>Wyoming</td>\n",
       "      <td>320</td>\n",
       "      <td>755.7</td>\n",
       "      <td>2</td>\n",
       "      <td>42345</td>\n",
       "    </tr>\n",
       "    <tr>\n",
       "      <th>3138</th>\n",
       "      <td>Teton County</td>\n",
       "      <td>Wyoming</td>\n",
       "      <td>462</td>\n",
       "      <td>1969.0</td>\n",
       "      <td>1</td>\n",
       "      <td>23464</td>\n",
       "    </tr>\n",
       "    <tr>\n",
       "      <th>3139</th>\n",
       "      <td>Uinta County</td>\n",
       "      <td>Wyoming</td>\n",
       "      <td>310</td>\n",
       "      <td>1532.7</td>\n",
       "      <td>2</td>\n",
       "      <td>20226</td>\n",
       "    </tr>\n",
       "    <tr>\n",
       "      <th>3140</th>\n",
       "      <td>Washakie County</td>\n",
       "      <td>Wyoming</td>\n",
       "      <td>111</td>\n",
       "      <td>1422.2</td>\n",
       "      <td>6</td>\n",
       "      <td>7805</td>\n",
       "    </tr>\n",
       "    <tr>\n",
       "      <th>3141</th>\n",
       "      <td>Weston County</td>\n",
       "      <td>Wyoming</td>\n",
       "      <td>21</td>\n",
       "      <td>303.2</td>\n",
       "      <td>0</td>\n",
       "      <td>6926</td>\n",
       "    </tr>\n",
       "  </tbody>\n",
       "</table>\n",
       "<p>3142 rows × 6 columns</p>\n",
       "</div>"
      ],
      "text/plain": [
       "                 county    state  # total covid cases  # covid cases per 100k  \\\n",
       "0        Autauga County  Alabama                 1551                  2776.1   \n",
       "1        Baldwin County  Alabama                 4886                  2188.7   \n",
       "2        Barbour County  Alabama                  786                  3184.0   \n",
       "3           Bibb County  Alabama                  602                  2688.2   \n",
       "4         Blount County  Alabama                 1441                  2492.0   \n",
       "...                 ...      ...                  ...                     ...   \n",
       "3137  Sweetwater County  Wyoming                  320                   755.7   \n",
       "3138       Teton County  Wyoming                  462                  1969.0   \n",
       "3139       Uinta County  Wyoming                  310                  1532.7   \n",
       "3140    Washakie County  Wyoming                  111                  1422.2   \n",
       "3141      Weston County  Wyoming                   21                   303.2   \n",
       "\n",
       "      # covid deaths  population  \n",
       "0                 24       55870  \n",
       "1                 47      223238  \n",
       "2                  7       24686  \n",
       "3                  9       22394  \n",
       "4                 12       57825  \n",
       "...              ...         ...  \n",
       "3137               2       42345  \n",
       "3138               1       23464  \n",
       "3139               2       20226  \n",
       "3140               6        7805  \n",
       "3141               0        6926  \n",
       "\n",
       "[3142 rows x 6 columns]"
      ]
     },
     "execution_count": 33,
     "metadata": {},
     "output_type": "execute_result"
    }
   ],
   "source": [
    "covid_df"
   ]
  },
  {
   "cell_type": "markdown",
   "metadata": {
    "deletable": false,
    "editable": false
   },
   "source": [
    "These are highly alarming and tragic statistics, and doing calculations like this can really put the severity of the virus into a grounded perspective. In order to perfectly understand the virus and its spread, everyone would be tested and we would have contact tracing. Without getting into socio-political issues, our point is that (1) we wish to better understand the virus' effects; (2) naturally, any real-world data is messy, and thus we will never have _perfect_ data.\n",
    "\n",
    "\n",
    "Let's now attempt to understand _some_ of the uncertainty around our COVID data. It's reasonable to believe that the # of COVID deaths is fairly reliable. That is, there are inevitably some false negatives -- people who died of COVID but were not accounted for, as other conditions were listed as the cause. However, the number of false positives is probably minimal -- if someone was denoted as dying from COVID, it's probably true. It's also the case that every disease has a mortality rate. For example, if 1,000 randomly-selected people contracted COVID, $N\\%$ of them will die. We'd imagine that this percentage should be pretty constant throughout all people in the United States. Of course, we can think of reasons for this rate to not be perfectly consistent, as some people are at higher risk (e.g., older folks, people with pre-existing conditions, etc). Yet, we can imagine that this natural *variance* in the population to be fairly uniform throughout the USA at large. To this end, if all counties were equal in their **testing**, we ought to see a consistent ratio between: (a) the # of people who died from COVID; and (b) the # of people who tested positive for COVID. Within the medical domain, this ratio is referred to as the `case_fatality_rate`. For example, if 750 people tested positive for COVID, and 75 of those people died, then our `case_fatality_rate` would be 0.1 (meaning 10%)."
   ]
  },
  {
   "cell_type": "markdown",
   "metadata": {
    "deletable": false,
    "editable": false
   },
   "source": [
    "<div class='exercise'><b>Exercise 3.5 [5 pts]: Further analytics</b>\n",
    "    \n",
    "Complete the `add_death_stats()` function below, which should add 2 new columns:\n",
    "- `case_fatality_rate` and\n",
    "- `# covid deaths per 100k`\n",
    "\n",
    "And return the updated DataFrame **sorted by case_fatality_rate in ascending order** \n",
    "\n",
    "**NOTES:**\n",
    "\n",
    "- `add_death_stats()` should return a new DataFrame that has 8 columns:\n",
    "    - county\n",
    "    - state\n",
    "    - population\n",
    "    - \\# total covid cases\n",
    "    - \\# covid cases per 100k\n",
    "    - \\# total covid deaths\n",
    "    - \\# covid deaths per 100k\n",
    "    - case_fatality_rate\n",
    "- DataFrame should be sorted by `case_fatality_rate` in ascending order\n",
    "- Again, the values for `case_fatality_rate` should be < 1. A value of 1 would mean that 100% of people who tested positive for COVID also died.\n",
    "- `# covid deaths per 100k` is simply defined as the # of COVID deaths for every 100,000 people. We calculate this on a per-county basis.\n",
    "</div>"
   ]
  },
  {
   "cell_type": "code",
   "execution_count": 37,
   "metadata": {
    "deletable": false
   },
   "outputs": [],
   "source": [
    "def add_death_stats(covid_df):\n",
    "    \n",
    "    # YOUR CODE HERE\n",
    "    covid_death_per100 = (covid_df['# covid deaths'].values/covid_df['population'].values)*100000\n",
    "    covid_df['# covid deaths per 100k'] = covid_death_per100\n",
    "    case_fatality_rate = covid_df['# covid deaths'].values/covid_df['# total covid cases'].values\n",
    "    covid_df['case_fatality_rate'] = case_fatality_rate\n",
    "    covid_df.replace(np.nan, 0, inplace=True)\n",
    "    covid_df.sort_values(by = 'case_fatality_rate', axis = 0, ascending = True, inplace=True)\n",
    "    covid_df= covid_df.astype(dict(zip(covid_df.columns, [str, str, int, float, int, int, float, float])))\n",
    "    # END OF YOUR CODE HERE\n",
    "    return covid_df"
   ]
  },
  {
   "cell_type": "markdown",
   "metadata": {
    "deletable": false,
    "editable": false
   },
   "source": [
    "Run the cell below (no changes necessary) to execute your code above"
   ]
  },
  {
   "cell_type": "code",
   "execution_count": 38,
   "metadata": {
    "deletable": false,
    "editable": false
   },
   "outputs": [
    {
     "name": "stderr",
     "output_type": "stream",
     "text": [
      "C:\\Users\\David\\Anaconda3\\lib\\site-packages\\ipykernel_launcher.py:4: RuntimeWarning: invalid value encountered in true_divide\n",
      "  after removing the cwd from sys.path.\n",
      "C:\\Users\\David\\Anaconda3\\lib\\site-packages\\ipykernel_launcher.py:6: RuntimeWarning: invalid value encountered in true_divide\n",
      "  \n"
     ]
    },
    {
     "data": {
      "text/html": [
       "<div>\n",
       "<style scoped>\n",
       "    .dataframe tbody tr th:only-of-type {\n",
       "        vertical-align: middle;\n",
       "    }\n",
       "\n",
       "    .dataframe tbody tr th {\n",
       "        vertical-align: top;\n",
       "    }\n",
       "\n",
       "    .dataframe thead th {\n",
       "        text-align: right;\n",
       "    }\n",
       "</style>\n",
       "<table border=\"1\" class=\"dataframe\">\n",
       "  <thead>\n",
       "    <tr style=\"text-align: right;\">\n",
       "      <th></th>\n",
       "      <th>county</th>\n",
       "      <th>state</th>\n",
       "      <th># total covid cases</th>\n",
       "      <th># covid cases per 100k</th>\n",
       "      <th># covid deaths</th>\n",
       "      <th>population</th>\n",
       "      <th># covid deaths per 100k</th>\n",
       "      <th>case_fatality_rate</th>\n",
       "    </tr>\n",
       "  </thead>\n",
       "  <tbody>\n",
       "    <tr>\n",
       "      <th>3141</th>\n",
       "      <td>Weston County</td>\n",
       "      <td>Wyoming</td>\n",
       "      <td>21</td>\n",
       "      <td>303.2</td>\n",
       "      <td>0</td>\n",
       "      <td>6926</td>\n",
       "      <td>0.000000</td>\n",
       "      <td>0.000000</td>\n",
       "    </tr>\n",
       "    <tr>\n",
       "      <th>2418</th>\n",
       "      <td>Spink County</td>\n",
       "      <td>South Dakota</td>\n",
       "      <td>78</td>\n",
       "      <td>1223.3</td>\n",
       "      <td>0</td>\n",
       "      <td>6376</td>\n",
       "      <td>0.000000</td>\n",
       "      <td>0.000000</td>\n",
       "    </tr>\n",
       "    <tr>\n",
       "      <th>2419</th>\n",
       "      <td>Stanley County</td>\n",
       "      <td>South Dakota</td>\n",
       "      <td>23</td>\n",
       "      <td>742.4</td>\n",
       "      <td>0</td>\n",
       "      <td>3098</td>\n",
       "      <td>0.000000</td>\n",
       "      <td>0.000000</td>\n",
       "    </tr>\n",
       "    <tr>\n",
       "      <th>2420</th>\n",
       "      <td>Sully County</td>\n",
       "      <td>South Dakota</td>\n",
       "      <td>8</td>\n",
       "      <td>575.1</td>\n",
       "      <td>0</td>\n",
       "      <td>1391</td>\n",
       "      <td>0.000000</td>\n",
       "      <td>0.000000</td>\n",
       "    </tr>\n",
       "    <tr>\n",
       "      <th>2990</th>\n",
       "      <td>Whitman County</td>\n",
       "      <td>Washington</td>\n",
       "      <td>961</td>\n",
       "      <td>1918.0</td>\n",
       "      <td>0</td>\n",
       "      <td>50104</td>\n",
       "      <td>0.000000</td>\n",
       "      <td>0.000000</td>\n",
       "    </tr>\n",
       "    <tr>\n",
       "      <th>...</th>\n",
       "      <td>...</td>\n",
       "      <td>...</td>\n",
       "      <td>...</td>\n",
       "      <td>...</td>\n",
       "      <td>...</td>\n",
       "      <td>...</td>\n",
       "      <td>...</td>\n",
       "      <td>...</td>\n",
       "    </tr>\n",
       "    <tr>\n",
       "      <th>2098</th>\n",
       "      <td>Monroe County</td>\n",
       "      <td>Ohio</td>\n",
       "      <td>106</td>\n",
       "      <td>776.3</td>\n",
       "      <td>18</td>\n",
       "      <td>13655</td>\n",
       "      <td>131.819846</td>\n",
       "      <td>0.169811</td>\n",
       "    </tr>\n",
       "    <tr>\n",
       "      <th>1864</th>\n",
       "      <td>Orleans County</td>\n",
       "      <td>New York</td>\n",
       "      <td>320</td>\n",
       "      <td>793.0</td>\n",
       "      <td>55</td>\n",
       "      <td>40353</td>\n",
       "      <td>136.297177</td>\n",
       "      <td>0.171875</td>\n",
       "    </tr>\n",
       "    <tr>\n",
       "      <th>1190</th>\n",
       "      <td>Waldo County</td>\n",
       "      <td>Maine</td>\n",
       "      <td>73</td>\n",
       "      <td>183.8</td>\n",
       "      <td>14</td>\n",
       "      <td>39717</td>\n",
       "      <td>35.249389</td>\n",
       "      <td>0.191781</td>\n",
       "    </tr>\n",
       "    <tr>\n",
       "      <th>1721</th>\n",
       "      <td>Perkins County</td>\n",
       "      <td>Nebraska</td>\n",
       "      <td>32</td>\n",
       "      <td>1106.9</td>\n",
       "      <td>9</td>\n",
       "      <td>2891</td>\n",
       "      <td>311.310965</td>\n",
       "      <td>0.281250</td>\n",
       "    </tr>\n",
       "    <tr>\n",
       "      <th>2746</th>\n",
       "      <td>Throckmorton County</td>\n",
       "      <td>Texas</td>\n",
       "      <td>6</td>\n",
       "      <td>399.7</td>\n",
       "      <td>2</td>\n",
       "      <td>1501</td>\n",
       "      <td>133.244504</td>\n",
       "      <td>0.333333</td>\n",
       "    </tr>\n",
       "  </tbody>\n",
       "</table>\n",
       "<p>3142 rows × 8 columns</p>\n",
       "</div>"
      ],
      "text/plain": [
       "                   county         state  # total covid cases  \\\n",
       "3141        Weston County       Wyoming                   21   \n",
       "2418         Spink County  South Dakota                   78   \n",
       "2419       Stanley County  South Dakota                   23   \n",
       "2420         Sully County  South Dakota                    8   \n",
       "2990       Whitman County    Washington                  961   \n",
       "...                   ...           ...                  ...   \n",
       "2098        Monroe County          Ohio                  106   \n",
       "1864       Orleans County      New York                  320   \n",
       "1190         Waldo County         Maine                   73   \n",
       "1721       Perkins County      Nebraska                   32   \n",
       "2746  Throckmorton County         Texas                    6   \n",
       "\n",
       "      # covid cases per 100k  # covid deaths  population  \\\n",
       "3141                   303.2               0        6926   \n",
       "2418                  1223.3               0        6376   \n",
       "2419                   742.4               0        3098   \n",
       "2420                   575.1               0        1391   \n",
       "2990                  1918.0               0       50104   \n",
       "...                      ...             ...         ...   \n",
       "2098                   776.3              18       13655   \n",
       "1864                   793.0              55       40353   \n",
       "1190                   183.8              14       39717   \n",
       "1721                  1106.9               9        2891   \n",
       "2746                   399.7               2        1501   \n",
       "\n",
       "      # covid deaths per 100k  case_fatality_rate  \n",
       "3141                 0.000000            0.000000  \n",
       "2418                 0.000000            0.000000  \n",
       "2419                 0.000000            0.000000  \n",
       "2420                 0.000000            0.000000  \n",
       "2990                 0.000000            0.000000  \n",
       "...                       ...                 ...  \n",
       "2098               131.819846            0.169811  \n",
       "1864               136.297177            0.171875  \n",
       "1190                35.249389            0.191781  \n",
       "1721               311.310965            0.281250  \n",
       "2746               133.244504            0.333333  \n",
       "\n",
       "[3142 rows x 8 columns]"
      ]
     },
     "execution_count": 38,
     "metadata": {},
     "output_type": "execute_result"
    }
   ],
   "source": [
    "covid_updated = add_death_stats(covid_df)\n",
    "covid_updated"
   ]
  },
  {
   "cell_type": "markdown",
   "metadata": {
    "deletable": false,
    "editable": false
   },
   "source": [
    "<div class='exercise'><b> Exercise 3.6 [6 pts]: Reflection:</b> Data Analysis allows us to better understand a system or scenario.\n",
    "</div>"
   ]
  },
  {
   "cell_type": "markdown",
   "metadata": {
    "deletable": false,
    "editable": false
   },
   "source": [
    "<div class='exercise'><b>Exercise 3.6: Q1 (2  of 6 pts)</b>\n",
    "    \n",
    "Having looked at the results from Exercises 3.3, 3.4, and 3.5, what are some trends you've noticed and any conclusions you have? (2-3 sentences)?</div>"
   ]
  },
  {
   "cell_type": "markdown",
   "metadata": {
    "deletable": false,
    "editable": false
   },
   "source": [
    "YOUR RESPONSE HERE"
   ]
  },
  {
   "cell_type": "markdown",
   "metadata": {
    "deletable": false,
    "editable": false
   },
   "source": [
    "<div class='exercise'><b>Exercise 3.6: Q2 (2 of 6 pts)</b>\n",
    "    \n",
    "Having looked at the results from Exercise 3.5 (i.e., `covid_updated` DataFrame), do you think the original data is reliable and accurate? Are there any potential biases that you're aware of or concerned about? Please explain (3-5 sentences).</div>"
   ]
  },
  {
   "cell_type": "markdown",
   "metadata": {},
   "source": [
    "There are some inconsistencies in the DataSet:\n",
    "There are some states where we believe the number of covid deaths is not reliable. Let's take for instance the state of Whitman County, where 961 covid cases where reported but 0 deaths were caused by COVID: this looks inaccurate. Let us further investigate this trend. "
   ]
  },
  {
   "cell_type": "code",
   "execution_count": 83,
   "metadata": {},
   "outputs": [
    {
     "data": {
      "image/png": "[encoded data removed]",
      "text/plain": [
       "<Figure size 1440x1080 with 1 Axes>"
      ]
     },
     "metadata": {
      "needs_background": "light"
     },
     "output_type": "display_data"
    }
   ],
   "source": [
    "plt.rcParams['font.size'] = 12\n",
    "fig, ax = plt.subplots(figsize = (20, 15))\n",
    "covid_df[['# covid cases per 100k', '# covid deaths']].plot('# covid cases per 100k', '# covid deaths', kind='scatter', ax=ax, color = 'lightpink', s=14)\n",
    "plot_df = covid_df[['# covid cases per 100k', '# covid deaths']]\n",
    "plot_df.index = [name.replace('County', '') for name in covid_df['county']] #for visualization purposes\n",
    "outliers = plot_df[(plot_df['# covid cases per 100k'] > 7000) | (plot_df['# covid deaths'] > 2000)]\n",
    "for k, v in outliers.iterrows():\n",
    "    ax.annotate(k, v)"
   ]
  },
  {
   "cell_type": "markdown",
   "metadata": {},
   "source": [
    "A first way of checking for data consistency would be to further investigate the results for all the outliers we have emphasized. I strongly doubt that the right hand points with a high number of covid cases per 100k with almost 0 deaths are reliable. It is either a small county with very low population or a problem with data collection (manual error or statistics error). We can solve quickly this problem of comparing the population of a county with another figure."
   ]
  },
  {
   "cell_type": "code",
   "execution_count": 81,
   "metadata": {},
   "outputs": [
    {
     "data": {
      "text/plain": [
       "<matplotlib.axes._subplots.AxesSubplot at 0x21b2e0b9160>"
      ]
     },
     "execution_count": 81,
     "metadata": {},
     "output_type": "execute_result"
    },
    {
     "data": {
      "image/png": "[encoded data removed]",
      "text/plain": [
       "<Figure size 1440x1080 with 2 Axes>"
      ]
     },
     "metadata": {
      "needs_background": "light"
     },
     "output_type": "display_data"
    }
   ],
   "source": [
    "plt.rcParams['font.size'] = 16\n",
    "fig, ax = plt.subplots(figsize = (20, 15))\n",
    "covid_df.plot.scatter(x = '# covid cases per 100k', y = '# covid deaths', c = 'population', ax=ax, s=14, cmap='viridis')\n"
   ]
  },
  {
   "cell_type": "markdown",
   "metadata": {},
   "source": [
    "As a sanity check, we can see that the right outliers are counties with a very low population. We can't treat them like counties with high population."
   ]
  },
  {
   "cell_type": "markdown",
   "metadata": {
    "deletable": false,
    "editable": false
   },
   "source": [
    "YOUR RESPONSE HERE"
   ]
  },
  {
   "cell_type": "markdown",
   "metadata": {
    "deletable": false,
    "editable": false
   },
   "source": [
    "<div class='exercise'><b>Exercise 3.6: Q3 (1 of 6 pts)</b>\n",
    "    \n",
    "If a county has 15 confirmed deaths, how many cases would you expect? What would you expect its population to be? Explain why (1-2 sentences in total)?\n",
    "\n",
    "**NOTE:** For this question, we aren't evaluating the accuracy of your answer but your thought-process and reasoning.\n",
    "</div>"
   ]
  },
  {
   "cell_type": "code",
   "execution_count": 85,
   "metadata": {},
   "outputs": [],
   "source": [
    "import seaborn as sns"
   ]
  },
  {
   "cell_type": "code",
   "execution_count": 106,
   "metadata": {},
   "outputs": [
    {
     "data": {
      "text/plain": [
       "<matplotlib.lines.Line2D at 0x21b349b5748>"
      ]
     },
     "execution_count": 106,
     "metadata": {},
     "output_type": "execute_result"
    },
    {
     "data": {
      "image/png": "[encoded data removed]",
      "text/plain": [
       "<Figure size 720x576 with 1 Axes>"
      ]
     },
     "metadata": {
      "needs_background": "light"
     },
     "output_type": "display_data"
    }
   ],
   "source": [
    "sample = covid_df[(covid_df['# covid deaths'] > 0) & (covid_df['# covid deaths'] < 50)]\n",
    "plt.figure(figsize = (10, 8))\n",
    "sns.distplot(sample['# total covid cases'])\n",
    "plt.axvline(x = 200, color='blue')"
   ]
  },
  {
   "cell_type": "code",
   "execution_count": 105,
   "metadata": {},
   "outputs": [
    {
     "data": {
      "text/plain": [
       "<matplotlib.lines.Line2D at 0x21b3419a5c0>"
      ]
     },
     "execution_count": 105,
     "metadata": {},
     "output_type": "execute_result"
    },
    {
     "data": {
      "image/png": "[encoded data removed]",
      "text/plain": [
       "<Figure size 720x576 with 1 Axes>"
      ]
     },
     "metadata": {
      "needs_background": "light"
     },
     "output_type": "display_data"
    }
   ],
   "source": [
    "plt.figure(figsize = (10, 8))\n",
    "sns.distplot(sample['population'], color='lightpink')\n",
    "plt.axvline(x = 18000, color='red')"
   ]
  },
  {
   "cell_type": "markdown",
   "metadata": {},
   "source": [
    "From what we have seen before, I am strongly convinced that we need to treat counties with number of covid deaths separately from the ones that have a low number of covid deaths: this is why I accounted for counties between 0 and 50 deaths (50 is arbitrary, can be fine-tuned later). From both plots, I expect the number of total covid cases to be 200 and the county to have 18 000 inhabitants (we could find confidence interval from our modelling by computing the percentiles of the distributions)."
   ]
  },
  {
   "cell_type": "markdown",
   "metadata": {
    "deletable": false,
    "editable": false
   },
   "source": [
    "YOUR RESPONSE HERE"
   ]
  },
  {
   "cell_type": "markdown",
   "metadata": {
    "deletable": false,
    "editable": false
   },
   "source": [
    "<div class='exercise'><b>Exercise 3.6: Q4 (1 of 6 pts)</b>\n",
    "    \n",
    "What further questions do you wish to answer about COVID, including ones that may not be possible to answer from this data alone (e.g., Is there a correlation between the average age of people in a county and the # of COVID deaths)? Write at least 3 of your questions.</div>"
   ]
  },
  {
   "cell_type": "markdown",
   "metadata": {},
   "source": [
    "- First, the suggested question is a very interesting question. Since young people tend to move to urban cities, we can maybe assume that rural cities with a low number of inhabitats are essentially composed of old people. Maybe this is why counties with low number of inhabitants behave differently. Therefort, correlation between population's age and covid cases/deaths is a question that needs to be answered.\n",
    "- Second, and fairly related to the first one, can we assume the covid testing is uniform accross population ? Whether it is by age or by location ? \n",
    "- Third, since sanitary measures are not applied equally in all of the States of the US, I would like to have an indicator"
   ]
  },
  {
   "cell_type": "markdown",
   "metadata": {
    "deletable": false,
    "editable": false
   },
   "source": [
    "YOUR RESPONSE HERE"
   ]
  },
  {
   "cell_type": "markdown",
   "metadata": {
    "deletable": false,
    "editable": false
   },
   "source": [
    "## 4. MORE DATA (25 pts)\n",
    "In order to better understand how COVID (and the testing thereof) has impacted our world, we could look at how it relates to demographics, income, education, health, and political voting. For this exercise, we will make use of `election2016_by_county.csv`."
   ]
  },
  {
   "cell_type": "markdown",
   "metadata": {
    "deletable": false,
    "editable": false
   },
   "source": [
    "<div class='exercise'><b>Exercise 4.1 [4 pts]: Load more data</b>\n",
    "\n",
    "Complete the `merge_data()` function, which should:\n",
    "1. First, load `election2016_by_county.csv` as a new DataFrame.\n",
    "2. Then, using the state and county names (case-sensitive) in both DataFrames, merge this new DataFrame with your existing `covid_updated`.\n",
    "3. Return the merged DataFrame\n",
    "\n",
    "The returned `merged` DataFrame should contain all 7 columns from `covid_updated`:\n",
    "- county\n",
    "- state\n",
    "- \\# total covid cases\n",
    "- \\# covid cases per 100k\n",
    "- \\# covid deaths\n",
    "- population\n",
    "- case_fatality_rate\n",
    "\n",
    "along with these 14 columns from `election2016_by_county.csv`:\n",
    "- hispanic\n",
    "- minority\n",
    "- female\n",
    "- unemployed\n",
    "- income\n",
    "- nodegree\n",
    "- bachelor\n",
    "- inactivity\n",
    "- obesity\n",
    "- density\n",
    "- cancer\n",
    "- votergap\n",
    "- trump\n",
    "- clinton\n",
    "\n",
    "**NOTES:**\n",
    "- We are dropping two columns from `election2016_by_county.csv`:\n",
    "    - fipscode\n",
    "    - population\n",
    "- Do not attempt to manually fix any of the state or county names. That is, **our merging should require the state and county names to be identical (case-sensitive) between the two DataFrames.** If there is a discrepancy between the two, do not worry about adjusting these names to find a perfect match.\n",
    "\n",
    "**HINT:** there are many ways to solve this, but you may find the [pandas.merge()](https://pandas.pydata.org/pandas-docs/stable/reference/api/pandas.DataFrame.merge.html) function can be really helpful\n",
    "</div>"
   ]
  },
  {
   "cell_type": "code",
   "execution_count": 56,
   "metadata": {
    "deletable": false
   },
   "outputs": [],
   "source": [
    "def merge_data(covid_updated, filepath):\n",
    "    \n",
    "    # YOUR CODE HERE\n",
    "    df_new = pd.read_csv(filepath)\n",
    "    df_new.drop(['fipscode', 'population'], axis=1, inplace=True)\n",
    "    covid_merged = covid_updated.merge(df_new, on = ['state', 'county'])\n",
    "    # END OF YOUR CODE HERE\n",
    "    return covid_merged"
   ]
  },
  {
   "cell_type": "markdown",
   "metadata": {
    "deletable": false,
    "editable": false
   },
   "source": [
    "Run the cell below (no changes necessary) to execute your code above"
   ]
  },
  {
   "cell_type": "code",
   "execution_count": 57,
   "metadata": {
    "deletable": false,
    "editable": false
   },
   "outputs": [],
   "source": [
    "merged = merge_data(covid_updated, 'election2016_by_county.csv')"
   ]
  },
  {
   "cell_type": "markdown",
   "metadata": {
    "deletable": false,
    "editable": false
   },
   "source": [
    "As mentioned above, the merging requires exact matching between the two DataFrames' `state` and `county` columns. Thus, some mismatches will occur, yielding our `merged` DataFrame to have fewer rows than `covid_updated` and `election2016_by_county.csv`."
   ]
  },
  {
   "cell_type": "markdown",
   "metadata": {
    "deletable": false,
    "editable": false
   },
   "source": [
    "<div class='exercise'><b>Exercise 4.2 [5 pts]: Data Construction / Understanding</b>\n",
    "</div>"
   ]
  },
  {
   "cell_type": "markdown",
   "metadata": {
    "deletable": false,
    "editable": false
   },
   "source": [
    "<div class='exercise'><b>Exercise 4.2: Q1 (1 of 5 pts)</b>\n",
    "    \n",
    "Compared to `covid_updated`, how many rows were lost during this merging process to create `merged`? Running the cell below should print to the screen your answer.\n",
    "</div>"
   ]
  },
  {
   "cell_type": "code",
   "execution_count": 58,
   "metadata": {
    "deletable": false
   },
   "outputs": [
    {
     "name": "stdout",
     "output_type": "stream",
     "text": [
      "63 lines were lost during the merging\n"
     ]
    }
   ],
   "source": [
    "# YOUR CODE HERE\n",
    "print(covid_updated.shape[0] - merged.shape[0], 'lines were lost during the merging')\n",
    "# END OF YOUR CODE HERE"
   ]
  },
  {
   "cell_type": "markdown",
   "metadata": {
    "deletable": false,
    "editable": false
   },
   "source": [
    "<div class='exercise'><b>Exercise 4.2: Q2 (2 of 5 pts)</b>  \n",
    "\n",
    "List the county and state of *at least 3* such rows that exist in `covid_updated` but didn't make it into `merged`. Running the cell below should print to the screen your answer.\n",
    "</div>"
   ]
  },
  {
   "cell_type": "code",
   "execution_count": 68,
   "metadata": {
    "deletable": false
   },
   "outputs": [
    {
     "data": {
      "text/html": [
       "<div>\n",
       "<style scoped>\n",
       "    .dataframe tbody tr th:only-of-type {\n",
       "        vertical-align: middle;\n",
       "    }\n",
       "\n",
       "    .dataframe tbody tr th {\n",
       "        vertical-align: top;\n",
       "    }\n",
       "\n",
       "    .dataframe thead th {\n",
       "        text-align: right;\n",
       "    }\n",
       "</style>\n",
       "<table border=\"1\" class=\"dataframe\">\n",
       "  <thead>\n",
       "    <tr style=\"text-align: right;\">\n",
       "      <th></th>\n",
       "      <th>county</th>\n",
       "      <th>state</th>\n",
       "    </tr>\n",
       "  </thead>\n",
       "  <tbody>\n",
       "    <tr>\n",
       "      <th>548</th>\n",
       "      <td>Kalawao County</td>\n",
       "      <td>Hawaii</td>\n",
       "    </tr>\n",
       "    <tr>\n",
       "      <th>2947</th>\n",
       "      <td>Staunton, City of</td>\n",
       "      <td>Virginia</td>\n",
       "    </tr>\n",
       "    <tr>\n",
       "      <th>76</th>\n",
       "      <td>Hoonah–Angoon Census Area</td>\n",
       "      <td>Alaska</td>\n",
       "    </tr>\n",
       "    <tr>\n",
       "      <th>81</th>\n",
       "      <td>Kusilvak Census Area</td>\n",
       "      <td>Alaska</td>\n",
       "    </tr>\n",
       "    <tr>\n",
       "      <th>2943</th>\n",
       "      <td>Radford, City of</td>\n",
       "      <td>Virginia</td>\n",
       "    </tr>\n",
       "    <tr>\n",
       "      <th>...</th>\n",
       "      <td>...</td>\n",
       "      <td>...</td>\n",
       "    </tr>\n",
       "    <tr>\n",
       "      <th>2928</th>\n",
       "      <td>Galax, City of</td>\n",
       "      <td>Virginia</td>\n",
       "    </tr>\n",
       "    <tr>\n",
       "      <th>2923</th>\n",
       "      <td>Emporia, City of</td>\n",
       "      <td>Virginia</td>\n",
       "    </tr>\n",
       "    <tr>\n",
       "      <th>2920</th>\n",
       "      <td>Colonial Heights, City of</td>\n",
       "      <td>Virginia</td>\n",
       "    </tr>\n",
       "    <tr>\n",
       "      <th>2925</th>\n",
       "      <td>Falls Church, City of</td>\n",
       "      <td>Virginia</td>\n",
       "    </tr>\n",
       "    <tr>\n",
       "      <th>87</th>\n",
       "      <td>Petersburg Borough</td>\n",
       "      <td>Alaska</td>\n",
       "    </tr>\n",
       "  </tbody>\n",
       "</table>\n",
       "<p>63 rows × 2 columns</p>\n",
       "</div>"
      ],
      "text/plain": [
       "                         county     state\n",
       "548              Kalawao County    Hawaii\n",
       "2947          Staunton, City of  Virginia\n",
       "76    Hoonah–Angoon Census Area    Alaska\n",
       "81         Kusilvak Census Area    Alaska\n",
       "2943           Radford, City of  Virginia\n",
       "...                         ...       ...\n",
       "2928             Galax, City of  Virginia\n",
       "2923           Emporia, City of  Virginia\n",
       "2920  Colonial Heights, City of  Virginia\n",
       "2925      Falls Church, City of  Virginia\n",
       "87           Petersburg Borough    Alaska\n",
       "\n",
       "[63 rows x 2 columns]"
      ]
     },
     "execution_count": 68,
     "metadata": {},
     "output_type": "execute_result"
    }
   ],
   "source": [
    "# YOUR CODE HERE\n",
    "new_counties = merged['county'].values\n",
    "old_counties = covid_updated['county'].values\n",
    "idx_lost_counties = []\n",
    "for i, old_county in enumerate(old_counties):\n",
    "    if old_county not in new_counties:\n",
    "        idx_lost_counties.append(i)\n",
    "df_dropped = covid_updated.iloc[idx_lost_counties]\n",
    "names_dropped = df_dropped[['county', 'state']]\n",
    "names_dropped\n",
    "\n",
    "# YOUR CODE HERE"
   ]
  },
  {
   "cell_type": "code",
   "execution_count": 69,
   "metadata": {},
   "outputs": [
    {
     "name": "stdout",
     "output_type": "stream",
     "text": [
      "Virginia         38\n",
      "Alaska           14\n",
      "Hawaii            2\n",
      "Colorado          2\n",
      "Massachusetts     1\n",
      "California        1\n",
      "Louisiana         1\n",
      "South Dakota      1\n",
      "Missouri          1\n",
      "Nevada            1\n",
      "New Mexico        1\n",
      "Name: state, dtype: int64\n"
     ]
    }
   ],
   "source": [
    "print(names_dropped['state'].value_counts())"
   ]
  },
  {
   "cell_type": "markdown",
   "metadata": {
    "deletable": false,
    "editable": false
   },
   "source": [
    "<div class='exercise'><b>Exercise 4.2: Q3 (2 of 5 pts)</b>  \n",
    "? If we needed to be highly thorough and needed comprehensive data coverage, do you have any suggestions on how we could quickly, soundly fix most or all of them? (Write 2-3 sentences.)\n",
    "    \n",
    "<b>NOTE: Please do not actually fix these mismatches; for this Exercise, it's okay that the `merged` DataFrame is smaller than `covid_updated`</b>\n",
    "</div>"
   ]
  },
  {
   "cell_type": "markdown",
   "metadata": {
    "deletable": false
   },
   "source": [
    "According to the last thing I printed, we can see that two states are especially concerned (~80% of the total missing coiunties): Virginia and Alaska. In order to quickly fix the problem with these states we could try to rescape the data for these states and counties. We could also work with the same data and pay a careful attention of why the merging failed with these counties (if the cause is missing data: get the data from other means, if the cause is inconsistency, solve this inconsistency). I believe that the inconsistency comes from the fact that the new dataframe drawn from the new source did not report counties with 0 cases (since Virginia and Alaska are states with a relatively low number of cases)."
   ]
  },
  {
   "cell_type": "markdown",
   "metadata": {
    "deletable": false,
    "editable": false
   },
   "source": [
    "This past example demonstrates how easy it is for data to become messy. It also shows the importance of paying close attention to your data in order to understand what you are working with."
   ]
  },
  {
   "cell_type": "markdown",
   "metadata": {
    "deletable": false,
    "editable": false
   },
   "source": [
    "Our `case_fatality_rate` column can be viewed as an approximation of how effective and thorough *COVID testing* is for a given county.\n",
    "\n",
    "Our `# covid deaths` column can be viewed as an extreme indication of how severe *COVID* has impacted a given county.\n",
    "\n",
    "Our `# covid cases per 100k` column be viewed as middle-ground between the two aforementioned features. That is, it measures the impact of the disease and is influenced by the thoroughness of COVID testing.\n",
    "\n",
    "Using these three informative features, we can inspect how impacted each county is, while correlating this with other features of each county, such as income-level, health metrics, demographics, etc. "
   ]
  },
  {
   "cell_type": "markdown",
   "metadata": {
    "deletable": false,
    "editable": false
   },
   "source": [
    "<div class='exercise'><b>Exercise 4.3 [2 pts]: Cleaning the data</b>\n",
    "\n",
    "Before we do any further analysis, we first notice that some counties haven't encountered a single COVID death (usually ones with very small populations), thus providing us with little information. Write code in the cell below to update the `merged` DataFrame so that all rows with 0 deaths are removed."
   ]
  },
  {
   "cell_type": "code",
   "execution_count": 73,
   "metadata": {
    "deletable": false
   },
   "outputs": [
    {
     "data": {
      "text/html": [
       "<div>\n",
       "<style scoped>\n",
       "    .dataframe tbody tr th:only-of-type {\n",
       "        vertical-align: middle;\n",
       "    }\n",
       "\n",
       "    .dataframe tbody tr th {\n",
       "        vertical-align: top;\n",
       "    }\n",
       "\n",
       "    .dataframe thead th {\n",
       "        text-align: right;\n",
       "    }\n",
       "</style>\n",
       "<table border=\"1\" class=\"dataframe\">\n",
       "  <thead>\n",
       "    <tr style=\"text-align: right;\">\n",
       "      <th></th>\n",
       "      <th>county</th>\n",
       "      <th>state</th>\n",
       "      <th># total covid cases</th>\n",
       "      <th># covid cases per 100k</th>\n",
       "      <th># covid deaths</th>\n",
       "      <th>population</th>\n",
       "      <th># covid deaths per 100k</th>\n",
       "      <th>case_fatality_rate</th>\n",
       "      <th>hispanic</th>\n",
       "      <th>minority</th>\n",
       "      <th>...</th>\n",
       "      <th>income</th>\n",
       "      <th>nodegree</th>\n",
       "      <th>bachelor</th>\n",
       "      <th>inactivity</th>\n",
       "      <th>obesity</th>\n",
       "      <th>density</th>\n",
       "      <th>cancer</th>\n",
       "      <th>votergap</th>\n",
       "      <th>trump</th>\n",
       "      <th>clinton</th>\n",
       "    </tr>\n",
       "  </thead>\n",
       "  <tbody>\n",
       "    <tr>\n",
       "      <th>563</th>\n",
       "      <td>Summit County</td>\n",
       "      <td>Utah</td>\n",
       "      <td>905</td>\n",
       "      <td>2147.3</td>\n",
       "      <td>1</td>\n",
       "      <td>42146</td>\n",
       "      <td>2.372704</td>\n",
       "      <td>0.001105</td>\n",
       "      <td>11.723</td>\n",
       "      <td>4.673</td>\n",
       "      <td>...</td>\n",
       "      <td>92560</td>\n",
       "      <td>6.7</td>\n",
       "      <td>50.1</td>\n",
       "      <td>11.1</td>\n",
       "      <td>14.4</td>\n",
       "      <td>10.9</td>\n",
       "      <td>165.7</td>\n",
       "      <td>-15.353</td>\n",
       "      <td>35.564</td>\n",
       "      <td>50.916</td>\n",
       "    </tr>\n",
       "    <tr>\n",
       "      <th>564</th>\n",
       "      <td>Russell County</td>\n",
       "      <td>Alabama</td>\n",
       "      <td>1678</td>\n",
       "      <td>2895.1</td>\n",
       "      <td>2</td>\n",
       "      <td>57960</td>\n",
       "      <td>3.450656</td>\n",
       "      <td>0.001192</td>\n",
       "      <td>5.285</td>\n",
       "      <td>47.987</td>\n",
       "      <td>...</td>\n",
       "      <td>35585</td>\n",
       "      <td>18.7</td>\n",
       "      <td>15.5</td>\n",
       "      <td>30.7</td>\n",
       "      <td>36.4</td>\n",
       "      <td>82.6</td>\n",
       "      <td>216.4</td>\n",
       "      <td>-1.918</td>\n",
       "      <td>48.129</td>\n",
       "      <td>50.047</td>\n",
       "    </tr>\n",
       "    <tr>\n",
       "      <th>565</th>\n",
       "      <td>Chattahoochee County</td>\n",
       "      <td>Georgia</td>\n",
       "      <td>1533</td>\n",
       "      <td>14055.2</td>\n",
       "      <td>2</td>\n",
       "      <td>10907</td>\n",
       "      <td>18.336848</td>\n",
       "      <td>0.001305</td>\n",
       "      <td>15.676</td>\n",
       "      <td>28.352</td>\n",
       "      <td>...</td>\n",
       "      <td>45933</td>\n",
       "      <td>7.0</td>\n",
       "      <td>31.5</td>\n",
       "      <td>24.5</td>\n",
       "      <td>27.3</td>\n",
       "      <td>45.3</td>\n",
       "      <td>70.0</td>\n",
       "      <td>11.055</td>\n",
       "      <td>53.902</td>\n",
       "      <td>42.847</td>\n",
       "    </tr>\n",
       "    <tr>\n",
       "      <th>566</th>\n",
       "      <td>La Crosse County</td>\n",
       "      <td>Wisconsin</td>\n",
       "      <td>1523</td>\n",
       "      <td>1290.5</td>\n",
       "      <td>2</td>\n",
       "      <td>118016</td>\n",
       "      <td>1.694685</td>\n",
       "      <td>0.001313</td>\n",
       "      <td>1.806</td>\n",
       "      <td>8.258</td>\n",
       "      <td>...</td>\n",
       "      <td>49790</td>\n",
       "      <td>6.0</td>\n",
       "      <td>30.8</td>\n",
       "      <td>19.9</td>\n",
       "      <td>28.3</td>\n",
       "      <td>253.8</td>\n",
       "      <td>182.6</td>\n",
       "      <td>-9.585</td>\n",
       "      <td>42.023</td>\n",
       "      <td>51.608</td>\n",
       "    </tr>\n",
       "    <tr>\n",
       "      <th>567</th>\n",
       "      <td>Effingham County</td>\n",
       "      <td>Illinois</td>\n",
       "      <td>726</td>\n",
       "      <td>2134.8</td>\n",
       "      <td>1</td>\n",
       "      <td>34008</td>\n",
       "      <td>2.940485</td>\n",
       "      <td>0.001377</td>\n",
       "      <td>1.909</td>\n",
       "      <td>2.037</td>\n",
       "      <td>...</td>\n",
       "      <td>52578</td>\n",
       "      <td>8.7</td>\n",
       "      <td>20.2</td>\n",
       "      <td>21.9</td>\n",
       "      <td>31.8</td>\n",
       "      <td>30.2</td>\n",
       "      <td>278.4</td>\n",
       "      <td>60.489</td>\n",
       "      <td>78.110</td>\n",
       "      <td>17.621</td>\n",
       "    </tr>\n",
       "    <tr>\n",
       "      <th>...</th>\n",
       "      <td>...</td>\n",
       "      <td>...</td>\n",
       "      <td>...</td>\n",
       "      <td>...</td>\n",
       "      <td>...</td>\n",
       "      <td>...</td>\n",
       "      <td>...</td>\n",
       "      <td>...</td>\n",
       "      <td>...</td>\n",
       "      <td>...</td>\n",
       "      <td>...</td>\n",
       "      <td>...</td>\n",
       "      <td>...</td>\n",
       "      <td>...</td>\n",
       "      <td>...</td>\n",
       "      <td>...</td>\n",
       "      <td>...</td>\n",
       "      <td>...</td>\n",
       "      <td>...</td>\n",
       "      <td>...</td>\n",
       "      <td>...</td>\n",
       "    </tr>\n",
       "    <tr>\n",
       "      <th>3074</th>\n",
       "      <td>Monroe County</td>\n",
       "      <td>Ohio</td>\n",
       "      <td>106</td>\n",
       "      <td>776.3</td>\n",
       "      <td>18</td>\n",
       "      <td>13655</td>\n",
       "      <td>131.819846</td>\n",
       "      <td>0.169811</td>\n",
       "      <td>0.479</td>\n",
       "      <td>2.158</td>\n",
       "      <td>...</td>\n",
       "      <td>40646</td>\n",
       "      <td>14.2</td>\n",
       "      <td>10.3</td>\n",
       "      <td>35.4</td>\n",
       "      <td>36.8</td>\n",
       "      <td>252.1</td>\n",
       "      <td>220.3</td>\n",
       "      <td>46.874</td>\n",
       "      <td>71.508</td>\n",
       "      <td>24.634</td>\n",
       "    </tr>\n",
       "    <tr>\n",
       "      <th>3075</th>\n",
       "      <td>Orleans County</td>\n",
       "      <td>New York</td>\n",
       "      <td>320</td>\n",
       "      <td>793.0</td>\n",
       "      <td>55</td>\n",
       "      <td>40353</td>\n",
       "      <td>136.297177</td>\n",
       "      <td>0.171875</td>\n",
       "      <td>4.829</td>\n",
       "      <td>9.935</td>\n",
       "      <td>...</td>\n",
       "      <td>46577</td>\n",
       "      <td>14.2</td>\n",
       "      <td>16.2</td>\n",
       "      <td>22.8</td>\n",
       "      <td>28.5</td>\n",
       "      <td>459.3</td>\n",
       "      <td>167.3</td>\n",
       "      <td>43.386</td>\n",
       "      <td>69.262</td>\n",
       "      <td>25.876</td>\n",
       "    </tr>\n",
       "    <tr>\n",
       "      <th>3076</th>\n",
       "      <td>Waldo County</td>\n",
       "      <td>Maine</td>\n",
       "      <td>73</td>\n",
       "      <td>183.8</td>\n",
       "      <td>14</td>\n",
       "      <td>39717</td>\n",
       "      <td>35.249389</td>\n",
       "      <td>0.191781</td>\n",
       "      <td>1.320</td>\n",
       "      <td>3.246</td>\n",
       "      <td>...</td>\n",
       "      <td>46598</td>\n",
       "      <td>8.1</td>\n",
       "      <td>29.0</td>\n",
       "      <td>21.0</td>\n",
       "      <td>28.3</td>\n",
       "      <td>13.3</td>\n",
       "      <td>263.3</td>\n",
       "      <td>-0.283</td>\n",
       "      <td>45.859</td>\n",
       "      <td>46.142</td>\n",
       "    </tr>\n",
       "    <tr>\n",
       "      <th>3077</th>\n",
       "      <td>Perkins County</td>\n",
       "      <td>Nebraska</td>\n",
       "      <td>32</td>\n",
       "      <td>1106.9</td>\n",
       "      <td>9</td>\n",
       "      <td>2891</td>\n",
       "      <td>311.310965</td>\n",
       "      <td>0.281250</td>\n",
       "      <td>3.940</td>\n",
       "      <td>1.868</td>\n",
       "      <td>...</td>\n",
       "      <td>56080</td>\n",
       "      <td>8.2</td>\n",
       "      <td>20.7</td>\n",
       "      <td>26.2</td>\n",
       "      <td>24.5</td>\n",
       "      <td>6.4</td>\n",
       "      <td>349.9</td>\n",
       "      <td>73.484</td>\n",
       "      <td>84.767</td>\n",
       "      <td>11.283</td>\n",
       "    </tr>\n",
       "    <tr>\n",
       "      <th>3078</th>\n",
       "      <td>Throckmorton County</td>\n",
       "      <td>Texas</td>\n",
       "      <td>6</td>\n",
       "      <td>399.7</td>\n",
       "      <td>2</td>\n",
       "      <td>1501</td>\n",
       "      <td>133.244504</td>\n",
       "      <td>0.333333</td>\n",
       "      <td>12.793</td>\n",
       "      <td>3.800</td>\n",
       "      <td>...</td>\n",
       "      <td>43618</td>\n",
       "      <td>14.5</td>\n",
       "      <td>20.7</td>\n",
       "      <td>25.3</td>\n",
       "      <td>26.8</td>\n",
       "      <td>14.2</td>\n",
       "      <td>185.6</td>\n",
       "      <td>78.094</td>\n",
       "      <td>88.490</td>\n",
       "      <td>10.396</td>\n",
       "    </tr>\n",
       "  </tbody>\n",
       "</table>\n",
       "<p>2516 rows × 22 columns</p>\n",
       "</div>"
      ],
      "text/plain": [
       "                    county      state  # total covid cases  \\\n",
       "563          Summit County       Utah                  905   \n",
       "564         Russell County    Alabama                 1678   \n",
       "565   Chattahoochee County    Georgia                 1533   \n",
       "566       La Crosse County  Wisconsin                 1523   \n",
       "567       Effingham County   Illinois                  726   \n",
       "...                    ...        ...                  ...   \n",
       "3074         Monroe County       Ohio                  106   \n",
       "3075        Orleans County   New York                  320   \n",
       "3076          Waldo County      Maine                   73   \n",
       "3077        Perkins County   Nebraska                   32   \n",
       "3078   Throckmorton County      Texas                    6   \n",
       "\n",
       "      # covid cases per 100k  # covid deaths  population  \\\n",
       "563                   2147.3               1       42146   \n",
       "564                   2895.1               2       57960   \n",
       "565                  14055.2               2       10907   \n",
       "566                   1290.5               2      118016   \n",
       "567                   2134.8               1       34008   \n",
       "...                      ...             ...         ...   \n",
       "3074                   776.3              18       13655   \n",
       "3075                   793.0              55       40353   \n",
       "3076                   183.8              14       39717   \n",
       "3077                  1106.9               9        2891   \n",
       "3078                   399.7               2        1501   \n",
       "\n",
       "      # covid deaths per 100k  case_fatality_rate  hispanic  minority  ...  \\\n",
       "563                  2.372704            0.001105    11.723     4.673  ...   \n",
       "564                  3.450656            0.001192     5.285    47.987  ...   \n",
       "565                 18.336848            0.001305    15.676    28.352  ...   \n",
       "566                  1.694685            0.001313     1.806     8.258  ...   \n",
       "567                  2.940485            0.001377     1.909     2.037  ...   \n",
       "...                       ...                 ...       ...       ...  ...   \n",
       "3074               131.819846            0.169811     0.479     2.158  ...   \n",
       "3075               136.297177            0.171875     4.829     9.935  ...   \n",
       "3076                35.249389            0.191781     1.320     3.246  ...   \n",
       "3077               311.310965            0.281250     3.940     1.868  ...   \n",
       "3078               133.244504            0.333333    12.793     3.800  ...   \n",
       "\n",
       "      income  nodegree  bachelor  inactivity  obesity  density  cancer  \\\n",
       "563    92560       6.7      50.1        11.1     14.4     10.9   165.7   \n",
       "564    35585      18.7      15.5        30.7     36.4     82.6   216.4   \n",
       "565    45933       7.0      31.5        24.5     27.3     45.3    70.0   \n",
       "566    49790       6.0      30.8        19.9     28.3    253.8   182.6   \n",
       "567    52578       8.7      20.2        21.9     31.8     30.2   278.4   \n",
       "...      ...       ...       ...         ...      ...      ...     ...   \n",
       "3074   40646      14.2      10.3        35.4     36.8    252.1   220.3   \n",
       "3075   46577      14.2      16.2        22.8     28.5    459.3   167.3   \n",
       "3076   46598       8.1      29.0        21.0     28.3     13.3   263.3   \n",
       "3077   56080       8.2      20.7        26.2     24.5      6.4   349.9   \n",
       "3078   43618      14.5      20.7        25.3     26.8     14.2   185.6   \n",
       "\n",
       "      votergap   trump  clinton  \n",
       "563    -15.353  35.564   50.916  \n",
       "564     -1.918  48.129   50.047  \n",
       "565     11.055  53.902   42.847  \n",
       "566     -9.585  42.023   51.608  \n",
       "567     60.489  78.110   17.621  \n",
       "...        ...     ...      ...  \n",
       "3074    46.874  71.508   24.634  \n",
       "3075    43.386  69.262   25.876  \n",
       "3076    -0.283  45.859   46.142  \n",
       "3077    73.484  84.767   11.283  \n",
       "3078    78.094  88.490   10.396  \n",
       "\n",
       "[2516 rows x 22 columns]"
      ]
     },
     "execution_count": 73,
     "metadata": {},
     "output_type": "execute_result"
    }
   ],
   "source": [
    "# YOUR CODE HERE\n",
    "merged = merged[merged['# covid deaths']>0]\n",
    "merged\n",
    "# END OF YOUR CODE HERE"
   ]
  },
  {
   "cell_type": "markdown",
   "metadata": {
    "deletable": false,
    "editable": false
   },
   "source": [
    "Running `.describe()` allows us to quickly see summary statistics of our DataFrame"
   ]
  },
  {
   "cell_type": "code",
   "execution_count": 74,
   "metadata": {
    "deletable": false,
    "editable": false
   },
   "outputs": [
    {
     "data": {
      "text/html": [
       "<div>\n",
       "<style scoped>\n",
       "    .dataframe tbody tr th:only-of-type {\n",
       "        vertical-align: middle;\n",
       "    }\n",
       "\n",
       "    .dataframe tbody tr th {\n",
       "        vertical-align: top;\n",
       "    }\n",
       "\n",
       "    .dataframe thead th {\n",
       "        text-align: right;\n",
       "    }\n",
       "</style>\n",
       "<table border=\"1\" class=\"dataframe\">\n",
       "  <thead>\n",
       "    <tr style=\"text-align: right;\">\n",
       "      <th></th>\n",
       "      <th># total covid cases</th>\n",
       "      <th># covid cases per 100k</th>\n",
       "      <th># covid deaths</th>\n",
       "      <th>population</th>\n",
       "      <th># covid deaths per 100k</th>\n",
       "      <th>case_fatality_rate</th>\n",
       "      <th>hispanic</th>\n",
       "      <th>minority</th>\n",
       "      <th>female</th>\n",
       "      <th>unemployed</th>\n",
       "      <th>income</th>\n",
       "      <th>nodegree</th>\n",
       "      <th>bachelor</th>\n",
       "      <th>inactivity</th>\n",
       "      <th>obesity</th>\n",
       "      <th>density</th>\n",
       "      <th>cancer</th>\n",
       "      <th>votergap</th>\n",
       "      <th>trump</th>\n",
       "      <th>clinton</th>\n",
       "    </tr>\n",
       "  </thead>\n",
       "  <tbody>\n",
       "    <tr>\n",
       "      <th>count</th>\n",
       "      <td>2516.000000</td>\n",
       "      <td>2516.000000</td>\n",
       "      <td>2516.000000</td>\n",
       "      <td>2.516000e+03</td>\n",
       "      <td>2516.000000</td>\n",
       "      <td>2516.000000</td>\n",
       "      <td>2516.000000</td>\n",
       "      <td>2516.000000</td>\n",
       "      <td>2516.000000</td>\n",
       "      <td>2516.000000</td>\n",
       "      <td>2516.00000</td>\n",
       "      <td>2516.000000</td>\n",
       "      <td>2516.000000</td>\n",
       "      <td>2516.000000</td>\n",
       "      <td>2516.000000</td>\n",
       "      <td>2516.000000</td>\n",
       "      <td>2493.000000</td>\n",
       "      <td>2512.000000</td>\n",
       "      <td>2512.000000</td>\n",
       "      <td>2512.000000</td>\n",
       "    </tr>\n",
       "    <tr>\n",
       "      <th>mean</th>\n",
       "      <td>2474.819952</td>\n",
       "      <td>1798.199722</td>\n",
       "      <td>75.258744</td>\n",
       "      <td>1.257741e+05</td>\n",
       "      <td>45.626471</td>\n",
       "      <td>0.026785</td>\n",
       "      <td>9.816100</td>\n",
       "      <td>16.278134</td>\n",
       "      <td>50.074581</td>\n",
       "      <td>5.660135</td>\n",
       "      <td>47103.58903</td>\n",
       "      <td>15.571542</td>\n",
       "      <td>20.148490</td>\n",
       "      <td>26.136208</td>\n",
       "      <td>31.194237</td>\n",
       "      <td>262.569793</td>\n",
       "      <td>227.035981</td>\n",
       "      <td>29.237906</td>\n",
       "      <td>62.374451</td>\n",
       "      <td>33.136546</td>\n",
       "    </tr>\n",
       "    <tr>\n",
       "      <th>std</th>\n",
       "      <td>9386.845363</td>\n",
       "      <td>1390.783858</td>\n",
       "      <td>352.872137</td>\n",
       "      <td>3.680248e+05</td>\n",
       "      <td>50.045528</td>\n",
       "      <td>0.023465</td>\n",
       "      <td>14.315945</td>\n",
       "      <td>16.269188</td>\n",
       "      <td>2.126158</td>\n",
       "      <td>1.887687</td>\n",
       "      <td>12327.32682</td>\n",
       "      <td>6.833376</td>\n",
       "      <td>9.041991</td>\n",
       "      <td>5.302063</td>\n",
       "      <td>4.562355</td>\n",
       "      <td>1859.607025</td>\n",
       "      <td>54.582707</td>\n",
       "      <td>30.134800</td>\n",
       "      <td>15.267755</td>\n",
       "      <td>14.989941</td>\n",
       "    </tr>\n",
       "    <tr>\n",
       "      <th>min</th>\n",
       "      <td>6.000000</td>\n",
       "      <td>59.700000</td>\n",
       "      <td>1.000000</td>\n",
       "      <td>4.040000e+02</td>\n",
       "      <td>0.910191</td>\n",
       "      <td>0.001105</td>\n",
       "      <td>0.426000</td>\n",
       "      <td>1.253000</td>\n",
       "      <td>28.479000</td>\n",
       "      <td>1.800000</td>\n",
       "      <td>21658.00000</td>\n",
       "      <td>1.900000</td>\n",
       "      <td>6.000000</td>\n",
       "      <td>8.100000</td>\n",
       "      <td>11.800000</td>\n",
       "      <td>0.100000</td>\n",
       "      <td>46.200000</td>\n",
       "      <td>-88.725000</td>\n",
       "      <td>4.122000</td>\n",
       "      <td>6.883000</td>\n",
       "    </tr>\n",
       "    <tr>\n",
       "      <th>25%</th>\n",
       "      <td>197.000000</td>\n",
       "      <td>851.775000</td>\n",
       "      <td>3.000000</td>\n",
       "      <td>1.636875e+04</td>\n",
       "      <td>12.792197</td>\n",
       "      <td>0.011799</td>\n",
       "      <td>2.246750</td>\n",
       "      <td>4.784750</td>\n",
       "      <td>49.657000</td>\n",
       "      <td>4.400000</td>\n",
       "      <td>38482.50000</td>\n",
       "      <td>10.400000</td>\n",
       "      <td>13.800000</td>\n",
       "      <td>22.700000</td>\n",
       "      <td>28.500000</td>\n",
       "      <td>22.075000</td>\n",
       "      <td>192.900000</td>\n",
       "      <td>12.697500</td>\n",
       "      <td>53.910750</td>\n",
       "      <td>21.816750</td>\n",
       "    </tr>\n",
       "    <tr>\n",
       "      <th>50%</th>\n",
       "      <td>511.500000</td>\n",
       "      <td>1462.900000</td>\n",
       "      <td>10.000000</td>\n",
       "      <td>3.494200e+04</td>\n",
       "      <td>28.520506</td>\n",
       "      <td>0.020297</td>\n",
       "      <td>4.244000</td>\n",
       "      <td>9.570000</td>\n",
       "      <td>50.490500</td>\n",
       "      <td>5.400000</td>\n",
       "      <td>45057.00000</td>\n",
       "      <td>14.300000</td>\n",
       "      <td>17.700000</td>\n",
       "      <td>26.000000</td>\n",
       "      <td>31.300000</td>\n",
       "      <td>51.750000</td>\n",
       "      <td>228.900000</td>\n",
       "      <td>35.551000</td>\n",
       "      <td>65.171500</td>\n",
       "      <td>29.796000</td>\n",
       "    </tr>\n",
       "    <tr>\n",
       "      <th>75%</th>\n",
       "      <td>1446.250000</td>\n",
       "      <td>2374.975000</td>\n",
       "      <td>33.000000</td>\n",
       "      <td>9.124725e+04</td>\n",
       "      <td>58.692183</td>\n",
       "      <td>0.034358</td>\n",
       "      <td>10.087000</td>\n",
       "      <td>22.707500</td>\n",
       "      <td>51.121250</td>\n",
       "      <td>6.600000</td>\n",
       "      <td>52611.00000</td>\n",
       "      <td>20.000000</td>\n",
       "      <td>24.300000</td>\n",
       "      <td>29.700000</td>\n",
       "      <td>34.100000</td>\n",
       "      <td>130.300000</td>\n",
       "      <td>262.500000</td>\n",
       "      <td>51.745750</td>\n",
       "      <td>73.694500</td>\n",
       "      <td>41.608000</td>\n",
       "    </tr>\n",
       "    <tr>\n",
       "      <th>max</th>\n",
       "      <td>252066.000000</td>\n",
       "      <td>14474.000000</td>\n",
       "      <td>7299.000000</td>\n",
       "      <td>1.003927e+07</td>\n",
       "      <td>484.805487</td>\n",
       "      <td>0.333333</td>\n",
       "      <td>95.824000</td>\n",
       "      <td>93.411000</td>\n",
       "      <td>56.739000</td>\n",
       "      <td>24.000000</td>\n",
       "      <td>122641.00000</td>\n",
       "      <td>53.300000</td>\n",
       "      <td>72.000000</td>\n",
       "      <td>41.400000</td>\n",
       "      <td>47.600000</td>\n",
       "      <td>69468.400000</td>\n",
       "      <td>458.300000</td>\n",
       "      <td>83.972000</td>\n",
       "      <td>90.855000</td>\n",
       "      <td>92.847000</td>\n",
       "    </tr>\n",
       "  </tbody>\n",
       "</table>\n",
       "</div>"
      ],
      "text/plain": [
       "       # total covid cases  # covid cases per 100k  # covid deaths  \\\n",
       "count          2516.000000             2516.000000     2516.000000   \n",
       "mean           2474.819952             1798.199722       75.258744   \n",
       "std            9386.845363             1390.783858      352.872137   \n",
       "min               6.000000               59.700000        1.000000   \n",
       "25%             197.000000              851.775000        3.000000   \n",
       "50%             511.500000             1462.900000       10.000000   \n",
       "75%            1446.250000             2374.975000       33.000000   \n",
       "max          252066.000000            14474.000000     7299.000000   \n",
       "\n",
       "         population  # covid deaths per 100k  case_fatality_rate     hispanic  \\\n",
       "count  2.516000e+03              2516.000000         2516.000000  2516.000000   \n",
       "mean   1.257741e+05                45.626471            0.026785     9.816100   \n",
       "std    3.680248e+05                50.045528            0.023465    14.315945   \n",
       "min    4.040000e+02                 0.910191            0.001105     0.426000   \n",
       "25%    1.636875e+04                12.792197            0.011799     2.246750   \n",
       "50%    3.494200e+04                28.520506            0.020297     4.244000   \n",
       "75%    9.124725e+04                58.692183            0.034358    10.087000   \n",
       "max    1.003927e+07               484.805487            0.333333    95.824000   \n",
       "\n",
       "          minority       female   unemployed        income     nodegree  \\\n",
       "count  2516.000000  2516.000000  2516.000000    2516.00000  2516.000000   \n",
       "mean     16.278134    50.074581     5.660135   47103.58903    15.571542   \n",
       "std      16.269188     2.126158     1.887687   12327.32682     6.833376   \n",
       "min       1.253000    28.479000     1.800000   21658.00000     1.900000   \n",
       "25%       4.784750    49.657000     4.400000   38482.50000    10.400000   \n",
       "50%       9.570000    50.490500     5.400000   45057.00000    14.300000   \n",
       "75%      22.707500    51.121250     6.600000   52611.00000    20.000000   \n",
       "max      93.411000    56.739000    24.000000  122641.00000    53.300000   \n",
       "\n",
       "          bachelor   inactivity      obesity       density       cancer  \\\n",
       "count  2516.000000  2516.000000  2516.000000   2516.000000  2493.000000   \n",
       "mean     20.148490    26.136208    31.194237    262.569793   227.035981   \n",
       "std       9.041991     5.302063     4.562355   1859.607025    54.582707   \n",
       "min       6.000000     8.100000    11.800000      0.100000    46.200000   \n",
       "25%      13.800000    22.700000    28.500000     22.075000   192.900000   \n",
       "50%      17.700000    26.000000    31.300000     51.750000   228.900000   \n",
       "75%      24.300000    29.700000    34.100000    130.300000   262.500000   \n",
       "max      72.000000    41.400000    47.600000  69468.400000   458.300000   \n",
       "\n",
       "          votergap        trump      clinton  \n",
       "count  2512.000000  2512.000000  2512.000000  \n",
       "mean     29.237906    62.374451    33.136546  \n",
       "std      30.134800    15.267755    14.989941  \n",
       "min     -88.725000     4.122000     6.883000  \n",
       "25%      12.697500    53.910750    21.816750  \n",
       "50%      35.551000    65.171500    29.796000  \n",
       "75%      51.745750    73.694500    41.608000  \n",
       "max      83.972000    90.855000    92.847000  "
      ]
     },
     "execution_count": 74,
     "metadata": {},
     "output_type": "execute_result"
    }
   ],
   "source": [
    "merged.describe()"
   ]
  },
  {
   "cell_type": "markdown",
   "metadata": {
    "deletable": false,
    "editable": false
   },
   "source": [
    "Using the information reported from `.describe()`, we can imagine dividing our DataFrame into 4 separate bins, based on the distribution for any given feature. Specifically, based on a particular feature:\n",
    "- the $1^{st}$ bin will be the data that has values between the **min** and **25%**\n",
    "- the $2^{nd}$ bin will be the data that has values between **25%** and **50%**\n",
    "- the $3^{rd}$ bin will be the data that has values between **50%** and **75%**\n",
    "- the $4^{th}$ bin will be the data that has values between **75%** and **max**\n",
    "\n",
    "<div class='exercise'><b>Exercise 4.4 [3 pts]: Partitioning our data</b>\n",
    "    \n",
    "Complete the `partition_df()` function, which takes as input:\n",
    "- DataFrame to work with\n",
    "- feature (e.g., obesity) to filter by\n",
    "- minimum value\n",
    "- maximum value\n",
    "\n",
    "and outputs:\n",
    "- a subset of the DataFrame that has values between the passed-in minimum and maximum values (inclusively) for the passed-in feature.\n",
    "\n",
    "For example, if we called `partition_df(merged, 'obesity', 30, 45)`, it should return a subset of the `merged` DataFrame that has obesity values between 30 and 45 (and including the boundary values of 30 and 45).\n",
    "</div>"
   ]
  },
  {
   "cell_type": "code",
   "execution_count": 77,
   "metadata": {
    "deletable": false
   },
   "outputs": [],
   "source": [
    "def partition_df(df, column_name, min, max):\n",
    "    # YOUR CODE HERE\n",
    "    return df[(df[column_name] >= min) & (df[column_name] <= max)]\n",
    "    # END OF YOUR CODE HERE"
   ]
  },
  {
   "cell_type": "markdown",
   "metadata": {
    "deletable": false,
    "editable": false
   },
   "source": [
    "<div class='exercise'><b>Exercise 4.5: [4 pts] Exploratory Data Analysis</b>\n",
    "    \n",
    "Identify a few features that you're interested in, and inspect if there's any correlation with the COVID data. Specifically, simply run your `partition_df()` function below, many times, each with a different subset of the data -- select a range of values and a particular feature. For example, if I'm interested in __cancer__, I could look at the 4 quartiles (per `.describe()`) and use those ranges of values as I repeatedly execute `partition_df()`. For this exercise, after running the function several times, **write 3-5 sentences about any patterns or correlations you noticed or didn't notice but expected to find.**\n",
    "</div>"
   ]
  },
  {
   "cell_type": "code",
   "execution_count": null,
   "metadata": {
    "deletable": false
   },
   "outputs": [],
   "source": [
    "# YOUR CODE HERE\n",
    "# END OF YOUR CODE HERE\n",
    "\n",
    "#partition_df(merged, 'your feature here', your_min_value, your_max_va).describe()"
   ]
  },
  {
   "cell_type": "markdown",
   "metadata": {
    "deletable": false
   },
   "source": [
    "*Your answer here*"
   ]
  },
  {
   "cell_type": "markdown",
   "metadata": {
    "deletable": false,
    "editable": false
   },
   "source": [
    "`.describe()` provides these nice summary statistics over any portion of data that we give it. Instead of iteratively inspecting several subsets of the data, let's actually split our DataFrame into new categories; instead of representing all features by floating point numbers, let's create new _categorical_ names for feature(s) based on their numbers. The code below does just this. It creates a new column, `income group` that has 4 possible values, each one corresponding to a quartile of the original `income` values. \n",
    "\n",
    "Run the cell below."
   ]
  },
  {
   "cell_type": "code",
   "execution_count": 79,
   "metadata": {
    "deletable": false,
    "editable": false
   },
   "outputs": [
    {
     "data": {
      "text/html": [
       "<div>\n",
       "<style scoped>\n",
       "    .dataframe tbody tr th:only-of-type {\n",
       "        vertical-align: middle;\n",
       "    }\n",
       "\n",
       "    .dataframe tbody tr th {\n",
       "        vertical-align: top;\n",
       "    }\n",
       "\n",
       "    .dataframe thead th {\n",
       "        text-align: right;\n",
       "    }\n",
       "</style>\n",
       "<table border=\"1\" class=\"dataframe\">\n",
       "  <thead>\n",
       "    <tr style=\"text-align: right;\">\n",
       "      <th></th>\n",
       "      <th>county</th>\n",
       "      <th>state</th>\n",
       "      <th># total covid cases</th>\n",
       "      <th># covid cases per 100k</th>\n",
       "      <th># covid deaths</th>\n",
       "      <th>population</th>\n",
       "      <th># covid deaths per 100k</th>\n",
       "      <th>case_fatality_rate</th>\n",
       "      <th>hispanic</th>\n",
       "      <th>minority</th>\n",
       "      <th>...</th>\n",
       "      <th>nodegree</th>\n",
       "      <th>bachelor</th>\n",
       "      <th>inactivity</th>\n",
       "      <th>obesity</th>\n",
       "      <th>density</th>\n",
       "      <th>cancer</th>\n",
       "      <th>votergap</th>\n",
       "      <th>trump</th>\n",
       "      <th>clinton</th>\n",
       "      <th>income group</th>\n",
       "    </tr>\n",
       "  </thead>\n",
       "  <tbody>\n",
       "    <tr>\n",
       "      <th>563</th>\n",
       "      <td>Summit County</td>\n",
       "      <td>Utah</td>\n",
       "      <td>905</td>\n",
       "      <td>2147.3</td>\n",
       "      <td>1</td>\n",
       "      <td>42146</td>\n",
       "      <td>2.372704</td>\n",
       "      <td>0.001105</td>\n",
       "      <td>11.723</td>\n",
       "      <td>4.673</td>\n",
       "      <td>...</td>\n",
       "      <td>6.7</td>\n",
       "      <td>50.1</td>\n",
       "      <td>11.1</td>\n",
       "      <td>14.4</td>\n",
       "      <td>10.9</td>\n",
       "      <td>165.7</td>\n",
       "      <td>-15.353</td>\n",
       "      <td>35.564</td>\n",
       "      <td>50.916</td>\n",
       "      <td>income-group-4</td>\n",
       "    </tr>\n",
       "    <tr>\n",
       "      <th>564</th>\n",
       "      <td>Russell County</td>\n",
       "      <td>Alabama</td>\n",
       "      <td>1678</td>\n",
       "      <td>2895.1</td>\n",
       "      <td>2</td>\n",
       "      <td>57960</td>\n",
       "      <td>3.450656</td>\n",
       "      <td>0.001192</td>\n",
       "      <td>5.285</td>\n",
       "      <td>47.987</td>\n",
       "      <td>...</td>\n",
       "      <td>18.7</td>\n",
       "      <td>15.5</td>\n",
       "      <td>30.7</td>\n",
       "      <td>36.4</td>\n",
       "      <td>82.6</td>\n",
       "      <td>216.4</td>\n",
       "      <td>-1.918</td>\n",
       "      <td>48.129</td>\n",
       "      <td>50.047</td>\n",
       "      <td>income-group-1</td>\n",
       "    </tr>\n",
       "    <tr>\n",
       "      <th>565</th>\n",
       "      <td>Chattahoochee County</td>\n",
       "      <td>Georgia</td>\n",
       "      <td>1533</td>\n",
       "      <td>14055.2</td>\n",
       "      <td>2</td>\n",
       "      <td>10907</td>\n",
       "      <td>18.336848</td>\n",
       "      <td>0.001305</td>\n",
       "      <td>15.676</td>\n",
       "      <td>28.352</td>\n",
       "      <td>...</td>\n",
       "      <td>7.0</td>\n",
       "      <td>31.5</td>\n",
       "      <td>24.5</td>\n",
       "      <td>27.3</td>\n",
       "      <td>45.3</td>\n",
       "      <td>70.0</td>\n",
       "      <td>11.055</td>\n",
       "      <td>53.902</td>\n",
       "      <td>42.847</td>\n",
       "      <td>income-group-3</td>\n",
       "    </tr>\n",
       "    <tr>\n",
       "      <th>566</th>\n",
       "      <td>La Crosse County</td>\n",
       "      <td>Wisconsin</td>\n",
       "      <td>1523</td>\n",
       "      <td>1290.5</td>\n",
       "      <td>2</td>\n",
       "      <td>118016</td>\n",
       "      <td>1.694685</td>\n",
       "      <td>0.001313</td>\n",
       "      <td>1.806</td>\n",
       "      <td>8.258</td>\n",
       "      <td>...</td>\n",
       "      <td>6.0</td>\n",
       "      <td>30.8</td>\n",
       "      <td>19.9</td>\n",
       "      <td>28.3</td>\n",
       "      <td>253.8</td>\n",
       "      <td>182.6</td>\n",
       "      <td>-9.585</td>\n",
       "      <td>42.023</td>\n",
       "      <td>51.608</td>\n",
       "      <td>income-group-3</td>\n",
       "    </tr>\n",
       "    <tr>\n",
       "      <th>567</th>\n",
       "      <td>Effingham County</td>\n",
       "      <td>Illinois</td>\n",
       "      <td>726</td>\n",
       "      <td>2134.8</td>\n",
       "      <td>1</td>\n",
       "      <td>34008</td>\n",
       "      <td>2.940485</td>\n",
       "      <td>0.001377</td>\n",
       "      <td>1.909</td>\n",
       "      <td>2.037</td>\n",
       "      <td>...</td>\n",
       "      <td>8.7</td>\n",
       "      <td>20.2</td>\n",
       "      <td>21.9</td>\n",
       "      <td>31.8</td>\n",
       "      <td>30.2</td>\n",
       "      <td>278.4</td>\n",
       "      <td>60.489</td>\n",
       "      <td>78.110</td>\n",
       "      <td>17.621</td>\n",
       "      <td>income-group-4</td>\n",
       "    </tr>\n",
       "    <tr>\n",
       "      <th>...</th>\n",
       "      <td>...</td>\n",
       "      <td>...</td>\n",
       "      <td>...</td>\n",
       "      <td>...</td>\n",
       "      <td>...</td>\n",
       "      <td>...</td>\n",
       "      <td>...</td>\n",
       "      <td>...</td>\n",
       "      <td>...</td>\n",
       "      <td>...</td>\n",
       "      <td>...</td>\n",
       "      <td>...</td>\n",
       "      <td>...</td>\n",
       "      <td>...</td>\n",
       "      <td>...</td>\n",
       "      <td>...</td>\n",
       "      <td>...</td>\n",
       "      <td>...</td>\n",
       "      <td>...</td>\n",
       "      <td>...</td>\n",
       "      <td>...</td>\n",
       "    </tr>\n",
       "    <tr>\n",
       "      <th>3074</th>\n",
       "      <td>Monroe County</td>\n",
       "      <td>Ohio</td>\n",
       "      <td>106</td>\n",
       "      <td>776.3</td>\n",
       "      <td>18</td>\n",
       "      <td>13655</td>\n",
       "      <td>131.819846</td>\n",
       "      <td>0.169811</td>\n",
       "      <td>0.479</td>\n",
       "      <td>2.158</td>\n",
       "      <td>...</td>\n",
       "      <td>14.2</td>\n",
       "      <td>10.3</td>\n",
       "      <td>35.4</td>\n",
       "      <td>36.8</td>\n",
       "      <td>252.1</td>\n",
       "      <td>220.3</td>\n",
       "      <td>46.874</td>\n",
       "      <td>71.508</td>\n",
       "      <td>24.634</td>\n",
       "      <td>income-group-2</td>\n",
       "    </tr>\n",
       "    <tr>\n",
       "      <th>3075</th>\n",
       "      <td>Orleans County</td>\n",
       "      <td>New York</td>\n",
       "      <td>320</td>\n",
       "      <td>793.0</td>\n",
       "      <td>55</td>\n",
       "      <td>40353</td>\n",
       "      <td>136.297177</td>\n",
       "      <td>0.171875</td>\n",
       "      <td>4.829</td>\n",
       "      <td>9.935</td>\n",
       "      <td>...</td>\n",
       "      <td>14.2</td>\n",
       "      <td>16.2</td>\n",
       "      <td>22.8</td>\n",
       "      <td>28.5</td>\n",
       "      <td>459.3</td>\n",
       "      <td>167.3</td>\n",
       "      <td>43.386</td>\n",
       "      <td>69.262</td>\n",
       "      <td>25.876</td>\n",
       "      <td>income-group-3</td>\n",
       "    </tr>\n",
       "    <tr>\n",
       "      <th>3076</th>\n",
       "      <td>Waldo County</td>\n",
       "      <td>Maine</td>\n",
       "      <td>73</td>\n",
       "      <td>183.8</td>\n",
       "      <td>14</td>\n",
       "      <td>39717</td>\n",
       "      <td>35.249389</td>\n",
       "      <td>0.191781</td>\n",
       "      <td>1.320</td>\n",
       "      <td>3.246</td>\n",
       "      <td>...</td>\n",
       "      <td>8.1</td>\n",
       "      <td>29.0</td>\n",
       "      <td>21.0</td>\n",
       "      <td>28.3</td>\n",
       "      <td>13.3</td>\n",
       "      <td>263.3</td>\n",
       "      <td>-0.283</td>\n",
       "      <td>45.859</td>\n",
       "      <td>46.142</td>\n",
       "      <td>income-group-3</td>\n",
       "    </tr>\n",
       "    <tr>\n",
       "      <th>3077</th>\n",
       "      <td>Perkins County</td>\n",
       "      <td>Nebraska</td>\n",
       "      <td>32</td>\n",
       "      <td>1106.9</td>\n",
       "      <td>9</td>\n",
       "      <td>2891</td>\n",
       "      <td>311.310965</td>\n",
       "      <td>0.281250</td>\n",
       "      <td>3.940</td>\n",
       "      <td>1.868</td>\n",
       "      <td>...</td>\n",
       "      <td>8.2</td>\n",
       "      <td>20.7</td>\n",
       "      <td>26.2</td>\n",
       "      <td>24.5</td>\n",
       "      <td>6.4</td>\n",
       "      <td>349.9</td>\n",
       "      <td>73.484</td>\n",
       "      <td>84.767</td>\n",
       "      <td>11.283</td>\n",
       "      <td>income-group-4</td>\n",
       "    </tr>\n",
       "    <tr>\n",
       "      <th>3078</th>\n",
       "      <td>Throckmorton County</td>\n",
       "      <td>Texas</td>\n",
       "      <td>6</td>\n",
       "      <td>399.7</td>\n",
       "      <td>2</td>\n",
       "      <td>1501</td>\n",
       "      <td>133.244504</td>\n",
       "      <td>0.333333</td>\n",
       "      <td>12.793</td>\n",
       "      <td>3.800</td>\n",
       "      <td>...</td>\n",
       "      <td>14.5</td>\n",
       "      <td>20.7</td>\n",
       "      <td>25.3</td>\n",
       "      <td>26.8</td>\n",
       "      <td>14.2</td>\n",
       "      <td>185.6</td>\n",
       "      <td>78.094</td>\n",
       "      <td>88.490</td>\n",
       "      <td>10.396</td>\n",
       "      <td>income-group-2</td>\n",
       "    </tr>\n",
       "  </tbody>\n",
       "</table>\n",
       "<p>2516 rows × 23 columns</p>\n",
       "</div>"
      ],
      "text/plain": [
       "                    county      state  # total covid cases  \\\n",
       "563          Summit County       Utah                  905   \n",
       "564         Russell County    Alabama                 1678   \n",
       "565   Chattahoochee County    Georgia                 1533   \n",
       "566       La Crosse County  Wisconsin                 1523   \n",
       "567       Effingham County   Illinois                  726   \n",
       "...                    ...        ...                  ...   \n",
       "3074         Monroe County       Ohio                  106   \n",
       "3075        Orleans County   New York                  320   \n",
       "3076          Waldo County      Maine                   73   \n",
       "3077        Perkins County   Nebraska                   32   \n",
       "3078   Throckmorton County      Texas                    6   \n",
       "\n",
       "      # covid cases per 100k  # covid deaths  population  \\\n",
       "563                   2147.3               1       42146   \n",
       "564                   2895.1               2       57960   \n",
       "565                  14055.2               2       10907   \n",
       "566                   1290.5               2      118016   \n",
       "567                   2134.8               1       34008   \n",
       "...                      ...             ...         ...   \n",
       "3074                   776.3              18       13655   \n",
       "3075                   793.0              55       40353   \n",
       "3076                   183.8              14       39717   \n",
       "3077                  1106.9               9        2891   \n",
       "3078                   399.7               2        1501   \n",
       "\n",
       "      # covid deaths per 100k  case_fatality_rate  hispanic  minority  ...  \\\n",
       "563                  2.372704            0.001105    11.723     4.673  ...   \n",
       "564                  3.450656            0.001192     5.285    47.987  ...   \n",
       "565                 18.336848            0.001305    15.676    28.352  ...   \n",
       "566                  1.694685            0.001313     1.806     8.258  ...   \n",
       "567                  2.940485            0.001377     1.909     2.037  ...   \n",
       "...                       ...                 ...       ...       ...  ...   \n",
       "3074               131.819846            0.169811     0.479     2.158  ...   \n",
       "3075               136.297177            0.171875     4.829     9.935  ...   \n",
       "3076                35.249389            0.191781     1.320     3.246  ...   \n",
       "3077               311.310965            0.281250     3.940     1.868  ...   \n",
       "3078               133.244504            0.333333    12.793     3.800  ...   \n",
       "\n",
       "      nodegree  bachelor  inactivity  obesity  density  cancer  votergap  \\\n",
       "563        6.7      50.1        11.1     14.4     10.9   165.7   -15.353   \n",
       "564       18.7      15.5        30.7     36.4     82.6   216.4    -1.918   \n",
       "565        7.0      31.5        24.5     27.3     45.3    70.0    11.055   \n",
       "566        6.0      30.8        19.9     28.3    253.8   182.6    -9.585   \n",
       "567        8.7      20.2        21.9     31.8     30.2   278.4    60.489   \n",
       "...        ...       ...         ...      ...      ...     ...       ...   \n",
       "3074      14.2      10.3        35.4     36.8    252.1   220.3    46.874   \n",
       "3075      14.2      16.2        22.8     28.5    459.3   167.3    43.386   \n",
       "3076       8.1      29.0        21.0     28.3     13.3   263.3    -0.283   \n",
       "3077       8.2      20.7        26.2     24.5      6.4   349.9    73.484   \n",
       "3078      14.5      20.7        25.3     26.8     14.2   185.6    78.094   \n",
       "\n",
       "       trump  clinton    income group  \n",
       "563   35.564   50.916  income-group-4  \n",
       "564   48.129   50.047  income-group-1  \n",
       "565   53.902   42.847  income-group-3  \n",
       "566   42.023   51.608  income-group-3  \n",
       "567   78.110   17.621  income-group-4  \n",
       "...      ...      ...             ...  \n",
       "3074  71.508   24.634  income-group-2  \n",
       "3075  69.262   25.876  income-group-3  \n",
       "3076  45.859   46.142  income-group-3  \n",
       "3077  84.767   11.283  income-group-4  \n",
       "3078  88.490   10.396  income-group-2  \n",
       "\n",
       "[2516 rows x 23 columns]"
      ]
     },
     "execution_count": 79,
     "metadata": {},
     "output_type": "execute_result"
    }
   ],
   "source": [
    "bins = [0, 38000, 45000, 52000, 200000]\n",
    "names = ['income-group-1', 'income-group-2', 'income-group-3', 'income-group-4']\n",
    "d = dict(enumerate(names, 1))\n",
    "merged['income group'] = np.vectorize(d.get)(np.digitize(merged['income'], bins))\n",
    "merged"
   ]
  },
  {
   "cell_type": "markdown",
   "metadata": {
    "deletable": false,
    "editable": false
   },
   "source": [
    "<div class='exercise'><b>Exercise 4.6 [5 pts]: Aggregate data</b>\n",
    "    \n",
    "    \n",
    "Write code in the cell below to group (and display) the data according to the 4 income groups. Also, while we will still keep the same columns (i.e, features), the values of each should now represent the __average__ value of all rows that were subsumed in the making of the aggregate income-group. Your resulting DataFrame should have just 4 rows (income-group-1, income-group-2, income-group-3, income-group-4). See example in the cell below.\n",
    "\n",
    "\n",
    "Since every feature (except for `# total cases`, `# covid deaths`, and `population`) was already an average value corresponding to a particular __county__, when we aggregate our data by income groups, we are effectively taking an average of an average. Many counties are being aggregated for each income-group row. This approach isn't as accurate as possible; it would be more accurate if we re-adjusted every value so that it was truly an average that was based on the total __population__ of all counties that are subsumed within a given income-group row. That's okay, though. An average of averages will suffice for the purpose of this exercise. \n",
    "</div>"
   ]
  },
  {
   "cell_type": "code",
   "execution_count": 81,
   "metadata": {
    "deletable": false
   },
   "outputs": [
    {
     "data": {
      "text/html": [
       "<div>\n",
       "<style scoped>\n",
       "    .dataframe tbody tr th:only-of-type {\n",
       "        vertical-align: middle;\n",
       "    }\n",
       "\n",
       "    .dataframe tbody tr th {\n",
       "        vertical-align: top;\n",
       "    }\n",
       "\n",
       "    .dataframe thead th {\n",
       "        text-align: right;\n",
       "    }\n",
       "</style>\n",
       "<table border=\"1\" class=\"dataframe\">\n",
       "  <thead>\n",
       "    <tr style=\"text-align: right;\">\n",
       "      <th></th>\n",
       "      <th># total covid cases</th>\n",
       "      <th># covid cases per 100k</th>\n",
       "      <th># covid deaths</th>\n",
       "      <th>population</th>\n",
       "      <th># covid deaths per 100k</th>\n",
       "      <th>case_fatality_rate</th>\n",
       "      <th>hispanic</th>\n",
       "      <th>minority</th>\n",
       "      <th>female</th>\n",
       "      <th>unemployed</th>\n",
       "      <th>income</th>\n",
       "      <th>nodegree</th>\n",
       "      <th>bachelor</th>\n",
       "      <th>inactivity</th>\n",
       "      <th>obesity</th>\n",
       "      <th>density</th>\n",
       "      <th>cancer</th>\n",
       "      <th>votergap</th>\n",
       "      <th>trump</th>\n",
       "      <th>clinton</th>\n",
       "    </tr>\n",
       "    <tr>\n",
       "      <th>income group</th>\n",
       "      <th></th>\n",
       "      <th></th>\n",
       "      <th></th>\n",
       "      <th></th>\n",
       "      <th></th>\n",
       "      <th></th>\n",
       "      <th></th>\n",
       "      <th></th>\n",
       "      <th></th>\n",
       "      <th></th>\n",
       "      <th></th>\n",
       "      <th></th>\n",
       "      <th></th>\n",
       "      <th></th>\n",
       "      <th></th>\n",
       "      <th></th>\n",
       "      <th></th>\n",
       "      <th></th>\n",
       "      <th></th>\n",
       "      <th></th>\n",
       "    </tr>\n",
       "  </thead>\n",
       "  <tbody>\n",
       "    <tr>\n",
       "      <th>income-group-1</th>\n",
       "      <td>872.539384</td>\n",
       "      <td>2568.286644</td>\n",
       "      <td>30.809932</td>\n",
       "      <td>31424.289384</td>\n",
       "      <td>71.315253</td>\n",
       "      <td>0.028474</td>\n",
       "      <td>9.313966</td>\n",
       "      <td>27.185592</td>\n",
       "      <td>50.091146</td>\n",
       "      <td>7.387329</td>\n",
       "      <td>33929.167808</td>\n",
       "      <td>22.453253</td>\n",
       "      <td>13.558048</td>\n",
       "      <td>30.507705</td>\n",
       "      <td>34.050856</td>\n",
       "      <td>91.363699</td>\n",
       "      <td>237.477625</td>\n",
       "      <td>27.111284</td>\n",
       "      <td>62.072111</td>\n",
       "      <td>34.960795</td>\n",
       "    </tr>\n",
       "    <tr>\n",
       "      <th>income-group-2</th>\n",
       "      <td>1641.375187</td>\n",
       "      <td>1688.923169</td>\n",
       "      <td>41.005979</td>\n",
       "      <td>77276.240658</td>\n",
       "      <td>39.977334</td>\n",
       "      <td>0.025770</td>\n",
       "      <td>9.605839</td>\n",
       "      <td>14.199997</td>\n",
       "      <td>49.973347</td>\n",
       "      <td>5.889387</td>\n",
       "      <td>41635.689088</td>\n",
       "      <td>16.456951</td>\n",
       "      <td>17.319581</td>\n",
       "      <td>27.321824</td>\n",
       "      <td>31.884903</td>\n",
       "      <td>151.934081</td>\n",
       "      <td>232.960030</td>\n",
       "      <td>37.374987</td>\n",
       "      <td>66.616517</td>\n",
       "      <td>29.241547</td>\n",
       "    </tr>\n",
       "    <tr>\n",
       "      <th>income-group-3</th>\n",
       "      <td>2478.522109</td>\n",
       "      <td>1592.639116</td>\n",
       "      <td>61.289116</td>\n",
       "      <td>122756.246599</td>\n",
       "      <td>34.731241</td>\n",
       "      <td>0.025417</td>\n",
       "      <td>9.674537</td>\n",
       "      <td>12.000284</td>\n",
       "      <td>50.027515</td>\n",
       "      <td>5.045748</td>\n",
       "      <td>48487.420068</td>\n",
       "      <td>13.418537</td>\n",
       "      <td>20.600680</td>\n",
       "      <td>25.134694</td>\n",
       "      <td>30.777041</td>\n",
       "      <td>400.885204</td>\n",
       "      <td>226.221306</td>\n",
       "      <td>32.011746</td>\n",
       "      <td>63.447596</td>\n",
       "      <td>31.435838</td>\n",
       "    </tr>\n",
       "    <tr>\n",
       "      <th>income-group-4</th>\n",
       "      <td>4683.900741</td>\n",
       "      <td>1419.303259</td>\n",
       "      <td>159.832593</td>\n",
       "      <td>258099.844444</td>\n",
       "      <td>38.490796</td>\n",
       "      <td>0.027520</td>\n",
       "      <td>10.582249</td>\n",
       "      <td>12.627311</td>\n",
       "      <td>50.201585</td>\n",
       "      <td>4.473778</td>\n",
       "      <td>62715.728889</td>\n",
       "      <td>10.615556</td>\n",
       "      <td>28.260296</td>\n",
       "      <td>22.051407</td>\n",
       "      <td>28.401630</td>\n",
       "      <td>399.858963</td>\n",
       "      <td>212.913244</td>\n",
       "      <td>20.562304</td>\n",
       "      <td>57.476665</td>\n",
       "      <td>36.914387</td>\n",
       "    </tr>\n",
       "  </tbody>\n",
       "</table>\n",
       "</div>"
      ],
      "text/plain": [
       "                # total covid cases  # covid cases per 100k  # covid deaths  \\\n",
       "income group                                                                  \n",
       "income-group-1           872.539384             2568.286644       30.809932   \n",
       "income-group-2          1641.375187             1688.923169       41.005979   \n",
       "income-group-3          2478.522109             1592.639116       61.289116   \n",
       "income-group-4          4683.900741             1419.303259      159.832593   \n",
       "\n",
       "                   population  # covid deaths per 100k  case_fatality_rate  \\\n",
       "income group                                                                 \n",
       "income-group-1   31424.289384                71.315253            0.028474   \n",
       "income-group-2   77276.240658                39.977334            0.025770   \n",
       "income-group-3  122756.246599                34.731241            0.025417   \n",
       "income-group-4  258099.844444                38.490796            0.027520   \n",
       "\n",
       "                 hispanic   minority     female  unemployed        income  \\\n",
       "income group                                                                \n",
       "income-group-1   9.313966  27.185592  50.091146    7.387329  33929.167808   \n",
       "income-group-2   9.605839  14.199997  49.973347    5.889387  41635.689088   \n",
       "income-group-3   9.674537  12.000284  50.027515    5.045748  48487.420068   \n",
       "income-group-4  10.582249  12.627311  50.201585    4.473778  62715.728889   \n",
       "\n",
       "                 nodegree   bachelor  inactivity    obesity     density  \\\n",
       "income group                                                              \n",
       "income-group-1  22.453253  13.558048   30.507705  34.050856   91.363699   \n",
       "income-group-2  16.456951  17.319581   27.321824  31.884903  151.934081   \n",
       "income-group-3  13.418537  20.600680   25.134694  30.777041  400.885204   \n",
       "income-group-4  10.615556  28.260296   22.051407  28.401630  399.858963   \n",
       "\n",
       "                    cancer   votergap      trump    clinton  \n",
       "income group                                                 \n",
       "income-group-1  237.477625  27.111284  62.072111  34.960795  \n",
       "income-group-2  232.960030  37.374987  66.616517  29.241547  \n",
       "income-group-3  226.221306  32.011746  63.447596  31.435838  \n",
       "income-group-4  212.913244  20.562304  57.476665  36.914387  "
      ]
     },
     "execution_count": 81,
     "metadata": {},
     "output_type": "execute_result"
    }
   ],
   "source": [
    "# EXAMPLE: If our `merged` DataFrame were\n",
    "# COUNTY    INCOME GROUP    BACHELOR ... (other columns, too)\n",
    "#   A            2             50\n",
    "#   B            1             20\n",
    "#   C            1             30\n",
    "#   D            2             70\n",
    "#   E            3             95\n",
    "\n",
    "# it should become\n",
    "# INCOME GROUP    BACHELOR ... (other columns, too)\n",
    "#   1                25\n",
    "#   2                60\n",
    "#   3                95\n",
    "\n",
    "# YOUR CODE HERE\n",
    "merged.groupby('income group').mean()\n",
    "\n",
    "# END OF YOUR CODE HERE"
   ]
  },
  {
   "cell_type": "markdown",
   "metadata": {
    "deletable": false,
    "editable": false
   },
   "source": [
    "<div class='exercise'><b>Exercise 4.7 [2 pts]: Conclusions</b>\n",
    "</div>"
   ]
  },
  {
   "cell_type": "markdown",
   "metadata": {
    "deletable": false,
    "editable": false
   },
   "source": [
    "<div class='exercise'><b>Exercise 4.7: Q1 (1 of 2 pts)</b>\n",
    "What are your conclusions/finding from this alternative view of the data? (2-4 sentences).\n",
    "</div>"
   ]
  },
  {
   "cell_type": "markdown",
   "metadata": {
    "deletable": false,
    "editable": false
   },
   "source": [
    "<div class='exercise'><b>Exercise 4.7: Q2 (1 of 2 pts)</b>\n",
    "What are some weaknesses from this view of the data? (2-4 sentences).\n",
    "</div>"
   ]
  },
  {
   "cell_type": "markdown",
   "metadata": {
    "deletable": false,
    "editable": false
   },
   "source": [
    "## Moving Forward\n",
    "\n",
    "In this homework assignment, we've focused on gathering, parsing, and exploring data. However, what if we wanted to *predict* some behavior of the data. For example, imagine one is curious how a particular county will respond to COVID. Or, imagine we looked at counties' COVID data on a weekly basis, one could be interested in predicting the upcoming week's behavior.\n",
    "\n",
    "Alternatively, one could be interested in *inference*, whereby we are more concerned with trying to understand __why__ and __how__ a system behaves the way it does. We might wish to understand which factors most correlate and cause a certain event to happen. This could give us insights into where certain inequalities persist.\n",
    "\n",
    "For both *prediction* and *inference*, our computational method of solving such a task is referred to as a model. For the remainder of CS109, we will spend significant focus on various models.\n",
    "</div>"
   ]
  },
  {
   "cell_type": "markdown",
   "metadata": {
    "deletable": false,
    "editable": false
   },
   "source": [
    "## Reflection\n",
    "\n",
    "As a reminder, this is just **one** of the homework assignments in this course, the point of which is to assess your learning and to provide both you and us with an indication as to how aligned your knowledge and skills are with our learning objectives. To this end, we encourage you to reflect on your progress, strengths, and weaknesses and to make changes, if necessary, to accomplish your goals. Likewise, please reach out to the TFs and teaching staff if you need help. We want everyone to feel comfortable in being honest about these elements, with both herself/himself and us. For these purposes, we will ask you several times throughout the semester to complete an anonymous poll."
   ]
  },
  {
   "cell_type": "code",
   "execution_count": null,
   "metadata": {
    "deletable": false,
    "editable": false
   },
   "outputs": [],
   "source": []
  }
 ],
 "metadata": {
  "anaconda-cloud": {},
  "kernelspec": {
   "display_name": "Python 3",
   "language": "python",
   "name": "python3"
  },
  "language_info": {
   "codemirror_mode": {
    "name": "ipython",
    "version": 3
   },
   "file_extension": ".py",
   "mimetype": "text/x-python",
   "name": "python",
   "nbconvert_exporter": "python",
   "pygments_lexer": "ipython3",
   "version": "3.7.8"
  }
 },
 "nbformat": 4,
 "nbformat_minor": 2
}
